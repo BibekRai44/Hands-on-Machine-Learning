{
 "cells": [
  {
   "cell_type": "code",
   "execution_count": 1,
   "id": "7b64d8cb",
   "metadata": {
    "_cell_guid": "b1076dfc-b9ad-4769-8c92-a6c4dae69d19",
    "_uuid": "8f2839f25d086af736a60e9eeb907d3b93b6e0e5",
    "execution": {
     "iopub.execute_input": "2024-05-09T12:30:20.998669Z",
     "iopub.status.busy": "2024-05-09T12:30:20.997505Z",
     "iopub.status.idle": "2024-05-09T12:30:21.961400Z",
     "shell.execute_reply": "2024-05-09T12:30:21.960177Z"
    },
    "papermill": {
     "duration": 0.978082,
     "end_time": "2024-05-09T12:30:21.964368",
     "exception": false,
     "start_time": "2024-05-09T12:30:20.986286",
     "status": "completed"
    },
    "tags": []
   },
   "outputs": [],
   "source": [
    "import pandas as pd"
   ]
  },
  {
   "cell_type": "code",
   "execution_count": 2,
   "id": "9de637d7",
   "metadata": {
    "execution": {
     "iopub.execute_input": "2024-05-09T12:30:21.983749Z",
     "iopub.status.busy": "2024-05-09T12:30:21.983091Z",
     "iopub.status.idle": "2024-05-09T12:30:22.025221Z",
     "shell.execute_reply": "2024-05-09T12:30:22.023688Z"
    },
    "papermill": {
     "duration": 0.054674,
     "end_time": "2024-05-09T12:30:22.027960",
     "exception": false,
     "start_time": "2024-05-09T12:30:21.973286",
     "status": "completed"
    },
    "tags": []
   },
   "outputs": [
    {
     "data": {
      "text/html": [
       "<div>\n",
       "<style scoped>\n",
       "    .dataframe tbody tr th:only-of-type {\n",
       "        vertical-align: middle;\n",
       "    }\n",
       "\n",
       "    .dataframe tbody tr th {\n",
       "        vertical-align: top;\n",
       "    }\n",
       "\n",
       "    .dataframe thead th {\n",
       "        text-align: right;\n",
       "    }\n",
       "</style>\n",
       "<table border=\"1\" class=\"dataframe\">\n",
       "  <thead>\n",
       "    <tr style=\"text-align: right;\">\n",
       "      <th></th>\n",
       "      <th>Country</th>\n",
       "      <th>Age</th>\n",
       "      <th>Salary</th>\n",
       "      <th>Purchased</th>\n",
       "    </tr>\n",
       "  </thead>\n",
       "  <tbody>\n",
       "    <tr>\n",
       "      <th>0</th>\n",
       "      <td>France</td>\n",
       "      <td>44.0</td>\n",
       "      <td>72000.0</td>\n",
       "      <td>No</td>\n",
       "    </tr>\n",
       "    <tr>\n",
       "      <th>1</th>\n",
       "      <td>Spain</td>\n",
       "      <td>27.0</td>\n",
       "      <td>48000.0</td>\n",
       "      <td>Yes</td>\n",
       "    </tr>\n",
       "    <tr>\n",
       "      <th>2</th>\n",
       "      <td>Germany</td>\n",
       "      <td>30.0</td>\n",
       "      <td>54000.0</td>\n",
       "      <td>No</td>\n",
       "    </tr>\n",
       "    <tr>\n",
       "      <th>3</th>\n",
       "      <td>Spain</td>\n",
       "      <td>38.0</td>\n",
       "      <td>61000.0</td>\n",
       "      <td>No</td>\n",
       "    </tr>\n",
       "    <tr>\n",
       "      <th>4</th>\n",
       "      <td>Germany</td>\n",
       "      <td>40.0</td>\n",
       "      <td>NaN</td>\n",
       "      <td>Yes</td>\n",
       "    </tr>\n",
       "  </tbody>\n",
       "</table>\n",
       "</div>"
      ],
      "text/plain": [
       "   Country   Age   Salary Purchased\n",
       "0   France  44.0  72000.0        No\n",
       "1    Spain  27.0  48000.0       Yes\n",
       "2  Germany  30.0  54000.0        No\n",
       "3    Spain  38.0  61000.0        No\n",
       "4  Germany  40.0      NaN       Yes"
      ]
     },
     "execution_count": 2,
     "metadata": {},
     "output_type": "execute_result"
    }
   ],
   "source": [
    "df=pd.read_csv('/kaggle/input/dataset1/Data.csv')\n",
    "df.head()"
   ]
  },
  {
   "cell_type": "code",
   "execution_count": 3,
   "id": "74f63124",
   "metadata": {
    "execution": {
     "iopub.execute_input": "2024-05-09T12:30:22.047243Z",
     "iopub.status.busy": "2024-05-09T12:30:22.046775Z",
     "iopub.status.idle": "2024-05-09T12:30:22.057222Z",
     "shell.execute_reply": "2024-05-09T12:30:22.056004Z"
    },
    "papermill": {
     "duration": 0.022979,
     "end_time": "2024-05-09T12:30:22.059651",
     "exception": false,
     "start_time": "2024-05-09T12:30:22.036672",
     "status": "completed"
    },
    "tags": []
   },
   "outputs": [],
   "source": [
    "x=df.iloc[:,:-1]\n",
    "y=df.iloc[:,-1]"
   ]
  },
  {
   "cell_type": "code",
   "execution_count": 4,
   "id": "0e258e51",
   "metadata": {
    "execution": {
     "iopub.execute_input": "2024-05-09T12:30:22.078533Z",
     "iopub.status.busy": "2024-05-09T12:30:22.078162Z",
     "iopub.status.idle": "2024-05-09T12:30:22.086811Z",
     "shell.execute_reply": "2024-05-09T12:30:22.085652Z"
    },
    "papermill": {
     "duration": 0.021384,
     "end_time": "2024-05-09T12:30:22.089580",
     "exception": false,
     "start_time": "2024-05-09T12:30:22.068196",
     "status": "completed"
    },
    "tags": []
   },
   "outputs": [
    {
     "name": "stdout",
     "output_type": "stream",
     "text": [
      "   Country   Age   Salary\n",
      "0   France  44.0  72000.0\n",
      "1    Spain  27.0  48000.0\n",
      "2  Germany  30.0  54000.0\n",
      "3    Spain  38.0  61000.0\n",
      "4  Germany  40.0      NaN\n",
      "5   France  35.0  58000.0\n",
      "6    Spain   NaN  52000.0\n",
      "7   France  48.0  79000.0\n",
      "8  Germany  50.0  83000.0\n",
      "9   France  37.0  67000.0\n"
     ]
    }
   ],
   "source": [
    "print(x)"
   ]
  },
  {
   "cell_type": "code",
   "execution_count": 5,
   "id": "001d36b0",
   "metadata": {
    "execution": {
     "iopub.execute_input": "2024-05-09T12:30:22.108764Z",
     "iopub.status.busy": "2024-05-09T12:30:22.108392Z",
     "iopub.status.idle": "2024-05-09T12:30:22.114698Z",
     "shell.execute_reply": "2024-05-09T12:30:22.113405Z"
    },
    "papermill": {
     "duration": 0.018743,
     "end_time": "2024-05-09T12:30:22.117296",
     "exception": false,
     "start_time": "2024-05-09T12:30:22.098553",
     "status": "completed"
    },
    "tags": []
   },
   "outputs": [
    {
     "name": "stdout",
     "output_type": "stream",
     "text": [
      "0     No\n",
      "1    Yes\n",
      "2     No\n",
      "3     No\n",
      "4    Yes\n",
      "5    Yes\n",
      "6     No\n",
      "7    Yes\n",
      "8     No\n",
      "9    Yes\n",
      "Name: Purchased, dtype: object\n"
     ]
    }
   ],
   "source": [
    "print(y)"
   ]
  },
  {
   "cell_type": "code",
   "execution_count": 6,
   "id": "507c48a9",
   "metadata": {
    "execution": {
     "iopub.execute_input": "2024-05-09T12:30:22.136630Z",
     "iopub.status.busy": "2024-05-09T12:30:22.136249Z",
     "iopub.status.idle": "2024-05-09T12:30:22.147761Z",
     "shell.execute_reply": "2024-05-09T12:30:22.146658Z"
    },
    "papermill": {
     "duration": 0.023913,
     "end_time": "2024-05-09T12:30:22.150009",
     "exception": false,
     "start_time": "2024-05-09T12:30:22.126096",
     "status": "completed"
    },
    "tags": []
   },
   "outputs": [
    {
     "data": {
      "text/plain": [
       "Country      0\n",
       "Age          1\n",
       "Salary       1\n",
       "Purchased    0\n",
       "dtype: int64"
      ]
     },
     "execution_count": 6,
     "metadata": {},
     "output_type": "execute_result"
    }
   ],
   "source": [
    "df.isnull().sum()"
   ]
  },
  {
   "cell_type": "code",
   "execution_count": 7,
   "id": "dcef1b79",
   "metadata": {
    "execution": {
     "iopub.execute_input": "2024-05-09T12:30:22.170110Z",
     "iopub.status.busy": "2024-05-09T12:30:22.169694Z",
     "iopub.status.idle": "2024-05-09T12:30:23.739784Z",
     "shell.execute_reply": "2024-05-09T12:30:23.738695Z"
    },
    "papermill": {
     "duration": 1.583239,
     "end_time": "2024-05-09T12:30:23.742280",
     "exception": false,
     "start_time": "2024-05-09T12:30:22.159041",
     "status": "completed"
    },
    "tags": []
   },
   "outputs": [
    {
     "name": "stdout",
     "output_type": "stream",
     "text": [
      "   Country        Age        Salary\n",
      "0   France  44.000000  72000.000000\n",
      "1    Spain  27.000000  48000.000000\n",
      "2  Germany  30.000000  54000.000000\n",
      "3    Spain  38.000000  61000.000000\n",
      "4  Germany  40.000000  63777.777778\n",
      "5   France  35.000000  58000.000000\n",
      "6    Spain  38.777778  52000.000000\n",
      "7   France  48.000000  79000.000000\n",
      "8  Germany  50.000000  83000.000000\n",
      "9   France  37.000000  67000.000000\n"
     ]
    }
   ],
   "source": [
    "import numpy as np\n",
    "from sklearn.impute import SimpleImputer\n",
    "imputer = SimpleImputer(missing_values = np.nan, strategy= 'mean')\n",
    "imputer.fit(x.iloc[:, 1:3])\n",
    "x.iloc[:, 1:3] = imputer.transform(x.iloc[:, 1:3])\n",
    "print(x)"
   ]
  },
  {
   "cell_type": "code",
   "execution_count": 8,
   "id": "28ead2f9",
   "metadata": {
    "execution": {
     "iopub.execute_input": "2024-05-09T12:30:23.762783Z",
     "iopub.status.busy": "2024-05-09T12:30:23.762393Z",
     "iopub.status.idle": "2024-05-09T12:30:23.788394Z",
     "shell.execute_reply": "2024-05-09T12:30:23.786902Z"
    },
    "papermill": {
     "duration": 0.039254,
     "end_time": "2024-05-09T12:30:23.790999",
     "exception": false,
     "start_time": "2024-05-09T12:30:23.751745",
     "status": "completed"
    },
    "tags": []
   },
   "outputs": [
    {
     "name": "stdout",
     "output_type": "stream",
     "text": [
      "[[1.00000000e+00 0.00000000e+00 0.00000000e+00 4.40000000e+01\n",
      "  7.20000000e+04]\n",
      " [0.00000000e+00 0.00000000e+00 1.00000000e+00 2.70000000e+01\n",
      "  4.80000000e+04]\n",
      " [0.00000000e+00 1.00000000e+00 0.00000000e+00 3.00000000e+01\n",
      "  5.40000000e+04]\n",
      " [0.00000000e+00 0.00000000e+00 1.00000000e+00 3.80000000e+01\n",
      "  6.10000000e+04]\n",
      " [0.00000000e+00 1.00000000e+00 0.00000000e+00 4.00000000e+01\n",
      "  6.37777778e+04]\n",
      " [1.00000000e+00 0.00000000e+00 0.00000000e+00 3.50000000e+01\n",
      "  5.80000000e+04]\n",
      " [0.00000000e+00 0.00000000e+00 1.00000000e+00 3.87777778e+01\n",
      "  5.20000000e+04]\n",
      " [1.00000000e+00 0.00000000e+00 0.00000000e+00 4.80000000e+01\n",
      "  7.90000000e+04]\n",
      " [0.00000000e+00 1.00000000e+00 0.00000000e+00 5.00000000e+01\n",
      "  8.30000000e+04]\n",
      " [1.00000000e+00 0.00000000e+00 0.00000000e+00 3.70000000e+01\n",
      "  6.70000000e+04]]\n"
     ]
    }
   ],
   "source": [
    "from sklearn.compose import ColumnTransformer\n",
    "from sklearn.preprocessing import OneHotEncoder\n",
    "ct=ColumnTransformer(transformers=[('encoder',OneHotEncoder(),[0])],remainder='passthrough')\n",
    "x=np.array(ct.fit_transform(x))\n",
    "print(x)"
   ]
  },
  {
   "cell_type": "code",
   "execution_count": 9,
   "id": "4c060bd0",
   "metadata": {
    "execution": {
     "iopub.execute_input": "2024-05-09T12:30:23.812871Z",
     "iopub.status.busy": "2024-05-09T12:30:23.811653Z",
     "iopub.status.idle": "2024-05-09T12:30:23.818547Z",
     "shell.execute_reply": "2024-05-09T12:30:23.817399Z"
    },
    "papermill": {
     "duration": 0.020824,
     "end_time": "2024-05-09T12:30:23.820959",
     "exception": false,
     "start_time": "2024-05-09T12:30:23.800135",
     "status": "completed"
    },
    "tags": []
   },
   "outputs": [
    {
     "name": "stdout",
     "output_type": "stream",
     "text": [
      "[0 1 0 0 1 1 0 1 0 1]\n"
     ]
    }
   ],
   "source": [
    "from sklearn.preprocessing import LabelEncoder\n",
    "le=LabelEncoder()\n",
    "y=le.fit_transform(y)\n",
    "print(y)"
   ]
  },
  {
   "cell_type": "code",
   "execution_count": 10,
   "id": "88894c3e",
   "metadata": {
    "execution": {
     "iopub.execute_input": "2024-05-09T12:30:23.841687Z",
     "iopub.status.busy": "2024-05-09T12:30:23.840990Z",
     "iopub.status.idle": "2024-05-09T12:30:23.848509Z",
     "shell.execute_reply": "2024-05-09T12:30:23.847449Z"
    },
    "papermill": {
     "duration": 0.020761,
     "end_time": "2024-05-09T12:30:23.851015",
     "exception": false,
     "start_time": "2024-05-09T12:30:23.830254",
     "status": "completed"
    },
    "tags": []
   },
   "outputs": [],
   "source": [
    "from sklearn.model_selection import train_test_split\n",
    "X_train,X_test,y_train,y_test=train_test_split(x,y,test_size=0.2,random_state=42)"
   ]
  },
  {
   "cell_type": "code",
   "execution_count": 11,
   "id": "2f835c46",
   "metadata": {
    "execution": {
     "iopub.execute_input": "2024-05-09T12:30:23.871452Z",
     "iopub.status.busy": "2024-05-09T12:30:23.870661Z",
     "iopub.status.idle": "2024-05-09T12:30:23.877225Z",
     "shell.execute_reply": "2024-05-09T12:30:23.876067Z"
    },
    "papermill": {
     "duration": 0.019933,
     "end_time": "2024-05-09T12:30:23.880145",
     "exception": false,
     "start_time": "2024-05-09T12:30:23.860212",
     "status": "completed"
    },
    "tags": []
   },
   "outputs": [
    {
     "name": "stdout",
     "output_type": "stream",
     "text": [
      "[[1.00000000e+00 0.00000000e+00 0.00000000e+00 3.50000000e+01\n",
      "  5.80000000e+04]\n",
      " [1.00000000e+00 0.00000000e+00 0.00000000e+00 4.40000000e+01\n",
      "  7.20000000e+04]\n",
      " [1.00000000e+00 0.00000000e+00 0.00000000e+00 4.80000000e+01\n",
      "  7.90000000e+04]\n",
      " [0.00000000e+00 1.00000000e+00 0.00000000e+00 3.00000000e+01\n",
      "  5.40000000e+04]\n",
      " [1.00000000e+00 0.00000000e+00 0.00000000e+00 3.70000000e+01\n",
      "  6.70000000e+04]\n",
      " [0.00000000e+00 1.00000000e+00 0.00000000e+00 4.00000000e+01\n",
      "  6.37777778e+04]\n",
      " [0.00000000e+00 0.00000000e+00 1.00000000e+00 3.80000000e+01\n",
      "  6.10000000e+04]\n",
      " [0.00000000e+00 0.00000000e+00 1.00000000e+00 3.87777778e+01\n",
      "  5.20000000e+04]]\n"
     ]
    }
   ],
   "source": [
    "print(X_train)"
   ]
  },
  {
   "cell_type": "code",
   "execution_count": 12,
   "id": "38b93182",
   "metadata": {
    "execution": {
     "iopub.execute_input": "2024-05-09T12:30:23.900292Z",
     "iopub.status.busy": "2024-05-09T12:30:23.899875Z",
     "iopub.status.idle": "2024-05-09T12:30:23.905988Z",
     "shell.execute_reply": "2024-05-09T12:30:23.904804Z"
    },
    "papermill": {
     "duration": 0.019588,
     "end_time": "2024-05-09T12:30:23.908919",
     "exception": false,
     "start_time": "2024-05-09T12:30:23.889331",
     "status": "completed"
    },
    "tags": []
   },
   "outputs": [
    {
     "name": "stdout",
     "output_type": "stream",
     "text": [
      "[[0.0e+00 1.0e+00 0.0e+00 5.0e+01 8.3e+04]\n",
      " [0.0e+00 0.0e+00 1.0e+00 2.7e+01 4.8e+04]]\n"
     ]
    }
   ],
   "source": [
    "print(X_test)"
   ]
  },
  {
   "cell_type": "code",
   "execution_count": 13,
   "id": "64e331bf",
   "metadata": {
    "execution": {
     "iopub.execute_input": "2024-05-09T12:30:23.930000Z",
     "iopub.status.busy": "2024-05-09T12:30:23.928922Z",
     "iopub.status.idle": "2024-05-09T12:30:23.934919Z",
     "shell.execute_reply": "2024-05-09T12:30:23.933714Z"
    },
    "papermill": {
     "duration": 0.018842,
     "end_time": "2024-05-09T12:30:23.937052",
     "exception": false,
     "start_time": "2024-05-09T12:30:23.918210",
     "status": "completed"
    },
    "tags": []
   },
   "outputs": [
    {
     "name": "stdout",
     "output_type": "stream",
     "text": [
      "[1 0 1 0 1 1 0 0]\n"
     ]
    }
   ],
   "source": [
    "print(y_train)"
   ]
  },
  {
   "cell_type": "code",
   "execution_count": 14,
   "id": "32c4eb7a",
   "metadata": {
    "execution": {
     "iopub.execute_input": "2024-05-09T12:30:23.958005Z",
     "iopub.status.busy": "2024-05-09T12:30:23.957291Z",
     "iopub.status.idle": "2024-05-09T12:30:23.963094Z",
     "shell.execute_reply": "2024-05-09T12:30:23.961866Z"
    },
    "papermill": {
     "duration": 0.018991,
     "end_time": "2024-05-09T12:30:23.965415",
     "exception": false,
     "start_time": "2024-05-09T12:30:23.946424",
     "status": "completed"
    },
    "tags": []
   },
   "outputs": [
    {
     "name": "stdout",
     "output_type": "stream",
     "text": [
      "[0 1]\n"
     ]
    }
   ],
   "source": [
    "print(y_test)"
   ]
  },
  {
   "cell_type": "code",
   "execution_count": 15,
   "id": "7beffd8b",
   "metadata": {
    "execution": {
     "iopub.execute_input": "2024-05-09T12:30:23.986410Z",
     "iopub.status.busy": "2024-05-09T12:30:23.985974Z",
     "iopub.status.idle": "2024-05-09T12:30:23.994453Z",
     "shell.execute_reply": "2024-05-09T12:30:23.993431Z"
    },
    "papermill": {
     "duration": 0.021731,
     "end_time": "2024-05-09T12:30:23.996756",
     "exception": false,
     "start_time": "2024-05-09T12:30:23.975025",
     "status": "completed"
    },
    "tags": []
   },
   "outputs": [],
   "source": [
    "from sklearn.preprocessing import StandardScaler\n",
    "scaler=StandardScaler()\n",
    "X_train[:,3:]=scaler.fit_transform(X_train[:,3:])\n",
    "X_test[:,3:]=scaler.fit_transform(X_test[:,3:])"
   ]
  },
  {
   "cell_type": "code",
   "execution_count": 16,
   "id": "812f5d48",
   "metadata": {
    "execution": {
     "iopub.execute_input": "2024-05-09T12:30:24.018176Z",
     "iopub.status.busy": "2024-05-09T12:30:24.017773Z",
     "iopub.status.idle": "2024-05-09T12:30:24.024169Z",
     "shell.execute_reply": "2024-05-09T12:30:24.022870Z"
    },
    "papermill": {
     "duration": 0.020327,
     "end_time": "2024-05-09T12:30:24.026661",
     "exception": false,
     "start_time": "2024-05-09T12:30:24.006334",
     "status": "completed"
    },
    "tags": []
   },
   "outputs": [
    {
     "name": "stdout",
     "output_type": "stream",
     "text": [
      "[[ 1.          0.          0.         -0.7529426  -0.62603778]\n",
      " [ 1.          0.          0.          1.00845381  1.01304295]\n",
      " [ 1.          0.          0.          1.79129666  1.83258331]\n",
      " [ 0.          1.          0.         -1.73149616 -1.09434656]\n",
      " [ 1.          0.          0.         -0.36152118  0.42765698]\n",
      " [ 0.          1.          0.          0.22561096  0.05040824]\n",
      " [ 0.          0.          1.         -0.16581046 -0.27480619]\n",
      " [ 0.          0.          1.         -0.01359102 -1.32850095]]\n"
     ]
    }
   ],
   "source": [
    "print(X_train)"
   ]
  },
  {
   "cell_type": "code",
   "execution_count": 17,
   "id": "13b9fe99",
   "metadata": {
    "execution": {
     "iopub.execute_input": "2024-05-09T12:30:24.047994Z",
     "iopub.status.busy": "2024-05-09T12:30:24.047568Z",
     "iopub.status.idle": "2024-05-09T12:30:24.053532Z",
     "shell.execute_reply": "2024-05-09T12:30:24.052256Z"
    },
    "papermill": {
     "duration": 0.019662,
     "end_time": "2024-05-09T12:30:24.055981",
     "exception": false,
     "start_time": "2024-05-09T12:30:24.036319",
     "status": "completed"
    },
    "tags": []
   },
   "outputs": [
    {
     "name": "stdout",
     "output_type": "stream",
     "text": [
      "[[ 0.  1.  0.  1.  1.]\n",
      " [ 0.  0.  1. -1. -1.]]\n"
     ]
    }
   ],
   "source": [
    "print(X_test)"
   ]
  },
  {
   "cell_type": "code",
   "execution_count": 18,
   "id": "a5f94bab",
   "metadata": {
    "execution": {
     "iopub.execute_input": "2024-05-09T12:30:24.077879Z",
     "iopub.status.busy": "2024-05-09T12:30:24.076701Z",
     "iopub.status.idle": "2024-05-09T12:30:24.180326Z",
     "shell.execute_reply": "2024-05-09T12:30:24.179117Z"
    },
    "papermill": {
     "duration": 0.117042,
     "end_time": "2024-05-09T12:30:24.182760",
     "exception": false,
     "start_time": "2024-05-09T12:30:24.065718",
     "status": "completed"
    },
    "tags": []
   },
   "outputs": [
    {
     "data": {
      "text/html": [
       "<style>#sk-container-id-1 {color: black;background-color: white;}#sk-container-id-1 pre{padding: 0;}#sk-container-id-1 div.sk-toggleable {background-color: white;}#sk-container-id-1 label.sk-toggleable__label {cursor: pointer;display: block;width: 100%;margin-bottom: 0;padding: 0.3em;box-sizing: border-box;text-align: center;}#sk-container-id-1 label.sk-toggleable__label-arrow:before {content: \"▸\";float: left;margin-right: 0.25em;color: #696969;}#sk-container-id-1 label.sk-toggleable__label-arrow:hover:before {color: black;}#sk-container-id-1 div.sk-estimator:hover label.sk-toggleable__label-arrow:before {color: black;}#sk-container-id-1 div.sk-toggleable__content {max-height: 0;max-width: 0;overflow: hidden;text-align: left;background-color: #f0f8ff;}#sk-container-id-1 div.sk-toggleable__content pre {margin: 0.2em;color: black;border-radius: 0.25em;background-color: #f0f8ff;}#sk-container-id-1 input.sk-toggleable__control:checked~div.sk-toggleable__content {max-height: 200px;max-width: 100%;overflow: auto;}#sk-container-id-1 input.sk-toggleable__control:checked~label.sk-toggleable__label-arrow:before {content: \"▾\";}#sk-container-id-1 div.sk-estimator input.sk-toggleable__control:checked~label.sk-toggleable__label {background-color: #d4ebff;}#sk-container-id-1 div.sk-label input.sk-toggleable__control:checked~label.sk-toggleable__label {background-color: #d4ebff;}#sk-container-id-1 input.sk-hidden--visually {border: 0;clip: rect(1px 1px 1px 1px);clip: rect(1px, 1px, 1px, 1px);height: 1px;margin: -1px;overflow: hidden;padding: 0;position: absolute;width: 1px;}#sk-container-id-1 div.sk-estimator {font-family: monospace;background-color: #f0f8ff;border: 1px dotted black;border-radius: 0.25em;box-sizing: border-box;margin-bottom: 0.5em;}#sk-container-id-1 div.sk-estimator:hover {background-color: #d4ebff;}#sk-container-id-1 div.sk-parallel-item::after {content: \"\";width: 100%;border-bottom: 1px solid gray;flex-grow: 1;}#sk-container-id-1 div.sk-label:hover label.sk-toggleable__label {background-color: #d4ebff;}#sk-container-id-1 div.sk-serial::before {content: \"\";position: absolute;border-left: 1px solid gray;box-sizing: border-box;top: 0;bottom: 0;left: 50%;z-index: 0;}#sk-container-id-1 div.sk-serial {display: flex;flex-direction: column;align-items: center;background-color: white;padding-right: 0.2em;padding-left: 0.2em;position: relative;}#sk-container-id-1 div.sk-item {position: relative;z-index: 1;}#sk-container-id-1 div.sk-parallel {display: flex;align-items: stretch;justify-content: center;background-color: white;position: relative;}#sk-container-id-1 div.sk-item::before, #sk-container-id-1 div.sk-parallel-item::before {content: \"\";position: absolute;border-left: 1px solid gray;box-sizing: border-box;top: 0;bottom: 0;left: 50%;z-index: -1;}#sk-container-id-1 div.sk-parallel-item {display: flex;flex-direction: column;z-index: 1;position: relative;background-color: white;}#sk-container-id-1 div.sk-parallel-item:first-child::after {align-self: flex-end;width: 50%;}#sk-container-id-1 div.sk-parallel-item:last-child::after {align-self: flex-start;width: 50%;}#sk-container-id-1 div.sk-parallel-item:only-child::after {width: 0;}#sk-container-id-1 div.sk-dashed-wrapped {border: 1px dashed gray;margin: 0 0.4em 0.5em 0.4em;box-sizing: border-box;padding-bottom: 0.4em;background-color: white;}#sk-container-id-1 div.sk-label label {font-family: monospace;font-weight: bold;display: inline-block;line-height: 1.2em;}#sk-container-id-1 div.sk-label-container {text-align: center;}#sk-container-id-1 div.sk-container {/* jupyter's `normalize.less` sets `[hidden] { display: none; }` but bootstrap.min.css set `[hidden] { display: none !important; }` so we also need the `!important` here to be able to override the default hidden behavior on the sphinx rendered scikit-learn.org. See: https://github.com/scikit-learn/scikit-learn/issues/21755 */display: inline-block !important;position: relative;}#sk-container-id-1 div.sk-text-repr-fallback {display: none;}</style><div id=\"sk-container-id-1\" class=\"sk-top-container\"><div class=\"sk-text-repr-fallback\"><pre>LogisticRegression()</pre><b>In a Jupyter environment, please rerun this cell to show the HTML representation or trust the notebook. <br />On GitHub, the HTML representation is unable to render, please try loading this page with nbviewer.org.</b></div><div class=\"sk-container\" hidden><div class=\"sk-item\"><div class=\"sk-estimator sk-toggleable\"><input class=\"sk-toggleable__control sk-hidden--visually\" id=\"sk-estimator-id-1\" type=\"checkbox\" checked><label for=\"sk-estimator-id-1\" class=\"sk-toggleable__label sk-toggleable__label-arrow\">LogisticRegression</label><div class=\"sk-toggleable__content\"><pre>LogisticRegression()</pre></div></div></div></div></div>"
      ],
      "text/plain": [
       "LogisticRegression()"
      ]
     },
     "execution_count": 18,
     "metadata": {},
     "output_type": "execute_result"
    }
   ],
   "source": [
    "from sklearn.linear_model import LogisticRegression\n",
    "model=LogisticRegression()\n",
    "model.fit(X_train,y_train)"
   ]
  },
  {
   "cell_type": "code",
   "execution_count": 19,
   "id": "055b4ec9",
   "metadata": {
    "execution": {
     "iopub.execute_input": "2024-05-09T12:30:24.204881Z",
     "iopub.status.busy": "2024-05-09T12:30:24.204437Z",
     "iopub.status.idle": "2024-05-09T12:30:24.212458Z",
     "shell.execute_reply": "2024-05-09T12:30:24.211276Z"
    },
    "papermill": {
     "duration": 0.02242,
     "end_time": "2024-05-09T12:30:24.215188",
     "exception": false,
     "start_time": "2024-05-09T12:30:24.192768",
     "status": "completed"
    },
    "tags": []
   },
   "outputs": [
    {
     "data": {
      "text/plain": [
       "array([1, 0])"
      ]
     },
     "execution_count": 19,
     "metadata": {},
     "output_type": "execute_result"
    }
   ],
   "source": [
    "model.predict(X_test)"
   ]
  },
  {
   "cell_type": "code",
   "execution_count": 20,
   "id": "148a7035",
   "metadata": {
    "execution": {
     "iopub.execute_input": "2024-05-09T12:30:24.237470Z",
     "iopub.status.busy": "2024-05-09T12:30:24.237092Z",
     "iopub.status.idle": "2024-05-09T12:30:24.244912Z",
     "shell.execute_reply": "2024-05-09T12:30:24.243740Z"
    },
    "papermill": {
     "duration": 0.022035,
     "end_time": "2024-05-09T12:30:24.247606",
     "exception": false,
     "start_time": "2024-05-09T12:30:24.225571",
     "status": "completed"
    },
    "tags": []
   },
   "outputs": [
    {
     "data": {
      "text/plain": [
       "array([0])"
      ]
     },
     "execution_count": 20,
     "metadata": {},
     "output_type": "execute_result"
    }
   ],
   "source": [
    "y_pred=model.predict([[10,42,41000,21,34]])\n",
    "y_pred"
   ]
  },
  {
   "cell_type": "code",
   "execution_count": 21,
   "id": "65c61e9c",
   "metadata": {
    "execution": {
     "iopub.execute_input": "2024-05-09T12:30:24.270930Z",
     "iopub.status.busy": "2024-05-09T12:30:24.269985Z",
     "iopub.status.idle": "2024-05-09T12:30:24.276735Z",
     "shell.execute_reply": "2024-05-09T12:30:24.275651Z"
    },
    "papermill": {
     "duration": 0.020551,
     "end_time": "2024-05-09T12:30:24.278924",
     "exception": false,
     "start_time": "2024-05-09T12:30:24.258373",
     "status": "completed"
    },
    "tags": []
   },
   "outputs": [
    {
     "data": {
      "text/plain": [
       "(2,)"
      ]
     },
     "execution_count": 21,
     "metadata": {},
     "output_type": "execute_result"
    }
   ],
   "source": [
    "y_test.shape"
   ]
  },
  {
   "cell_type": "code",
   "execution_count": 22,
   "id": "a09d4ef1",
   "metadata": {
    "execution": {
     "iopub.execute_input": "2024-05-09T12:30:24.301881Z",
     "iopub.status.busy": "2024-05-09T12:30:24.301117Z",
     "iopub.status.idle": "2024-05-09T12:30:24.307541Z",
     "shell.execute_reply": "2024-05-09T12:30:24.306763Z"
    },
    "papermill": {
     "duration": 0.020485,
     "end_time": "2024-05-09T12:30:24.309836",
     "exception": false,
     "start_time": "2024-05-09T12:30:24.289351",
     "status": "completed"
    },
    "tags": []
   },
   "outputs": [
    {
     "data": {
      "text/plain": [
       "(1,)"
      ]
     },
     "execution_count": 22,
     "metadata": {},
     "output_type": "execute_result"
    }
   ],
   "source": [
    "y_pred.shape"
   ]
  },
  {
   "cell_type": "code",
   "execution_count": null,
   "id": "8fd8b1ca",
   "metadata": {
    "papermill": {
     "duration": 0.010407,
     "end_time": "2024-05-09T12:30:24.330949",
     "exception": false,
     "start_time": "2024-05-09T12:30:24.320542",
     "status": "completed"
    },
    "tags": []
   },
   "outputs": [],
   "source": []
  },
  {
   "cell_type": "code",
   "execution_count": null,
   "id": "111fadfe",
   "metadata": {
    "papermill": {
     "duration": 0.010181,
     "end_time": "2024-05-09T12:30:24.352990",
     "exception": false,
     "start_time": "2024-05-09T12:30:24.342809",
     "status": "completed"
    },
    "tags": []
   },
   "outputs": [],
   "source": []
  },
  {
   "cell_type": "code",
   "execution_count": null,
   "id": "27405c11",
   "metadata": {
    "papermill": {
     "duration": 0.010244,
     "end_time": "2024-05-09T12:30:24.373719",
     "exception": false,
     "start_time": "2024-05-09T12:30:24.363475",
     "status": "completed"
    },
    "tags": []
   },
   "outputs": [],
   "source": []
  }
 ],
 "metadata": {
  "kaggle": {
   "accelerator": "none",
   "dataSources": [
    {
     "datasetId": 4971908,
     "sourceId": 8364718,
     "sourceType": "datasetVersion"
    }
   ],
   "dockerImageVersionId": 30698,
   "isGpuEnabled": false,
   "isInternetEnabled": false,
   "language": "python",
   "sourceType": "notebook"
  },
  "kernelspec": {
   "display_name": "Python 3",
   "language": "python",
   "name": "python3"
  },
  "language_info": {
   "codemirror_mode": {
    "name": "ipython",
    "version": 3
   },
   "file_extension": ".py",
   "mimetype": "text/x-python",
   "name": "python",
   "nbconvert_exporter": "python",
   "pygments_lexer": "ipython3",
   "version": "3.10.13"
  },
  "papermill": {
   "default_parameters": {},
   "duration": 7.124746,
   "end_time": "2024-05-09T12:30:25.005672",
   "environment_variables": {},
   "exception": null,
   "input_path": "__notebook__.ipynb",
   "output_path": "__notebook__.ipynb",
   "parameters": {},
   "start_time": "2024-05-09T12:30:17.880926",
   "version": "2.5.0"
  }
 },
 "nbformat": 4,
 "nbformat_minor": 5
}
