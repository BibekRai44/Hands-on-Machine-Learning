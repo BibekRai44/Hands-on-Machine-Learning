{
 "cells": [
  {
   "cell_type": "code",
   "execution_count": 1,
   "id": "fac45bcb",
   "metadata": {
    "_cell_guid": "b1076dfc-b9ad-4769-8c92-a6c4dae69d19",
    "_uuid": "8f2839f25d086af736a60e9eeb907d3b93b6e0e5",
    "execution": {
     "iopub.execute_input": "2024-05-12T04:20:06.145475Z",
     "iopub.status.busy": "2024-05-12T04:20:06.144676Z",
     "iopub.status.idle": "2024-05-12T04:20:08.045642Z",
     "shell.execute_reply": "2024-05-12T04:20:08.044570Z"
    },
    "papermill": {
     "duration": 1.920475,
     "end_time": "2024-05-12T04:20:08.048146",
     "exception": false,
     "start_time": "2024-05-12T04:20:06.127671",
     "status": "completed"
    },
    "tags": []
   },
   "outputs": [],
   "source": [
    "import pandas as pd\n",
    "from matplotlib import pyplot as plt\n",
    "%matplotlib inline\n",
    "import seaborn as sns\n",
    "import warnings\n",
    "warnings.filterwarnings('ignore')"
   ]
  },
  {
   "cell_type": "code",
   "execution_count": 2,
   "id": "aa179d94",
   "metadata": {
    "execution": {
     "iopub.execute_input": "2024-05-12T04:20:08.081165Z",
     "iopub.status.busy": "2024-05-12T04:20:08.080309Z",
     "iopub.status.idle": "2024-05-12T04:20:09.043127Z",
     "shell.execute_reply": "2024-05-12T04:20:09.041897Z"
    },
    "papermill": {
     "duration": 0.982021,
     "end_time": "2024-05-12T04:20:09.045346",
     "exception": false,
     "start_time": "2024-05-12T04:20:08.063325",
     "status": "completed"
    },
    "tags": []
   },
   "outputs": [
    {
     "data": {
      "text/html": [
       "<div>\n",
       "<style scoped>\n",
       "    .dataframe tbody tr th:only-of-type {\n",
       "        vertical-align: middle;\n",
       "    }\n",
       "\n",
       "    .dataframe tbody tr th {\n",
       "        vertical-align: top;\n",
       "    }\n",
       "\n",
       "    .dataframe thead th {\n",
       "        text-align: right;\n",
       "    }\n",
       "</style>\n",
       "<table border=\"1\" class=\"dataframe\">\n",
       "  <thead>\n",
       "    <tr style=\"text-align: right;\">\n",
       "      <th></th>\n",
       "      <th>User_ID</th>\n",
       "      <th>Product_ID</th>\n",
       "      <th>Gender</th>\n",
       "      <th>Age</th>\n",
       "      <th>Occupation</th>\n",
       "      <th>City_Category</th>\n",
       "      <th>Stay_In_Current_City_Years</th>\n",
       "      <th>Marital_Status</th>\n",
       "      <th>Product_Category_1</th>\n",
       "      <th>Product_Category_2</th>\n",
       "      <th>Product_Category_3</th>\n",
       "      <th>Purchase</th>\n",
       "    </tr>\n",
       "  </thead>\n",
       "  <tbody>\n",
       "    <tr>\n",
       "      <th>0</th>\n",
       "      <td>1000001</td>\n",
       "      <td>P00069042</td>\n",
       "      <td>F</td>\n",
       "      <td>0-17</td>\n",
       "      <td>10</td>\n",
       "      <td>A</td>\n",
       "      <td>2</td>\n",
       "      <td>0</td>\n",
       "      <td>3</td>\n",
       "      <td>NaN</td>\n",
       "      <td>NaN</td>\n",
       "      <td>8370</td>\n",
       "    </tr>\n",
       "    <tr>\n",
       "      <th>1</th>\n",
       "      <td>1000001</td>\n",
       "      <td>P00248942</td>\n",
       "      <td>F</td>\n",
       "      <td>0-17</td>\n",
       "      <td>10</td>\n",
       "      <td>A</td>\n",
       "      <td>2</td>\n",
       "      <td>0</td>\n",
       "      <td>1</td>\n",
       "      <td>6.0</td>\n",
       "      <td>14.0</td>\n",
       "      <td>15200</td>\n",
       "    </tr>\n",
       "    <tr>\n",
       "      <th>2</th>\n",
       "      <td>1000001</td>\n",
       "      <td>P00087842</td>\n",
       "      <td>F</td>\n",
       "      <td>0-17</td>\n",
       "      <td>10</td>\n",
       "      <td>A</td>\n",
       "      <td>2</td>\n",
       "      <td>0</td>\n",
       "      <td>12</td>\n",
       "      <td>NaN</td>\n",
       "      <td>NaN</td>\n",
       "      <td>1422</td>\n",
       "    </tr>\n",
       "    <tr>\n",
       "      <th>3</th>\n",
       "      <td>1000001</td>\n",
       "      <td>P00085442</td>\n",
       "      <td>F</td>\n",
       "      <td>0-17</td>\n",
       "      <td>10</td>\n",
       "      <td>A</td>\n",
       "      <td>2</td>\n",
       "      <td>0</td>\n",
       "      <td>12</td>\n",
       "      <td>14.0</td>\n",
       "      <td>NaN</td>\n",
       "      <td>1057</td>\n",
       "    </tr>\n",
       "    <tr>\n",
       "      <th>4</th>\n",
       "      <td>1000002</td>\n",
       "      <td>P00285442</td>\n",
       "      <td>M</td>\n",
       "      <td>55+</td>\n",
       "      <td>16</td>\n",
       "      <td>C</td>\n",
       "      <td>4+</td>\n",
       "      <td>0</td>\n",
       "      <td>8</td>\n",
       "      <td>NaN</td>\n",
       "      <td>NaN</td>\n",
       "      <td>7969</td>\n",
       "    </tr>\n",
       "  </tbody>\n",
       "</table>\n",
       "</div>"
      ],
      "text/plain": [
       "   User_ID Product_ID Gender   Age  Occupation City_Category  \\\n",
       "0  1000001  P00069042      F  0-17          10             A   \n",
       "1  1000001  P00248942      F  0-17          10             A   \n",
       "2  1000001  P00087842      F  0-17          10             A   \n",
       "3  1000001  P00085442      F  0-17          10             A   \n",
       "4  1000002  P00285442      M   55+          16             C   \n",
       "\n",
       "  Stay_In_Current_City_Years  Marital_Status  Product_Category_1  \\\n",
       "0                          2               0                   3   \n",
       "1                          2               0                   1   \n",
       "2                          2               0                  12   \n",
       "3                          2               0                  12   \n",
       "4                         4+               0                   8   \n",
       "\n",
       "   Product_Category_2  Product_Category_3  Purchase  \n",
       "0                 NaN                 NaN      8370  \n",
       "1                 6.0                14.0     15200  \n",
       "2                 NaN                 NaN      1422  \n",
       "3                14.0                 NaN      1057  \n",
       "4                 NaN                 NaN      7969  "
      ]
     },
     "execution_count": 2,
     "metadata": {},
     "output_type": "execute_result"
    }
   ],
   "source": [
    "train_df=pd.read_csv('/kaggle/input/dkfjsldkfjsd/train.csv')\n",
    "train_df.head()"
   ]
  },
  {
   "cell_type": "code",
   "execution_count": 3,
   "id": "9bc6e105",
   "metadata": {
    "execution": {
     "iopub.execute_input": "2024-05-12T04:20:09.077299Z",
     "iopub.status.busy": "2024-05-12T04:20:09.076395Z",
     "iopub.status.idle": "2024-05-12T04:20:09.082825Z",
     "shell.execute_reply": "2024-05-12T04:20:09.081939Z"
    },
    "papermill": {
     "duration": 0.024214,
     "end_time": "2024-05-12T04:20:09.084825",
     "exception": false,
     "start_time": "2024-05-12T04:20:09.060611",
     "status": "completed"
    },
    "tags": []
   },
   "outputs": [
    {
     "data": {
      "text/plain": [
       "Index(['User_ID', 'Product_ID', 'Gender', 'Age', 'Occupation', 'City_Category',\n",
       "       'Stay_In_Current_City_Years', 'Marital_Status', 'Product_Category_1',\n",
       "       'Product_Category_2', 'Product_Category_3', 'Purchase'],\n",
       "      dtype='object')"
      ]
     },
     "execution_count": 3,
     "metadata": {},
     "output_type": "execute_result"
    }
   ],
   "source": [
    "train_df.columns"
   ]
  },
  {
   "cell_type": "code",
   "execution_count": 4,
   "id": "dd679190",
   "metadata": {
    "execution": {
     "iopub.execute_input": "2024-05-12T04:20:09.116402Z",
     "iopub.status.busy": "2024-05-12T04:20:09.115739Z",
     "iopub.status.idle": "2024-05-12T04:20:09.121787Z",
     "shell.execute_reply": "2024-05-12T04:20:09.120823Z"
    },
    "papermill": {
     "duration": 0.023847,
     "end_time": "2024-05-12T04:20:09.123722",
     "exception": false,
     "start_time": "2024-05-12T04:20:09.099875",
     "status": "completed"
    },
    "tags": []
   },
   "outputs": [
    {
     "data": {
      "text/plain": [
       "array([False, False, False, False, False, False, False, False, False,\n",
       "       False, False, False])"
      ]
     },
     "execution_count": 4,
     "metadata": {},
     "output_type": "execute_result"
    }
   ],
   "source": [
    "train_df.columns.duplicated()"
   ]
  },
  {
   "cell_type": "code",
   "execution_count": 5,
   "id": "c3bd3905",
   "metadata": {
    "execution": {
     "iopub.execute_input": "2024-05-12T04:20:09.155236Z",
     "iopub.status.busy": "2024-05-12T04:20:09.154681Z",
     "iopub.status.idle": "2024-05-12T04:20:09.291143Z",
     "shell.execute_reply": "2024-05-12T04:20:09.290167Z"
    },
    "papermill": {
     "duration": 0.154427,
     "end_time": "2024-05-12T04:20:09.293199",
     "exception": false,
     "start_time": "2024-05-12T04:20:09.138772",
     "status": "completed"
    },
    "tags": []
   },
   "outputs": [
    {
     "data": {
      "text/plain": [
       "User_ID                            0\n",
       "Product_ID                         0\n",
       "Gender                             0\n",
       "Age                                0\n",
       "Occupation                         0\n",
       "City_Category                      0\n",
       "Stay_In_Current_City_Years         0\n",
       "Marital_Status                     0\n",
       "Product_Category_1                 0\n",
       "Product_Category_2            173638\n",
       "Product_Category_3            383247\n",
       "Purchase                           0\n",
       "dtype: int64"
      ]
     },
     "execution_count": 5,
     "metadata": {},
     "output_type": "execute_result"
    }
   ],
   "source": [
    "train_df.isnull().sum()"
   ]
  },
  {
   "cell_type": "code",
   "execution_count": 6,
   "id": "10293248",
   "metadata": {
    "execution": {
     "iopub.execute_input": "2024-05-12T04:20:09.325997Z",
     "iopub.status.busy": "2024-05-12T04:20:09.325070Z",
     "iopub.status.idle": "2024-05-12T04:20:18.700081Z",
     "shell.execute_reply": "2024-05-12T04:20:18.699106Z"
    },
    "papermill": {
     "duration": 9.393598,
     "end_time": "2024-05-12T04:20:18.702361",
     "exception": false,
     "start_time": "2024-05-12T04:20:09.308763",
     "status": "completed"
    },
    "tags": []
   },
   "outputs": [
    {
     "data": {
      "text/plain": [
       "<Axes: >"
      ]
     },
     "execution_count": 6,
     "metadata": {},
     "output_type": "execute_result"
    },
    {
     "data": {
      "image/png": "[encoded data removed]",
      "text/plain": [
       "<Figure size 640x480 with 1 Axes>"
      ]
     },
     "metadata": {},
     "output_type": "display_data"
    }
   ],
   "source": [
    "sns.heatmap(train_df.isnull(),yticklabels=False,cmap='viridis',cbar=False)"
   ]
  },
  {
   "cell_type": "code",
   "execution_count": 7,
   "id": "6c7b89e2",
   "metadata": {
    "execution": {
     "iopub.execute_input": "2024-05-12T04:20:18.736028Z",
     "iopub.status.busy": "2024-05-12T04:20:18.735235Z",
     "iopub.status.idle": "2024-05-12T04:20:18.889211Z",
     "shell.execute_reply": "2024-05-12T04:20:18.888270Z"
    },
    "papermill": {
     "duration": 0.172918,
     "end_time": "2024-05-12T04:20:18.891378",
     "exception": false,
     "start_time": "2024-05-12T04:20:18.718460",
     "status": "completed"
    },
    "tags": []
   },
   "outputs": [
    {
     "data": {
      "text/html": [
       "<div>\n",
       "<style scoped>\n",
       "    .dataframe tbody tr th:only-of-type {\n",
       "        vertical-align: middle;\n",
       "    }\n",
       "\n",
       "    .dataframe tbody tr th {\n",
       "        vertical-align: top;\n",
       "    }\n",
       "\n",
       "    .dataframe thead th {\n",
       "        text-align: right;\n",
       "    }\n",
       "</style>\n",
       "<table border=\"1\" class=\"dataframe\">\n",
       "  <thead>\n",
       "    <tr style=\"text-align: right;\">\n",
       "      <th></th>\n",
       "      <th>User_ID</th>\n",
       "      <th>Occupation</th>\n",
       "      <th>Marital_Status</th>\n",
       "      <th>Product_Category_1</th>\n",
       "      <th>Product_Category_2</th>\n",
       "      <th>Product_Category_3</th>\n",
       "      <th>Purchase</th>\n",
       "    </tr>\n",
       "  </thead>\n",
       "  <tbody>\n",
       "    <tr>\n",
       "      <th>count</th>\n",
       "      <td>5.500680e+05</td>\n",
       "      <td>550068.000000</td>\n",
       "      <td>550068.000000</td>\n",
       "      <td>550068.000000</td>\n",
       "      <td>376430.000000</td>\n",
       "      <td>166821.000000</td>\n",
       "      <td>550068.000000</td>\n",
       "    </tr>\n",
       "    <tr>\n",
       "      <th>mean</th>\n",
       "      <td>1.003029e+06</td>\n",
       "      <td>8.076707</td>\n",
       "      <td>0.409653</td>\n",
       "      <td>5.404270</td>\n",
       "      <td>9.842329</td>\n",
       "      <td>12.668243</td>\n",
       "      <td>9263.968713</td>\n",
       "    </tr>\n",
       "    <tr>\n",
       "      <th>std</th>\n",
       "      <td>1.727592e+03</td>\n",
       "      <td>6.522660</td>\n",
       "      <td>0.491770</td>\n",
       "      <td>3.936211</td>\n",
       "      <td>5.086590</td>\n",
       "      <td>4.125338</td>\n",
       "      <td>5023.065394</td>\n",
       "    </tr>\n",
       "    <tr>\n",
       "      <th>min</th>\n",
       "      <td>1.000001e+06</td>\n",
       "      <td>0.000000</td>\n",
       "      <td>0.000000</td>\n",
       "      <td>1.000000</td>\n",
       "      <td>2.000000</td>\n",
       "      <td>3.000000</td>\n",
       "      <td>12.000000</td>\n",
       "    </tr>\n",
       "    <tr>\n",
       "      <th>25%</th>\n",
       "      <td>1.001516e+06</td>\n",
       "      <td>2.000000</td>\n",
       "      <td>0.000000</td>\n",
       "      <td>1.000000</td>\n",
       "      <td>5.000000</td>\n",
       "      <td>9.000000</td>\n",
       "      <td>5823.000000</td>\n",
       "    </tr>\n",
       "    <tr>\n",
       "      <th>50%</th>\n",
       "      <td>1.003077e+06</td>\n",
       "      <td>7.000000</td>\n",
       "      <td>0.000000</td>\n",
       "      <td>5.000000</td>\n",
       "      <td>9.000000</td>\n",
       "      <td>14.000000</td>\n",
       "      <td>8047.000000</td>\n",
       "    </tr>\n",
       "    <tr>\n",
       "      <th>75%</th>\n",
       "      <td>1.004478e+06</td>\n",
       "      <td>14.000000</td>\n",
       "      <td>1.000000</td>\n",
       "      <td>8.000000</td>\n",
       "      <td>15.000000</td>\n",
       "      <td>16.000000</td>\n",
       "      <td>12054.000000</td>\n",
       "    </tr>\n",
       "    <tr>\n",
       "      <th>max</th>\n",
       "      <td>1.006040e+06</td>\n",
       "      <td>20.000000</td>\n",
       "      <td>1.000000</td>\n",
       "      <td>20.000000</td>\n",
       "      <td>18.000000</td>\n",
       "      <td>18.000000</td>\n",
       "      <td>23961.000000</td>\n",
       "    </tr>\n",
       "  </tbody>\n",
       "</table>\n",
       "</div>"
      ],
      "text/plain": [
       "            User_ID     Occupation  Marital_Status  Product_Category_1  \\\n",
       "count  5.500680e+05  550068.000000   550068.000000       550068.000000   \n",
       "mean   1.003029e+06       8.076707        0.409653            5.404270   \n",
       "std    1.727592e+03       6.522660        0.491770            3.936211   \n",
       "min    1.000001e+06       0.000000        0.000000            1.000000   \n",
       "25%    1.001516e+06       2.000000        0.000000            1.000000   \n",
       "50%    1.003077e+06       7.000000        0.000000            5.000000   \n",
       "75%    1.004478e+06      14.000000        1.000000            8.000000   \n",
       "max    1.006040e+06      20.000000        1.000000           20.000000   \n",
       "\n",
       "       Product_Category_2  Product_Category_3       Purchase  \n",
       "count       376430.000000       166821.000000  550068.000000  \n",
       "mean             9.842329           12.668243    9263.968713  \n",
       "std              5.086590            4.125338    5023.065394  \n",
       "min              2.000000            3.000000      12.000000  \n",
       "25%              5.000000            9.000000    5823.000000  \n",
       "50%              9.000000           14.000000    8047.000000  \n",
       "75%             15.000000           16.000000   12054.000000  \n",
       "max             18.000000           18.000000   23961.000000  "
      ]
     },
     "execution_count": 7,
     "metadata": {},
     "output_type": "execute_result"
    }
   ],
   "source": [
    "train_df.describe()"
   ]
  },
  {
   "cell_type": "code",
   "execution_count": 8,
   "id": "9cfd1741",
   "metadata": {
    "execution": {
     "iopub.execute_input": "2024-05-12T04:20:18.925762Z",
     "iopub.status.busy": "2024-05-12T04:20:18.924828Z",
     "iopub.status.idle": "2024-05-12T04:20:19.240106Z",
     "shell.execute_reply": "2024-05-12T04:20:19.238968Z"
    },
    "papermill": {
     "duration": 0.334687,
     "end_time": "2024-05-12T04:20:19.242278",
     "exception": false,
     "start_time": "2024-05-12T04:20:18.907591",
     "status": "completed"
    },
    "tags": []
   },
   "outputs": [
    {
     "data": {
      "text/html": [
       "<div>\n",
       "<style scoped>\n",
       "    .dataframe tbody tr th:only-of-type {\n",
       "        vertical-align: middle;\n",
       "    }\n",
       "\n",
       "    .dataframe tbody tr th {\n",
       "        vertical-align: top;\n",
       "    }\n",
       "\n",
       "    .dataframe thead th {\n",
       "        text-align: right;\n",
       "    }\n",
       "</style>\n",
       "<table border=\"1\" class=\"dataframe\">\n",
       "  <thead>\n",
       "    <tr style=\"text-align: right;\">\n",
       "      <th></th>\n",
       "      <th>User_ID</th>\n",
       "      <th>Product_ID</th>\n",
       "      <th>Gender</th>\n",
       "      <th>Age</th>\n",
       "      <th>Occupation</th>\n",
       "      <th>City_Category</th>\n",
       "      <th>Stay_In_Current_City_Years</th>\n",
       "      <th>Marital_Status</th>\n",
       "      <th>Product_Category_1</th>\n",
       "      <th>Product_Category_2</th>\n",
       "      <th>Product_Category_3</th>\n",
       "    </tr>\n",
       "  </thead>\n",
       "  <tbody>\n",
       "    <tr>\n",
       "      <th>0</th>\n",
       "      <td>1000004</td>\n",
       "      <td>P00128942</td>\n",
       "      <td>M</td>\n",
       "      <td>46-50</td>\n",
       "      <td>7</td>\n",
       "      <td>B</td>\n",
       "      <td>2</td>\n",
       "      <td>1</td>\n",
       "      <td>1</td>\n",
       "      <td>11.0</td>\n",
       "      <td>NaN</td>\n",
       "    </tr>\n",
       "    <tr>\n",
       "      <th>1</th>\n",
       "      <td>1000009</td>\n",
       "      <td>P00113442</td>\n",
       "      <td>M</td>\n",
       "      <td>26-35</td>\n",
       "      <td>17</td>\n",
       "      <td>C</td>\n",
       "      <td>0</td>\n",
       "      <td>0</td>\n",
       "      <td>3</td>\n",
       "      <td>5.0</td>\n",
       "      <td>NaN</td>\n",
       "    </tr>\n",
       "    <tr>\n",
       "      <th>2</th>\n",
       "      <td>1000010</td>\n",
       "      <td>P00288442</td>\n",
       "      <td>F</td>\n",
       "      <td>36-45</td>\n",
       "      <td>1</td>\n",
       "      <td>B</td>\n",
       "      <td>4+</td>\n",
       "      <td>1</td>\n",
       "      <td>5</td>\n",
       "      <td>14.0</td>\n",
       "      <td>NaN</td>\n",
       "    </tr>\n",
       "    <tr>\n",
       "      <th>3</th>\n",
       "      <td>1000010</td>\n",
       "      <td>P00145342</td>\n",
       "      <td>F</td>\n",
       "      <td>36-45</td>\n",
       "      <td>1</td>\n",
       "      <td>B</td>\n",
       "      <td>4+</td>\n",
       "      <td>1</td>\n",
       "      <td>4</td>\n",
       "      <td>9.0</td>\n",
       "      <td>NaN</td>\n",
       "    </tr>\n",
       "    <tr>\n",
       "      <th>4</th>\n",
       "      <td>1000011</td>\n",
       "      <td>P00053842</td>\n",
       "      <td>F</td>\n",
       "      <td>26-35</td>\n",
       "      <td>1</td>\n",
       "      <td>C</td>\n",
       "      <td>1</td>\n",
       "      <td>0</td>\n",
       "      <td>4</td>\n",
       "      <td>5.0</td>\n",
       "      <td>12.0</td>\n",
       "    </tr>\n",
       "  </tbody>\n",
       "</table>\n",
       "</div>"
      ],
      "text/plain": [
       "   User_ID Product_ID Gender    Age  Occupation City_Category  \\\n",
       "0  1000004  P00128942      M  46-50           7             B   \n",
       "1  1000009  P00113442      M  26-35          17             C   \n",
       "2  1000010  P00288442      F  36-45           1             B   \n",
       "3  1000010  P00145342      F  36-45           1             B   \n",
       "4  1000011  P00053842      F  26-35           1             C   \n",
       "\n",
       "  Stay_In_Current_City_Years  Marital_Status  Product_Category_1  \\\n",
       "0                          2               1                   1   \n",
       "1                          0               0                   3   \n",
       "2                         4+               1                   5   \n",
       "3                         4+               1                   4   \n",
       "4                          1               0                   4   \n",
       "\n",
       "   Product_Category_2  Product_Category_3  \n",
       "0                11.0                 NaN  \n",
       "1                 5.0                 NaN  \n",
       "2                14.0                 NaN  \n",
       "3                 9.0                 NaN  \n",
       "4                 5.0                12.0  "
      ]
     },
     "execution_count": 8,
     "metadata": {},
     "output_type": "execute_result"
    }
   ],
   "source": [
    "test_df=pd.read_csv('/kaggle/input/dfkslgkjdlfg/test.csv')\n",
    "test_df.head()"
   ]
  },
  {
   "cell_type": "code",
   "execution_count": 9,
   "id": "a064fb7d",
   "metadata": {
    "execution": {
     "iopub.execute_input": "2024-05-12T04:20:19.276742Z",
     "iopub.status.busy": "2024-05-12T04:20:19.276133Z",
     "iopub.status.idle": "2024-05-12T04:20:19.282506Z",
     "shell.execute_reply": "2024-05-12T04:20:19.281590Z"
    },
    "papermill": {
     "duration": 0.025421,
     "end_time": "2024-05-12T04:20:19.284386",
     "exception": false,
     "start_time": "2024-05-12T04:20:19.258965",
     "status": "completed"
    },
    "tags": []
   },
   "outputs": [
    {
     "data": {
      "text/plain": [
       "Index(['User_ID', 'Product_ID', 'Gender', 'Age', 'Occupation', 'City_Category',\n",
       "       'Stay_In_Current_City_Years', 'Marital_Status', 'Product_Category_1',\n",
       "       'Product_Category_2', 'Product_Category_3'],\n",
       "      dtype='object')"
      ]
     },
     "execution_count": 9,
     "metadata": {},
     "output_type": "execute_result"
    }
   ],
   "source": [
    "test_df.columns"
   ]
  },
  {
   "cell_type": "code",
   "execution_count": 10,
   "id": "75b6d975",
   "metadata": {
    "execution": {
     "iopub.execute_input": "2024-05-12T04:20:19.318042Z",
     "iopub.status.busy": "2024-05-12T04:20:19.317702Z",
     "iopub.status.idle": "2024-05-12T04:20:19.458679Z",
     "shell.execute_reply": "2024-05-12T04:20:19.457640Z"
    },
    "papermill": {
     "duration": 0.160811,
     "end_time": "2024-05-12T04:20:19.461337",
     "exception": false,
     "start_time": "2024-05-12T04:20:19.300526",
     "status": "completed"
    },
    "tags": []
   },
   "outputs": [
    {
     "name": "stdout",
     "output_type": "stream",
     "text": [
      "<class 'pandas.core.frame.DataFrame'>\n",
      "RangeIndex: 233599 entries, 0 to 233598\n",
      "Data columns (total 11 columns):\n",
      " #   Column                      Non-Null Count   Dtype  \n",
      "---  ------                      --------------   -----  \n",
      " 0   User_ID                     233599 non-null  int64  \n",
      " 1   Product_ID                  233599 non-null  object \n",
      " 2   Gender                      233599 non-null  object \n",
      " 3   Age                         233599 non-null  object \n",
      " 4   Occupation                  233599 non-null  int64  \n",
      " 5   City_Category               233599 non-null  object \n",
      " 6   Stay_In_Current_City_Years  233599 non-null  object \n",
      " 7   Marital_Status              233599 non-null  int64  \n",
      " 8   Product_Category_1          233599 non-null  int64  \n",
      " 9   Product_Category_2          161255 non-null  float64\n",
      " 10  Product_Category_3          71037 non-null   float64\n",
      "dtypes: float64(2), int64(4), object(5)\n",
      "memory usage: 19.6+ MB\n"
     ]
    }
   ],
   "source": [
    "test_df.info()"
   ]
  },
  {
   "cell_type": "code",
   "execution_count": 11,
   "id": "94fbfb76",
   "metadata": {
    "execution": {
     "iopub.execute_input": "2024-05-12T04:20:19.495897Z",
     "iopub.status.busy": "2024-05-12T04:20:19.495574Z",
     "iopub.status.idle": "2024-05-12T04:20:19.501468Z",
     "shell.execute_reply": "2024-05-12T04:20:19.500587Z"
    },
    "papermill": {
     "duration": 0.025288,
     "end_time": "2024-05-12T04:20:19.503355",
     "exception": false,
     "start_time": "2024-05-12T04:20:19.478067",
     "status": "completed"
    },
    "tags": []
   },
   "outputs": [
    {
     "data": {
      "text/plain": [
       "array([False, False, False, False, False, False, False, False, False,\n",
       "       False, False])"
      ]
     },
     "execution_count": 11,
     "metadata": {},
     "output_type": "execute_result"
    }
   ],
   "source": [
    "test_df.columns.duplicated()"
   ]
  },
  {
   "cell_type": "code",
   "execution_count": 12,
   "id": "baf2dd52",
   "metadata": {
    "execution": {
     "iopub.execute_input": "2024-05-12T04:20:19.537926Z",
     "iopub.status.busy": "2024-05-12T04:20:19.537065Z",
     "iopub.status.idle": "2024-05-12T04:20:19.600363Z",
     "shell.execute_reply": "2024-05-12T04:20:19.599405Z"
    },
    "papermill": {
     "duration": 0.082634,
     "end_time": "2024-05-12T04:20:19.602426",
     "exception": false,
     "start_time": "2024-05-12T04:20:19.519792",
     "status": "completed"
    },
    "tags": []
   },
   "outputs": [
    {
     "data": {
      "text/plain": [
       "User_ID                            0\n",
       "Product_ID                         0\n",
       "Gender                             0\n",
       "Age                                0\n",
       "Occupation                         0\n",
       "City_Category                      0\n",
       "Stay_In_Current_City_Years         0\n",
       "Marital_Status                     0\n",
       "Product_Category_1                 0\n",
       "Product_Category_2             72344\n",
       "Product_Category_3            162562\n",
       "dtype: int64"
      ]
     },
     "execution_count": 12,
     "metadata": {},
     "output_type": "execute_result"
    }
   ],
   "source": [
    "test_df.isnull().sum()"
   ]
  },
  {
   "cell_type": "code",
   "execution_count": 13,
   "id": "06ef68ee",
   "metadata": {
    "execution": {
     "iopub.execute_input": "2024-05-12T04:20:19.637743Z",
     "iopub.status.busy": "2024-05-12T04:20:19.637110Z",
     "iopub.status.idle": "2024-05-12T04:20:23.325034Z",
     "shell.execute_reply": "2024-05-12T04:20:23.323981Z"
    },
    "papermill": {
     "duration": 3.70817,
     "end_time": "2024-05-12T04:20:23.327606",
     "exception": false,
     "start_time": "2024-05-12T04:20:19.619436",
     "status": "completed"
    },
    "tags": []
   },
   "outputs": [
    {
     "data": {
      "text/plain": [
       "<Axes: >"
      ]
     },
     "execution_count": 13,
     "metadata": {},
     "output_type": "execute_result"
    },
    {
     "data": {
      "image/png": "[encoded data removed]",
      "text/plain": [
       "<Figure size 640x480 with 1 Axes>"
      ]
     },
     "metadata": {},
     "output_type": "display_data"
    }
   ],
   "source": [
    "sns.heatmap(test_df.isnull(),yticklabels=False,cmap='viridis',cbar=False)"
   ]
  },
  {
   "cell_type": "code",
   "execution_count": 14,
   "id": "e59adf4f",
   "metadata": {
    "execution": {
     "iopub.execute_input": "2024-05-12T04:20:23.363712Z",
     "iopub.status.busy": "2024-05-12T04:20:23.363379Z",
     "iopub.status.idle": "2024-05-12T04:20:23.412461Z",
     "shell.execute_reply": "2024-05-12T04:20:23.411473Z"
    },
    "papermill": {
     "duration": 0.069342,
     "end_time": "2024-05-12T04:20:23.414541",
     "exception": false,
     "start_time": "2024-05-12T04:20:23.345199",
     "status": "completed"
    },
    "tags": []
   },
   "outputs": [
    {
     "data": {
      "text/html": [
       "<div>\n",
       "<style scoped>\n",
       "    .dataframe tbody tr th:only-of-type {\n",
       "        vertical-align: middle;\n",
       "    }\n",
       "\n",
       "    .dataframe tbody tr th {\n",
       "        vertical-align: top;\n",
       "    }\n",
       "\n",
       "    .dataframe thead th {\n",
       "        text-align: right;\n",
       "    }\n",
       "</style>\n",
       "<table border=\"1\" class=\"dataframe\">\n",
       "  <thead>\n",
       "    <tr style=\"text-align: right;\">\n",
       "      <th></th>\n",
       "      <th>User_ID</th>\n",
       "      <th>Product_ID</th>\n",
       "      <th>Gender</th>\n",
       "      <th>Age</th>\n",
       "      <th>Occupation</th>\n",
       "      <th>City_Category</th>\n",
       "      <th>Stay_In_Current_City_Years</th>\n",
       "      <th>Marital_Status</th>\n",
       "      <th>Product_Category_1</th>\n",
       "      <th>Product_Category_2</th>\n",
       "      <th>Product_Category_3</th>\n",
       "      <th>Purchase</th>\n",
       "    </tr>\n",
       "  </thead>\n",
       "  <tbody>\n",
       "    <tr>\n",
       "      <th>0</th>\n",
       "      <td>1000001</td>\n",
       "      <td>P00069042</td>\n",
       "      <td>F</td>\n",
       "      <td>0-17</td>\n",
       "      <td>10</td>\n",
       "      <td>A</td>\n",
       "      <td>2</td>\n",
       "      <td>0</td>\n",
       "      <td>3</td>\n",
       "      <td>NaN</td>\n",
       "      <td>NaN</td>\n",
       "      <td>8370.0</td>\n",
       "    </tr>\n",
       "    <tr>\n",
       "      <th>1</th>\n",
       "      <td>1000001</td>\n",
       "      <td>P00248942</td>\n",
       "      <td>F</td>\n",
       "      <td>0-17</td>\n",
       "      <td>10</td>\n",
       "      <td>A</td>\n",
       "      <td>2</td>\n",
       "      <td>0</td>\n",
       "      <td>1</td>\n",
       "      <td>6.0</td>\n",
       "      <td>14.0</td>\n",
       "      <td>15200.0</td>\n",
       "    </tr>\n",
       "    <tr>\n",
       "      <th>2</th>\n",
       "      <td>1000001</td>\n",
       "      <td>P00087842</td>\n",
       "      <td>F</td>\n",
       "      <td>0-17</td>\n",
       "      <td>10</td>\n",
       "      <td>A</td>\n",
       "      <td>2</td>\n",
       "      <td>0</td>\n",
       "      <td>12</td>\n",
       "      <td>NaN</td>\n",
       "      <td>NaN</td>\n",
       "      <td>1422.0</td>\n",
       "    </tr>\n",
       "    <tr>\n",
       "      <th>3</th>\n",
       "      <td>1000001</td>\n",
       "      <td>P00085442</td>\n",
       "      <td>F</td>\n",
       "      <td>0-17</td>\n",
       "      <td>10</td>\n",
       "      <td>A</td>\n",
       "      <td>2</td>\n",
       "      <td>0</td>\n",
       "      <td>12</td>\n",
       "      <td>14.0</td>\n",
       "      <td>NaN</td>\n",
       "      <td>1057.0</td>\n",
       "    </tr>\n",
       "    <tr>\n",
       "      <th>4</th>\n",
       "      <td>1000002</td>\n",
       "      <td>P00285442</td>\n",
       "      <td>M</td>\n",
       "      <td>55+</td>\n",
       "      <td>16</td>\n",
       "      <td>C</td>\n",
       "      <td>4+</td>\n",
       "      <td>0</td>\n",
       "      <td>8</td>\n",
       "      <td>NaN</td>\n",
       "      <td>NaN</td>\n",
       "      <td>7969.0</td>\n",
       "    </tr>\n",
       "  </tbody>\n",
       "</table>\n",
       "</div>"
      ],
      "text/plain": [
       "   User_ID Product_ID Gender   Age  Occupation City_Category  \\\n",
       "0  1000001  P00069042      F  0-17          10             A   \n",
       "1  1000001  P00248942      F  0-17          10             A   \n",
       "2  1000001  P00087842      F  0-17          10             A   \n",
       "3  1000001  P00085442      F  0-17          10             A   \n",
       "4  1000002  P00285442      M   55+          16             C   \n",
       "\n",
       "  Stay_In_Current_City_Years  Marital_Status  Product_Category_1  \\\n",
       "0                          2               0                   3   \n",
       "1                          2               0                   1   \n",
       "2                          2               0                  12   \n",
       "3                          2               0                  12   \n",
       "4                         4+               0                   8   \n",
       "\n",
       "   Product_Category_2  Product_Category_3  Purchase  \n",
       "0                 NaN                 NaN    8370.0  \n",
       "1                 6.0                14.0   15200.0  \n",
       "2                 NaN                 NaN    1422.0  \n",
       "3                14.0                 NaN    1057.0  \n",
       "4                 NaN                 NaN    7969.0  "
      ]
     },
     "execution_count": 14,
     "metadata": {},
     "output_type": "execute_result"
    }
   ],
   "source": [
    "df=pd.concat([train_df,test_df])\n",
    "df.head()"
   ]
  },
  {
   "cell_type": "code",
   "execution_count": 15,
   "id": "b5073c5d",
   "metadata": {
    "execution": {
     "iopub.execute_input": "2024-05-12T04:20:23.451310Z",
     "iopub.status.busy": "2024-05-12T04:20:23.450425Z",
     "iopub.status.idle": "2024-05-12T04:20:23.456823Z",
     "shell.execute_reply": "2024-05-12T04:20:23.455896Z"
    },
    "papermill": {
     "duration": 0.026716,
     "end_time": "2024-05-12T04:20:23.458883",
     "exception": false,
     "start_time": "2024-05-12T04:20:23.432167",
     "status": "completed"
    },
    "tags": []
   },
   "outputs": [
    {
     "data": {
      "text/plain": [
       "Index(['User_ID', 'Product_ID', 'Gender', 'Age', 'Occupation', 'City_Category',\n",
       "       'Stay_In_Current_City_Years', 'Marital_Status', 'Product_Category_1',\n",
       "       'Product_Category_2', 'Product_Category_3', 'Purchase'],\n",
       "      dtype='object')"
      ]
     },
     "execution_count": 15,
     "metadata": {},
     "output_type": "execute_result"
    }
   ],
   "source": [
    "df.columns"
   ]
  },
  {
   "cell_type": "code",
   "execution_count": 16,
   "id": "7362978b",
   "metadata": {
    "execution": {
     "iopub.execute_input": "2024-05-12T04:20:23.495258Z",
     "iopub.status.busy": "2024-05-12T04:20:23.494448Z",
     "iopub.status.idle": "2024-05-12T04:20:23.719461Z",
     "shell.execute_reply": "2024-05-12T04:20:23.718037Z"
    },
    "papermill": {
     "duration": 0.245579,
     "end_time": "2024-05-12T04:20:23.721802",
     "exception": false,
     "start_time": "2024-05-12T04:20:23.476223",
     "status": "completed"
    },
    "tags": []
   },
   "outputs": [
    {
     "name": "stdout",
     "output_type": "stream",
     "text": [
      "<class 'pandas.core.frame.DataFrame'>\n",
      "Index: 783667 entries, 0 to 233598\n",
      "Data columns (total 12 columns):\n",
      " #   Column                      Non-Null Count   Dtype  \n",
      "---  ------                      --------------   -----  \n",
      " 0   User_ID                     783667 non-null  int64  \n",
      " 1   Product_ID                  783667 non-null  object \n",
      " 2   Gender                      783667 non-null  object \n",
      " 3   Age                         783667 non-null  object \n",
      " 4   Occupation                  783667 non-null  int64  \n",
      " 5   City_Category               783667 non-null  object \n",
      " 6   Stay_In_Current_City_Years  783667 non-null  object \n",
      " 7   Marital_Status              783667 non-null  int64  \n",
      " 8   Product_Category_1          783667 non-null  int64  \n",
      " 9   Product_Category_2          537685 non-null  float64\n",
      " 10  Product_Category_3          237858 non-null  float64\n",
      " 11  Purchase                    550068 non-null  float64\n",
      "dtypes: float64(3), int64(4), object(5)\n",
      "memory usage: 77.7+ MB\n"
     ]
    }
   ],
   "source": [
    "df.info()"
   ]
  },
  {
   "cell_type": "code",
   "execution_count": 17,
   "id": "91d41c8d",
   "metadata": {
    "execution": {
     "iopub.execute_input": "2024-05-12T04:20:23.759970Z",
     "iopub.status.busy": "2024-05-12T04:20:23.759593Z",
     "iopub.status.idle": "2024-05-12T04:20:23.766111Z",
     "shell.execute_reply": "2024-05-12T04:20:23.765092Z"
    },
    "papermill": {
     "duration": 0.028169,
     "end_time": "2024-05-12T04:20:23.768163",
     "exception": false,
     "start_time": "2024-05-12T04:20:23.739994",
     "status": "completed"
    },
    "tags": []
   },
   "outputs": [
    {
     "data": {
      "text/plain": [
       "array([False, False, False, False, False, False, False, False, False,\n",
       "       False, False, False])"
      ]
     },
     "execution_count": 17,
     "metadata": {},
     "output_type": "execute_result"
    }
   ],
   "source": [
    "df.columns.isnull()"
   ]
  },
  {
   "cell_type": "code",
   "execution_count": 18,
   "id": "169bf3b1",
   "metadata": {
    "execution": {
     "iopub.execute_input": "2024-05-12T04:20:23.804832Z",
     "iopub.status.busy": "2024-05-12T04:20:23.804526Z",
     "iopub.status.idle": "2024-05-12T04:20:23.810588Z",
     "shell.execute_reply": "2024-05-12T04:20:23.809516Z"
    },
    "papermill": {
     "duration": 0.026821,
     "end_time": "2024-05-12T04:20:23.812667",
     "exception": false,
     "start_time": "2024-05-12T04:20:23.785846",
     "status": "completed"
    },
    "tags": []
   },
   "outputs": [
    {
     "data": {
      "text/plain": [
       "0"
      ]
     },
     "execution_count": 18,
     "metadata": {},
     "output_type": "execute_result"
    }
   ],
   "source": [
    "df.columns.isnull().sum()"
   ]
  },
  {
   "cell_type": "code",
   "execution_count": 19,
   "id": "0ec8cd1d",
   "metadata": {
    "execution": {
     "iopub.execute_input": "2024-05-12T04:20:23.893396Z",
     "iopub.status.busy": "2024-05-12T04:20:23.893034Z",
     "iopub.status.idle": "2024-05-12T04:20:23.901129Z",
     "shell.execute_reply": "2024-05-12T04:20:23.900143Z"
    },
    "papermill": {
     "duration": 0.02921,
     "end_time": "2024-05-12T04:20:23.903072",
     "exception": false,
     "start_time": "2024-05-12T04:20:23.873862",
     "status": "completed"
    },
    "tags": []
   },
   "outputs": [
    {
     "data": {
      "text/plain": [
       "User_ID                       1\n",
       "Product_ID                    1\n",
       "Gender                        1\n",
       "Age                           1\n",
       "Occupation                    1\n",
       "City_Category                 1\n",
       "Stay_In_Current_City_Years    1\n",
       "Marital_Status                1\n",
       "Product_Category_1            1\n",
       "Product_Category_2            1\n",
       "Product_Category_3            1\n",
       "Purchase                      1\n",
       "Name: count, dtype: int64"
      ]
     },
     "execution_count": 19,
     "metadata": {},
     "output_type": "execute_result"
    }
   ],
   "source": [
    "df.columns.value_counts()"
   ]
  },
  {
   "cell_type": "code",
   "execution_count": 20,
   "id": "6cd78e42",
   "metadata": {
    "execution": {
     "iopub.execute_input": "2024-05-12T04:20:23.941762Z",
     "iopub.status.busy": "2024-05-12T04:20:23.941054Z",
     "iopub.status.idle": "2024-05-12T04:20:37.042568Z",
     "shell.execute_reply": "2024-05-12T04:20:37.041587Z"
    },
    "papermill": {
     "duration": 13.123339,
     "end_time": "2024-05-12T04:20:37.044872",
     "exception": false,
     "start_time": "2024-05-12T04:20:23.921533",
     "status": "completed"
    },
    "tags": []
   },
   "outputs": [
    {
     "data": {
      "text/plain": [
       "<Axes: >"
      ]
     },
     "execution_count": 20,
     "metadata": {},
     "output_type": "execute_result"
    },
    {
     "data": {
      "image/png": "[encoded data removed]",
      "text/plain": [
       "<Figure size 640x480 with 1 Axes>"
      ]
     },
     "metadata": {},
     "output_type": "display_data"
    }
   ],
   "source": [
    "sns.heatmap(df.isnull(),yticklabels=False,cmap='viridis',cbar=False)"
   ]
  },
  {
   "cell_type": "code",
   "execution_count": 21,
   "id": "f7b4196a",
   "metadata": {
    "execution": {
     "iopub.execute_input": "2024-05-12T04:20:37.084287Z",
     "iopub.status.busy": "2024-05-12T04:20:37.083430Z",
     "iopub.status.idle": "2024-05-12T04:20:37.346237Z",
     "shell.execute_reply": "2024-05-12T04:20:37.345258Z"
    },
    "papermill": {
     "duration": 0.284487,
     "end_time": "2024-05-12T04:20:37.348362",
     "exception": false,
     "start_time": "2024-05-12T04:20:37.063875",
     "status": "completed"
    },
    "tags": []
   },
   "outputs": [
    {
     "data": {
      "text/html": [
       "<div>\n",
       "<style scoped>\n",
       "    .dataframe tbody tr th:only-of-type {\n",
       "        vertical-align: middle;\n",
       "    }\n",
       "\n",
       "    .dataframe tbody tr th {\n",
       "        vertical-align: top;\n",
       "    }\n",
       "\n",
       "    .dataframe thead th {\n",
       "        text-align: right;\n",
       "    }\n",
       "</style>\n",
       "<table border=\"1\" class=\"dataframe\">\n",
       "  <thead>\n",
       "    <tr style=\"text-align: right;\">\n",
       "      <th></th>\n",
       "      <th>User_ID</th>\n",
       "      <th>Occupation</th>\n",
       "      <th>Marital_Status</th>\n",
       "      <th>Product_Category_1</th>\n",
       "      <th>Product_Category_2</th>\n",
       "      <th>Product_Category_3</th>\n",
       "      <th>Purchase</th>\n",
       "    </tr>\n",
       "  </thead>\n",
       "  <tbody>\n",
       "    <tr>\n",
       "      <th>count</th>\n",
       "      <td>7.836670e+05</td>\n",
       "      <td>783667.000000</td>\n",
       "      <td>783667.000000</td>\n",
       "      <td>783667.000000</td>\n",
       "      <td>537685.000000</td>\n",
       "      <td>237858.000000</td>\n",
       "      <td>550068.000000</td>\n",
       "    </tr>\n",
       "    <tr>\n",
       "      <th>mean</th>\n",
       "      <td>1.003029e+06</td>\n",
       "      <td>8.079300</td>\n",
       "      <td>0.409777</td>\n",
       "      <td>5.366196</td>\n",
       "      <td>9.844506</td>\n",
       "      <td>12.668605</td>\n",
       "      <td>9263.968713</td>\n",
       "    </tr>\n",
       "    <tr>\n",
       "      <th>std</th>\n",
       "      <td>1.727267e+03</td>\n",
       "      <td>6.522206</td>\n",
       "      <td>0.491793</td>\n",
       "      <td>3.878160</td>\n",
       "      <td>5.089093</td>\n",
       "      <td>4.125510</td>\n",
       "      <td>5023.065394</td>\n",
       "    </tr>\n",
       "    <tr>\n",
       "      <th>min</th>\n",
       "      <td>1.000001e+06</td>\n",
       "      <td>0.000000</td>\n",
       "      <td>0.000000</td>\n",
       "      <td>1.000000</td>\n",
       "      <td>2.000000</td>\n",
       "      <td>3.000000</td>\n",
       "      <td>12.000000</td>\n",
       "    </tr>\n",
       "    <tr>\n",
       "      <th>25%</th>\n",
       "      <td>1.001519e+06</td>\n",
       "      <td>2.000000</td>\n",
       "      <td>0.000000</td>\n",
       "      <td>1.000000</td>\n",
       "      <td>5.000000</td>\n",
       "      <td>9.000000</td>\n",
       "      <td>5823.000000</td>\n",
       "    </tr>\n",
       "    <tr>\n",
       "      <th>50%</th>\n",
       "      <td>1.003075e+06</td>\n",
       "      <td>7.000000</td>\n",
       "      <td>0.000000</td>\n",
       "      <td>5.000000</td>\n",
       "      <td>9.000000</td>\n",
       "      <td>14.000000</td>\n",
       "      <td>8047.000000</td>\n",
       "    </tr>\n",
       "    <tr>\n",
       "      <th>75%</th>\n",
       "      <td>1.004478e+06</td>\n",
       "      <td>14.000000</td>\n",
       "      <td>1.000000</td>\n",
       "      <td>8.000000</td>\n",
       "      <td>15.000000</td>\n",
       "      <td>16.000000</td>\n",
       "      <td>12054.000000</td>\n",
       "    </tr>\n",
       "    <tr>\n",
       "      <th>max</th>\n",
       "      <td>1.006040e+06</td>\n",
       "      <td>20.000000</td>\n",
       "      <td>1.000000</td>\n",
       "      <td>20.000000</td>\n",
       "      <td>18.000000</td>\n",
       "      <td>18.000000</td>\n",
       "      <td>23961.000000</td>\n",
       "    </tr>\n",
       "  </tbody>\n",
       "</table>\n",
       "</div>"
      ],
      "text/plain": [
       "            User_ID     Occupation  Marital_Status  Product_Category_1  \\\n",
       "count  7.836670e+05  783667.000000   783667.000000       783667.000000   \n",
       "mean   1.003029e+06       8.079300        0.409777            5.366196   \n",
       "std    1.727267e+03       6.522206        0.491793            3.878160   \n",
       "min    1.000001e+06       0.000000        0.000000            1.000000   \n",
       "25%    1.001519e+06       2.000000        0.000000            1.000000   \n",
       "50%    1.003075e+06       7.000000        0.000000            5.000000   \n",
       "75%    1.004478e+06      14.000000        1.000000            8.000000   \n",
       "max    1.006040e+06      20.000000        1.000000           20.000000   \n",
       "\n",
       "       Product_Category_2  Product_Category_3       Purchase  \n",
       "count       537685.000000       237858.000000  550068.000000  \n",
       "mean             9.844506           12.668605    9263.968713  \n",
       "std              5.089093            4.125510    5023.065394  \n",
       "min              2.000000            3.000000      12.000000  \n",
       "25%              5.000000            9.000000    5823.000000  \n",
       "50%              9.000000           14.000000    8047.000000  \n",
       "75%             15.000000           16.000000   12054.000000  \n",
       "max             18.000000           18.000000   23961.000000  "
      ]
     },
     "execution_count": 21,
     "metadata": {},
     "output_type": "execute_result"
    }
   ],
   "source": [
    "df.describe()"
   ]
  },
  {
   "cell_type": "code",
   "execution_count": 22,
   "id": "288f1511",
   "metadata": {
    "execution": {
     "iopub.execute_input": "2024-05-12T04:20:37.388015Z",
     "iopub.status.busy": "2024-05-12T04:20:37.387643Z",
     "iopub.status.idle": "2024-05-12T04:20:37.395009Z",
     "shell.execute_reply": "2024-05-12T04:20:37.394079Z"
    },
    "papermill": {
     "duration": 0.029358,
     "end_time": "2024-05-12T04:20:37.396975",
     "exception": false,
     "start_time": "2024-05-12T04:20:37.367617",
     "status": "completed"
    },
    "tags": []
   },
   "outputs": [
    {
     "data": {
      "text/plain": [
       "User_ID                         int64\n",
       "Product_ID                     object\n",
       "Gender                         object\n",
       "Age                            object\n",
       "Occupation                      int64\n",
       "City_Category                  object\n",
       "Stay_In_Current_City_Years     object\n",
       "Marital_Status                  int64\n",
       "Product_Category_1              int64\n",
       "Product_Category_2            float64\n",
       "Product_Category_3            float64\n",
       "Purchase                      float64\n",
       "dtype: object"
      ]
     },
     "execution_count": 22,
     "metadata": {},
     "output_type": "execute_result"
    }
   ],
   "source": [
    "df.dtypes"
   ]
  },
  {
   "cell_type": "code",
   "execution_count": 23,
   "id": "36a3d525",
   "metadata": {
    "execution": {
     "iopub.execute_input": "2024-05-12T04:20:37.436038Z",
     "iopub.status.busy": "2024-05-12T04:20:37.435676Z",
     "iopub.status.idle": "2024-05-12T04:20:37.516220Z",
     "shell.execute_reply": "2024-05-12T04:20:37.515251Z"
    },
    "papermill": {
     "duration": 0.10251,
     "end_time": "2024-05-12T04:20:37.518355",
     "exception": false,
     "start_time": "2024-05-12T04:20:37.415845",
     "status": "completed"
    },
    "tags": []
   },
   "outputs": [
    {
     "data": {
      "text/html": [
       "<div>\n",
       "<style scoped>\n",
       "    .dataframe tbody tr th:only-of-type {\n",
       "        vertical-align: middle;\n",
       "    }\n",
       "\n",
       "    .dataframe tbody tr th {\n",
       "        vertical-align: top;\n",
       "    }\n",
       "\n",
       "    .dataframe thead th {\n",
       "        text-align: right;\n",
       "    }\n",
       "</style>\n",
       "<table border=\"1\" class=\"dataframe\">\n",
       "  <thead>\n",
       "    <tr style=\"text-align: right;\">\n",
       "      <th></th>\n",
       "      <th>Product_ID</th>\n",
       "      <th>Gender</th>\n",
       "      <th>Age</th>\n",
       "      <th>Occupation</th>\n",
       "      <th>City_Category</th>\n",
       "      <th>Stay_In_Current_City_Years</th>\n",
       "      <th>Marital_Status</th>\n",
       "      <th>Product_Category_1</th>\n",
       "      <th>Product_Category_2</th>\n",
       "      <th>Product_Category_3</th>\n",
       "      <th>Purchase</th>\n",
       "    </tr>\n",
       "  </thead>\n",
       "  <tbody>\n",
       "    <tr>\n",
       "      <th>0</th>\n",
       "      <td>P00069042</td>\n",
       "      <td>F</td>\n",
       "      <td>0-17</td>\n",
       "      <td>10</td>\n",
       "      <td>A</td>\n",
       "      <td>2</td>\n",
       "      <td>0</td>\n",
       "      <td>3</td>\n",
       "      <td>NaN</td>\n",
       "      <td>NaN</td>\n",
       "      <td>8370.0</td>\n",
       "    </tr>\n",
       "    <tr>\n",
       "      <th>1</th>\n",
       "      <td>P00248942</td>\n",
       "      <td>F</td>\n",
       "      <td>0-17</td>\n",
       "      <td>10</td>\n",
       "      <td>A</td>\n",
       "      <td>2</td>\n",
       "      <td>0</td>\n",
       "      <td>1</td>\n",
       "      <td>6.0</td>\n",
       "      <td>14.0</td>\n",
       "      <td>15200.0</td>\n",
       "    </tr>\n",
       "    <tr>\n",
       "      <th>2</th>\n",
       "      <td>P00087842</td>\n",
       "      <td>F</td>\n",
       "      <td>0-17</td>\n",
       "      <td>10</td>\n",
       "      <td>A</td>\n",
       "      <td>2</td>\n",
       "      <td>0</td>\n",
       "      <td>12</td>\n",
       "      <td>NaN</td>\n",
       "      <td>NaN</td>\n",
       "      <td>1422.0</td>\n",
       "    </tr>\n",
       "    <tr>\n",
       "      <th>3</th>\n",
       "      <td>P00085442</td>\n",
       "      <td>F</td>\n",
       "      <td>0-17</td>\n",
       "      <td>10</td>\n",
       "      <td>A</td>\n",
       "      <td>2</td>\n",
       "      <td>0</td>\n",
       "      <td>12</td>\n",
       "      <td>14.0</td>\n",
       "      <td>NaN</td>\n",
       "      <td>1057.0</td>\n",
       "    </tr>\n",
       "    <tr>\n",
       "      <th>4</th>\n",
       "      <td>P00285442</td>\n",
       "      <td>M</td>\n",
       "      <td>55+</td>\n",
       "      <td>16</td>\n",
       "      <td>C</td>\n",
       "      <td>4+</td>\n",
       "      <td>0</td>\n",
       "      <td>8</td>\n",
       "      <td>NaN</td>\n",
       "      <td>NaN</td>\n",
       "      <td>7969.0</td>\n",
       "    </tr>\n",
       "  </tbody>\n",
       "</table>\n",
       "</div>"
      ],
      "text/plain": [
       "  Product_ID Gender   Age  Occupation City_Category  \\\n",
       "0  P00069042      F  0-17          10             A   \n",
       "1  P00248942      F  0-17          10             A   \n",
       "2  P00087842      F  0-17          10             A   \n",
       "3  P00085442      F  0-17          10             A   \n",
       "4  P00285442      M   55+          16             C   \n",
       "\n",
       "  Stay_In_Current_City_Years  Marital_Status  Product_Category_1  \\\n",
       "0                          2               0                   3   \n",
       "1                          2               0                   1   \n",
       "2                          2               0                  12   \n",
       "3                          2               0                  12   \n",
       "4                         4+               0                   8   \n",
       "\n",
       "   Product_Category_2  Product_Category_3  Purchase  \n",
       "0                 NaN                 NaN    8370.0  \n",
       "1                 6.0                14.0   15200.0  \n",
       "2                 NaN                 NaN    1422.0  \n",
       "3                14.0                 NaN    1057.0  \n",
       "4                 NaN                 NaN    7969.0  "
      ]
     },
     "execution_count": 23,
     "metadata": {},
     "output_type": "execute_result"
    }
   ],
   "source": [
    "df=df.drop('User_ID',axis=1)\n",
    "df.head()"
   ]
  },
  {
   "cell_type": "code",
   "execution_count": 24,
   "id": "fed32a07",
   "metadata": {
    "execution": {
     "iopub.execute_input": "2024-05-12T04:20:37.558696Z",
     "iopub.status.busy": "2024-05-12T04:20:37.558369Z",
     "iopub.status.idle": "2024-05-12T04:20:37.592484Z",
     "shell.execute_reply": "2024-05-12T04:20:37.591643Z"
    },
    "papermill": {
     "duration": 0.056666,
     "end_time": "2024-05-12T04:20:37.594672",
     "exception": false,
     "start_time": "2024-05-12T04:20:37.538006",
     "status": "completed"
    },
    "tags": []
   },
   "outputs": [],
   "source": [
    "df['Gender']=df['Gender'].map({'F':0,'M':1})"
   ]
  },
  {
   "cell_type": "code",
   "execution_count": 25,
   "id": "51a9584f",
   "metadata": {
    "execution": {
     "iopub.execute_input": "2024-05-12T04:20:37.636201Z",
     "iopub.status.busy": "2024-05-12T04:20:37.635853Z",
     "iopub.status.idle": "2024-05-12T04:20:37.650370Z",
     "shell.execute_reply": "2024-05-12T04:20:37.649365Z"
    },
    "papermill": {
     "duration": 0.038053,
     "end_time": "2024-05-12T04:20:37.652425",
     "exception": false,
     "start_time": "2024-05-12T04:20:37.614372",
     "status": "completed"
    },
    "tags": []
   },
   "outputs": [
    {
     "data": {
      "text/html": [
       "<div>\n",
       "<style scoped>\n",
       "    .dataframe tbody tr th:only-of-type {\n",
       "        vertical-align: middle;\n",
       "    }\n",
       "\n",
       "    .dataframe tbody tr th {\n",
       "        vertical-align: top;\n",
       "    }\n",
       "\n",
       "    .dataframe thead th {\n",
       "        text-align: right;\n",
       "    }\n",
       "</style>\n",
       "<table border=\"1\" class=\"dataframe\">\n",
       "  <thead>\n",
       "    <tr style=\"text-align: right;\">\n",
       "      <th></th>\n",
       "      <th>Product_ID</th>\n",
       "      <th>Gender</th>\n",
       "      <th>Age</th>\n",
       "      <th>Occupation</th>\n",
       "      <th>City_Category</th>\n",
       "      <th>Stay_In_Current_City_Years</th>\n",
       "      <th>Marital_Status</th>\n",
       "      <th>Product_Category_1</th>\n",
       "      <th>Product_Category_2</th>\n",
       "      <th>Product_Category_3</th>\n",
       "      <th>Purchase</th>\n",
       "    </tr>\n",
       "  </thead>\n",
       "  <tbody>\n",
       "    <tr>\n",
       "      <th>0</th>\n",
       "      <td>P00069042</td>\n",
       "      <td>0</td>\n",
       "      <td>0-17</td>\n",
       "      <td>10</td>\n",
       "      <td>A</td>\n",
       "      <td>2</td>\n",
       "      <td>0</td>\n",
       "      <td>3</td>\n",
       "      <td>NaN</td>\n",
       "      <td>NaN</td>\n",
       "      <td>8370.0</td>\n",
       "    </tr>\n",
       "    <tr>\n",
       "      <th>1</th>\n",
       "      <td>P00248942</td>\n",
       "      <td>0</td>\n",
       "      <td>0-17</td>\n",
       "      <td>10</td>\n",
       "      <td>A</td>\n",
       "      <td>2</td>\n",
       "      <td>0</td>\n",
       "      <td>1</td>\n",
       "      <td>6.0</td>\n",
       "      <td>14.0</td>\n",
       "      <td>15200.0</td>\n",
       "    </tr>\n",
       "    <tr>\n",
       "      <th>2</th>\n",
       "      <td>P00087842</td>\n",
       "      <td>0</td>\n",
       "      <td>0-17</td>\n",
       "      <td>10</td>\n",
       "      <td>A</td>\n",
       "      <td>2</td>\n",
       "      <td>0</td>\n",
       "      <td>12</td>\n",
       "      <td>NaN</td>\n",
       "      <td>NaN</td>\n",
       "      <td>1422.0</td>\n",
       "    </tr>\n",
       "    <tr>\n",
       "      <th>3</th>\n",
       "      <td>P00085442</td>\n",
       "      <td>0</td>\n",
       "      <td>0-17</td>\n",
       "      <td>10</td>\n",
       "      <td>A</td>\n",
       "      <td>2</td>\n",
       "      <td>0</td>\n",
       "      <td>12</td>\n",
       "      <td>14.0</td>\n",
       "      <td>NaN</td>\n",
       "      <td>1057.0</td>\n",
       "    </tr>\n",
       "    <tr>\n",
       "      <th>4</th>\n",
       "      <td>P00285442</td>\n",
       "      <td>1</td>\n",
       "      <td>55+</td>\n",
       "      <td>16</td>\n",
       "      <td>C</td>\n",
       "      <td>4+</td>\n",
       "      <td>0</td>\n",
       "      <td>8</td>\n",
       "      <td>NaN</td>\n",
       "      <td>NaN</td>\n",
       "      <td>7969.0</td>\n",
       "    </tr>\n",
       "  </tbody>\n",
       "</table>\n",
       "</div>"
      ],
      "text/plain": [
       "  Product_ID  Gender   Age  Occupation City_Category  \\\n",
       "0  P00069042       0  0-17          10             A   \n",
       "1  P00248942       0  0-17          10             A   \n",
       "2  P00087842       0  0-17          10             A   \n",
       "3  P00085442       0  0-17          10             A   \n",
       "4  P00285442       1   55+          16             C   \n",
       "\n",
       "  Stay_In_Current_City_Years  Marital_Status  Product_Category_1  \\\n",
       "0                          2               0                   3   \n",
       "1                          2               0                   1   \n",
       "2                          2               0                  12   \n",
       "3                          2               0                  12   \n",
       "4                         4+               0                   8   \n",
       "\n",
       "   Product_Category_2  Product_Category_3  Purchase  \n",
       "0                 NaN                 NaN    8370.0  \n",
       "1                 6.0                14.0   15200.0  \n",
       "2                 NaN                 NaN    1422.0  \n",
       "3                14.0                 NaN    1057.0  \n",
       "4                 NaN                 NaN    7969.0  "
      ]
     },
     "execution_count": 25,
     "metadata": {},
     "output_type": "execute_result"
    }
   ],
   "source": [
    "df.head()"
   ]
  },
  {
   "cell_type": "code",
   "execution_count": 26,
   "id": "f3043d4b",
   "metadata": {
    "execution": {
     "iopub.execute_input": "2024-05-12T04:20:37.693784Z",
     "iopub.status.busy": "2024-05-12T04:20:37.693059Z",
     "iopub.status.idle": "2024-05-12T04:20:37.748684Z",
     "shell.execute_reply": "2024-05-12T04:20:37.747681Z"
    },
    "papermill": {
     "duration": 0.078589,
     "end_time": "2024-05-12T04:20:37.750766",
     "exception": false,
     "start_time": "2024-05-12T04:20:37.672177",
     "status": "completed"
    },
    "tags": []
   },
   "outputs": [
    {
     "data": {
      "text/plain": [
       "array(['0-17', '55+', '26-35', '46-50', '51-55', '36-45', '18-25'],\n",
       "      dtype=object)"
      ]
     },
     "execution_count": 26,
     "metadata": {},
     "output_type": "execute_result"
    }
   ],
   "source": [
    "df['Age'].unique()"
   ]
  },
  {
   "cell_type": "code",
   "execution_count": 27,
   "id": "8d510ddb",
   "metadata": {
    "execution": {
     "iopub.execute_input": "2024-05-12T04:20:37.791463Z",
     "iopub.status.busy": "2024-05-12T04:20:37.791116Z",
     "iopub.status.idle": "2024-05-12T04:20:38.081603Z",
     "shell.execute_reply": "2024-05-12T04:20:38.080574Z"
    },
    "papermill": {
     "duration": 0.313368,
     "end_time": "2024-05-12T04:20:38.083850",
     "exception": false,
     "start_time": "2024-05-12T04:20:37.770482",
     "status": "completed"
    },
    "tags": []
   },
   "outputs": [
    {
     "data": {
      "text/plain": [
       "array([0, 6, 2, 4, 5, 3, 1])"
      ]
     },
     "execution_count": 27,
     "metadata": {},
     "output_type": "execute_result"
    }
   ],
   "source": [
    "from sklearn import preprocessing\n",
    " \n",
    "# label_encoder object knows how to understand word labels.\n",
    "label_encoder = preprocessing.LabelEncoder()\n",
    " \n",
    "# Encode labels in column 'species'.\n",
    "df['Age']= label_encoder.fit_transform(df['Age'])\n",
    " \n",
    "df['Age'].unique()\n"
   ]
  },
  {
   "cell_type": "code",
   "execution_count": 28,
   "id": "0bc18b39",
   "metadata": {
    "execution": {
     "iopub.execute_input": "2024-05-12T04:20:38.125575Z",
     "iopub.status.busy": "2024-05-12T04:20:38.125226Z",
     "iopub.status.idle": "2024-05-12T04:20:38.129570Z",
     "shell.execute_reply": "2024-05-12T04:20:38.128609Z"
    },
    "papermill": {
     "duration": 0.02734,
     "end_time": "2024-05-12T04:20:38.131632",
     "exception": false,
     "start_time": "2024-05-12T04:20:38.104292",
     "status": "completed"
    },
    "tags": []
   },
   "outputs": [],
   "source": [
    "#df['Age']=df['Age'].map({'0-17':1,'18-25':2,'26-35':3,'36-45':4,'46-50':5,'51-55':6,'55+':7})"
   ]
  },
  {
   "cell_type": "code",
   "execution_count": 29,
   "id": "4af9545c",
   "metadata": {
    "execution": {
     "iopub.execute_input": "2024-05-12T04:20:38.172981Z",
     "iopub.status.busy": "2024-05-12T04:20:38.172159Z",
     "iopub.status.idle": "2024-05-12T04:20:38.186949Z",
     "shell.execute_reply": "2024-05-12T04:20:38.185950Z"
    },
    "papermill": {
     "duration": 0.037505,
     "end_time": "2024-05-12T04:20:38.188962",
     "exception": false,
     "start_time": "2024-05-12T04:20:38.151457",
     "status": "completed"
    },
    "tags": []
   },
   "outputs": [
    {
     "data": {
      "text/html": [
       "<div>\n",
       "<style scoped>\n",
       "    .dataframe tbody tr th:only-of-type {\n",
       "        vertical-align: middle;\n",
       "    }\n",
       "\n",
       "    .dataframe tbody tr th {\n",
       "        vertical-align: top;\n",
       "    }\n",
       "\n",
       "    .dataframe thead th {\n",
       "        text-align: right;\n",
       "    }\n",
       "</style>\n",
       "<table border=\"1\" class=\"dataframe\">\n",
       "  <thead>\n",
       "    <tr style=\"text-align: right;\">\n",
       "      <th></th>\n",
       "      <th>Product_ID</th>\n",
       "      <th>Gender</th>\n",
       "      <th>Age</th>\n",
       "      <th>Occupation</th>\n",
       "      <th>City_Category</th>\n",
       "      <th>Stay_In_Current_City_Years</th>\n",
       "      <th>Marital_Status</th>\n",
       "      <th>Product_Category_1</th>\n",
       "      <th>Product_Category_2</th>\n",
       "      <th>Product_Category_3</th>\n",
       "      <th>Purchase</th>\n",
       "    </tr>\n",
       "  </thead>\n",
       "  <tbody>\n",
       "    <tr>\n",
       "      <th>0</th>\n",
       "      <td>P00069042</td>\n",
       "      <td>0</td>\n",
       "      <td>0</td>\n",
       "      <td>10</td>\n",
       "      <td>A</td>\n",
       "      <td>2</td>\n",
       "      <td>0</td>\n",
       "      <td>3</td>\n",
       "      <td>NaN</td>\n",
       "      <td>NaN</td>\n",
       "      <td>8370.0</td>\n",
       "    </tr>\n",
       "    <tr>\n",
       "      <th>1</th>\n",
       "      <td>P00248942</td>\n",
       "      <td>0</td>\n",
       "      <td>0</td>\n",
       "      <td>10</td>\n",
       "      <td>A</td>\n",
       "      <td>2</td>\n",
       "      <td>0</td>\n",
       "      <td>1</td>\n",
       "      <td>6.0</td>\n",
       "      <td>14.0</td>\n",
       "      <td>15200.0</td>\n",
       "    </tr>\n",
       "    <tr>\n",
       "      <th>2</th>\n",
       "      <td>P00087842</td>\n",
       "      <td>0</td>\n",
       "      <td>0</td>\n",
       "      <td>10</td>\n",
       "      <td>A</td>\n",
       "      <td>2</td>\n",
       "      <td>0</td>\n",
       "      <td>12</td>\n",
       "      <td>NaN</td>\n",
       "      <td>NaN</td>\n",
       "      <td>1422.0</td>\n",
       "    </tr>\n",
       "    <tr>\n",
       "      <th>3</th>\n",
       "      <td>P00085442</td>\n",
       "      <td>0</td>\n",
       "      <td>0</td>\n",
       "      <td>10</td>\n",
       "      <td>A</td>\n",
       "      <td>2</td>\n",
       "      <td>0</td>\n",
       "      <td>12</td>\n",
       "      <td>14.0</td>\n",
       "      <td>NaN</td>\n",
       "      <td>1057.0</td>\n",
       "    </tr>\n",
       "    <tr>\n",
       "      <th>4</th>\n",
       "      <td>P00285442</td>\n",
       "      <td>1</td>\n",
       "      <td>6</td>\n",
       "      <td>16</td>\n",
       "      <td>C</td>\n",
       "      <td>4+</td>\n",
       "      <td>0</td>\n",
       "      <td>8</td>\n",
       "      <td>NaN</td>\n",
       "      <td>NaN</td>\n",
       "      <td>7969.0</td>\n",
       "    </tr>\n",
       "  </tbody>\n",
       "</table>\n",
       "</div>"
      ],
      "text/plain": [
       "  Product_ID  Gender  Age  Occupation City_Category  \\\n",
       "0  P00069042       0    0          10             A   \n",
       "1  P00248942       0    0          10             A   \n",
       "2  P00087842       0    0          10             A   \n",
       "3  P00085442       0    0          10             A   \n",
       "4  P00285442       1    6          16             C   \n",
       "\n",
       "  Stay_In_Current_City_Years  Marital_Status  Product_Category_1  \\\n",
       "0                          2               0                   3   \n",
       "1                          2               0                   1   \n",
       "2                          2               0                  12   \n",
       "3                          2               0                  12   \n",
       "4                         4+               0                   8   \n",
       "\n",
       "   Product_Category_2  Product_Category_3  Purchase  \n",
       "0                 NaN                 NaN    8370.0  \n",
       "1                 6.0                14.0   15200.0  \n",
       "2                 NaN                 NaN    1422.0  \n",
       "3                14.0                 NaN    1057.0  \n",
       "4                 NaN                 NaN    7969.0  "
      ]
     },
     "execution_count": 29,
     "metadata": {},
     "output_type": "execute_result"
    }
   ],
   "source": [
    "df.head()"
   ]
  },
  {
   "cell_type": "code",
   "execution_count": 30,
   "id": "6daa3872",
   "metadata": {
    "execution": {
     "iopub.execute_input": "2024-05-12T04:20:38.229916Z",
     "iopub.status.busy": "2024-05-12T04:20:38.229590Z",
     "iopub.status.idle": "2024-05-12T04:20:38.276576Z",
     "shell.execute_reply": "2024-05-12T04:20:38.275663Z"
    },
    "papermill": {
     "duration": 0.069641,
     "end_time": "2024-05-12T04:20:38.278529",
     "exception": false,
     "start_time": "2024-05-12T04:20:38.208888",
     "status": "completed"
    },
    "tags": []
   },
   "outputs": [
    {
     "data": {
      "text/plain": [
       "City_Category\n",
       "B    329739\n",
       "C    243684\n",
       "A    210244\n",
       "Name: count, dtype: int64"
      ]
     },
     "execution_count": 30,
     "metadata": {},
     "output_type": "execute_result"
    }
   ],
   "source": [
    "df['City_Category'].value_counts()"
   ]
  },
  {
   "cell_type": "code",
   "execution_count": 31,
   "id": "bf2d2a7d",
   "metadata": {
    "execution": {
     "iopub.execute_input": "2024-05-12T04:20:38.320830Z",
     "iopub.status.busy": "2024-05-12T04:20:38.320104Z",
     "iopub.status.idle": "2024-05-12T04:20:38.404496Z",
     "shell.execute_reply": "2024-05-12T04:20:38.403430Z"
    },
    "papermill": {
     "duration": 0.115643,
     "end_time": "2024-05-12T04:20:38.414482",
     "exception": false,
     "start_time": "2024-05-12T04:20:38.298839",
     "status": "completed"
    },
    "tags": []
   },
   "outputs": [],
   "source": [
    "df_city=pd.get_dummies(df['City_Category'])"
   ]
  },
  {
   "cell_type": "code",
   "execution_count": 32,
   "id": "ae101519",
   "metadata": {
    "execution": {
     "iopub.execute_input": "2024-05-12T04:20:38.458556Z",
     "iopub.status.busy": "2024-05-12T04:20:38.458120Z",
     "iopub.status.idle": "2024-05-12T04:20:38.470104Z",
     "shell.execute_reply": "2024-05-12T04:20:38.469158Z"
    },
    "papermill": {
     "duration": 0.036645,
     "end_time": "2024-05-12T04:20:38.472614",
     "exception": false,
     "start_time": "2024-05-12T04:20:38.435969",
     "status": "completed"
    },
    "tags": []
   },
   "outputs": [
    {
     "data": {
      "text/html": [
       "<div>\n",
       "<style scoped>\n",
       "    .dataframe tbody tr th:only-of-type {\n",
       "        vertical-align: middle;\n",
       "    }\n",
       "\n",
       "    .dataframe tbody tr th {\n",
       "        vertical-align: top;\n",
       "    }\n",
       "\n",
       "    .dataframe thead th {\n",
       "        text-align: right;\n",
       "    }\n",
       "</style>\n",
       "<table border=\"1\" class=\"dataframe\">\n",
       "  <thead>\n",
       "    <tr style=\"text-align: right;\">\n",
       "      <th></th>\n",
       "      <th>A</th>\n",
       "      <th>B</th>\n",
       "      <th>C</th>\n",
       "    </tr>\n",
       "  </thead>\n",
       "  <tbody>\n",
       "    <tr>\n",
       "      <th>0</th>\n",
       "      <td>True</td>\n",
       "      <td>False</td>\n",
       "      <td>False</td>\n",
       "    </tr>\n",
       "    <tr>\n",
       "      <th>1</th>\n",
       "      <td>True</td>\n",
       "      <td>False</td>\n",
       "      <td>False</td>\n",
       "    </tr>\n",
       "    <tr>\n",
       "      <th>2</th>\n",
       "      <td>True</td>\n",
       "      <td>False</td>\n",
       "      <td>False</td>\n",
       "    </tr>\n",
       "    <tr>\n",
       "      <th>3</th>\n",
       "      <td>True</td>\n",
       "      <td>False</td>\n",
       "      <td>False</td>\n",
       "    </tr>\n",
       "    <tr>\n",
       "      <th>4</th>\n",
       "      <td>False</td>\n",
       "      <td>False</td>\n",
       "      <td>True</td>\n",
       "    </tr>\n",
       "  </tbody>\n",
       "</table>\n",
       "</div>"
      ],
      "text/plain": [
       "       A      B      C\n",
       "0   True  False  False\n",
       "1   True  False  False\n",
       "2   True  False  False\n",
       "3   True  False  False\n",
       "4  False  False   True"
      ]
     },
     "execution_count": 32,
     "metadata": {},
     "output_type": "execute_result"
    }
   ],
   "source": [
    "df_city.head()"
   ]
  },
  {
   "cell_type": "code",
   "execution_count": 33,
   "id": "eb0bd1f2",
   "metadata": {
    "execution": {
     "iopub.execute_input": "2024-05-12T04:20:38.519850Z",
     "iopub.status.busy": "2024-05-12T04:20:38.519481Z",
     "iopub.status.idle": "2024-05-12T04:20:38.671889Z",
     "shell.execute_reply": "2024-05-12T04:20:38.670738Z"
    },
    "papermill": {
     "duration": 0.17682,
     "end_time": "2024-05-12T04:20:38.674555",
     "exception": false,
     "start_time": "2024-05-12T04:20:38.497735",
     "status": "completed"
    },
    "tags": []
   },
   "outputs": [
    {
     "data": {
      "text/html": [
       "<div>\n",
       "<style scoped>\n",
       "    .dataframe tbody tr th:only-of-type {\n",
       "        vertical-align: middle;\n",
       "    }\n",
       "\n",
       "    .dataframe tbody tr th {\n",
       "        vertical-align: top;\n",
       "    }\n",
       "\n",
       "    .dataframe thead th {\n",
       "        text-align: right;\n",
       "    }\n",
       "</style>\n",
       "<table border=\"1\" class=\"dataframe\">\n",
       "  <thead>\n",
       "    <tr style=\"text-align: right;\">\n",
       "      <th></th>\n",
       "      <th>Product_ID</th>\n",
       "      <th>Gender</th>\n",
       "      <th>Age</th>\n",
       "      <th>Occupation</th>\n",
       "      <th>City_Category</th>\n",
       "      <th>Stay_In_Current_City_Years</th>\n",
       "      <th>Marital_Status</th>\n",
       "      <th>Product_Category_1</th>\n",
       "      <th>Product_Category_2</th>\n",
       "      <th>Product_Category_3</th>\n",
       "      <th>Purchase</th>\n",
       "      <th>A</th>\n",
       "      <th>B</th>\n",
       "      <th>C</th>\n",
       "    </tr>\n",
       "  </thead>\n",
       "  <tbody>\n",
       "    <tr>\n",
       "      <th>0</th>\n",
       "      <td>P00069042</td>\n",
       "      <td>0</td>\n",
       "      <td>0</td>\n",
       "      <td>10</td>\n",
       "      <td>A</td>\n",
       "      <td>2</td>\n",
       "      <td>0</td>\n",
       "      <td>3</td>\n",
       "      <td>NaN</td>\n",
       "      <td>NaN</td>\n",
       "      <td>8370.0</td>\n",
       "      <td>True</td>\n",
       "      <td>False</td>\n",
       "      <td>False</td>\n",
       "    </tr>\n",
       "    <tr>\n",
       "      <th>1</th>\n",
       "      <td>P00248942</td>\n",
       "      <td>0</td>\n",
       "      <td>0</td>\n",
       "      <td>10</td>\n",
       "      <td>A</td>\n",
       "      <td>2</td>\n",
       "      <td>0</td>\n",
       "      <td>1</td>\n",
       "      <td>6.0</td>\n",
       "      <td>14.0</td>\n",
       "      <td>15200.0</td>\n",
       "      <td>True</td>\n",
       "      <td>False</td>\n",
       "      <td>False</td>\n",
       "    </tr>\n",
       "    <tr>\n",
       "      <th>2</th>\n",
       "      <td>P00087842</td>\n",
       "      <td>0</td>\n",
       "      <td>0</td>\n",
       "      <td>10</td>\n",
       "      <td>A</td>\n",
       "      <td>2</td>\n",
       "      <td>0</td>\n",
       "      <td>12</td>\n",
       "      <td>NaN</td>\n",
       "      <td>NaN</td>\n",
       "      <td>1422.0</td>\n",
       "      <td>True</td>\n",
       "      <td>False</td>\n",
       "      <td>False</td>\n",
       "    </tr>\n",
       "    <tr>\n",
       "      <th>3</th>\n",
       "      <td>P00085442</td>\n",
       "      <td>0</td>\n",
       "      <td>0</td>\n",
       "      <td>10</td>\n",
       "      <td>A</td>\n",
       "      <td>2</td>\n",
       "      <td>0</td>\n",
       "      <td>12</td>\n",
       "      <td>14.0</td>\n",
       "      <td>NaN</td>\n",
       "      <td>1057.0</td>\n",
       "      <td>True</td>\n",
       "      <td>False</td>\n",
       "      <td>False</td>\n",
       "    </tr>\n",
       "    <tr>\n",
       "      <th>4</th>\n",
       "      <td>P00285442</td>\n",
       "      <td>1</td>\n",
       "      <td>6</td>\n",
       "      <td>16</td>\n",
       "      <td>C</td>\n",
       "      <td>4+</td>\n",
       "      <td>0</td>\n",
       "      <td>8</td>\n",
       "      <td>NaN</td>\n",
       "      <td>NaN</td>\n",
       "      <td>7969.0</td>\n",
       "      <td>False</td>\n",
       "      <td>False</td>\n",
       "      <td>True</td>\n",
       "    </tr>\n",
       "  </tbody>\n",
       "</table>\n",
       "</div>"
      ],
      "text/plain": [
       "  Product_ID  Gender  Age  Occupation City_Category  \\\n",
       "0  P00069042       0    0          10             A   \n",
       "1  P00248942       0    0          10             A   \n",
       "2  P00087842       0    0          10             A   \n",
       "3  P00085442       0    0          10             A   \n",
       "4  P00285442       1    6          16             C   \n",
       "\n",
       "  Stay_In_Current_City_Years  Marital_Status  Product_Category_1  \\\n",
       "0                          2               0                   3   \n",
       "1                          2               0                   1   \n",
       "2                          2               0                  12   \n",
       "3                          2               0                  12   \n",
       "4                         4+               0                   8   \n",
       "\n",
       "   Product_Category_2  Product_Category_3  Purchase      A      B      C  \n",
       "0                 NaN                 NaN    8370.0   True  False  False  \n",
       "1                 6.0                14.0   15200.0   True  False  False  \n",
       "2                 NaN                 NaN    1422.0   True  False  False  \n",
       "3                14.0                 NaN    1057.0   True  False  False  \n",
       "4                 NaN                 NaN    7969.0  False  False   True  "
      ]
     },
     "execution_count": 33,
     "metadata": {},
     "output_type": "execute_result"
    }
   ],
   "source": [
    "df=pd.concat([df,df_city],axis=1)\n",
    "df.head()"
   ]
  },
  {
   "cell_type": "code",
   "execution_count": 34,
   "id": "2803f5a9",
   "metadata": {
    "execution": {
     "iopub.execute_input": "2024-05-12T04:20:38.738372Z",
     "iopub.status.busy": "2024-05-12T04:20:38.738007Z",
     "iopub.status.idle": "2024-05-12T04:20:38.766489Z",
     "shell.execute_reply": "2024-05-12T04:20:38.765475Z"
    },
    "papermill": {
     "duration": 0.062407,
     "end_time": "2024-05-12T04:20:38.768732",
     "exception": false,
     "start_time": "2024-05-12T04:20:38.706325",
     "status": "completed"
    },
    "tags": []
   },
   "outputs": [],
   "source": [
    "df.drop('City_Category',axis=1,inplace=True)"
   ]
  },
  {
   "cell_type": "code",
   "execution_count": 35,
   "id": "9eaaa7e1",
   "metadata": {
    "execution": {
     "iopub.execute_input": "2024-05-12T04:20:38.816089Z",
     "iopub.status.busy": "2024-05-12T04:20:38.815694Z",
     "iopub.status.idle": "2024-05-12T04:20:38.831529Z",
     "shell.execute_reply": "2024-05-12T04:20:38.830473Z"
    },
    "papermill": {
     "duration": 0.041542,
     "end_time": "2024-05-12T04:20:38.833650",
     "exception": false,
     "start_time": "2024-05-12T04:20:38.792108",
     "status": "completed"
    },
    "tags": []
   },
   "outputs": [
    {
     "data": {
      "text/html": [
       "<div>\n",
       "<style scoped>\n",
       "    .dataframe tbody tr th:only-of-type {\n",
       "        vertical-align: middle;\n",
       "    }\n",
       "\n",
       "    .dataframe tbody tr th {\n",
       "        vertical-align: top;\n",
       "    }\n",
       "\n",
       "    .dataframe thead th {\n",
       "        text-align: right;\n",
       "    }\n",
       "</style>\n",
       "<table border=\"1\" class=\"dataframe\">\n",
       "  <thead>\n",
       "    <tr style=\"text-align: right;\">\n",
       "      <th></th>\n",
       "      <th>Product_ID</th>\n",
       "      <th>Gender</th>\n",
       "      <th>Age</th>\n",
       "      <th>Occupation</th>\n",
       "      <th>Stay_In_Current_City_Years</th>\n",
       "      <th>Marital_Status</th>\n",
       "      <th>Product_Category_1</th>\n",
       "      <th>Product_Category_2</th>\n",
       "      <th>Product_Category_3</th>\n",
       "      <th>Purchase</th>\n",
       "      <th>A</th>\n",
       "      <th>B</th>\n",
       "      <th>C</th>\n",
       "    </tr>\n",
       "  </thead>\n",
       "  <tbody>\n",
       "    <tr>\n",
       "      <th>0</th>\n",
       "      <td>P00069042</td>\n",
       "      <td>0</td>\n",
       "      <td>0</td>\n",
       "      <td>10</td>\n",
       "      <td>2</td>\n",
       "      <td>0</td>\n",
       "      <td>3</td>\n",
       "      <td>NaN</td>\n",
       "      <td>NaN</td>\n",
       "      <td>8370.0</td>\n",
       "      <td>True</td>\n",
       "      <td>False</td>\n",
       "      <td>False</td>\n",
       "    </tr>\n",
       "    <tr>\n",
       "      <th>1</th>\n",
       "      <td>P00248942</td>\n",
       "      <td>0</td>\n",
       "      <td>0</td>\n",
       "      <td>10</td>\n",
       "      <td>2</td>\n",
       "      <td>0</td>\n",
       "      <td>1</td>\n",
       "      <td>6.0</td>\n",
       "      <td>14.0</td>\n",
       "      <td>15200.0</td>\n",
       "      <td>True</td>\n",
       "      <td>False</td>\n",
       "      <td>False</td>\n",
       "    </tr>\n",
       "    <tr>\n",
       "      <th>2</th>\n",
       "      <td>P00087842</td>\n",
       "      <td>0</td>\n",
       "      <td>0</td>\n",
       "      <td>10</td>\n",
       "      <td>2</td>\n",
       "      <td>0</td>\n",
       "      <td>12</td>\n",
       "      <td>NaN</td>\n",
       "      <td>NaN</td>\n",
       "      <td>1422.0</td>\n",
       "      <td>True</td>\n",
       "      <td>False</td>\n",
       "      <td>False</td>\n",
       "    </tr>\n",
       "    <tr>\n",
       "      <th>3</th>\n",
       "      <td>P00085442</td>\n",
       "      <td>0</td>\n",
       "      <td>0</td>\n",
       "      <td>10</td>\n",
       "      <td>2</td>\n",
       "      <td>0</td>\n",
       "      <td>12</td>\n",
       "      <td>14.0</td>\n",
       "      <td>NaN</td>\n",
       "      <td>1057.0</td>\n",
       "      <td>True</td>\n",
       "      <td>False</td>\n",
       "      <td>False</td>\n",
       "    </tr>\n",
       "    <tr>\n",
       "      <th>4</th>\n",
       "      <td>P00285442</td>\n",
       "      <td>1</td>\n",
       "      <td>6</td>\n",
       "      <td>16</td>\n",
       "      <td>4+</td>\n",
       "      <td>0</td>\n",
       "      <td>8</td>\n",
       "      <td>NaN</td>\n",
       "      <td>NaN</td>\n",
       "      <td>7969.0</td>\n",
       "      <td>False</td>\n",
       "      <td>False</td>\n",
       "      <td>True</td>\n",
       "    </tr>\n",
       "  </tbody>\n",
       "</table>\n",
       "</div>"
      ],
      "text/plain": [
       "  Product_ID  Gender  Age  Occupation Stay_In_Current_City_Years  \\\n",
       "0  P00069042       0    0          10                          2   \n",
       "1  P00248942       0    0          10                          2   \n",
       "2  P00087842       0    0          10                          2   \n",
       "3  P00085442       0    0          10                          2   \n",
       "4  P00285442       1    6          16                         4+   \n",
       "\n",
       "   Marital_Status  Product_Category_1  Product_Category_2  Product_Category_3  \\\n",
       "0               0                   3                 NaN                 NaN   \n",
       "1               0                   1                 6.0                14.0   \n",
       "2               0                  12                 NaN                 NaN   \n",
       "3               0                  12                14.0                 NaN   \n",
       "4               0                   8                 NaN                 NaN   \n",
       "\n",
       "   Purchase      A      B      C  \n",
       "0    8370.0   True  False  False  \n",
       "1   15200.0   True  False  False  \n",
       "2    1422.0   True  False  False  \n",
       "3    1057.0   True  False  False  \n",
       "4    7969.0  False  False   True  "
      ]
     },
     "execution_count": 35,
     "metadata": {},
     "output_type": "execute_result"
    }
   ],
   "source": [
    "df.head()"
   ]
  },
  {
   "cell_type": "code",
   "execution_count": 36,
   "id": "de944b20",
   "metadata": {
    "execution": {
     "iopub.execute_input": "2024-05-12T04:20:38.876814Z",
     "iopub.status.busy": "2024-05-12T04:20:38.876463Z",
     "iopub.status.idle": "2024-05-12T04:20:38.965115Z",
     "shell.execute_reply": "2024-05-12T04:20:38.964161Z"
    },
    "papermill": {
     "duration": 0.113319,
     "end_time": "2024-05-12T04:20:38.967694",
     "exception": false,
     "start_time": "2024-05-12T04:20:38.854375",
     "status": "completed"
    },
    "tags": []
   },
   "outputs": [
    {
     "data": {
      "text/plain": [
       "Product_ID                         0\n",
       "Gender                             0\n",
       "Age                                0\n",
       "Occupation                         0\n",
       "Stay_In_Current_City_Years         0\n",
       "Marital_Status                     0\n",
       "Product_Category_1                 0\n",
       "Product_Category_2            245982\n",
       "Product_Category_3            545809\n",
       "Purchase                      233599\n",
       "A                                  0\n",
       "B                                  0\n",
       "C                                  0\n",
       "dtype: int64"
      ]
     },
     "execution_count": 36,
     "metadata": {},
     "output_type": "execute_result"
    }
   ],
   "source": [
    "df.isnull().sum()"
   ]
  },
  {
   "cell_type": "code",
   "execution_count": 37,
   "id": "1de72013",
   "metadata": {
    "execution": {
     "iopub.execute_input": "2024-05-12T04:20:39.017252Z",
     "iopub.status.busy": "2024-05-12T04:20:39.016857Z",
     "iopub.status.idle": "2024-05-12T04:20:39.057040Z",
     "shell.execute_reply": "2024-05-12T04:20:39.056107Z"
    },
    "papermill": {
     "duration": 0.064214,
     "end_time": "2024-05-12T04:20:39.059172",
     "exception": false,
     "start_time": "2024-05-12T04:20:38.994958",
     "status": "completed"
    },
    "tags": []
   },
   "outputs": [],
   "source": [
    "pc2=df['Product_Category_2'].mode()[0]\n",
    "pc3=df['Product_Category_3'].mode()[0]\n",
    "purchase=df['Purchase'].mode()[0]"
   ]
  },
  {
   "cell_type": "code",
   "execution_count": 38,
   "id": "f9579df8",
   "metadata": {
    "execution": {
     "iopub.execute_input": "2024-05-12T04:20:39.103752Z",
     "iopub.status.busy": "2024-05-12T04:20:39.102776Z",
     "iopub.status.idle": "2024-05-12T04:20:39.128586Z",
     "shell.execute_reply": "2024-05-12T04:20:39.127571Z"
    },
    "papermill": {
     "duration": 0.05123,
     "end_time": "2024-05-12T04:20:39.131460",
     "exception": false,
     "start_time": "2024-05-12T04:20:39.080230",
     "status": "completed"
    },
    "tags": []
   },
   "outputs": [],
   "source": [
    "df['Product_Category_2']=df['Product_Category_2'].fillna(pc2)\n",
    "df['Product_Category_3']=df['Product_Category_3'].fillna(pc3)\n",
    "df['Purchase']=df['Purchase'].fillna(purchase)"
   ]
  },
  {
   "cell_type": "code",
   "execution_count": 39,
   "id": "9cad1067",
   "metadata": {
    "execution": {
     "iopub.execute_input": "2024-05-12T04:20:39.180853Z",
     "iopub.status.busy": "2024-05-12T04:20:39.180499Z",
     "iopub.status.idle": "2024-05-12T04:20:39.200100Z",
     "shell.execute_reply": "2024-05-12T04:20:39.198828Z"
    },
    "papermill": {
     "duration": 0.043906,
     "end_time": "2024-05-12T04:20:39.202376",
     "exception": false,
     "start_time": "2024-05-12T04:20:39.158470",
     "status": "completed"
    },
    "tags": []
   },
   "outputs": [
    {
     "data": {
      "text/html": [
       "<div>\n",
       "<style scoped>\n",
       "    .dataframe tbody tr th:only-of-type {\n",
       "        vertical-align: middle;\n",
       "    }\n",
       "\n",
       "    .dataframe tbody tr th {\n",
       "        vertical-align: top;\n",
       "    }\n",
       "\n",
       "    .dataframe thead th {\n",
       "        text-align: right;\n",
       "    }\n",
       "</style>\n",
       "<table border=\"1\" class=\"dataframe\">\n",
       "  <thead>\n",
       "    <tr style=\"text-align: right;\">\n",
       "      <th></th>\n",
       "      <th>Product_ID</th>\n",
       "      <th>Gender</th>\n",
       "      <th>Age</th>\n",
       "      <th>Occupation</th>\n",
       "      <th>Stay_In_Current_City_Years</th>\n",
       "      <th>Marital_Status</th>\n",
       "      <th>Product_Category_1</th>\n",
       "      <th>Product_Category_2</th>\n",
       "      <th>Product_Category_3</th>\n",
       "      <th>Purchase</th>\n",
       "      <th>A</th>\n",
       "      <th>B</th>\n",
       "      <th>C</th>\n",
       "    </tr>\n",
       "  </thead>\n",
       "  <tbody>\n",
       "    <tr>\n",
       "      <th>0</th>\n",
       "      <td>P00069042</td>\n",
       "      <td>0</td>\n",
       "      <td>0</td>\n",
       "      <td>10</td>\n",
       "      <td>2</td>\n",
       "      <td>0</td>\n",
       "      <td>3</td>\n",
       "      <td>8.0</td>\n",
       "      <td>16.0</td>\n",
       "      <td>8370.0</td>\n",
       "      <td>True</td>\n",
       "      <td>False</td>\n",
       "      <td>False</td>\n",
       "    </tr>\n",
       "    <tr>\n",
       "      <th>1</th>\n",
       "      <td>P00248942</td>\n",
       "      <td>0</td>\n",
       "      <td>0</td>\n",
       "      <td>10</td>\n",
       "      <td>2</td>\n",
       "      <td>0</td>\n",
       "      <td>1</td>\n",
       "      <td>6.0</td>\n",
       "      <td>14.0</td>\n",
       "      <td>15200.0</td>\n",
       "      <td>True</td>\n",
       "      <td>False</td>\n",
       "      <td>False</td>\n",
       "    </tr>\n",
       "    <tr>\n",
       "      <th>2</th>\n",
       "      <td>P00087842</td>\n",
       "      <td>0</td>\n",
       "      <td>0</td>\n",
       "      <td>10</td>\n",
       "      <td>2</td>\n",
       "      <td>0</td>\n",
       "      <td>12</td>\n",
       "      <td>8.0</td>\n",
       "      <td>16.0</td>\n",
       "      <td>1422.0</td>\n",
       "      <td>True</td>\n",
       "      <td>False</td>\n",
       "      <td>False</td>\n",
       "    </tr>\n",
       "    <tr>\n",
       "      <th>3</th>\n",
       "      <td>P00085442</td>\n",
       "      <td>0</td>\n",
       "      <td>0</td>\n",
       "      <td>10</td>\n",
       "      <td>2</td>\n",
       "      <td>0</td>\n",
       "      <td>12</td>\n",
       "      <td>14.0</td>\n",
       "      <td>16.0</td>\n",
       "      <td>1057.0</td>\n",
       "      <td>True</td>\n",
       "      <td>False</td>\n",
       "      <td>False</td>\n",
       "    </tr>\n",
       "    <tr>\n",
       "      <th>4</th>\n",
       "      <td>P00285442</td>\n",
       "      <td>1</td>\n",
       "      <td>6</td>\n",
       "      <td>16</td>\n",
       "      <td>4+</td>\n",
       "      <td>0</td>\n",
       "      <td>8</td>\n",
       "      <td>8.0</td>\n",
       "      <td>16.0</td>\n",
       "      <td>7969.0</td>\n",
       "      <td>False</td>\n",
       "      <td>False</td>\n",
       "      <td>True</td>\n",
       "    </tr>\n",
       "    <tr>\n",
       "      <th>...</th>\n",
       "      <td>...</td>\n",
       "      <td>...</td>\n",
       "      <td>...</td>\n",
       "      <td>...</td>\n",
       "      <td>...</td>\n",
       "      <td>...</td>\n",
       "      <td>...</td>\n",
       "      <td>...</td>\n",
       "      <td>...</td>\n",
       "      <td>...</td>\n",
       "      <td>...</td>\n",
       "      <td>...</td>\n",
       "      <td>...</td>\n",
       "    </tr>\n",
       "    <tr>\n",
       "      <th>233594</th>\n",
       "      <td>P00118942</td>\n",
       "      <td>0</td>\n",
       "      <td>2</td>\n",
       "      <td>15</td>\n",
       "      <td>4+</td>\n",
       "      <td>1</td>\n",
       "      <td>8</td>\n",
       "      <td>8.0</td>\n",
       "      <td>16.0</td>\n",
       "      <td>7011.0</td>\n",
       "      <td>False</td>\n",
       "      <td>True</td>\n",
       "      <td>False</td>\n",
       "    </tr>\n",
       "    <tr>\n",
       "      <th>233595</th>\n",
       "      <td>P00254642</td>\n",
       "      <td>0</td>\n",
       "      <td>2</td>\n",
       "      <td>15</td>\n",
       "      <td>4+</td>\n",
       "      <td>1</td>\n",
       "      <td>5</td>\n",
       "      <td>8.0</td>\n",
       "      <td>16.0</td>\n",
       "      <td>7011.0</td>\n",
       "      <td>False</td>\n",
       "      <td>True</td>\n",
       "      <td>False</td>\n",
       "    </tr>\n",
       "    <tr>\n",
       "      <th>233596</th>\n",
       "      <td>P00031842</td>\n",
       "      <td>0</td>\n",
       "      <td>2</td>\n",
       "      <td>15</td>\n",
       "      <td>4+</td>\n",
       "      <td>1</td>\n",
       "      <td>1</td>\n",
       "      <td>5.0</td>\n",
       "      <td>12.0</td>\n",
       "      <td>7011.0</td>\n",
       "      <td>False</td>\n",
       "      <td>True</td>\n",
       "      <td>False</td>\n",
       "    </tr>\n",
       "    <tr>\n",
       "      <th>233597</th>\n",
       "      <td>P00124742</td>\n",
       "      <td>0</td>\n",
       "      <td>4</td>\n",
       "      <td>1</td>\n",
       "      <td>4+</td>\n",
       "      <td>0</td>\n",
       "      <td>10</td>\n",
       "      <td>16.0</td>\n",
       "      <td>16.0</td>\n",
       "      <td>7011.0</td>\n",
       "      <td>False</td>\n",
       "      <td>False</td>\n",
       "      <td>True</td>\n",
       "    </tr>\n",
       "    <tr>\n",
       "      <th>233598</th>\n",
       "      <td>P00316642</td>\n",
       "      <td>0</td>\n",
       "      <td>4</td>\n",
       "      <td>0</td>\n",
       "      <td>4+</td>\n",
       "      <td>1</td>\n",
       "      <td>4</td>\n",
       "      <td>5.0</td>\n",
       "      <td>16.0</td>\n",
       "      <td>7011.0</td>\n",
       "      <td>False</td>\n",
       "      <td>True</td>\n",
       "      <td>False</td>\n",
       "    </tr>\n",
       "  </tbody>\n",
       "</table>\n",
       "<p>783667 rows × 13 columns</p>\n",
       "</div>"
      ],
      "text/plain": [
       "       Product_ID  Gender  Age  Occupation Stay_In_Current_City_Years  \\\n",
       "0       P00069042       0    0          10                          2   \n",
       "1       P00248942       0    0          10                          2   \n",
       "2       P00087842       0    0          10                          2   \n",
       "3       P00085442       0    0          10                          2   \n",
       "4       P00285442       1    6          16                         4+   \n",
       "...           ...     ...  ...         ...                        ...   \n",
       "233594  P00118942       0    2          15                         4+   \n",
       "233595  P00254642       0    2          15                         4+   \n",
       "233596  P00031842       0    2          15                         4+   \n",
       "233597  P00124742       0    4           1                         4+   \n",
       "233598  P00316642       0    4           0                         4+   \n",
       "\n",
       "        Marital_Status  Product_Category_1  Product_Category_2  \\\n",
       "0                    0                   3                 8.0   \n",
       "1                    0                   1                 6.0   \n",
       "2                    0                  12                 8.0   \n",
       "3                    0                  12                14.0   \n",
       "4                    0                   8                 8.0   \n",
       "...                ...                 ...                 ...   \n",
       "233594               1                   8                 8.0   \n",
       "233595               1                   5                 8.0   \n",
       "233596               1                   1                 5.0   \n",
       "233597               0                  10                16.0   \n",
       "233598               1                   4                 5.0   \n",
       "\n",
       "        Product_Category_3  Purchase      A      B      C  \n",
       "0                     16.0    8370.0   True  False  False  \n",
       "1                     14.0   15200.0   True  False  False  \n",
       "2                     16.0    1422.0   True  False  False  \n",
       "3                     16.0    1057.0   True  False  False  \n",
       "4                     16.0    7969.0  False  False   True  \n",
       "...                    ...       ...    ...    ...    ...  \n",
       "233594                16.0    7011.0  False   True  False  \n",
       "233595                16.0    7011.0  False   True  False  \n",
       "233596                12.0    7011.0  False   True  False  \n",
       "233597                16.0    7011.0  False  False   True  \n",
       "233598                16.0    7011.0  False   True  False  \n",
       "\n",
       "[783667 rows x 13 columns]"
      ]
     },
     "execution_count": 39,
     "metadata": {},
     "output_type": "execute_result"
    }
   ],
   "source": [
    "df"
   ]
  },
  {
   "cell_type": "code",
   "execution_count": 40,
   "id": "9e9fd0e1",
   "metadata": {
    "execution": {
     "iopub.execute_input": "2024-05-12T04:20:39.247173Z",
     "iopub.status.busy": "2024-05-12T04:20:39.246494Z",
     "iopub.status.idle": "2024-05-12T04:20:39.342749Z",
     "shell.execute_reply": "2024-05-12T04:20:39.341704Z"
    },
    "papermill": {
     "duration": 0.121196,
     "end_time": "2024-05-12T04:20:39.345043",
     "exception": false,
     "start_time": "2024-05-12T04:20:39.223847",
     "status": "completed"
    },
    "tags": []
   },
   "outputs": [
    {
     "data": {
      "text/plain": [
       "Product_ID                    0\n",
       "Gender                        0\n",
       "Age                           0\n",
       "Occupation                    0\n",
       "Stay_In_Current_City_Years    0\n",
       "Marital_Status                0\n",
       "Product_Category_1            0\n",
       "Product_Category_2            0\n",
       "Product_Category_3            0\n",
       "Purchase                      0\n",
       "A                             0\n",
       "B                             0\n",
       "C                             0\n",
       "dtype: int64"
      ]
     },
     "execution_count": 40,
     "metadata": {},
     "output_type": "execute_result"
    }
   ],
   "source": [
    "df.isnull().sum()"
   ]
  },
  {
   "cell_type": "code",
   "execution_count": 41,
   "id": "0328d56e",
   "metadata": {
    "execution": {
     "iopub.execute_input": "2024-05-12T04:20:39.390466Z",
     "iopub.status.busy": "2024-05-12T04:20:39.389424Z",
     "iopub.status.idle": "2024-05-12T04:20:39.447835Z",
     "shell.execute_reply": "2024-05-12T04:20:39.446870Z"
    },
    "papermill": {
     "duration": 0.083108,
     "end_time": "2024-05-12T04:20:39.450069",
     "exception": false,
     "start_time": "2024-05-12T04:20:39.366961",
     "status": "completed"
    },
    "tags": []
   },
   "outputs": [
    {
     "data": {
      "text/plain": [
       "Stay_In_Current_City_Years\n",
       "1     276425\n",
       "2     145427\n",
       "3     135428\n",
       "4+    120671\n",
       "0     105716\n",
       "Name: count, dtype: int64"
      ]
     },
     "execution_count": 41,
     "metadata": {},
     "output_type": "execute_result"
    }
   ],
   "source": [
    "df['Stay_In_Current_City_Years'].value_counts()"
   ]
  },
  {
   "cell_type": "code",
   "execution_count": 42,
   "id": "f685fae4",
   "metadata": {
    "execution": {
     "iopub.execute_input": "2024-05-12T04:20:39.495522Z",
     "iopub.status.busy": "2024-05-12T04:20:39.494711Z",
     "iopub.status.idle": "2024-05-12T04:20:39.729783Z",
     "shell.execute_reply": "2024-05-12T04:20:39.728716Z"
    },
    "papermill": {
     "duration": 0.260678,
     "end_time": "2024-05-12T04:20:39.732256",
     "exception": false,
     "start_time": "2024-05-12T04:20:39.471578",
     "status": "completed"
    },
    "tags": []
   },
   "outputs": [],
   "source": [
    "df['Stay_In_Current_City_Years']=df['Stay_In_Current_City_Years'].str.replace('+','')"
   ]
  },
  {
   "cell_type": "code",
   "execution_count": 43,
   "id": "ef742330",
   "metadata": {
    "execution": {
     "iopub.execute_input": "2024-05-12T04:20:39.776959Z",
     "iopub.status.busy": "2024-05-12T04:20:39.776270Z",
     "iopub.status.idle": "2024-05-12T04:20:39.795252Z",
     "shell.execute_reply": "2024-05-12T04:20:39.794227Z"
    },
    "papermill": {
     "duration": 0.043389,
     "end_time": "2024-05-12T04:20:39.797374",
     "exception": false,
     "start_time": "2024-05-12T04:20:39.753985",
     "status": "completed"
    },
    "tags": []
   },
   "outputs": [
    {
     "data": {
      "text/html": [
       "<div>\n",
       "<style scoped>\n",
       "    .dataframe tbody tr th:only-of-type {\n",
       "        vertical-align: middle;\n",
       "    }\n",
       "\n",
       "    .dataframe tbody tr th {\n",
       "        vertical-align: top;\n",
       "    }\n",
       "\n",
       "    .dataframe thead th {\n",
       "        text-align: right;\n",
       "    }\n",
       "</style>\n",
       "<table border=\"1\" class=\"dataframe\">\n",
       "  <thead>\n",
       "    <tr style=\"text-align: right;\">\n",
       "      <th></th>\n",
       "      <th>Product_ID</th>\n",
       "      <th>Gender</th>\n",
       "      <th>Age</th>\n",
       "      <th>Occupation</th>\n",
       "      <th>Stay_In_Current_City_Years</th>\n",
       "      <th>Marital_Status</th>\n",
       "      <th>Product_Category_1</th>\n",
       "      <th>Product_Category_2</th>\n",
       "      <th>Product_Category_3</th>\n",
       "      <th>Purchase</th>\n",
       "      <th>A</th>\n",
       "      <th>B</th>\n",
       "      <th>C</th>\n",
       "    </tr>\n",
       "  </thead>\n",
       "  <tbody>\n",
       "    <tr>\n",
       "      <th>0</th>\n",
       "      <td>P00069042</td>\n",
       "      <td>0</td>\n",
       "      <td>0</td>\n",
       "      <td>10</td>\n",
       "      <td>2</td>\n",
       "      <td>0</td>\n",
       "      <td>3</td>\n",
       "      <td>8.0</td>\n",
       "      <td>16.0</td>\n",
       "      <td>8370.0</td>\n",
       "      <td>True</td>\n",
       "      <td>False</td>\n",
       "      <td>False</td>\n",
       "    </tr>\n",
       "    <tr>\n",
       "      <th>1</th>\n",
       "      <td>P00248942</td>\n",
       "      <td>0</td>\n",
       "      <td>0</td>\n",
       "      <td>10</td>\n",
       "      <td>2</td>\n",
       "      <td>0</td>\n",
       "      <td>1</td>\n",
       "      <td>6.0</td>\n",
       "      <td>14.0</td>\n",
       "      <td>15200.0</td>\n",
       "      <td>True</td>\n",
       "      <td>False</td>\n",
       "      <td>False</td>\n",
       "    </tr>\n",
       "    <tr>\n",
       "      <th>2</th>\n",
       "      <td>P00087842</td>\n",
       "      <td>0</td>\n",
       "      <td>0</td>\n",
       "      <td>10</td>\n",
       "      <td>2</td>\n",
       "      <td>0</td>\n",
       "      <td>12</td>\n",
       "      <td>8.0</td>\n",
       "      <td>16.0</td>\n",
       "      <td>1422.0</td>\n",
       "      <td>True</td>\n",
       "      <td>False</td>\n",
       "      <td>False</td>\n",
       "    </tr>\n",
       "    <tr>\n",
       "      <th>3</th>\n",
       "      <td>P00085442</td>\n",
       "      <td>0</td>\n",
       "      <td>0</td>\n",
       "      <td>10</td>\n",
       "      <td>2</td>\n",
       "      <td>0</td>\n",
       "      <td>12</td>\n",
       "      <td>14.0</td>\n",
       "      <td>16.0</td>\n",
       "      <td>1057.0</td>\n",
       "      <td>True</td>\n",
       "      <td>False</td>\n",
       "      <td>False</td>\n",
       "    </tr>\n",
       "    <tr>\n",
       "      <th>4</th>\n",
       "      <td>P00285442</td>\n",
       "      <td>1</td>\n",
       "      <td>6</td>\n",
       "      <td>16</td>\n",
       "      <td>4</td>\n",
       "      <td>0</td>\n",
       "      <td>8</td>\n",
       "      <td>8.0</td>\n",
       "      <td>16.0</td>\n",
       "      <td>7969.0</td>\n",
       "      <td>False</td>\n",
       "      <td>False</td>\n",
       "      <td>True</td>\n",
       "    </tr>\n",
       "    <tr>\n",
       "      <th>...</th>\n",
       "      <td>...</td>\n",
       "      <td>...</td>\n",
       "      <td>...</td>\n",
       "      <td>...</td>\n",
       "      <td>...</td>\n",
       "      <td>...</td>\n",
       "      <td>...</td>\n",
       "      <td>...</td>\n",
       "      <td>...</td>\n",
       "      <td>...</td>\n",
       "      <td>...</td>\n",
       "      <td>...</td>\n",
       "      <td>...</td>\n",
       "    </tr>\n",
       "    <tr>\n",
       "      <th>233594</th>\n",
       "      <td>P00118942</td>\n",
       "      <td>0</td>\n",
       "      <td>2</td>\n",
       "      <td>15</td>\n",
       "      <td>4</td>\n",
       "      <td>1</td>\n",
       "      <td>8</td>\n",
       "      <td>8.0</td>\n",
       "      <td>16.0</td>\n",
       "      <td>7011.0</td>\n",
       "      <td>False</td>\n",
       "      <td>True</td>\n",
       "      <td>False</td>\n",
       "    </tr>\n",
       "    <tr>\n",
       "      <th>233595</th>\n",
       "      <td>P00254642</td>\n",
       "      <td>0</td>\n",
       "      <td>2</td>\n",
       "      <td>15</td>\n",
       "      <td>4</td>\n",
       "      <td>1</td>\n",
       "      <td>5</td>\n",
       "      <td>8.0</td>\n",
       "      <td>16.0</td>\n",
       "      <td>7011.0</td>\n",
       "      <td>False</td>\n",
       "      <td>True</td>\n",
       "      <td>False</td>\n",
       "    </tr>\n",
       "    <tr>\n",
       "      <th>233596</th>\n",
       "      <td>P00031842</td>\n",
       "      <td>0</td>\n",
       "      <td>2</td>\n",
       "      <td>15</td>\n",
       "      <td>4</td>\n",
       "      <td>1</td>\n",
       "      <td>1</td>\n",
       "      <td>5.0</td>\n",
       "      <td>12.0</td>\n",
       "      <td>7011.0</td>\n",
       "      <td>False</td>\n",
       "      <td>True</td>\n",
       "      <td>False</td>\n",
       "    </tr>\n",
       "    <tr>\n",
       "      <th>233597</th>\n",
       "      <td>P00124742</td>\n",
       "      <td>0</td>\n",
       "      <td>4</td>\n",
       "      <td>1</td>\n",
       "      <td>4</td>\n",
       "      <td>0</td>\n",
       "      <td>10</td>\n",
       "      <td>16.0</td>\n",
       "      <td>16.0</td>\n",
       "      <td>7011.0</td>\n",
       "      <td>False</td>\n",
       "      <td>False</td>\n",
       "      <td>True</td>\n",
       "    </tr>\n",
       "    <tr>\n",
       "      <th>233598</th>\n",
       "      <td>P00316642</td>\n",
       "      <td>0</td>\n",
       "      <td>4</td>\n",
       "      <td>0</td>\n",
       "      <td>4</td>\n",
       "      <td>1</td>\n",
       "      <td>4</td>\n",
       "      <td>5.0</td>\n",
       "      <td>16.0</td>\n",
       "      <td>7011.0</td>\n",
       "      <td>False</td>\n",
       "      <td>True</td>\n",
       "      <td>False</td>\n",
       "    </tr>\n",
       "  </tbody>\n",
       "</table>\n",
       "<p>783667 rows × 13 columns</p>\n",
       "</div>"
      ],
      "text/plain": [
       "       Product_ID  Gender  Age  Occupation Stay_In_Current_City_Years  \\\n",
       "0       P00069042       0    0          10                          2   \n",
       "1       P00248942       0    0          10                          2   \n",
       "2       P00087842       0    0          10                          2   \n",
       "3       P00085442       0    0          10                          2   \n",
       "4       P00285442       1    6          16                          4   \n",
       "...           ...     ...  ...         ...                        ...   \n",
       "233594  P00118942       0    2          15                          4   \n",
       "233595  P00254642       0    2          15                          4   \n",
       "233596  P00031842       0    2          15                          4   \n",
       "233597  P00124742       0    4           1                          4   \n",
       "233598  P00316642       0    4           0                          4   \n",
       "\n",
       "        Marital_Status  Product_Category_1  Product_Category_2  \\\n",
       "0                    0                   3                 8.0   \n",
       "1                    0                   1                 6.0   \n",
       "2                    0                  12                 8.0   \n",
       "3                    0                  12                14.0   \n",
       "4                    0                   8                 8.0   \n",
       "...                ...                 ...                 ...   \n",
       "233594               1                   8                 8.0   \n",
       "233595               1                   5                 8.0   \n",
       "233596               1                   1                 5.0   \n",
       "233597               0                  10                16.0   \n",
       "233598               1                   4                 5.0   \n",
       "\n",
       "        Product_Category_3  Purchase      A      B      C  \n",
       "0                     16.0    8370.0   True  False  False  \n",
       "1                     14.0   15200.0   True  False  False  \n",
       "2                     16.0    1422.0   True  False  False  \n",
       "3                     16.0    1057.0   True  False  False  \n",
       "4                     16.0    7969.0  False  False   True  \n",
       "...                    ...       ...    ...    ...    ...  \n",
       "233594                16.0    7011.0  False   True  False  \n",
       "233595                16.0    7011.0  False   True  False  \n",
       "233596                12.0    7011.0  False   True  False  \n",
       "233597                16.0    7011.0  False  False   True  \n",
       "233598                16.0    7011.0  False   True  False  \n",
       "\n",
       "[783667 rows x 13 columns]"
      ]
     },
     "execution_count": 43,
     "metadata": {},
     "output_type": "execute_result"
    }
   ],
   "source": [
    "df"
   ]
  },
  {
   "cell_type": "code",
   "execution_count": 44,
   "id": "ed84db97",
   "metadata": {
    "execution": {
     "iopub.execute_input": "2024-05-12T04:20:39.842081Z",
     "iopub.status.busy": "2024-05-12T04:20:39.841708Z",
     "iopub.status.idle": "2024-05-12T04:20:39.854274Z",
     "shell.execute_reply": "2024-05-12T04:20:39.853356Z"
    },
    "papermill": {
     "duration": 0.037369,
     "end_time": "2024-05-12T04:20:39.856536",
     "exception": false,
     "start_time": "2024-05-12T04:20:39.819167",
     "status": "completed"
    },
    "tags": []
   },
   "outputs": [
    {
     "data": {
      "text/plain": [
       "A\n",
       "False    573423\n",
       "True     210244\n",
       "Name: count, dtype: int64"
      ]
     },
     "execution_count": 44,
     "metadata": {},
     "output_type": "execute_result"
    }
   ],
   "source": [
    "df['A'].value_counts()"
   ]
  },
  {
   "cell_type": "code",
   "execution_count": 45,
   "id": "d37d11ab",
   "metadata": {
    "execution": {
     "iopub.execute_input": "2024-05-12T04:20:39.901730Z",
     "iopub.status.busy": "2024-05-12T04:20:39.900950Z",
     "iopub.status.idle": "2024-05-12T04:20:39.977814Z",
     "shell.execute_reply": "2024-05-12T04:20:39.976735Z"
    },
    "papermill": {
     "duration": 0.10183,
     "end_time": "2024-05-12T04:20:39.980128",
     "exception": false,
     "start_time": "2024-05-12T04:20:39.878298",
     "status": "completed"
    },
    "tags": []
   },
   "outputs": [],
   "source": [
    "df['Stay_In_Current_City_Years']=df['Stay_In_Current_City_Years'].astype(int)"
   ]
  },
  {
   "cell_type": "code",
   "execution_count": 46,
   "id": "dd124205",
   "metadata": {
    "execution": {
     "iopub.execute_input": "2024-05-12T04:20:40.025604Z",
     "iopub.status.busy": "2024-05-12T04:20:40.025265Z",
     "iopub.status.idle": "2024-05-12T04:20:40.038793Z",
     "shell.execute_reply": "2024-05-12T04:20:40.037957Z"
    },
    "papermill": {
     "duration": 0.038603,
     "end_time": "2024-05-12T04:20:40.040968",
     "exception": false,
     "start_time": "2024-05-12T04:20:40.002365",
     "status": "completed"
    },
    "tags": []
   },
   "outputs": [],
   "source": [
    "df['A']=df['A'].astype(int)\n",
    "df['B']=df['B'].astype(int)\n",
    "df['C']=df['C'].astype(int)"
   ]
  },
  {
   "cell_type": "code",
   "execution_count": 47,
   "id": "1cea647a",
   "metadata": {
    "execution": {
     "iopub.execute_input": "2024-05-12T04:20:40.087392Z",
     "iopub.status.busy": "2024-05-12T04:20:40.087031Z",
     "iopub.status.idle": "2024-05-12T04:20:40.093127Z",
     "shell.execute_reply": "2024-05-12T04:20:40.092100Z"
    },
    "papermill": {
     "duration": 0.031533,
     "end_time": "2024-05-12T04:20:40.095092",
     "exception": false,
     "start_time": "2024-05-12T04:20:40.063559",
     "status": "completed"
    },
    "tags": []
   },
   "outputs": [],
   "source": [
    "df['A'].replace({'True':1,'False':0},inplace=True)\n",
    "df['B'].replace({'True':1,'False':0},inplace=True)\n",
    "df['C'].replace({'True':1,'False':0},inplace=True)"
   ]
  },
  {
   "cell_type": "code",
   "execution_count": 48,
   "id": "cd1e227d",
   "metadata": {
    "execution": {
     "iopub.execute_input": "2024-05-12T04:20:40.140711Z",
     "iopub.status.busy": "2024-05-12T04:20:40.139988Z",
     "iopub.status.idle": "2024-05-12T04:20:40.157572Z",
     "shell.execute_reply": "2024-05-12T04:20:40.156665Z"
    },
    "papermill": {
     "duration": 0.042489,
     "end_time": "2024-05-12T04:20:40.159571",
     "exception": false,
     "start_time": "2024-05-12T04:20:40.117082",
     "status": "completed"
    },
    "tags": []
   },
   "outputs": [
    {
     "data": {
      "text/html": [
       "<div>\n",
       "<style scoped>\n",
       "    .dataframe tbody tr th:only-of-type {\n",
       "        vertical-align: middle;\n",
       "    }\n",
       "\n",
       "    .dataframe tbody tr th {\n",
       "        vertical-align: top;\n",
       "    }\n",
       "\n",
       "    .dataframe thead th {\n",
       "        text-align: right;\n",
       "    }\n",
       "</style>\n",
       "<table border=\"1\" class=\"dataframe\">\n",
       "  <thead>\n",
       "    <tr style=\"text-align: right;\">\n",
       "      <th></th>\n",
       "      <th>Product_ID</th>\n",
       "      <th>Gender</th>\n",
       "      <th>Age</th>\n",
       "      <th>Occupation</th>\n",
       "      <th>Stay_In_Current_City_Years</th>\n",
       "      <th>Marital_Status</th>\n",
       "      <th>Product_Category_1</th>\n",
       "      <th>Product_Category_2</th>\n",
       "      <th>Product_Category_3</th>\n",
       "      <th>Purchase</th>\n",
       "      <th>A</th>\n",
       "      <th>B</th>\n",
       "      <th>C</th>\n",
       "    </tr>\n",
       "  </thead>\n",
       "  <tbody>\n",
       "    <tr>\n",
       "      <th>0</th>\n",
       "      <td>P00069042</td>\n",
       "      <td>0</td>\n",
       "      <td>0</td>\n",
       "      <td>10</td>\n",
       "      <td>2</td>\n",
       "      <td>0</td>\n",
       "      <td>3</td>\n",
       "      <td>8.0</td>\n",
       "      <td>16.0</td>\n",
       "      <td>8370.0</td>\n",
       "      <td>1</td>\n",
       "      <td>0</td>\n",
       "      <td>0</td>\n",
       "    </tr>\n",
       "    <tr>\n",
       "      <th>1</th>\n",
       "      <td>P00248942</td>\n",
       "      <td>0</td>\n",
       "      <td>0</td>\n",
       "      <td>10</td>\n",
       "      <td>2</td>\n",
       "      <td>0</td>\n",
       "      <td>1</td>\n",
       "      <td>6.0</td>\n",
       "      <td>14.0</td>\n",
       "      <td>15200.0</td>\n",
       "      <td>1</td>\n",
       "      <td>0</td>\n",
       "      <td>0</td>\n",
       "    </tr>\n",
       "    <tr>\n",
       "      <th>2</th>\n",
       "      <td>P00087842</td>\n",
       "      <td>0</td>\n",
       "      <td>0</td>\n",
       "      <td>10</td>\n",
       "      <td>2</td>\n",
       "      <td>0</td>\n",
       "      <td>12</td>\n",
       "      <td>8.0</td>\n",
       "      <td>16.0</td>\n",
       "      <td>1422.0</td>\n",
       "      <td>1</td>\n",
       "      <td>0</td>\n",
       "      <td>0</td>\n",
       "    </tr>\n",
       "    <tr>\n",
       "      <th>3</th>\n",
       "      <td>P00085442</td>\n",
       "      <td>0</td>\n",
       "      <td>0</td>\n",
       "      <td>10</td>\n",
       "      <td>2</td>\n",
       "      <td>0</td>\n",
       "      <td>12</td>\n",
       "      <td>14.0</td>\n",
       "      <td>16.0</td>\n",
       "      <td>1057.0</td>\n",
       "      <td>1</td>\n",
       "      <td>0</td>\n",
       "      <td>0</td>\n",
       "    </tr>\n",
       "    <tr>\n",
       "      <th>4</th>\n",
       "      <td>P00285442</td>\n",
       "      <td>1</td>\n",
       "      <td>6</td>\n",
       "      <td>16</td>\n",
       "      <td>4</td>\n",
       "      <td>0</td>\n",
       "      <td>8</td>\n",
       "      <td>8.0</td>\n",
       "      <td>16.0</td>\n",
       "      <td>7969.0</td>\n",
       "      <td>0</td>\n",
       "      <td>0</td>\n",
       "      <td>1</td>\n",
       "    </tr>\n",
       "    <tr>\n",
       "      <th>...</th>\n",
       "      <td>...</td>\n",
       "      <td>...</td>\n",
       "      <td>...</td>\n",
       "      <td>...</td>\n",
       "      <td>...</td>\n",
       "      <td>...</td>\n",
       "      <td>...</td>\n",
       "      <td>...</td>\n",
       "      <td>...</td>\n",
       "      <td>...</td>\n",
       "      <td>...</td>\n",
       "      <td>...</td>\n",
       "      <td>...</td>\n",
       "    </tr>\n",
       "    <tr>\n",
       "      <th>233594</th>\n",
       "      <td>P00118942</td>\n",
       "      <td>0</td>\n",
       "      <td>2</td>\n",
       "      <td>15</td>\n",
       "      <td>4</td>\n",
       "      <td>1</td>\n",
       "      <td>8</td>\n",
       "      <td>8.0</td>\n",
       "      <td>16.0</td>\n",
       "      <td>7011.0</td>\n",
       "      <td>0</td>\n",
       "      <td>1</td>\n",
       "      <td>0</td>\n",
       "    </tr>\n",
       "    <tr>\n",
       "      <th>233595</th>\n",
       "      <td>P00254642</td>\n",
       "      <td>0</td>\n",
       "      <td>2</td>\n",
       "      <td>15</td>\n",
       "      <td>4</td>\n",
       "      <td>1</td>\n",
       "      <td>5</td>\n",
       "      <td>8.0</td>\n",
       "      <td>16.0</td>\n",
       "      <td>7011.0</td>\n",
       "      <td>0</td>\n",
       "      <td>1</td>\n",
       "      <td>0</td>\n",
       "    </tr>\n",
       "    <tr>\n",
       "      <th>233596</th>\n",
       "      <td>P00031842</td>\n",
       "      <td>0</td>\n",
       "      <td>2</td>\n",
       "      <td>15</td>\n",
       "      <td>4</td>\n",
       "      <td>1</td>\n",
       "      <td>1</td>\n",
       "      <td>5.0</td>\n",
       "      <td>12.0</td>\n",
       "      <td>7011.0</td>\n",
       "      <td>0</td>\n",
       "      <td>1</td>\n",
       "      <td>0</td>\n",
       "    </tr>\n",
       "    <tr>\n",
       "      <th>233597</th>\n",
       "      <td>P00124742</td>\n",
       "      <td>0</td>\n",
       "      <td>4</td>\n",
       "      <td>1</td>\n",
       "      <td>4</td>\n",
       "      <td>0</td>\n",
       "      <td>10</td>\n",
       "      <td>16.0</td>\n",
       "      <td>16.0</td>\n",
       "      <td>7011.0</td>\n",
       "      <td>0</td>\n",
       "      <td>0</td>\n",
       "      <td>1</td>\n",
       "    </tr>\n",
       "    <tr>\n",
       "      <th>233598</th>\n",
       "      <td>P00316642</td>\n",
       "      <td>0</td>\n",
       "      <td>4</td>\n",
       "      <td>0</td>\n",
       "      <td>4</td>\n",
       "      <td>1</td>\n",
       "      <td>4</td>\n",
       "      <td>5.0</td>\n",
       "      <td>16.0</td>\n",
       "      <td>7011.0</td>\n",
       "      <td>0</td>\n",
       "      <td>1</td>\n",
       "      <td>0</td>\n",
       "    </tr>\n",
       "  </tbody>\n",
       "</table>\n",
       "<p>783667 rows × 13 columns</p>\n",
       "</div>"
      ],
      "text/plain": [
       "       Product_ID  Gender  Age  Occupation  Stay_In_Current_City_Years  \\\n",
       "0       P00069042       0    0          10                           2   \n",
       "1       P00248942       0    0          10                           2   \n",
       "2       P00087842       0    0          10                           2   \n",
       "3       P00085442       0    0          10                           2   \n",
       "4       P00285442       1    6          16                           4   \n",
       "...           ...     ...  ...         ...                         ...   \n",
       "233594  P00118942       0    2          15                           4   \n",
       "233595  P00254642       0    2          15                           4   \n",
       "233596  P00031842       0    2          15                           4   \n",
       "233597  P00124742       0    4           1                           4   \n",
       "233598  P00316642       0    4           0                           4   \n",
       "\n",
       "        Marital_Status  Product_Category_1  Product_Category_2  \\\n",
       "0                    0                   3                 8.0   \n",
       "1                    0                   1                 6.0   \n",
       "2                    0                  12                 8.0   \n",
       "3                    0                  12                14.0   \n",
       "4                    0                   8                 8.0   \n",
       "...                ...                 ...                 ...   \n",
       "233594               1                   8                 8.0   \n",
       "233595               1                   5                 8.0   \n",
       "233596               1                   1                 5.0   \n",
       "233597               0                  10                16.0   \n",
       "233598               1                   4                 5.0   \n",
       "\n",
       "        Product_Category_3  Purchase  A  B  C  \n",
       "0                     16.0    8370.0  1  0  0  \n",
       "1                     14.0   15200.0  1  0  0  \n",
       "2                     16.0    1422.0  1  0  0  \n",
       "3                     16.0    1057.0  1  0  0  \n",
       "4                     16.0    7969.0  0  0  1  \n",
       "...                    ...       ... .. .. ..  \n",
       "233594                16.0    7011.0  0  1  0  \n",
       "233595                16.0    7011.0  0  1  0  \n",
       "233596                12.0    7011.0  0  1  0  \n",
       "233597                16.0    7011.0  0  0  1  \n",
       "233598                16.0    7011.0  0  1  0  \n",
       "\n",
       "[783667 rows x 13 columns]"
      ]
     },
     "execution_count": 48,
     "metadata": {},
     "output_type": "execute_result"
    }
   ],
   "source": [
    "df"
   ]
  },
  {
   "cell_type": "code",
   "execution_count": 49,
   "id": "3216eeb8",
   "metadata": {
    "execution": {
     "iopub.execute_input": "2024-05-12T04:20:40.206168Z",
     "iopub.status.busy": "2024-05-12T04:20:40.205266Z",
     "iopub.status.idle": "2024-05-12T04:20:46.493057Z",
     "shell.execute_reply": "2024-05-12T04:20:46.492094Z"
    },
    "papermill": {
     "duration": 6.313509,
     "end_time": "2024-05-12T04:20:46.495331",
     "exception": false,
     "start_time": "2024-05-12T04:20:40.181822",
     "status": "completed"
    },
    "tags": []
   },
   "outputs": [
    {
     "data": {
      "text/plain": [
       "<Axes: xlabel='Occupation', ylabel='Purchase'>"
      ]
     },
     "execution_count": 49,
     "metadata": {},
     "output_type": "execute_result"
    },
    {
     "data": {
      "image/png": "[encoded data removed]",
      "text/plain": [
       "<Figure size 640x480 with 1 Axes>"
      ]
     },
     "metadata": {},
     "output_type": "display_data"
    }
   ],
   "source": [
    "sns.barplot(x='Occupation',y='Purchase',hue=\"Gender\",data=df)"
   ]
  },
  {
   "cell_type": "code",
   "execution_count": 50,
   "id": "56f48d43",
   "metadata": {
    "execution": {
     "iopub.execute_input": "2024-05-12T04:20:46.542713Z",
     "iopub.status.busy": "2024-05-12T04:20:46.542018Z",
     "iopub.status.idle": "2024-05-12T04:20:52.462681Z",
     "shell.execute_reply": "2024-05-12T04:20:52.461735Z"
    },
    "papermill": {
     "duration": 5.946517,
     "end_time": "2024-05-12T04:20:52.464896",
     "exception": false,
     "start_time": "2024-05-12T04:20:46.518379",
     "status": "completed"
    },
    "tags": []
   },
   "outputs": [
    {
     "data": {
      "text/plain": [
       "<Axes: xlabel='Marital_Status', ylabel='Purchase'>"
      ]
     },
     "execution_count": 50,
     "metadata": {},
     "output_type": "execute_result"
    },
    {
     "data": {
      "image/png": "[encoded data removed]",
      "text/plain": [
       "<Figure size 640x480 with 1 Axes>"
      ]
     },
     "metadata": {},
     "output_type": "display_data"
    }
   ],
   "source": [
    "sns.barplot(x='Marital_Status',y='Purchase',hue=\"Gender\",data=df)"
   ]
  },
  {
   "cell_type": "code",
   "execution_count": 51,
   "id": "9f6327ef",
   "metadata": {
    "execution": {
     "iopub.execute_input": "2024-05-12T04:20:52.513141Z",
     "iopub.status.busy": "2024-05-12T04:20:52.512632Z",
     "iopub.status.idle": "2024-05-12T04:20:52.563158Z",
     "shell.execute_reply": "2024-05-12T04:20:52.562156Z"
    },
    "papermill": {
     "duration": 0.077043,
     "end_time": "2024-05-12T04:20:52.565407",
     "exception": false,
     "start_time": "2024-05-12T04:20:52.488364",
     "status": "completed"
    },
    "tags": []
   },
   "outputs": [
    {
     "data": {
      "text/html": [
       "<div>\n",
       "<style scoped>\n",
       "    .dataframe tbody tr th:only-of-type {\n",
       "        vertical-align: middle;\n",
       "    }\n",
       "\n",
       "    .dataframe tbody tr th {\n",
       "        vertical-align: top;\n",
       "    }\n",
       "\n",
       "    .dataframe thead th {\n",
       "        text-align: right;\n",
       "    }\n",
       "</style>\n",
       "<table border=\"1\" class=\"dataframe\">\n",
       "  <thead>\n",
       "    <tr style=\"text-align: right;\">\n",
       "      <th></th>\n",
       "      <th>Gender</th>\n",
       "      <th>Age</th>\n",
       "      <th>Occupation</th>\n",
       "      <th>Stay_In_Current_City_Years</th>\n",
       "      <th>Marital_Status</th>\n",
       "      <th>Product_Category_1</th>\n",
       "      <th>Product_Category_2</th>\n",
       "      <th>Product_Category_3</th>\n",
       "      <th>Purchase</th>\n",
       "      <th>A</th>\n",
       "      <th>B</th>\n",
       "      <th>C</th>\n",
       "    </tr>\n",
       "  </thead>\n",
       "  <tbody>\n",
       "    <tr>\n",
       "      <th>0</th>\n",
       "      <td>0</td>\n",
       "      <td>0</td>\n",
       "      <td>10</td>\n",
       "      <td>2</td>\n",
       "      <td>0</td>\n",
       "      <td>3</td>\n",
       "      <td>8.0</td>\n",
       "      <td>16.0</td>\n",
       "      <td>8370.0</td>\n",
       "      <td>1</td>\n",
       "      <td>0</td>\n",
       "      <td>0</td>\n",
       "    </tr>\n",
       "    <tr>\n",
       "      <th>1</th>\n",
       "      <td>0</td>\n",
       "      <td>0</td>\n",
       "      <td>10</td>\n",
       "      <td>2</td>\n",
       "      <td>0</td>\n",
       "      <td>1</td>\n",
       "      <td>6.0</td>\n",
       "      <td>14.0</td>\n",
       "      <td>15200.0</td>\n",
       "      <td>1</td>\n",
       "      <td>0</td>\n",
       "      <td>0</td>\n",
       "    </tr>\n",
       "    <tr>\n",
       "      <th>2</th>\n",
       "      <td>0</td>\n",
       "      <td>0</td>\n",
       "      <td>10</td>\n",
       "      <td>2</td>\n",
       "      <td>0</td>\n",
       "      <td>12</td>\n",
       "      <td>8.0</td>\n",
       "      <td>16.0</td>\n",
       "      <td>1422.0</td>\n",
       "      <td>1</td>\n",
       "      <td>0</td>\n",
       "      <td>0</td>\n",
       "    </tr>\n",
       "    <tr>\n",
       "      <th>3</th>\n",
       "      <td>0</td>\n",
       "      <td>0</td>\n",
       "      <td>10</td>\n",
       "      <td>2</td>\n",
       "      <td>0</td>\n",
       "      <td>12</td>\n",
       "      <td>14.0</td>\n",
       "      <td>16.0</td>\n",
       "      <td>1057.0</td>\n",
       "      <td>1</td>\n",
       "      <td>0</td>\n",
       "      <td>0</td>\n",
       "    </tr>\n",
       "    <tr>\n",
       "      <th>4</th>\n",
       "      <td>1</td>\n",
       "      <td>6</td>\n",
       "      <td>16</td>\n",
       "      <td>4</td>\n",
       "      <td>0</td>\n",
       "      <td>8</td>\n",
       "      <td>8.0</td>\n",
       "      <td>16.0</td>\n",
       "      <td>7969.0</td>\n",
       "      <td>0</td>\n",
       "      <td>0</td>\n",
       "      <td>1</td>\n",
       "    </tr>\n",
       "    <tr>\n",
       "      <th>...</th>\n",
       "      <td>...</td>\n",
       "      <td>...</td>\n",
       "      <td>...</td>\n",
       "      <td>...</td>\n",
       "      <td>...</td>\n",
       "      <td>...</td>\n",
       "      <td>...</td>\n",
       "      <td>...</td>\n",
       "      <td>...</td>\n",
       "      <td>...</td>\n",
       "      <td>...</td>\n",
       "      <td>...</td>\n",
       "    </tr>\n",
       "    <tr>\n",
       "      <th>233594</th>\n",
       "      <td>0</td>\n",
       "      <td>2</td>\n",
       "      <td>15</td>\n",
       "      <td>4</td>\n",
       "      <td>1</td>\n",
       "      <td>8</td>\n",
       "      <td>8.0</td>\n",
       "      <td>16.0</td>\n",
       "      <td>7011.0</td>\n",
       "      <td>0</td>\n",
       "      <td>1</td>\n",
       "      <td>0</td>\n",
       "    </tr>\n",
       "    <tr>\n",
       "      <th>233595</th>\n",
       "      <td>0</td>\n",
       "      <td>2</td>\n",
       "      <td>15</td>\n",
       "      <td>4</td>\n",
       "      <td>1</td>\n",
       "      <td>5</td>\n",
       "      <td>8.0</td>\n",
       "      <td>16.0</td>\n",
       "      <td>7011.0</td>\n",
       "      <td>0</td>\n",
       "      <td>1</td>\n",
       "      <td>0</td>\n",
       "    </tr>\n",
       "    <tr>\n",
       "      <th>233596</th>\n",
       "      <td>0</td>\n",
       "      <td>2</td>\n",
       "      <td>15</td>\n",
       "      <td>4</td>\n",
       "      <td>1</td>\n",
       "      <td>1</td>\n",
       "      <td>5.0</td>\n",
       "      <td>12.0</td>\n",
       "      <td>7011.0</td>\n",
       "      <td>0</td>\n",
       "      <td>1</td>\n",
       "      <td>0</td>\n",
       "    </tr>\n",
       "    <tr>\n",
       "      <th>233597</th>\n",
       "      <td>0</td>\n",
       "      <td>4</td>\n",
       "      <td>1</td>\n",
       "      <td>4</td>\n",
       "      <td>0</td>\n",
       "      <td>10</td>\n",
       "      <td>16.0</td>\n",
       "      <td>16.0</td>\n",
       "      <td>7011.0</td>\n",
       "      <td>0</td>\n",
       "      <td>0</td>\n",
       "      <td>1</td>\n",
       "    </tr>\n",
       "    <tr>\n",
       "      <th>233598</th>\n",
       "      <td>0</td>\n",
       "      <td>4</td>\n",
       "      <td>0</td>\n",
       "      <td>4</td>\n",
       "      <td>1</td>\n",
       "      <td>4</td>\n",
       "      <td>5.0</td>\n",
       "      <td>16.0</td>\n",
       "      <td>7011.0</td>\n",
       "      <td>0</td>\n",
       "      <td>1</td>\n",
       "      <td>0</td>\n",
       "    </tr>\n",
       "  </tbody>\n",
       "</table>\n",
       "<p>783667 rows × 12 columns</p>\n",
       "</div>"
      ],
      "text/plain": [
       "        Gender  Age  Occupation  Stay_In_Current_City_Years  Marital_Status  \\\n",
       "0            0    0          10                           2               0   \n",
       "1            0    0          10                           2               0   \n",
       "2            0    0          10                           2               0   \n",
       "3            0    0          10                           2               0   \n",
       "4            1    6          16                           4               0   \n",
       "...        ...  ...         ...                         ...             ...   \n",
       "233594       0    2          15                           4               1   \n",
       "233595       0    2          15                           4               1   \n",
       "233596       0    2          15                           4               1   \n",
       "233597       0    4           1                           4               0   \n",
       "233598       0    4           0                           4               1   \n",
       "\n",
       "        Product_Category_1  Product_Category_2  Product_Category_3  Purchase  \\\n",
       "0                        3                 8.0                16.0    8370.0   \n",
       "1                        1                 6.0                14.0   15200.0   \n",
       "2                       12                 8.0                16.0    1422.0   \n",
       "3                       12                14.0                16.0    1057.0   \n",
       "4                        8                 8.0                16.0    7969.0   \n",
       "...                    ...                 ...                 ...       ...   \n",
       "233594                   8                 8.0                16.0    7011.0   \n",
       "233595                   5                 8.0                16.0    7011.0   \n",
       "233596                   1                 5.0                12.0    7011.0   \n",
       "233597                  10                16.0                16.0    7011.0   \n",
       "233598                   4                 5.0                16.0    7011.0   \n",
       "\n",
       "        A  B  C  \n",
       "0       1  0  0  \n",
       "1       1  0  0  \n",
       "2       1  0  0  \n",
       "3       1  0  0  \n",
       "4       0  0  1  \n",
       "...    .. .. ..  \n",
       "233594  0  1  0  \n",
       "233595  0  1  0  \n",
       "233596  0  1  0  \n",
       "233597  0  0  1  \n",
       "233598  0  1  0  \n",
       "\n",
       "[783667 rows x 12 columns]"
      ]
     },
     "execution_count": 51,
     "metadata": {},
     "output_type": "execute_result"
    }
   ],
   "source": [
    "df.drop(columns='Product_ID')"
   ]
  },
  {
   "cell_type": "code",
   "execution_count": 52,
   "id": "eb2eb295",
   "metadata": {
    "execution": {
     "iopub.execute_input": "2024-05-12T04:20:52.615159Z",
     "iopub.status.busy": "2024-05-12T04:20:52.614491Z",
     "iopub.status.idle": "2024-05-12T04:20:52.624771Z",
     "shell.execute_reply": "2024-05-12T04:20:52.623835Z"
    },
    "papermill": {
     "duration": 0.036759,
     "end_time": "2024-05-12T04:20:52.626757",
     "exception": false,
     "start_time": "2024-05-12T04:20:52.589998",
     "status": "completed"
    },
    "tags": []
   },
   "outputs": [
    {
     "data": {
      "text/plain": [
       "0          3\n",
       "1          1\n",
       "2         12\n",
       "3         12\n",
       "4          8\n",
       "          ..\n",
       "233594     8\n",
       "233595     5\n",
       "233596     1\n",
       "233597    10\n",
       "233598     4\n",
       "Name: Product_Category_1, Length: 783667, dtype: int64"
      ]
     },
     "execution_count": 52,
     "metadata": {},
     "output_type": "execute_result"
    }
   ],
   "source": [
    "df['Product_Category_1'].astype(int)"
   ]
  },
  {
   "cell_type": "code",
   "execution_count": 53,
   "id": "f8b70d09",
   "metadata": {
    "execution": {
     "iopub.execute_input": "2024-05-12T04:20:52.675812Z",
     "iopub.status.busy": "2024-05-12T04:20:52.675134Z",
     "iopub.status.idle": "2024-05-12T04:20:52.688508Z",
     "shell.execute_reply": "2024-05-12T04:20:52.687324Z"
    },
    "papermill": {
     "duration": 0.040566,
     "end_time": "2024-05-12T04:20:52.690894",
     "exception": false,
     "start_time": "2024-05-12T04:20:52.650328",
     "status": "completed"
    },
    "tags": []
   },
   "outputs": [],
   "source": [
    "df['Product_Category_2']=df['Product_Category_2'].astype(int)"
   ]
  },
  {
   "cell_type": "code",
   "execution_count": 54,
   "id": "049af1a3",
   "metadata": {
    "execution": {
     "iopub.execute_input": "2024-05-12T04:20:52.739739Z",
     "iopub.status.busy": "2024-05-12T04:20:52.739366Z",
     "iopub.status.idle": "2024-05-12T04:20:52.747208Z",
     "shell.execute_reply": "2024-05-12T04:20:52.746359Z"
    },
    "papermill": {
     "duration": 0.034484,
     "end_time": "2024-05-12T04:20:52.749299",
     "exception": false,
     "start_time": "2024-05-12T04:20:52.714815",
     "status": "completed"
    },
    "tags": []
   },
   "outputs": [],
   "source": [
    "df['Product_Category_3']=df['Product_Category_3'].astype(int)"
   ]
  },
  {
   "cell_type": "code",
   "execution_count": 55,
   "id": "5ddf4b99",
   "metadata": {
    "execution": {
     "iopub.execute_input": "2024-05-12T04:20:52.798537Z",
     "iopub.status.busy": "2024-05-12T04:20:52.798190Z",
     "iopub.status.idle": "2024-05-12T04:20:52.805651Z",
     "shell.execute_reply": "2024-05-12T04:20:52.804891Z"
    },
    "papermill": {
     "duration": 0.034472,
     "end_time": "2024-05-12T04:20:52.807718",
     "exception": false,
     "start_time": "2024-05-12T04:20:52.773246",
     "status": "completed"
    },
    "tags": []
   },
   "outputs": [],
   "source": [
    "df['Purchase']=df['Purchase'].astype(int)"
   ]
  },
  {
   "cell_type": "code",
   "execution_count": 56,
   "id": "458f84ad",
   "metadata": {
    "execution": {
     "iopub.execute_input": "2024-05-12T04:20:52.856080Z",
     "iopub.status.busy": "2024-05-12T04:20:52.855710Z",
     "iopub.status.idle": "2024-05-12T04:20:52.862969Z",
     "shell.execute_reply": "2024-05-12T04:20:52.861937Z"
    },
    "papermill": {
     "duration": 0.03378,
     "end_time": "2024-05-12T04:20:52.865080",
     "exception": false,
     "start_time": "2024-05-12T04:20:52.831300",
     "status": "completed"
    },
    "tags": []
   },
   "outputs": [
    {
     "data": {
      "text/plain": [
       "Product_ID                    object\n",
       "Gender                         int64\n",
       "Age                            int64\n",
       "Occupation                     int64\n",
       "Stay_In_Current_City_Years     int64\n",
       "Marital_Status                 int64\n",
       "Product_Category_1             int64\n",
       "Product_Category_2             int64\n",
       "Product_Category_3             int64\n",
       "Purchase                       int64\n",
       "A                              int64\n",
       "B                              int64\n",
       "C                              int64\n",
       "dtype: object"
      ]
     },
     "execution_count": 56,
     "metadata": {},
     "output_type": "execute_result"
    }
   ],
   "source": [
    "df.dtypes"
   ]
  },
  {
   "cell_type": "code",
   "execution_count": 57,
   "id": "7b5050a1",
   "metadata": {
    "execution": {
     "iopub.execute_input": "2024-05-12T04:20:52.913509Z",
     "iopub.status.busy": "2024-05-12T04:20:52.913163Z",
     "iopub.status.idle": "2024-05-12T04:20:52.942087Z",
     "shell.execute_reply": "2024-05-12T04:20:52.941078Z"
    },
    "papermill": {
     "duration": 0.055572,
     "end_time": "2024-05-12T04:20:52.944174",
     "exception": false,
     "start_time": "2024-05-12T04:20:52.888602",
     "status": "completed"
    },
    "tags": []
   },
   "outputs": [],
   "source": [
    "sample_size=5000\n",
    "sample_df = df.sample(n=sample_size)"
   ]
  },
  {
   "cell_type": "code",
   "execution_count": 58,
   "id": "8ef85d79",
   "metadata": {
    "execution": {
     "iopub.execute_input": "2024-05-12T04:20:52.992978Z",
     "iopub.status.busy": "2024-05-12T04:20:52.992604Z",
     "iopub.status.idle": "2024-05-12T04:20:52.998729Z",
     "shell.execute_reply": "2024-05-12T04:20:52.997814Z"
    },
    "papermill": {
     "duration": 0.032769,
     "end_time": "2024-05-12T04:20:53.000839",
     "exception": false,
     "start_time": "2024-05-12T04:20:52.968070",
     "status": "completed"
    },
    "tags": []
   },
   "outputs": [],
   "source": [
    "x=sample_df[['Gender','Age','Occupation','Stay_In_Current_City_Years','Marital_Status'\n",
    "      ,'Product_Category_1','Product_Category_2','Product_Category_3','A','B','C']]"
   ]
  },
  {
   "cell_type": "code",
   "execution_count": 59,
   "id": "455847fd",
   "metadata": {
    "execution": {
     "iopub.execute_input": "2024-05-12T04:20:53.050090Z",
     "iopub.status.busy": "2024-05-12T04:20:53.049211Z",
     "iopub.status.idle": "2024-05-12T04:20:53.053832Z",
     "shell.execute_reply": "2024-05-12T04:20:53.052948Z"
    },
    "papermill": {
     "duration": 0.031353,
     "end_time": "2024-05-12T04:20:53.055891",
     "exception": false,
     "start_time": "2024-05-12T04:20:53.024538",
     "status": "completed"
    },
    "tags": []
   },
   "outputs": [],
   "source": [
    "y=sample_df['Purchase']"
   ]
  },
  {
   "cell_type": "code",
   "execution_count": 60,
   "id": "863b7eae",
   "metadata": {
    "execution": {
     "iopub.execute_input": "2024-05-12T04:20:53.105255Z",
     "iopub.status.busy": "2024-05-12T04:20:53.104871Z",
     "iopub.status.idle": "2024-05-12T04:20:53.260725Z",
     "shell.execute_reply": "2024-05-12T04:20:53.259897Z"
    },
    "papermill": {
     "duration": 0.183422,
     "end_time": "2024-05-12T04:20:53.263140",
     "exception": false,
     "start_time": "2024-05-12T04:20:53.079718",
     "status": "completed"
    },
    "tags": []
   },
   "outputs": [],
   "source": [
    "from sklearn.linear_model import RidgeClassifier\n",
    "from sklearn.metrics import accuracy_score, classification_report"
   ]
  },
  {
   "cell_type": "code",
   "execution_count": 61,
   "id": "d21626b7",
   "metadata": {
    "execution": {
     "iopub.execute_input": "2024-05-12T04:20:53.312862Z",
     "iopub.status.busy": "2024-05-12T04:20:53.311990Z",
     "iopub.status.idle": "2024-05-12T04:20:53.318825Z",
     "shell.execute_reply": "2024-05-12T04:20:53.318101Z"
    },
    "papermill": {
     "duration": 0.033471,
     "end_time": "2024-05-12T04:20:53.320796",
     "exception": false,
     "start_time": "2024-05-12T04:20:53.287325",
     "status": "completed"
    },
    "tags": []
   },
   "outputs": [],
   "source": [
    "from sklearn.model_selection import train_test_split\n",
    "X_train,X_test,y_train,y_test=train_test_split(x,y,test_size=0.2)"
   ]
  },
  {
   "cell_type": "code",
   "execution_count": 62,
   "id": "9a6c79af",
   "metadata": {
    "execution": {
     "iopub.execute_input": "2024-05-12T04:20:53.369606Z",
     "iopub.status.busy": "2024-05-12T04:20:53.368774Z",
     "iopub.status.idle": "2024-05-12T04:20:53.379060Z",
     "shell.execute_reply": "2024-05-12T04:20:53.378304Z"
    },
    "papermill": {
     "duration": 0.03655,
     "end_time": "2024-05-12T04:20:53.380938",
     "exception": false,
     "start_time": "2024-05-12T04:20:53.344388",
     "status": "completed"
    },
    "tags": []
   },
   "outputs": [],
   "source": [
    "from sklearn.preprocessing import StandardScaler\n",
    "sc=StandardScaler()\n",
    "X_train=sc.fit_transform(X_train)\n",
    "X_test=sc.transform(X_test)"
   ]
  },
  {
   "cell_type": "code",
   "execution_count": 63,
   "id": "fa4701e0",
   "metadata": {
    "execution": {
     "iopub.execute_input": "2024-05-12T04:20:53.429641Z",
     "iopub.status.busy": "2024-05-12T04:20:53.428983Z",
     "iopub.status.idle": "2024-05-12T04:20:53.434769Z",
     "shell.execute_reply": "2024-05-12T04:20:53.433832Z"
    },
    "papermill": {
     "duration": 0.032195,
     "end_time": "2024-05-12T04:20:53.436703",
     "exception": false,
     "start_time": "2024-05-12T04:20:53.404508",
     "status": "completed"
    },
    "tags": []
   },
   "outputs": [
    {
     "data": {
      "text/plain": [
       "(4000, 11)"
      ]
     },
     "execution_count": 63,
     "metadata": {},
     "output_type": "execute_result"
    }
   ],
   "source": [
    "X_train.shape"
   ]
  },
  {
   "cell_type": "code",
   "execution_count": 64,
   "id": "c1e744cf",
   "metadata": {
    "execution": {
     "iopub.execute_input": "2024-05-12T04:20:53.485507Z",
     "iopub.status.busy": "2024-05-12T04:20:53.484734Z",
     "iopub.status.idle": "2024-05-12T04:20:53.490534Z",
     "shell.execute_reply": "2024-05-12T04:20:53.489679Z"
    },
    "papermill": {
     "duration": 0.032257,
     "end_time": "2024-05-12T04:20:53.492541",
     "exception": false,
     "start_time": "2024-05-12T04:20:53.460284",
     "status": "completed"
    },
    "tags": []
   },
   "outputs": [
    {
     "data": {
      "text/plain": [
       "(4000,)"
      ]
     },
     "execution_count": 64,
     "metadata": {},
     "output_type": "execute_result"
    }
   ],
   "source": [
    "y_train.shape"
   ]
  },
  {
   "cell_type": "code",
   "execution_count": 65,
   "id": "0cc71714",
   "metadata": {
    "execution": {
     "iopub.execute_input": "2024-05-12T04:20:53.544614Z",
     "iopub.status.busy": "2024-05-12T04:20:53.543756Z",
     "iopub.status.idle": "2024-05-12T04:20:53.549879Z",
     "shell.execute_reply": "2024-05-12T04:20:53.548878Z"
    },
    "papermill": {
     "duration": 0.033275,
     "end_time": "2024-05-12T04:20:53.551953",
     "exception": false,
     "start_time": "2024-05-12T04:20:53.518678",
     "status": "completed"
    },
    "tags": []
   },
   "outputs": [
    {
     "data": {
      "text/plain": [
       "(1000, 11)"
      ]
     },
     "execution_count": 65,
     "metadata": {},
     "output_type": "execute_result"
    }
   ],
   "source": [
    "X_test.shape"
   ]
  },
  {
   "cell_type": "code",
   "execution_count": 66,
   "id": "5f88d4c7",
   "metadata": {
    "execution": {
     "iopub.execute_input": "2024-05-12T04:20:53.601646Z",
     "iopub.status.busy": "2024-05-12T04:20:53.601293Z",
     "iopub.status.idle": "2024-05-12T04:20:53.609162Z",
     "shell.execute_reply": "2024-05-12T04:20:53.608078Z"
    },
    "papermill": {
     "duration": 0.035734,
     "end_time": "2024-05-12T04:20:53.611287",
     "exception": false,
     "start_time": "2024-05-12T04:20:53.575553",
     "status": "completed"
    },
    "tags": []
   },
   "outputs": [
    {
     "data": {
      "text/plain": [
       "(1000,)"
      ]
     },
     "execution_count": 66,
     "metadata": {},
     "output_type": "execute_result"
    }
   ],
   "source": [
    "y_test.shape"
   ]
  },
  {
   "cell_type": "code",
   "execution_count": 67,
   "id": "f99b7ab8",
   "metadata": {
    "execution": {
     "iopub.execute_input": "2024-05-12T04:20:53.676571Z",
     "iopub.status.busy": "2024-05-12T04:20:53.675840Z",
     "iopub.status.idle": "2024-05-12T04:20:53.680407Z",
     "shell.execute_reply": "2024-05-12T04:20:53.679425Z"
    },
    "papermill": {
     "duration": 0.04006,
     "end_time": "2024-05-12T04:20:53.682494",
     "exception": false,
     "start_time": "2024-05-12T04:20:53.642434",
     "status": "completed"
    },
    "tags": []
   },
   "outputs": [],
   "source": [
    "alpha = 1.0  \n",
    "max_iter = 1000  \n",
    "solver = 'auto'  \n",
    "tol = 1e-3 "
   ]
  },
  {
   "cell_type": "code",
   "execution_count": 68,
   "id": "fa02ed05",
   "metadata": {
    "execution": {
     "iopub.execute_input": "2024-05-12T04:20:53.733221Z",
     "iopub.status.busy": "2024-05-12T04:20:53.732814Z",
     "iopub.status.idle": "2024-05-12T04:20:54.146956Z",
     "shell.execute_reply": "2024-05-12T04:20:54.145954Z"
    },
    "papermill": {
     "duration": 0.441928,
     "end_time": "2024-05-12T04:20:54.149596",
     "exception": false,
     "start_time": "2024-05-12T04:20:53.707668",
     "status": "completed"
    },
    "tags": []
   },
   "outputs": [
    {
     "data": {
      "text/html": [
       "<style>#sk-container-id-1 {color: black;background-color: white;}#sk-container-id-1 pre{padding: 0;}#sk-container-id-1 div.sk-toggleable {background-color: white;}#sk-container-id-1 label.sk-toggleable__label {cursor: pointer;display: block;width: 100%;margin-bottom: 0;padding: 0.3em;box-sizing: border-box;text-align: center;}#sk-container-id-1 label.sk-toggleable__label-arrow:before {content: \"▸\";float: left;margin-right: 0.25em;color: #696969;}#sk-container-id-1 label.sk-toggleable__label-arrow:hover:before {color: black;}#sk-container-id-1 div.sk-estimator:hover label.sk-toggleable__label-arrow:before {color: black;}#sk-container-id-1 div.sk-toggleable__content {max-height: 0;max-width: 0;overflow: hidden;text-align: left;background-color: #f0f8ff;}#sk-container-id-1 div.sk-toggleable__content pre {margin: 0.2em;color: black;border-radius: 0.25em;background-color: #f0f8ff;}#sk-container-id-1 input.sk-toggleable__control:checked~div.sk-toggleable__content {max-height: 200px;max-width: 100%;overflow: auto;}#sk-container-id-1 input.sk-toggleable__control:checked~label.sk-toggleable__label-arrow:before {content: \"▾\";}#sk-container-id-1 div.sk-estimator input.sk-toggleable__control:checked~label.sk-toggleable__label {background-color: #d4ebff;}#sk-container-id-1 div.sk-label input.sk-toggleable__control:checked~label.sk-toggleable__label {background-color: #d4ebff;}#sk-container-id-1 input.sk-hidden--visually {border: 0;clip: rect(1px 1px 1px 1px);clip: rect(1px, 1px, 1px, 1px);height: 1px;margin: -1px;overflow: hidden;padding: 0;position: absolute;width: 1px;}#sk-container-id-1 div.sk-estimator {font-family: monospace;background-color: #f0f8ff;border: 1px dotted black;border-radius: 0.25em;box-sizing: border-box;margin-bottom: 0.5em;}#sk-container-id-1 div.sk-estimator:hover {background-color: #d4ebff;}#sk-container-id-1 div.sk-parallel-item::after {content: \"\";width: 100%;border-bottom: 1px solid gray;flex-grow: 1;}#sk-container-id-1 div.sk-label:hover label.sk-toggleable__label {background-color: #d4ebff;}#sk-container-id-1 div.sk-serial::before {content: \"\";position: absolute;border-left: 1px solid gray;box-sizing: border-box;top: 0;bottom: 0;left: 50%;z-index: 0;}#sk-container-id-1 div.sk-serial {display: flex;flex-direction: column;align-items: center;background-color: white;padding-right: 0.2em;padding-left: 0.2em;position: relative;}#sk-container-id-1 div.sk-item {position: relative;z-index: 1;}#sk-container-id-1 div.sk-parallel {display: flex;align-items: stretch;justify-content: center;background-color: white;position: relative;}#sk-container-id-1 div.sk-item::before, #sk-container-id-1 div.sk-parallel-item::before {content: \"\";position: absolute;border-left: 1px solid gray;box-sizing: border-box;top: 0;bottom: 0;left: 50%;z-index: -1;}#sk-container-id-1 div.sk-parallel-item {display: flex;flex-direction: column;z-index: 1;position: relative;background-color: white;}#sk-container-id-1 div.sk-parallel-item:first-child::after {align-self: flex-end;width: 50%;}#sk-container-id-1 div.sk-parallel-item:last-child::after {align-self: flex-start;width: 50%;}#sk-container-id-1 div.sk-parallel-item:only-child::after {width: 0;}#sk-container-id-1 div.sk-dashed-wrapped {border: 1px dashed gray;margin: 0 0.4em 0.5em 0.4em;box-sizing: border-box;padding-bottom: 0.4em;background-color: white;}#sk-container-id-1 div.sk-label label {font-family: monospace;font-weight: bold;display: inline-block;line-height: 1.2em;}#sk-container-id-1 div.sk-label-container {text-align: center;}#sk-container-id-1 div.sk-container {/* jupyter's `normalize.less` sets `[hidden] { display: none; }` but bootstrap.min.css set `[hidden] { display: none !important; }` so we also need the `!important` here to be able to override the default hidden behavior on the sphinx rendered scikit-learn.org. See: https://github.com/scikit-learn/scikit-learn/issues/21755 */display: inline-block !important;position: relative;}#sk-container-id-1 div.sk-text-repr-fallback {display: none;}</style><div id=\"sk-container-id-1\" class=\"sk-top-container\"><div class=\"sk-text-repr-fallback\"><pre>RidgeClassifier(max_iter=1000, tol=0.001)</pre><b>In a Jupyter environment, please rerun this cell to show the HTML representation or trust the notebook. <br />On GitHub, the HTML representation is unable to render, please try loading this page with nbviewer.org.</b></div><div class=\"sk-container\" hidden><div class=\"sk-item\"><div class=\"sk-estimator sk-toggleable\"><input class=\"sk-toggleable__control sk-hidden--visually\" id=\"sk-estimator-id-1\" type=\"checkbox\" checked><label for=\"sk-estimator-id-1\" class=\"sk-toggleable__label sk-toggleable__label-arrow\">RidgeClassifier</label><div class=\"sk-toggleable__content\"><pre>RidgeClassifier(max_iter=1000, tol=0.001)</pre></div></div></div></div></div>"
      ],
      "text/plain": [
       "RidgeClassifier(max_iter=1000, tol=0.001)"
      ]
     },
     "execution_count": 68,
     "metadata": {},
     "output_type": "execute_result"
    }
   ],
   "source": [
    "ridge_classifier = RidgeClassifier(\n",
    "    alpha=alpha, max_iter=max_iter, solver=solver, tol=tol)\n",
    "ridge_classifier.fit(X_train, y_train)"
   ]
  },
  {
   "cell_type": "code",
   "execution_count": 69,
   "id": "04571e29",
   "metadata": {
    "execution": {
     "iopub.execute_input": "2024-05-12T04:20:54.259897Z",
     "iopub.status.busy": "2024-05-12T04:20:54.259531Z",
     "iopub.status.idle": "2024-05-12T04:20:54.267064Z",
     "shell.execute_reply": "2024-05-12T04:20:54.266125Z"
    },
    "papermill": {
     "duration": 0.042539,
     "end_time": "2024-05-12T04:20:54.269067",
     "exception": false,
     "start_time": "2024-05-12T04:20:54.226528",
     "status": "completed"
    },
    "tags": []
   },
   "outputs": [
    {
     "data": {
      "text/plain": [
       "Product_ID                    object\n",
       "Gender                         int64\n",
       "Age                            int64\n",
       "Occupation                     int64\n",
       "Stay_In_Current_City_Years     int64\n",
       "Marital_Status                 int64\n",
       "Product_Category_1             int64\n",
       "Product_Category_2             int64\n",
       "Product_Category_3             int64\n",
       "Purchase                       int64\n",
       "A                              int64\n",
       "B                              int64\n",
       "C                              int64\n",
       "dtype: object"
      ]
     },
     "execution_count": 69,
     "metadata": {},
     "output_type": "execute_result"
    }
   ],
   "source": [
    "sample_df.dtypes"
   ]
  },
  {
   "cell_type": "code",
   "execution_count": 70,
   "id": "cdf4a35c",
   "metadata": {
    "execution": {
     "iopub.execute_input": "2024-05-12T04:20:54.319551Z",
     "iopub.status.busy": "2024-05-12T04:20:54.319208Z",
     "iopub.status.idle": "2024-05-12T04:20:54.339965Z",
     "shell.execute_reply": "2024-05-12T04:20:54.338828Z"
    },
    "papermill": {
     "duration": 0.049074,
     "end_time": "2024-05-12T04:20:54.342616",
     "exception": false,
     "start_time": "2024-05-12T04:20:54.293542",
     "status": "completed"
    },
    "tags": []
   },
   "outputs": [],
   "source": [
    "y_pred=ridge_classifier.predict(X_test)"
   ]
  },
  {
   "cell_type": "code",
   "execution_count": 71,
   "id": "44945de5",
   "metadata": {
    "execution": {
     "iopub.execute_input": "2024-05-12T04:20:54.429129Z",
     "iopub.status.busy": "2024-05-12T04:20:54.428546Z",
     "iopub.status.idle": "2024-05-12T04:20:54.433686Z",
     "shell.execute_reply": "2024-05-12T04:20:54.432703Z"
    },
    "papermill": {
     "duration": 0.051937,
     "end_time": "2024-05-12T04:20:54.436854",
     "exception": false,
     "start_time": "2024-05-12T04:20:54.384917",
     "status": "completed"
    },
    "tags": []
   },
   "outputs": [],
   "source": [
    "#y_pred=ridge_classifier.predict([[0,0,10,2,0,12,14.0,16.0,1,0,0]])"
   ]
  },
  {
   "cell_type": "code",
   "execution_count": 72,
   "id": "f5f434d2",
   "metadata": {
    "execution": {
     "iopub.execute_input": "2024-05-12T04:20:54.491784Z",
     "iopub.status.busy": "2024-05-12T04:20:54.491051Z",
     "iopub.status.idle": "2024-05-12T04:20:54.499526Z",
     "shell.execute_reply": "2024-05-12T04:20:54.498634Z"
    },
    "papermill": {
     "duration": 0.036104,
     "end_time": "2024-05-12T04:20:54.501698",
     "exception": false,
     "start_time": "2024-05-12T04:20:54.465594",
     "status": "completed"
    },
    "tags": []
   },
   "outputs": [
    {
     "data": {
      "text/plain": [
       "array([7011, 7011, 7011, 7011, 7011, 7011, 7011, 7011, 7011, 7011, 7011,\n",
       "       7011, 7011, 7011, 7011, 7011, 7011, 7011, 7011, 7011, 7011, 7011,\n",
       "       7011, 7011, 7011, 7011, 7011, 7011, 7011, 7011, 7011, 7011, 7011,\n",
       "       7011, 7011, 7011, 7011, 7011, 7011, 7011, 7011, 7011, 7011, 7011,\n",
       "       7011, 7011, 7011, 7011, 7011, 7011, 7011, 7011, 7011, 7011, 7011,\n",
       "       7011, 7011, 7011, 7011, 7011, 7011, 7011, 7011, 7011, 7011, 7011,\n",
       "       7011, 7011, 7011, 7011, 7011, 7011, 7011, 7011, 7011, 7011, 7011,\n",
       "       7011, 7011, 7011, 7011, 7011, 7011, 7011, 7011, 7011, 7011, 7011,\n",
       "       7011, 7011, 7011, 7011, 7011, 7011, 7011, 7011, 7011, 7011, 7011,\n",
       "       7011, 7011, 7011, 7011, 7011, 7011, 7011, 7011, 7011, 7011, 7011,\n",
       "       7011, 7011, 7011, 7011, 7011, 7011, 7011, 7011, 7011, 7011, 7011,\n",
       "       7011, 7011, 7011, 7011, 7011, 7011, 7011, 7011, 7011, 7011, 7011,\n",
       "       7011, 7011, 7011, 7011, 7011, 7011, 7011, 7011, 7011, 7011, 7011,\n",
       "       7011, 7011, 7011, 7011, 7011, 7011, 7011, 7011, 7011, 7011, 7011,\n",
       "       7011, 7011, 7011, 7011, 7011, 7011, 7011, 7011, 7011, 7011, 7011,\n",
       "       7011, 7011, 7011, 7011, 7011, 7011, 7011, 7011, 7011, 7011, 7011,\n",
       "       7011, 7011, 7011, 7011, 7011, 7011, 7011, 7011, 7011, 7011, 7011,\n",
       "       7011, 7011, 7011, 7011, 7011, 7011, 7011, 7011, 7011, 7011, 7011,\n",
       "       7011, 7011, 7011, 7011, 7011, 7011, 7011, 7011, 7011, 7011, 7011,\n",
       "       7011, 7011, 7011, 7011, 7011, 7011, 7011, 7011, 7011, 7011, 7011,\n",
       "       7011, 7011, 7011, 7011, 7011, 7011, 7011, 7011, 7011, 7011, 7011,\n",
       "       7011, 7011, 7011, 7011, 7011, 7011, 7011, 7011, 7011, 7011, 7011,\n",
       "       7011, 7011, 7011, 7011, 7011, 7011, 7011, 7011, 7011, 7011, 7011,\n",
       "       7011, 7011, 7011, 7011, 7011, 7011, 7011, 7011, 7011, 7011, 7011,\n",
       "       7011, 7011, 7011, 7011, 7011, 7011, 7011, 7011, 7011, 7011, 7011,\n",
       "       7011, 7011, 7011, 7011, 7011, 7011, 7011, 7011, 7011, 7011, 7011,\n",
       "       7011, 7011, 7011, 7011, 7011, 7011, 7011, 7011, 7011, 7011, 7011,\n",
       "       7011, 7011, 7011, 7011, 7011, 7011, 7011, 7011, 7011, 7011, 7011,\n",
       "       7011, 7011, 7011, 7011, 7011, 7011, 7011, 7011, 7011, 7011, 7011,\n",
       "       7011, 7011, 7011, 7011, 7011, 7011, 7011, 7011, 7011, 7011, 7011,\n",
       "       7011, 7011, 7011, 7011, 7011, 7011, 7011, 7011, 7011, 7011, 7011,\n",
       "       7011, 7011, 7011, 7011, 7011, 7011, 7011, 7011, 7011, 7011, 7011,\n",
       "       7011, 7011, 7011, 7011, 7011, 7011, 7011, 7011, 7011, 7011, 7011,\n",
       "       7011, 7011, 7011, 7011, 7011, 7011, 7011, 7011, 7011, 7011, 7011,\n",
       "       7011, 7011, 7011, 7011, 7011, 7011, 7011, 7011, 7011, 7011, 7011,\n",
       "       7011, 7011, 7011, 7011, 7011, 7011, 7011, 7011, 7011, 7011, 7011,\n",
       "       7011, 7011, 7011, 7011, 7011, 7011, 7011, 7011, 7011, 7011, 7011,\n",
       "       7011, 7011, 7011, 7011, 7011, 7011, 7011, 7011, 7011, 7011, 7011,\n",
       "       7011, 7011, 7011, 7011, 7011, 7011, 7011, 7011, 7011, 7011, 7011,\n",
       "       7011, 7011, 7011, 7011, 7011, 7011, 7011, 7011, 7011, 7011, 7011,\n",
       "       7011, 7011, 7011, 7011, 7011, 7011, 7011, 7011, 7011, 7011, 7011,\n",
       "       7011, 7011, 7011, 7011, 7011, 7011, 7011, 7011, 7011, 7011, 7011,\n",
       "       7011, 7011, 7011, 7011, 7011, 7011, 7011, 7011, 7011, 7011, 7011,\n",
       "       7011, 7011, 7011, 7011, 7011, 7011, 7011, 7011, 7011, 7011, 7011,\n",
       "       7011, 7011, 7011, 7011, 7011, 7011, 7011, 7011, 7011, 7011, 7011,\n",
       "       7011, 7011, 7011, 7011, 7011, 7011, 7011, 7011, 7011, 7011, 7011,\n",
       "       7011, 7011, 7011, 7011, 7011, 7011, 7011, 7011, 7011, 7011, 7011,\n",
       "       7011, 7011, 7011, 7011, 7011, 7011, 7011, 7011, 7011, 7011, 7011,\n",
       "       7011, 7011, 7011, 7011, 7011, 7011, 7011, 7011, 7011, 7011, 7011,\n",
       "       7011, 7011, 7011, 7011, 7011, 7011, 7011, 7011, 7011, 7011, 7011,\n",
       "       7011, 7011, 7011, 7011, 7011, 7011, 7011, 7011, 7011, 7011, 7011,\n",
       "       7011, 7011, 7011, 7011, 7011, 7011, 7011, 7011, 7011, 7011, 7011,\n",
       "       7011, 7011, 7011, 7011, 7011, 7011, 7011, 7011, 7011, 7011, 7011,\n",
       "       7011, 7011, 7011, 7011, 7011, 7011, 7011, 7011, 7011, 7011, 7011,\n",
       "       7011, 7011, 7011, 7011, 7011, 7011, 7011, 7011, 7011, 7011, 7011,\n",
       "       7011, 7011, 7011, 7011, 7011, 7011, 7011, 7011, 7011, 7011, 7011,\n",
       "       7011, 7011, 7011, 7011, 7011, 7011, 7011, 7011, 7011, 7011, 7011,\n",
       "       7011, 7011, 7011, 7011, 7011, 7011, 7011, 7011, 7011, 7011, 7011,\n",
       "       7011, 7011, 7011, 7011, 7011, 7011, 7011, 7011, 7011, 7011, 7011,\n",
       "       7011, 7011, 7011, 7011, 7011, 7011, 7011, 7011, 7011, 7011, 7011,\n",
       "       7011, 7011, 7011, 7011, 7011, 7011, 7011, 7011, 7011, 7011, 7011,\n",
       "       7011, 7011, 7011, 7011, 7011, 7011, 7011, 7011, 7011, 7011, 7011,\n",
       "       7011, 7011, 7011, 7011, 7011, 7011, 7011, 7011, 7011, 7011, 7011,\n",
       "       7011, 7011, 7011, 7011, 7011, 7011, 7011, 7011, 7011, 7011, 7011,\n",
       "       7011, 7011, 7011, 7011, 7011, 7011, 7011, 7011, 7011, 7011, 7011,\n",
       "       7011, 7011, 7011, 7011, 7011, 7011, 7011, 7011, 7011, 7011, 7011,\n",
       "       7011, 7011, 7011, 7011, 7011, 7011, 7011, 7011, 7011, 7011, 7011,\n",
       "       7011, 7011, 7011, 7011, 7011, 7011, 7011, 7011, 7011, 7011, 7011,\n",
       "       7011, 7011, 7011, 7011, 7011, 7011, 7011, 7011, 7011, 7011, 7011,\n",
       "       7011, 7011, 7011, 7011, 7011, 7011, 7011, 7011, 7011, 7011, 7011,\n",
       "       7011, 7011, 7011, 7011, 7011, 7011, 7011, 7011, 7011, 7011, 7011,\n",
       "       7011, 7011, 7011, 7011, 7011, 7011, 7011, 7011, 7011, 7011, 7011,\n",
       "       7011, 7011, 7011, 7011, 7011, 7011, 7011, 7011, 7011, 7011, 7011,\n",
       "       7011, 7011, 7011, 7011, 7011, 7011, 7011, 7011, 7011, 7011, 7011,\n",
       "       7011, 7011, 7011, 7011, 7011, 7011, 7011, 7011, 7011, 7011, 7011,\n",
       "       7011, 7011, 7011, 7011, 7011, 7011, 7011, 7011, 7011, 7011, 7011,\n",
       "       7011, 7011, 7011, 7011, 7011, 7011, 7011, 7011, 7011, 7011, 7011,\n",
       "       7011, 7011, 7011, 7011, 7011, 7011, 7011, 7011, 7011, 7011, 7011,\n",
       "       7011, 7011, 7011, 7011, 7011, 7011, 7011, 7011, 7011, 7011, 7011,\n",
       "       7011, 7011, 7011, 7011, 7011, 7011, 7011, 7011, 7011, 7011, 7011,\n",
       "       7011, 7011, 7011, 7011, 7011, 7011, 7011, 7011, 7011, 7011, 7011,\n",
       "       7011, 7011, 7011, 7011, 7011, 7011, 7011, 7011, 7011, 7011, 7011,\n",
       "       7011, 7011, 7011, 7011, 7011, 7011, 7011, 7011, 7011, 7011, 7011,\n",
       "       7011, 7011, 7011, 7011, 7011, 7011, 7011, 7011, 7011, 7011, 7011,\n",
       "       7011, 7011, 7011, 7011, 7011, 7011, 7011, 7011, 7011, 7011, 7011,\n",
       "       7011, 7011, 7011, 7011, 7011, 7011, 7011, 7011, 7011, 7011, 7011,\n",
       "       7011, 7011, 7011, 7011, 7011, 7011, 7011, 7011, 7011, 7011, 7011,\n",
       "       7011, 7011, 7011, 7011, 7011, 7011, 7011, 7011, 7011, 7011, 7011,\n",
       "       7011, 7011, 7011, 7011, 7011, 7011, 7011, 7011, 7011, 7011, 7011,\n",
       "       7011, 7011, 7011, 7011, 7011, 7011, 7011, 7011, 7011, 7011, 7011,\n",
       "       7011, 7011, 7011, 7011, 7011, 7011, 7011, 7011, 7011, 7011])"
      ]
     },
     "execution_count": 72,
     "metadata": {},
     "output_type": "execute_result"
    }
   ],
   "source": [
    "y_pred"
   ]
  },
  {
   "cell_type": "code",
   "execution_count": 73,
   "id": "dfa4567a",
   "metadata": {
    "execution": {
     "iopub.execute_input": "2024-05-12T04:20:54.553207Z",
     "iopub.status.busy": "2024-05-12T04:20:54.552478Z",
     "iopub.status.idle": "2024-05-12T04:20:54.558318Z",
     "shell.execute_reply": "2024-05-12T04:20:54.557389Z"
    },
    "papermill": {
     "duration": 0.033743,
     "end_time": "2024-05-12T04:20:54.560376",
     "exception": false,
     "start_time": "2024-05-12T04:20:54.526633",
     "status": "completed"
    },
    "tags": []
   },
   "outputs": [
    {
     "data": {
      "text/plain": [
       "(1000,)"
      ]
     },
     "execution_count": 73,
     "metadata": {},
     "output_type": "execute_result"
    }
   ],
   "source": [
    "y_pred.shape"
   ]
  },
  {
   "cell_type": "code",
   "execution_count": 74,
   "id": "a57391b0",
   "metadata": {
    "execution": {
     "iopub.execute_input": "2024-05-12T04:20:54.611522Z",
     "iopub.status.busy": "2024-05-12T04:20:54.610972Z",
     "iopub.status.idle": "2024-05-12T04:20:54.617070Z",
     "shell.execute_reply": "2024-05-12T04:20:54.616132Z"
    },
    "papermill": {
     "duration": 0.034123,
     "end_time": "2024-05-12T04:20:54.619250",
     "exception": false,
     "start_time": "2024-05-12T04:20:54.585127",
     "status": "completed"
    },
    "tags": []
   },
   "outputs": [
    {
     "name": "stdout",
     "output_type": "stream",
     "text": [
      "Accuracy: 0.295\n"
     ]
    }
   ],
   "source": [
    "accuracy = accuracy_score(y_test, y_pred)\n",
    "print(\"Accuracy:\", accuracy)"
   ]
  },
  {
   "cell_type": "code",
   "execution_count": 75,
   "id": "020c9780",
   "metadata": {
    "execution": {
     "iopub.execute_input": "2024-05-12T04:20:54.670893Z",
     "iopub.status.busy": "2024-05-12T04:20:54.670196Z",
     "iopub.status.idle": "2024-05-12T04:20:54.693695Z",
     "shell.execute_reply": "2024-05-12T04:20:54.691591Z"
    },
    "papermill": {
     "duration": 0.052309,
     "end_time": "2024-05-12T04:20:54.696639",
     "exception": false,
     "start_time": "2024-05-12T04:20:54.644330",
     "status": "completed"
    },
    "tags": []
   },
   "outputs": [
    {
     "name": "stdout",
     "output_type": "stream",
     "text": [
      "              precision    recall  f1-score   support\n",
      "\n",
      "          13       0.00      0.00      0.00         1\n",
      "         241       0.00      0.00      0.00         1\n",
      "         486       0.00      0.00      0.00         1\n",
      "         565       0.00      0.00      0.00         1\n",
      "         572       0.00      0.00      0.00         1\n",
      "         574       0.00      0.00      0.00         1\n",
      "         607       0.00      0.00      0.00         1\n",
      "         734       0.00      0.00      0.00         1\n",
      "         742       0.00      0.00      0.00         1\n",
      "         751       0.00      0.00      0.00         1\n",
      "         754       0.00      0.00      0.00         1\n",
      "         782       0.00      0.00      0.00         1\n",
      "         803       0.00      0.00      0.00         1\n",
      "        1038       0.00      0.00      0.00         1\n",
      "        1068       0.00      0.00      0.00         1\n",
      "        1376       0.00      0.00      0.00         1\n",
      "        1380       0.00      0.00      0.00         1\n",
      "        1385       0.00      0.00      0.00         1\n",
      "        1405       0.00      0.00      0.00         1\n",
      "        1434       0.00      0.00      0.00         1\n",
      "        1499       0.00      0.00      0.00         1\n",
      "        1507       0.00      0.00      0.00         1\n",
      "        1534       0.00      0.00      0.00         1\n",
      "        1582       0.00      0.00      0.00         1\n",
      "        1683       0.00      0.00      0.00         1\n",
      "        1748       0.00      0.00      0.00         2\n",
      "        1765       0.00      0.00      0.00         1\n",
      "        1776       0.00      0.00      0.00         1\n",
      "        1790       0.00      0.00      0.00         1\n",
      "        1819       0.00      0.00      0.00         1\n",
      "        1836       0.00      0.00      0.00         1\n",
      "        1934       0.00      0.00      0.00         1\n",
      "        1940       0.00      0.00      0.00         1\n",
      "        2010       0.00      0.00      0.00         1\n",
      "        2016       0.00      0.00      0.00         1\n",
      "        2047       0.00      0.00      0.00         1\n",
      "        2051       0.00      0.00      0.00         1\n",
      "        2101       0.00      0.00      0.00         1\n",
      "        2106       0.00      0.00      0.00         1\n",
      "        2160       0.00      0.00      0.00         1\n",
      "        2318       0.00      0.00      0.00         1\n",
      "        2768       0.00      0.00      0.00         1\n",
      "        2832       0.00      0.00      0.00         1\n",
      "        2860       0.00      0.00      0.00         1\n",
      "        2866       0.00      0.00      0.00         1\n",
      "        2979       0.00      0.00      0.00         1\n",
      "        3035       0.00      0.00      0.00         1\n",
      "        3087       0.00      0.00      0.00         1\n",
      "        3144       0.00      0.00      0.00         1\n",
      "        3163       0.00      0.00      0.00         1\n",
      "        3320       0.00      0.00      0.00         1\n",
      "        3466       0.00      0.00      0.00         1\n",
      "        3470       0.00      0.00      0.00         3\n",
      "        3478       0.00      0.00      0.00         1\n",
      "        3482       0.00      0.00      0.00         1\n",
      "        3484       0.00      0.00      0.00         1\n",
      "        3488       0.00      0.00      0.00         1\n",
      "        3500       0.00      0.00      0.00         1\n",
      "        3501       0.00      0.00      0.00         1\n",
      "        3505       0.00      0.00      0.00         1\n",
      "        3537       0.00      0.00      0.00         1\n",
      "        3544       0.00      0.00      0.00         1\n",
      "        3553       0.00      0.00      0.00         1\n",
      "        3555       0.00      0.00      0.00         1\n",
      "        3559       0.00      0.00      0.00         1\n",
      "        3562       0.00      0.00      0.00         1\n",
      "        3574       0.00      0.00      0.00         1\n",
      "        3589       0.00      0.00      0.00         1\n",
      "        3591       0.00      0.00      0.00         1\n",
      "        3604       0.00      0.00      0.00         1\n",
      "        3612       0.00      0.00      0.00         1\n",
      "        3615       0.00      0.00      0.00         1\n",
      "        3622       0.00      0.00      0.00         1\n",
      "        3627       0.00      0.00      0.00         1\n",
      "        3690       0.00      0.00      0.00         1\n",
      "        3697       0.00      0.00      0.00         1\n",
      "        3700       0.00      0.00      0.00         1\n",
      "        3723       0.00      0.00      0.00         2\n",
      "        3728       0.00      0.00      0.00         1\n",
      "        3740       0.00      0.00      0.00         1\n",
      "        3749       0.00      0.00      0.00         1\n",
      "        3750       0.00      0.00      0.00         1\n",
      "        3814       0.00      0.00      0.00         1\n",
      "        3822       0.00      0.00      0.00         1\n",
      "        3829       0.00      0.00      0.00         1\n",
      "        3847       0.00      0.00      0.00         1\n",
      "        3852       0.00      0.00      0.00         1\n",
      "        3934       0.00      0.00      0.00         1\n",
      "        3952       0.00      0.00      0.00         1\n",
      "        3956       0.00      0.00      0.00         1\n",
      "        3980       0.00      0.00      0.00         1\n",
      "        3987       0.00      0.00      0.00         1\n",
      "        3994       0.00      0.00      0.00         1\n",
      "        4006       0.00      0.00      0.00         1\n",
      "        4010       0.00      0.00      0.00         1\n",
      "        4023       0.00      0.00      0.00         1\n",
      "        4039       0.00      0.00      0.00         2\n",
      "        4042       0.00      0.00      0.00         1\n",
      "        4066       0.00      0.00      0.00         1\n",
      "        4098       0.00      0.00      0.00         1\n",
      "        4121       0.00      0.00      0.00         1\n",
      "        4185       0.00      0.00      0.00         1\n",
      "        4194       0.00      0.00      0.00         1\n",
      "        4207       0.00      0.00      0.00         1\n",
      "        4225       0.00      0.00      0.00         1\n",
      "        4232       0.00      0.00      0.00         1\n",
      "        4247       0.00      0.00      0.00         1\n",
      "        4249       0.00      0.00      0.00         1\n",
      "        4274       0.00      0.00      0.00         1\n",
      "        4346       0.00      0.00      0.00         1\n",
      "        4409       0.00      0.00      0.00         1\n",
      "        4426       0.00      0.00      0.00         1\n",
      "        4427       0.00      0.00      0.00         1\n",
      "        4441       0.00      0.00      0.00         1\n",
      "        4460       0.00      0.00      0.00         1\n",
      "        4505       0.00      0.00      0.00         1\n",
      "        4520       0.00      0.00      0.00         1\n",
      "        4526       0.00      0.00      0.00         1\n",
      "        4609       0.00      0.00      0.00         1\n",
      "        4636       0.00      0.00      0.00         1\n",
      "        4666       0.00      0.00      0.00         1\n",
      "        5139       0.00      0.00      0.00         1\n",
      "        5165       0.00      0.00      0.00         1\n",
      "        5169       0.00      0.00      0.00         1\n",
      "        5171       0.00      0.00      0.00         1\n",
      "        5177       0.00      0.00      0.00         1\n",
      "        5185       0.00      0.00      0.00         1\n",
      "        5186       0.00      0.00      0.00         2\n",
      "        5190       0.00      0.00      0.00         1\n",
      "        5194       0.00      0.00      0.00         1\n",
      "        5207       0.00      0.00      0.00         1\n",
      "        5208       0.00      0.00      0.00         1\n",
      "        5214       0.00      0.00      0.00         1\n",
      "        5217       0.00      0.00      0.00         1\n",
      "        5227       0.00      0.00      0.00         1\n",
      "        5230       0.00      0.00      0.00         1\n",
      "        5231       0.00      0.00      0.00         1\n",
      "        5232       0.00      0.00      0.00         1\n",
      "        5253       0.00      0.00      0.00         1\n",
      "        5269       0.00      0.00      0.00         1\n",
      "        5279       0.00      0.00      0.00         1\n",
      "        5290       0.00      0.00      0.00         1\n",
      "        5296       0.00      0.00      0.00         1\n",
      "        5315       0.00      0.00      0.00         1\n",
      "        5323       0.00      0.00      0.00         2\n",
      "        5327       0.00      0.00      0.00         1\n",
      "        5337       0.00      0.00      0.00         1\n",
      "        5343       0.00      0.00      0.00         1\n",
      "        5347       0.00      0.00      0.00         1\n",
      "        5353       0.00      0.00      0.00         1\n",
      "        5357       0.00      0.00      0.00         2\n",
      "        5369       0.00      0.00      0.00         1\n",
      "        5384       0.00      0.00      0.00         1\n",
      "        5387       0.00      0.00      0.00         1\n",
      "        5392       0.00      0.00      0.00         1\n",
      "        5395       0.00      0.00      0.00         1\n",
      "        5399       0.00      0.00      0.00         1\n",
      "        5409       0.00      0.00      0.00         1\n",
      "        5411       0.00      0.00      0.00         1\n",
      "        5416       0.00      0.00      0.00         2\n",
      "        5420       0.00      0.00      0.00         1\n",
      "        5421       0.00      0.00      0.00         1\n",
      "        5455       0.00      0.00      0.00         1\n",
      "        5458       0.00      0.00      0.00         2\n",
      "        5459       0.00      0.00      0.00         1\n",
      "        5468       0.00      0.00      0.00         1\n",
      "        5471       0.00      0.00      0.00         1\n",
      "        5478       0.00      0.00      0.00         1\n",
      "        5818       0.00      0.00      0.00         1\n",
      "        5822       0.00      0.00      0.00         1\n",
      "        5826       0.00      0.00      0.00         1\n",
      "        5834       0.00      0.00      0.00         1\n",
      "        5858       0.00      0.00      0.00         1\n",
      "        5860       0.00      0.00      0.00         1\n",
      "        5862       0.00      0.00      0.00         1\n",
      "        5865       0.00      0.00      0.00         1\n",
      "        5877       0.00      0.00      0.00         1\n",
      "        5901       0.00      0.00      0.00         2\n",
      "        5905       0.00      0.00      0.00         1\n",
      "        5907       0.00      0.00      0.00         1\n",
      "        5914       0.00      0.00      0.00         1\n",
      "        5924       0.00      0.00      0.00         1\n",
      "        5926       0.00      0.00      0.00         1\n",
      "        5952       0.00      0.00      0.00         1\n",
      "        5955       0.00      0.00      0.00         1\n",
      "        5957       0.00      0.00      0.00         1\n",
      "        5961       0.00      0.00      0.00         1\n",
      "        5962       0.00      0.00      0.00         1\n",
      "        5966       0.00      0.00      0.00         1\n",
      "        5977       0.00      0.00      0.00         1\n",
      "        5978       0.00      0.00      0.00         1\n",
      "        5982       0.00      0.00      0.00         1\n",
      "        5986       0.00      0.00      0.00         1\n",
      "        5992       0.00      0.00      0.00         1\n",
      "        6001       0.00      0.00      0.00         1\n",
      "        6004       0.00      0.00      0.00         1\n",
      "        6042       0.00      0.00      0.00         1\n",
      "        6051       0.00      0.00      0.00         1\n",
      "        6075       0.00      0.00      0.00         1\n",
      "        6088       0.00      0.00      0.00         1\n",
      "        6096       0.00      0.00      0.00         1\n",
      "        6112       0.00      0.00      0.00         1\n",
      "        6122       0.00      0.00      0.00         1\n",
      "        6148       0.00      0.00      0.00         1\n",
      "        6151       0.00      0.00      0.00         1\n",
      "        6153       0.00      0.00      0.00         1\n",
      "        6154       0.00      0.00      0.00         1\n",
      "        6158       0.00      0.00      0.00         1\n",
      "        6168       0.00      0.00      0.00         1\n",
      "        6182       0.00      0.00      0.00         1\n",
      "        6204       0.00      0.00      0.00         1\n",
      "        6381       0.00      0.00      0.00         1\n",
      "        6585       0.00      0.00      0.00         1\n",
      "        6792       0.00      0.00      0.00         1\n",
      "        6857       0.00      0.00      0.00         2\n",
      "        6862       0.00      0.00      0.00         1\n",
      "        6882       0.00      0.00      0.00         1\n",
      "        6900       0.00      0.00      0.00         1\n",
      "        6908       0.00      0.00      0.00         1\n",
      "        6910       0.00      0.00      0.00         1\n",
      "        6911       0.00      0.00      0.00         1\n",
      "        6922       0.00      0.00      0.00         1\n",
      "        6926       0.00      0.00      0.00         1\n",
      "        6930       0.00      0.00      0.00         1\n",
      "        6934       0.00      0.00      0.00         1\n",
      "        6945       0.00      0.00      0.00         1\n",
      "        6965       0.00      0.00      0.00         1\n",
      "        6970       0.00      0.00      0.00         1\n",
      "        6971       0.00      0.00      0.00         1\n",
      "        6987       0.00      0.00      0.00         2\n",
      "        6997       0.00      0.00      0.00         1\n",
      "        6999       0.00      0.00      0.00         1\n",
      "        7000       0.00      0.00      0.00         1\n",
      "        7011       0.29      1.00      0.46       295\n",
      "        7013       0.00      0.00      0.00         1\n",
      "        7018       0.00      0.00      0.00         1\n",
      "        7021       0.00      0.00      0.00         1\n",
      "        7023       0.00      0.00      0.00         1\n",
      "        7027       0.00      0.00      0.00         1\n",
      "        7031       0.00      0.00      0.00         1\n",
      "        7033       0.00      0.00      0.00         1\n",
      "        7037       0.00      0.00      0.00         1\n",
      "        7051       0.00      0.00      0.00         1\n",
      "        7052       0.00      0.00      0.00         1\n",
      "        7058       0.00      0.00      0.00         1\n",
      "        7060       0.00      0.00      0.00         1\n",
      "        7063       0.00      0.00      0.00         1\n",
      "        7071       0.00      0.00      0.00         1\n",
      "        7086       0.00      0.00      0.00         1\n",
      "        7088       0.00      0.00      0.00         1\n",
      "        7090       0.00      0.00      0.00         1\n",
      "        7094       0.00      0.00      0.00         1\n",
      "        7098       0.00      0.00      0.00         1\n",
      "        7109       0.00      0.00      0.00         1\n",
      "        7110       0.00      0.00      0.00         2\n",
      "        7113       0.00      0.00      0.00         1\n",
      "        7115       0.00      0.00      0.00         1\n",
      "        7120       0.00      0.00      0.00         1\n",
      "        7123       0.00      0.00      0.00         1\n",
      "        7125       0.00      0.00      0.00         1\n",
      "        7144       0.00      0.00      0.00         2\n",
      "        7147       0.00      0.00      0.00         1\n",
      "        7157       0.00      0.00      0.00         2\n",
      "        7159       0.00      0.00      0.00         1\n",
      "        7167       0.00      0.00      0.00         1\n",
      "        7168       0.00      0.00      0.00         1\n",
      "        7172       0.00      0.00      0.00         1\n",
      "        7173       0.00      0.00      0.00         1\n",
      "        7174       0.00      0.00      0.00         1\n",
      "        7182       0.00      0.00      0.00         1\n",
      "        7190       0.00      0.00      0.00         1\n",
      "        7362       0.00      0.00      0.00         1\n",
      "        7368       0.00      0.00      0.00         1\n",
      "        7380       0.00      0.00      0.00         1\n",
      "        7406       0.00      0.00      0.00         1\n",
      "        7547       0.00      0.00      0.00         1\n",
      "        7597       0.00      0.00      0.00         1\n",
      "        7621       0.00      0.00      0.00         1\n",
      "        7655       0.00      0.00      0.00         1\n",
      "        7691       0.00      0.00      0.00         1\n",
      "        7699       0.00      0.00      0.00         1\n",
      "        7741       0.00      0.00      0.00         1\n",
      "        7747       0.00      0.00      0.00         1\n",
      "        7756       0.00      0.00      0.00         1\n",
      "        7770       0.00      0.00      0.00         1\n",
      "        7780       0.00      0.00      0.00         1\n",
      "        7781       0.00      0.00      0.00         1\n",
      "        7787       0.00      0.00      0.00         1\n",
      "        7791       0.00      0.00      0.00         1\n",
      "        7806       0.00      0.00      0.00         1\n",
      "        7809       0.00      0.00      0.00         1\n",
      "        7810       0.00      0.00      0.00         1\n",
      "        7818       0.00      0.00      0.00         2\n",
      "        7823       0.00      0.00      0.00         1\n",
      "        7840       0.00      0.00      0.00         1\n",
      "        7843       0.00      0.00      0.00         1\n",
      "        7847       0.00      0.00      0.00         2\n",
      "        7848       0.00      0.00      0.00         1\n",
      "        7854       0.00      0.00      0.00         1\n",
      "        7855       0.00      0.00      0.00         1\n",
      "        7856       0.00      0.00      0.00         1\n",
      "        7863       0.00      0.00      0.00         1\n",
      "        7864       0.00      0.00      0.00         1\n",
      "        7871       0.00      0.00      0.00         1\n",
      "        7882       0.00      0.00      0.00         1\n",
      "        7895       0.00      0.00      0.00         1\n",
      "        7897       0.00      0.00      0.00         2\n",
      "        7901       0.00      0.00      0.00         3\n",
      "        7902       0.00      0.00      0.00         1\n",
      "        7903       0.00      0.00      0.00         1\n",
      "        7905       0.00      0.00      0.00         1\n",
      "        7908       0.00      0.00      0.00         2\n",
      "        7912       0.00      0.00      0.00         1\n",
      "        7914       0.00      0.00      0.00         1\n",
      "        7918       0.00      0.00      0.00         1\n",
      "        7919       0.00      0.00      0.00         1\n",
      "        7921       0.00      0.00      0.00         1\n",
      "        7929       0.00      0.00      0.00         1\n",
      "        7932       0.00      0.00      0.00         1\n",
      "        7936       0.00      0.00      0.00         1\n",
      "        7937       0.00      0.00      0.00         1\n",
      "        7940       0.00      0.00      0.00         1\n",
      "        7945       0.00      0.00      0.00         1\n",
      "        7946       0.00      0.00      0.00         1\n",
      "        7948       0.00      0.00      0.00         1\n",
      "        7950       0.00      0.00      0.00         1\n",
      "        7962       0.00      0.00      0.00         1\n",
      "        7963       0.00      0.00      0.00         1\n",
      "        7973       0.00      0.00      0.00         1\n",
      "        7979       0.00      0.00      0.00         1\n",
      "        7980       0.00      0.00      0.00         1\n",
      "        7983       0.00      0.00      0.00         2\n",
      "        7985       0.00      0.00      0.00         1\n",
      "        7988       0.00      0.00      0.00         1\n",
      "        7992       0.00      0.00      0.00         1\n",
      "        7999       0.00      0.00      0.00         2\n",
      "        8001       0.00      0.00      0.00         2\n",
      "        8010       0.00      0.00      0.00         1\n",
      "        8011       0.00      0.00      0.00         1\n",
      "        8028       0.00      0.00      0.00         2\n",
      "        8031       0.00      0.00      0.00         1\n",
      "        8035       0.00      0.00      0.00         1\n",
      "        8040       0.00      0.00      0.00         1\n",
      "        8046       0.00      0.00      0.00         1\n",
      "        8048       0.00      0.00      0.00         1\n",
      "        8050       0.00      0.00      0.00         1\n",
      "        8053       0.00      0.00      0.00         1\n",
      "        8056       0.00      0.00      0.00         1\n",
      "        8059       0.00      0.00      0.00         1\n",
      "        8060       0.00      0.00      0.00         1\n",
      "        8063       0.00      0.00      0.00         1\n",
      "        8073       0.00      0.00      0.00         1\n",
      "        8083       0.00      0.00      0.00         1\n",
      "        8088       0.00      0.00      0.00         1\n",
      "        8098       0.00      0.00      0.00         1\n",
      "        8109       0.00      0.00      0.00         1\n",
      "        8133       0.00      0.00      0.00         1\n",
      "        8161       0.00      0.00      0.00         1\n",
      "        8172       0.00      0.00      0.00         1\n",
      "        8204       0.00      0.00      0.00         1\n",
      "        8212       0.00      0.00      0.00         1\n",
      "        8224       0.00      0.00      0.00         1\n",
      "        8232       0.00      0.00      0.00         1\n",
      "        8247       0.00      0.00      0.00         1\n",
      "        8306       0.00      0.00      0.00         1\n",
      "        8364       0.00      0.00      0.00         1\n",
      "        8539       0.00      0.00      0.00         1\n",
      "        8572       0.00      0.00      0.00         1\n",
      "        8585       0.00      0.00      0.00         1\n",
      "        8588       0.00      0.00      0.00         1\n",
      "        8594       0.00      0.00      0.00         1\n",
      "        8595       0.00      0.00      0.00         1\n",
      "        8606       0.00      0.00      0.00         1\n",
      "        8607       0.00      0.00      0.00         1\n",
      "        8611       0.00      0.00      0.00         2\n",
      "        8613       0.00      0.00      0.00         1\n",
      "        8653       0.00      0.00      0.00         1\n",
      "        8654       0.00      0.00      0.00         1\n",
      "        8677       0.00      0.00      0.00         1\n",
      "        8681       0.00      0.00      0.00         1\n",
      "        8690       0.00      0.00      0.00         1\n",
      "        8696       0.00      0.00      0.00         1\n",
      "        8699       0.00      0.00      0.00         1\n",
      "        8702       0.00      0.00      0.00         1\n",
      "        8718       0.00      0.00      0.00         1\n",
      "        8723       0.00      0.00      0.00         1\n",
      "        8743       0.00      0.00      0.00         1\n",
      "        8747       0.00      0.00      0.00         1\n",
      "        8748       0.00      0.00      0.00         1\n",
      "        8755       0.00      0.00      0.00         1\n",
      "        8759       0.00      0.00      0.00         1\n",
      "        8769       0.00      0.00      0.00         1\n",
      "        8783       0.00      0.00      0.00         1\n",
      "        8806       0.00      0.00      0.00         1\n",
      "        8818       0.00      0.00      0.00         1\n",
      "        8825       0.00      0.00      0.00         1\n",
      "        8831       0.00      0.00      0.00         1\n",
      "        8834       0.00      0.00      0.00         1\n",
      "        8838       0.00      0.00      0.00         1\n",
      "        8846       0.00      0.00      0.00         1\n",
      "        8862       0.00      0.00      0.00         1\n",
      "        8872       0.00      0.00      0.00         1\n",
      "        8878       0.00      0.00      0.00         1\n",
      "        8879       0.00      0.00      0.00         1\n",
      "        8902       0.00      0.00      0.00         1\n",
      "        8905       0.00      0.00      0.00         1\n",
      "        9535       0.00      0.00      0.00         1\n",
      "        9604       0.00      0.00      0.00         1\n",
      "        9634       0.00      0.00      0.00         1\n",
      "        9642       0.00      0.00      0.00         1\n",
      "        9671       0.00      0.00      0.00         1\n",
      "        9708       0.00      0.00      0.00         1\n",
      "        9714       0.00      0.00      0.00         1\n",
      "        9722       0.00      0.00      0.00         1\n",
      "        9747       0.00      0.00      0.00         1\n",
      "        9767       0.00      0.00      0.00         1\n",
      "        9777       0.00      0.00      0.00         1\n",
      "        9785       0.00      0.00      0.00         1\n",
      "        9791       0.00      0.00      0.00         1\n",
      "        9792       0.00      0.00      0.00         1\n",
      "        9797       0.00      0.00      0.00         1\n",
      "        9816       0.00      0.00      0.00         1\n",
      "        9818       0.00      0.00      0.00         1\n",
      "        9827       0.00      0.00      0.00         1\n",
      "        9840       0.00      0.00      0.00         1\n",
      "        9842       0.00      0.00      0.00         1\n",
      "        9869       0.00      0.00      0.00         1\n",
      "        9872       0.00      0.00      0.00         1\n",
      "        9874       0.00      0.00      0.00         2\n",
      "        9885       0.00      0.00      0.00         1\n",
      "        9886       0.00      0.00      0.00         1\n",
      "        9892       0.00      0.00      0.00         1\n",
      "        9894       0.00      0.00      0.00         1\n",
      "        9898       0.00      0.00      0.00         1\n",
      "        9928       0.00      0.00      0.00         1\n",
      "        9929       0.00      0.00      0.00         1\n",
      "        9931       0.00      0.00      0.00         1\n",
      "        9948       0.00      0.00      0.00         1\n",
      "        9958       0.00      0.00      0.00         1\n",
      "        9959       0.00      0.00      0.00         1\n",
      "        9960       0.00      0.00      0.00         1\n",
      "        9962       0.00      0.00      0.00         1\n",
      "        9963       0.00      0.00      0.00         1\n",
      "        9970       0.00      0.00      0.00         1\n",
      "        9976       0.00      0.00      0.00         1\n",
      "        9978       0.00      0.00      0.00         1\n",
      "        9986       0.00      0.00      0.00         1\n",
      "       10007       0.00      0.00      0.00         1\n",
      "       10008       0.00      0.00      0.00         1\n",
      "       10014       0.00      0.00      0.00         1\n",
      "       10033       0.00      0.00      0.00         1\n",
      "       10038       0.00      0.00      0.00         1\n",
      "       10040       0.00      0.00      0.00         1\n",
      "       10042       0.00      0.00      0.00         1\n",
      "       10045       0.00      0.00      0.00         1\n",
      "       10055       0.00      0.00      0.00         1\n",
      "       10056       0.00      0.00      0.00         1\n",
      "       10069       0.00      0.00      0.00         1\n",
      "       10074       0.00      0.00      0.00         1\n",
      "       10081       0.00      0.00      0.00         1\n",
      "       10598       0.00      0.00      0.00         1\n",
      "       10642       0.00      0.00      0.00         1\n",
      "       10723       0.00      0.00      0.00         1\n",
      "       10786       0.00      0.00      0.00         1\n",
      "       10791       0.00      0.00      0.00         1\n",
      "       10911       0.00      0.00      0.00         1\n",
      "       10949       0.00      0.00      0.00         1\n",
      "       11006       0.00      0.00      0.00         1\n",
      "       11400       0.00      0.00      0.00         1\n",
      "       11405       0.00      0.00      0.00         1\n",
      "       11406       0.00      0.00      0.00         1\n",
      "       11408       0.00      0.00      0.00         1\n",
      "       11416       0.00      0.00      0.00         1\n",
      "       11466       0.00      0.00      0.00         1\n",
      "       11469       0.00      0.00      0.00         1\n",
      "       11553       0.00      0.00      0.00         1\n",
      "       11601       0.00      0.00      0.00         1\n",
      "       11611       0.00      0.00      0.00         1\n",
      "       11616       0.00      0.00      0.00         1\n",
      "       11636       0.00      0.00      0.00         1\n",
      "       11638       0.00      0.00      0.00         1\n",
      "       11680       0.00      0.00      0.00         1\n",
      "       11682       0.00      0.00      0.00         2\n",
      "       11707       0.00      0.00      0.00         1\n",
      "       11710       0.00      0.00      0.00         1\n",
      "       11741       0.00      0.00      0.00         1\n",
      "       11772       0.00      0.00      0.00         1\n",
      "       11776       0.00      0.00      0.00         2\n",
      "       11802       0.00      0.00      0.00         1\n",
      "       11814       0.00      0.00      0.00         1\n",
      "       11821       0.00      0.00      0.00         1\n",
      "       11826       0.00      0.00      0.00         1\n",
      "       11828       0.00      0.00      0.00         1\n",
      "       11835       0.00      0.00      0.00         1\n",
      "       11865       0.00      0.00      0.00         1\n",
      "       11872       0.00      0.00      0.00         1\n",
      "       11875       0.00      0.00      0.00         1\n",
      "       11892       0.00      0.00      0.00         1\n",
      "       11904       0.00      0.00      0.00         1\n",
      "       11926       0.00      0.00      0.00         1\n",
      "       11936       0.00      0.00      0.00         1\n",
      "       11948       0.00      0.00      0.00         1\n",
      "       11962       0.00      0.00      0.00         1\n",
      "       11999       0.00      0.00      0.00         1\n",
      "       12005       0.00      0.00      0.00         1\n",
      "       12008       0.00      0.00      0.00         1\n",
      "       12022       0.00      0.00      0.00         1\n",
      "       12031       0.00      0.00      0.00         1\n",
      "       12041       0.00      0.00      0.00         1\n",
      "       12059       0.00      0.00      0.00         1\n",
      "       12064       0.00      0.00      0.00         1\n",
      "       12066       0.00      0.00      0.00         1\n",
      "       12071       0.00      0.00      0.00         1\n",
      "       12077       0.00      0.00      0.00         1\n",
      "       12100       0.00      0.00      0.00         1\n",
      "       12110       0.00      0.00      0.00         1\n",
      "       12176       0.00      0.00      0.00         1\n",
      "       12189       0.00      0.00      0.00         1\n",
      "       12257       0.00      0.00      0.00         1\n",
      "       12312       0.00      0.00      0.00         1\n",
      "       12343       0.00      0.00      0.00         1\n",
      "       12430       0.00      0.00      0.00         1\n",
      "       12463       0.00      0.00      0.00         1\n",
      "       12671       0.00      0.00      0.00         1\n",
      "       12673       0.00      0.00      0.00         1\n",
      "       12778       0.00      0.00      0.00         1\n",
      "       12826       0.00      0.00      0.00         1\n",
      "       12842       0.00      0.00      0.00         1\n",
      "       12873       0.00      0.00      0.00         1\n",
      "       12881       0.00      0.00      0.00         1\n",
      "       13226       0.00      0.00      0.00         1\n",
      "       13275       0.00      0.00      0.00         1\n",
      "       13279       0.00      0.00      0.00         1\n",
      "       13298       0.00      0.00      0.00         1\n",
      "       13342       0.00      0.00      0.00         1\n",
      "       13362       0.00      0.00      0.00         1\n",
      "       13451       0.00      0.00      0.00         1\n",
      "       13523       0.00      0.00      0.00         1\n",
      "       13549       0.00      0.00      0.00         1\n",
      "       13623       0.00      0.00      0.00         1\n",
      "       13663       0.00      0.00      0.00         1\n",
      "       15184       0.00      0.00      0.00         1\n",
      "       15196       0.00      0.00      0.00         1\n",
      "       15213       0.00      0.00      0.00         1\n",
      "       15274       0.00      0.00      0.00         1\n",
      "       15285       0.00      0.00      0.00         1\n",
      "       15308       0.00      0.00      0.00         1\n",
      "       15319       0.00      0.00      0.00         1\n",
      "       15328       0.00      0.00      0.00         1\n",
      "       15338       0.00      0.00      0.00         1\n",
      "       15339       0.00      0.00      0.00         1\n",
      "       15348       0.00      0.00      0.00         1\n",
      "       15349       0.00      0.00      0.00         1\n",
      "       15359       0.00      0.00      0.00         1\n",
      "       15364       0.00      0.00      0.00         1\n",
      "       15385       0.00      0.00      0.00         1\n",
      "       15388       0.00      0.00      0.00         1\n",
      "       15392       0.00      0.00      0.00         1\n",
      "       15416       0.00      0.00      0.00         1\n",
      "       15460       0.00      0.00      0.00         1\n",
      "       15482       0.00      0.00      0.00         1\n",
      "       15483       0.00      0.00      0.00         1\n",
      "       15519       0.00      0.00      0.00         1\n",
      "       15536       0.00      0.00      0.00         1\n",
      "       15539       0.00      0.00      0.00         1\n",
      "       15556       0.00      0.00      0.00         1\n",
      "       15565       0.00      0.00      0.00         1\n",
      "       15567       0.00      0.00      0.00         1\n",
      "       15578       0.00      0.00      0.00         1\n",
      "       15601       0.00      0.00      0.00         1\n",
      "       15609       0.00      0.00      0.00         1\n",
      "       15614       0.00      0.00      0.00         1\n",
      "       15620       0.00      0.00      0.00         1\n",
      "       15626       0.00      0.00      0.00         2\n",
      "       15627       0.00      0.00      0.00         1\n",
      "       15632       0.00      0.00      0.00         1\n",
      "       15633       0.00      0.00      0.00         1\n",
      "       15659       0.00      0.00      0.00         1\n",
      "       15697       0.00      0.00      0.00         1\n",
      "       15700       0.00      0.00      0.00         1\n",
      "       15708       0.00      0.00      0.00         1\n",
      "       15730       0.00      0.00      0.00         1\n",
      "       15732       0.00      0.00      0.00         1\n",
      "       15736       0.00      0.00      0.00         1\n",
      "       15767       0.00      0.00      0.00         1\n",
      "       15776       0.00      0.00      0.00         1\n",
      "       15777       0.00      0.00      0.00         1\n",
      "       15826       0.00      0.00      0.00         1\n",
      "       15827       0.00      0.00      0.00         1\n",
      "       15833       0.00      0.00      0.00         1\n",
      "       15842       0.00      0.00      0.00         1\n",
      "       15875       0.00      0.00      0.00         1\n",
      "       15891       0.00      0.00      0.00         1\n",
      "       15896       0.00      0.00      0.00         1\n",
      "       15911       0.00      0.00      0.00         1\n",
      "       15924       0.00      0.00      0.00         1\n",
      "       15925       0.00      0.00      0.00         1\n",
      "       15977       0.00      0.00      0.00         1\n",
      "       16048       0.00      0.00      0.00         1\n",
      "       16073       0.00      0.00      0.00         1\n",
      "       16102       0.00      0.00      0.00         1\n",
      "       16144       0.00      0.00      0.00         1\n",
      "       16151       0.00      0.00      0.00         1\n",
      "       16154       0.00      0.00      0.00         1\n",
      "       16169       0.00      0.00      0.00         1\n",
      "       16201       0.00      0.00      0.00         1\n",
      "       16269       0.00      0.00      0.00         1\n",
      "       16303       0.00      0.00      0.00         1\n",
      "       16304       0.00      0.00      0.00         1\n",
      "       16325       0.00      0.00      0.00         1\n",
      "       16334       0.00      0.00      0.00         1\n",
      "       16340       0.00      0.00      0.00         1\n",
      "       16343       0.00      0.00      0.00         1\n",
      "       16345       0.00      0.00      0.00         1\n",
      "       16349       0.00      0.00      0.00         1\n",
      "       16368       0.00      0.00      0.00         1\n",
      "       16407       0.00      0.00      0.00         1\n",
      "       16464       0.00      0.00      0.00         1\n",
      "       16485       0.00      0.00      0.00         1\n",
      "       16538       0.00      0.00      0.00         2\n",
      "       16545       0.00      0.00      0.00         1\n",
      "       16555       0.00      0.00      0.00         1\n",
      "       16604       0.00      0.00      0.00         1\n",
      "       16668       0.00      0.00      0.00         1\n",
      "       16758       0.00      0.00      0.00         1\n",
      "       16827       0.00      0.00      0.00         1\n",
      "       16841       0.00      0.00      0.00         1\n",
      "       18593       0.00      0.00      0.00         1\n",
      "       18649       0.00      0.00      0.00         1\n",
      "       18952       0.00      0.00      0.00         1\n",
      "       18953       0.00      0.00      0.00         1\n",
      "       18979       0.00      0.00      0.00         1\n",
      "       18987       0.00      0.00      0.00         1\n",
      "       19019       0.00      0.00      0.00         1\n",
      "       19034       0.00      0.00      0.00         1\n",
      "       19095       0.00      0.00      0.00         1\n",
      "       19150       0.00      0.00      0.00         1\n",
      "       19170       0.00      0.00      0.00         1\n",
      "       19187       0.00      0.00      0.00         1\n",
      "       19188       0.00      0.00      0.00         1\n",
      "       19202       0.00      0.00      0.00         1\n",
      "       19215       0.00      0.00      0.00         1\n",
      "       19237       0.00      0.00      0.00         1\n",
      "       19269       0.00      0.00      0.00         1\n",
      "       19312       0.00      0.00      0.00         1\n",
      "       19338       0.00      0.00      0.00         1\n",
      "       19357       0.00      0.00      0.00         1\n",
      "       19359       0.00      0.00      0.00         1\n",
      "       19367       0.00      0.00      0.00         1\n",
      "       19377       0.00      0.00      0.00         1\n",
      "       19410       0.00      0.00      0.00         1\n",
      "       19413       0.00      0.00      0.00         1\n",
      "       19437       0.00      0.00      0.00         1\n",
      "       19466       0.00      0.00      0.00         1\n",
      "       19480       0.00      0.00      0.00         1\n",
      "       19485       0.00      0.00      0.00         1\n",
      "       19502       0.00      0.00      0.00         1\n",
      "       19586       0.00      0.00      0.00         1\n",
      "       19665       0.00      0.00      0.00         1\n",
      "       19979       0.00      0.00      0.00         1\n",
      "       20016       0.00      0.00      0.00         1\n",
      "       20150       0.00      0.00      0.00         1\n",
      "       20161       0.00      0.00      0.00         1\n",
      "       20247       0.00      0.00      0.00         1\n",
      "       20264       0.00      0.00      0.00         1\n",
      "       20300       0.00      0.00      0.00         1\n",
      "       20329       0.00      0.00      0.00         1\n",
      "       20465       0.00      0.00      0.00         1\n",
      "       20752       0.00      0.00      0.00         1\n",
      "       20773       0.00      0.00      0.00         1\n",
      "       20792       0.00      0.00      0.00         1\n",
      "       20840       0.00      0.00      0.00         1\n",
      "       21194       0.00      0.00      0.00         1\n",
      "       23247       0.00      0.00      0.00         1\n",
      "\n",
      "    accuracy                           0.29      1000\n",
      "   macro avg       0.00      0.00      0.00      1000\n",
      "weighted avg       0.09      0.29      0.13      1000\n",
      "\n"
     ]
    }
   ],
   "source": [
    "print(classification_report(y_test, y_pred))"
   ]
  },
  {
   "cell_type": "code",
   "execution_count": null,
   "id": "a412b379",
   "metadata": {
    "papermill": {
     "duration": 0.025485,
     "end_time": "2024-05-12T04:20:54.749624",
     "exception": false,
     "start_time": "2024-05-12T04:20:54.724139",
     "status": "completed"
    },
    "tags": []
   },
   "outputs": [],
   "source": []
  }
 ],
 "metadata": {
  "kaggle": {
   "accelerator": "none",
   "dataSources": [
    {
     "datasetId": 4983587,
     "sourceId": 8380539,
     "sourceType": "datasetVersion"
    },
    {
     "datasetId": 4983594,
     "sourceId": 8380547,
     "sourceType": "datasetVersion"
    }
   ],
   "dockerImageVersionId": 30698,
   "isGpuEnabled": false,
   "isInternetEnabled": false,
   "language": "python",
   "sourceType": "notebook"
  },
  "kernelspec": {
   "display_name": "Python 3",
   "language": "python",
   "name": "python3"
  },
  "language_info": {
   "codemirror_mode": {
    "name": "ipython",
    "version": 3
   },
   "file_extension": ".py",
   "mimetype": "text/x-python",
   "name": "python",
   "nbconvert_exporter": "python",
   "pygments_lexer": "ipython3",
   "version": "3.10.13"
  },
  "papermill": {
   "default_parameters": {},
   "duration": 51.680475,
   "end_time": "2024-05-12T04:20:55.294398",
   "environment_variables": {},
   "exception": null,
   "input_path": "__notebook__.ipynb",
   "output_path": "__notebook__.ipynb",
   "parameters": {},
   "start_time": "2024-05-12T04:20:03.613923",
   "version": "2.5.0"
  }
 },
 "nbformat": 4,
 "nbformat_minor": 5
}
