{
 "cells": [
  {
   "cell_type": "code",
   "execution_count": 1,
   "id": "30ba132b",
   "metadata": {
    "_cell_guid": "b1076dfc-b9ad-4769-8c92-a6c4dae69d19",
    "_uuid": "8f2839f25d086af736a60e9eeb907d3b93b6e0e5",
    "execution": {
     "iopub.execute_input": "2024-05-12T05:13:54.861037Z",
     "iopub.status.busy": "2024-05-12T05:13:54.860261Z",
     "iopub.status.idle": "2024-05-12T05:13:57.241448Z",
     "shell.execute_reply": "2024-05-12T05:13:57.240566Z"
    },
    "papermill": {
     "duration": 2.408905,
     "end_time": "2024-05-12T05:13:57.243864",
     "exception": false,
     "start_time": "2024-05-12T05:13:54.834959",
     "status": "completed"
    },
    "tags": []
   },
   "outputs": [],
   "source": [
    "import pandas as pd\n",
    "from matplotlib import pyplot as plt\n",
    "%matplotlib inline\n",
    "import seaborn as sns\n",
    "import warnings\n",
    "warnings.filterwarnings('ignore')"
   ]
  },
  {
   "cell_type": "code",
   "execution_count": 2,
   "id": "411b619d",
   "metadata": {
    "execution": {
     "iopub.execute_input": "2024-05-12T05:13:57.294181Z",
     "iopub.status.busy": "2024-05-12T05:13:57.293451Z",
     "iopub.status.idle": "2024-05-12T05:13:58.468408Z",
     "shell.execute_reply": "2024-05-12T05:13:58.467547Z"
    },
    "papermill": {
     "duration": 1.203416,
     "end_time": "2024-05-12T05:13:58.470675",
     "exception": false,
     "start_time": "2024-05-12T05:13:57.267259",
     "status": "completed"
    },
    "tags": []
   },
   "outputs": [
    {
     "data": {
      "text/html": [
       "<div>\n",
       "<style scoped>\n",
       "    .dataframe tbody tr th:only-of-type {\n",
       "        vertical-align: middle;\n",
       "    }\n",
       "\n",
       "    .dataframe tbody tr th {\n",
       "        vertical-align: top;\n",
       "    }\n",
       "\n",
       "    .dataframe thead th {\n",
       "        text-align: right;\n",
       "    }\n",
       "</style>\n",
       "<table border=\"1\" class=\"dataframe\">\n",
       "  <thead>\n",
       "    <tr style=\"text-align: right;\">\n",
       "      <th></th>\n",
       "      <th>User_ID</th>\n",
       "      <th>Product_ID</th>\n",
       "      <th>Gender</th>\n",
       "      <th>Age</th>\n",
       "      <th>Occupation</th>\n",
       "      <th>City_Category</th>\n",
       "      <th>Stay_In_Current_City_Years</th>\n",
       "      <th>Marital_Status</th>\n",
       "      <th>Product_Category_1</th>\n",
       "      <th>Product_Category_2</th>\n",
       "      <th>Product_Category_3</th>\n",
       "      <th>Purchase</th>\n",
       "    </tr>\n",
       "  </thead>\n",
       "  <tbody>\n",
       "    <tr>\n",
       "      <th>0</th>\n",
       "      <td>1000001</td>\n",
       "      <td>P00069042</td>\n",
       "      <td>F</td>\n",
       "      <td>0-17</td>\n",
       "      <td>10</td>\n",
       "      <td>A</td>\n",
       "      <td>2</td>\n",
       "      <td>0</td>\n",
       "      <td>3</td>\n",
       "      <td>NaN</td>\n",
       "      <td>NaN</td>\n",
       "      <td>8370</td>\n",
       "    </tr>\n",
       "    <tr>\n",
       "      <th>1</th>\n",
       "      <td>1000001</td>\n",
       "      <td>P00248942</td>\n",
       "      <td>F</td>\n",
       "      <td>0-17</td>\n",
       "      <td>10</td>\n",
       "      <td>A</td>\n",
       "      <td>2</td>\n",
       "      <td>0</td>\n",
       "      <td>1</td>\n",
       "      <td>6.0</td>\n",
       "      <td>14.0</td>\n",
       "      <td>15200</td>\n",
       "    </tr>\n",
       "    <tr>\n",
       "      <th>2</th>\n",
       "      <td>1000001</td>\n",
       "      <td>P00087842</td>\n",
       "      <td>F</td>\n",
       "      <td>0-17</td>\n",
       "      <td>10</td>\n",
       "      <td>A</td>\n",
       "      <td>2</td>\n",
       "      <td>0</td>\n",
       "      <td>12</td>\n",
       "      <td>NaN</td>\n",
       "      <td>NaN</td>\n",
       "      <td>1422</td>\n",
       "    </tr>\n",
       "    <tr>\n",
       "      <th>3</th>\n",
       "      <td>1000001</td>\n",
       "      <td>P00085442</td>\n",
       "      <td>F</td>\n",
       "      <td>0-17</td>\n",
       "      <td>10</td>\n",
       "      <td>A</td>\n",
       "      <td>2</td>\n",
       "      <td>0</td>\n",
       "      <td>12</td>\n",
       "      <td>14.0</td>\n",
       "      <td>NaN</td>\n",
       "      <td>1057</td>\n",
       "    </tr>\n",
       "    <tr>\n",
       "      <th>4</th>\n",
       "      <td>1000002</td>\n",
       "      <td>P00285442</td>\n",
       "      <td>M</td>\n",
       "      <td>55+</td>\n",
       "      <td>16</td>\n",
       "      <td>C</td>\n",
       "      <td>4+</td>\n",
       "      <td>0</td>\n",
       "      <td>8</td>\n",
       "      <td>NaN</td>\n",
       "      <td>NaN</td>\n",
       "      <td>7969</td>\n",
       "    </tr>\n",
       "  </tbody>\n",
       "</table>\n",
       "</div>"
      ],
      "text/plain": [
       "   User_ID Product_ID Gender   Age  Occupation City_Category  \\\n",
       "0  1000001  P00069042      F  0-17          10             A   \n",
       "1  1000001  P00248942      F  0-17          10             A   \n",
       "2  1000001  P00087842      F  0-17          10             A   \n",
       "3  1000001  P00085442      F  0-17          10             A   \n",
       "4  1000002  P00285442      M   55+          16             C   \n",
       "\n",
       "  Stay_In_Current_City_Years  Marital_Status  Product_Category_1  \\\n",
       "0                          2               0                   3   \n",
       "1                          2               0                   1   \n",
       "2                          2               0                  12   \n",
       "3                          2               0                  12   \n",
       "4                         4+               0                   8   \n",
       "\n",
       "   Product_Category_2  Product_Category_3  Purchase  \n",
       "0                 NaN                 NaN      8370  \n",
       "1                 6.0                14.0     15200  \n",
       "2                 NaN                 NaN      1422  \n",
       "3                14.0                 NaN      1057  \n",
       "4                 NaN                 NaN      7969  "
      ]
     },
     "execution_count": 2,
     "metadata": {},
     "output_type": "execute_result"
    }
   ],
   "source": [
    "train_df=pd.read_csv('/kaggle/input/dkfjsldkfjsd/train.csv')\n",
    "train_df.head()"
   ]
  },
  {
   "cell_type": "code",
   "execution_count": 3,
   "id": "5eb5b7ae",
   "metadata": {
    "execution": {
     "iopub.execute_input": "2024-05-12T05:13:58.520409Z",
     "iopub.status.busy": "2024-05-12T05:13:58.519948Z",
     "iopub.status.idle": "2024-05-12T05:13:58.526831Z",
     "shell.execute_reply": "2024-05-12T05:13:58.525752Z"
    },
    "papermill": {
     "duration": 0.034492,
     "end_time": "2024-05-12T05:13:58.529260",
     "exception": false,
     "start_time": "2024-05-12T05:13:58.494768",
     "status": "completed"
    },
    "tags": []
   },
   "outputs": [
    {
     "data": {
      "text/plain": [
       "Index(['User_ID', 'Product_ID', 'Gender', 'Age', 'Occupation', 'City_Category',\n",
       "       'Stay_In_Current_City_Years', 'Marital_Status', 'Product_Category_1',\n",
       "       'Product_Category_2', 'Product_Category_3', 'Purchase'],\n",
       "      dtype='object')"
      ]
     },
     "execution_count": 3,
     "metadata": {},
     "output_type": "execute_result"
    }
   ],
   "source": [
    "train_df.columns"
   ]
  },
  {
   "cell_type": "code",
   "execution_count": 4,
   "id": "da6abd67",
   "metadata": {
    "execution": {
     "iopub.execute_input": "2024-05-12T05:13:58.578560Z",
     "iopub.status.busy": "2024-05-12T05:13:58.578198Z",
     "iopub.status.idle": "2024-05-12T05:13:58.585079Z",
     "shell.execute_reply": "2024-05-12T05:13:58.583832Z"
    },
    "papermill": {
     "duration": 0.034589,
     "end_time": "2024-05-12T05:13:58.587306",
     "exception": false,
     "start_time": "2024-05-12T05:13:58.552717",
     "status": "completed"
    },
    "tags": []
   },
   "outputs": [
    {
     "data": {
      "text/plain": [
       "array([False, False, False, False, False, False, False, False, False,\n",
       "       False, False, False])"
      ]
     },
     "execution_count": 4,
     "metadata": {},
     "output_type": "execute_result"
    }
   ],
   "source": [
    "train_df.columns.duplicated()"
   ]
  },
  {
   "cell_type": "code",
   "execution_count": 5,
   "id": "ca99882d",
   "metadata": {
    "execution": {
     "iopub.execute_input": "2024-05-12T05:13:58.637686Z",
     "iopub.status.busy": "2024-05-12T05:13:58.637282Z",
     "iopub.status.idle": "2024-05-12T05:13:58.948665Z",
     "shell.execute_reply": "2024-05-12T05:13:58.947521Z"
    },
    "papermill": {
     "duration": 0.339306,
     "end_time": "2024-05-12T05:13:58.951151",
     "exception": false,
     "start_time": "2024-05-12T05:13:58.611845",
     "status": "completed"
    },
    "tags": []
   },
   "outputs": [
    {
     "data": {
      "text/plain": [
       "User_ID                            0\n",
       "Product_ID                         0\n",
       "Gender                             0\n",
       "Age                                0\n",
       "Occupation                         0\n",
       "City_Category                      0\n",
       "Stay_In_Current_City_Years         0\n",
       "Marital_Status                     0\n",
       "Product_Category_1                 0\n",
       "Product_Category_2            173638\n",
       "Product_Category_3            383247\n",
       "Purchase                           0\n",
       "dtype: int64"
      ]
     },
     "execution_count": 5,
     "metadata": {},
     "output_type": "execute_result"
    }
   ],
   "source": [
    "train_df.isnull().sum()"
   ]
  },
  {
   "cell_type": "code",
   "execution_count": 6,
   "id": "b5e55998",
   "metadata": {
    "execution": {
     "iopub.execute_input": "2024-05-12T05:13:59.001802Z",
     "iopub.status.busy": "2024-05-12T05:13:59.001093Z",
     "iopub.status.idle": "2024-05-12T05:14:08.506112Z",
     "shell.execute_reply": "2024-05-12T05:14:08.505023Z"
    },
    "papermill": {
     "duration": 9.533215,
     "end_time": "2024-05-12T05:14:08.508696",
     "exception": false,
     "start_time": "2024-05-12T05:13:58.975481",
     "status": "completed"
    },
    "tags": []
   },
   "outputs": [
    {
     "data": {
      "text/plain": [
       "<Axes: >"
      ]
     },
     "execution_count": 6,
     "metadata": {},
     "output_type": "execute_result"
    },
    {
     "data": {
      "image/png": "[encoded data removed]",
      "text/plain": [
       "<Figure size 640x480 with 1 Axes>"
      ]
     },
     "metadata": {},
     "output_type": "display_data"
    }
   ],
   "source": [
    "sns.heatmap(train_df.isnull(),yticklabels=False,cmap='viridis',cbar=False)"
   ]
  },
  {
   "cell_type": "code",
   "execution_count": 7,
   "id": "2470c5ab",
   "metadata": {
    "execution": {
     "iopub.execute_input": "2024-05-12T05:14:08.559456Z",
     "iopub.status.busy": "2024-05-12T05:14:08.559099Z",
     "iopub.status.idle": "2024-05-12T05:14:08.719766Z",
     "shell.execute_reply": "2024-05-12T05:14:08.718676Z"
    },
    "papermill": {
     "duration": 0.188496,
     "end_time": "2024-05-12T05:14:08.722001",
     "exception": false,
     "start_time": "2024-05-12T05:14:08.533505",
     "status": "completed"
    },
    "tags": []
   },
   "outputs": [
    {
     "data": {
      "text/html": [
       "<div>\n",
       "<style scoped>\n",
       "    .dataframe tbody tr th:only-of-type {\n",
       "        vertical-align: middle;\n",
       "    }\n",
       "\n",
       "    .dataframe tbody tr th {\n",
       "        vertical-align: top;\n",
       "    }\n",
       "\n",
       "    .dataframe thead th {\n",
       "        text-align: right;\n",
       "    }\n",
       "</style>\n",
       "<table border=\"1\" class=\"dataframe\">\n",
       "  <thead>\n",
       "    <tr style=\"text-align: right;\">\n",
       "      <th></th>\n",
       "      <th>User_ID</th>\n",
       "      <th>Occupation</th>\n",
       "      <th>Marital_Status</th>\n",
       "      <th>Product_Category_1</th>\n",
       "      <th>Product_Category_2</th>\n",
       "      <th>Product_Category_3</th>\n",
       "      <th>Purchase</th>\n",
       "    </tr>\n",
       "  </thead>\n",
       "  <tbody>\n",
       "    <tr>\n",
       "      <th>count</th>\n",
       "      <td>5.500680e+05</td>\n",
       "      <td>550068.000000</td>\n",
       "      <td>550068.000000</td>\n",
       "      <td>550068.000000</td>\n",
       "      <td>376430.000000</td>\n",
       "      <td>166821.000000</td>\n",
       "      <td>550068.000000</td>\n",
       "    </tr>\n",
       "    <tr>\n",
       "      <th>mean</th>\n",
       "      <td>1.003029e+06</td>\n",
       "      <td>8.076707</td>\n",
       "      <td>0.409653</td>\n",
       "      <td>5.404270</td>\n",
       "      <td>9.842329</td>\n",
       "      <td>12.668243</td>\n",
       "      <td>9263.968713</td>\n",
       "    </tr>\n",
       "    <tr>\n",
       "      <th>std</th>\n",
       "      <td>1.727592e+03</td>\n",
       "      <td>6.522660</td>\n",
       "      <td>0.491770</td>\n",
       "      <td>3.936211</td>\n",
       "      <td>5.086590</td>\n",
       "      <td>4.125338</td>\n",
       "      <td>5023.065394</td>\n",
       "    </tr>\n",
       "    <tr>\n",
       "      <th>min</th>\n",
       "      <td>1.000001e+06</td>\n",
       "      <td>0.000000</td>\n",
       "      <td>0.000000</td>\n",
       "      <td>1.000000</td>\n",
       "      <td>2.000000</td>\n",
       "      <td>3.000000</td>\n",
       "      <td>12.000000</td>\n",
       "    </tr>\n",
       "    <tr>\n",
       "      <th>25%</th>\n",
       "      <td>1.001516e+06</td>\n",
       "      <td>2.000000</td>\n",
       "      <td>0.000000</td>\n",
       "      <td>1.000000</td>\n",
       "      <td>5.000000</td>\n",
       "      <td>9.000000</td>\n",
       "      <td>5823.000000</td>\n",
       "    </tr>\n",
       "    <tr>\n",
       "      <th>50%</th>\n",
       "      <td>1.003077e+06</td>\n",
       "      <td>7.000000</td>\n",
       "      <td>0.000000</td>\n",
       "      <td>5.000000</td>\n",
       "      <td>9.000000</td>\n",
       "      <td>14.000000</td>\n",
       "      <td>8047.000000</td>\n",
       "    </tr>\n",
       "    <tr>\n",
       "      <th>75%</th>\n",
       "      <td>1.004478e+06</td>\n",
       "      <td>14.000000</td>\n",
       "      <td>1.000000</td>\n",
       "      <td>8.000000</td>\n",
       "      <td>15.000000</td>\n",
       "      <td>16.000000</td>\n",
       "      <td>12054.000000</td>\n",
       "    </tr>\n",
       "    <tr>\n",
       "      <th>max</th>\n",
       "      <td>1.006040e+06</td>\n",
       "      <td>20.000000</td>\n",
       "      <td>1.000000</td>\n",
       "      <td>20.000000</td>\n",
       "      <td>18.000000</td>\n",
       "      <td>18.000000</td>\n",
       "      <td>23961.000000</td>\n",
       "    </tr>\n",
       "  </tbody>\n",
       "</table>\n",
       "</div>"
      ],
      "text/plain": [
       "            User_ID     Occupation  Marital_Status  Product_Category_1  \\\n",
       "count  5.500680e+05  550068.000000   550068.000000       550068.000000   \n",
       "mean   1.003029e+06       8.076707        0.409653            5.404270   \n",
       "std    1.727592e+03       6.522660        0.491770            3.936211   \n",
       "min    1.000001e+06       0.000000        0.000000            1.000000   \n",
       "25%    1.001516e+06       2.000000        0.000000            1.000000   \n",
       "50%    1.003077e+06       7.000000        0.000000            5.000000   \n",
       "75%    1.004478e+06      14.000000        1.000000            8.000000   \n",
       "max    1.006040e+06      20.000000        1.000000           20.000000   \n",
       "\n",
       "       Product_Category_2  Product_Category_3       Purchase  \n",
       "count       376430.000000       166821.000000  550068.000000  \n",
       "mean             9.842329           12.668243    9263.968713  \n",
       "std              5.086590            4.125338    5023.065394  \n",
       "min              2.000000            3.000000      12.000000  \n",
       "25%              5.000000            9.000000    5823.000000  \n",
       "50%              9.000000           14.000000    8047.000000  \n",
       "75%             15.000000           16.000000   12054.000000  \n",
       "max             18.000000           18.000000   23961.000000  "
      ]
     },
     "execution_count": 7,
     "metadata": {},
     "output_type": "execute_result"
    }
   ],
   "source": [
    "train_df.describe()"
   ]
  },
  {
   "cell_type": "code",
   "execution_count": 8,
   "id": "53dc2562",
   "metadata": {
    "execution": {
     "iopub.execute_input": "2024-05-12T05:14:08.772927Z",
     "iopub.status.busy": "2024-05-12T05:14:08.772559Z",
     "iopub.status.idle": "2024-05-12T05:14:09.166821Z",
     "shell.execute_reply": "2024-05-12T05:14:09.165812Z"
    },
    "papermill": {
     "duration": 0.422511,
     "end_time": "2024-05-12T05:14:09.169341",
     "exception": false,
     "start_time": "2024-05-12T05:14:08.746830",
     "status": "completed"
    },
    "tags": []
   },
   "outputs": [
    {
     "data": {
      "text/html": [
       "<div>\n",
       "<style scoped>\n",
       "    .dataframe tbody tr th:only-of-type {\n",
       "        vertical-align: middle;\n",
       "    }\n",
       "\n",
       "    .dataframe tbody tr th {\n",
       "        vertical-align: top;\n",
       "    }\n",
       "\n",
       "    .dataframe thead th {\n",
       "        text-align: right;\n",
       "    }\n",
       "</style>\n",
       "<table border=\"1\" class=\"dataframe\">\n",
       "  <thead>\n",
       "    <tr style=\"text-align: right;\">\n",
       "      <th></th>\n",
       "      <th>User_ID</th>\n",
       "      <th>Product_ID</th>\n",
       "      <th>Gender</th>\n",
       "      <th>Age</th>\n",
       "      <th>Occupation</th>\n",
       "      <th>City_Category</th>\n",
       "      <th>Stay_In_Current_City_Years</th>\n",
       "      <th>Marital_Status</th>\n",
       "      <th>Product_Category_1</th>\n",
       "      <th>Product_Category_2</th>\n",
       "      <th>Product_Category_3</th>\n",
       "    </tr>\n",
       "  </thead>\n",
       "  <tbody>\n",
       "    <tr>\n",
       "      <th>0</th>\n",
       "      <td>1000004</td>\n",
       "      <td>P00128942</td>\n",
       "      <td>M</td>\n",
       "      <td>46-50</td>\n",
       "      <td>7</td>\n",
       "      <td>B</td>\n",
       "      <td>2</td>\n",
       "      <td>1</td>\n",
       "      <td>1</td>\n",
       "      <td>11.0</td>\n",
       "      <td>NaN</td>\n",
       "    </tr>\n",
       "    <tr>\n",
       "      <th>1</th>\n",
       "      <td>1000009</td>\n",
       "      <td>P00113442</td>\n",
       "      <td>M</td>\n",
       "      <td>26-35</td>\n",
       "      <td>17</td>\n",
       "      <td>C</td>\n",
       "      <td>0</td>\n",
       "      <td>0</td>\n",
       "      <td>3</td>\n",
       "      <td>5.0</td>\n",
       "      <td>NaN</td>\n",
       "    </tr>\n",
       "    <tr>\n",
       "      <th>2</th>\n",
       "      <td>1000010</td>\n",
       "      <td>P00288442</td>\n",
       "      <td>F</td>\n",
       "      <td>36-45</td>\n",
       "      <td>1</td>\n",
       "      <td>B</td>\n",
       "      <td>4+</td>\n",
       "      <td>1</td>\n",
       "      <td>5</td>\n",
       "      <td>14.0</td>\n",
       "      <td>NaN</td>\n",
       "    </tr>\n",
       "    <tr>\n",
       "      <th>3</th>\n",
       "      <td>1000010</td>\n",
       "      <td>P00145342</td>\n",
       "      <td>F</td>\n",
       "      <td>36-45</td>\n",
       "      <td>1</td>\n",
       "      <td>B</td>\n",
       "      <td>4+</td>\n",
       "      <td>1</td>\n",
       "      <td>4</td>\n",
       "      <td>9.0</td>\n",
       "      <td>NaN</td>\n",
       "    </tr>\n",
       "    <tr>\n",
       "      <th>4</th>\n",
       "      <td>1000011</td>\n",
       "      <td>P00053842</td>\n",
       "      <td>F</td>\n",
       "      <td>26-35</td>\n",
       "      <td>1</td>\n",
       "      <td>C</td>\n",
       "      <td>1</td>\n",
       "      <td>0</td>\n",
       "      <td>4</td>\n",
       "      <td>5.0</td>\n",
       "      <td>12.0</td>\n",
       "    </tr>\n",
       "  </tbody>\n",
       "</table>\n",
       "</div>"
      ],
      "text/plain": [
       "   User_ID Product_ID Gender    Age  Occupation City_Category  \\\n",
       "0  1000004  P00128942      M  46-50           7             B   \n",
       "1  1000009  P00113442      M  26-35          17             C   \n",
       "2  1000010  P00288442      F  36-45           1             B   \n",
       "3  1000010  P00145342      F  36-45           1             B   \n",
       "4  1000011  P00053842      F  26-35           1             C   \n",
       "\n",
       "  Stay_In_Current_City_Years  Marital_Status  Product_Category_1  \\\n",
       "0                          2               1                   1   \n",
       "1                          0               0                   3   \n",
       "2                         4+               1                   5   \n",
       "3                         4+               1                   4   \n",
       "4                          1               0                   4   \n",
       "\n",
       "   Product_Category_2  Product_Category_3  \n",
       "0                11.0                 NaN  \n",
       "1                 5.0                 NaN  \n",
       "2                14.0                 NaN  \n",
       "3                 9.0                 NaN  \n",
       "4                 5.0                12.0  "
      ]
     },
     "execution_count": 8,
     "metadata": {},
     "output_type": "execute_result"
    }
   ],
   "source": [
    "test_df=pd.read_csv('/kaggle/input/dfkslgkjdlfg/test.csv')\n",
    "test_df.head()"
   ]
  },
  {
   "cell_type": "code",
   "execution_count": 9,
   "id": "7a7f58c0",
   "metadata": {
    "execution": {
     "iopub.execute_input": "2024-05-12T05:14:09.220079Z",
     "iopub.status.busy": "2024-05-12T05:14:09.219694Z",
     "iopub.status.idle": "2024-05-12T05:14:09.226125Z",
     "shell.execute_reply": "2024-05-12T05:14:09.225157Z"
    },
    "papermill": {
     "duration": 0.034897,
     "end_time": "2024-05-12T05:14:09.228662",
     "exception": false,
     "start_time": "2024-05-12T05:14:09.193765",
     "status": "completed"
    },
    "tags": []
   },
   "outputs": [
    {
     "data": {
      "text/plain": [
       "Index(['User_ID', 'Product_ID', 'Gender', 'Age', 'Occupation', 'City_Category',\n",
       "       'Stay_In_Current_City_Years', 'Marital_Status', 'Product_Category_1',\n",
       "       'Product_Category_2', 'Product_Category_3'],\n",
       "      dtype='object')"
      ]
     },
     "execution_count": 9,
     "metadata": {},
     "output_type": "execute_result"
    }
   ],
   "source": [
    "test_df.columns"
   ]
  },
  {
   "cell_type": "code",
   "execution_count": 10,
   "id": "fd69c3c4",
   "metadata": {
    "execution": {
     "iopub.execute_input": "2024-05-12T05:14:09.280555Z",
     "iopub.status.busy": "2024-05-12T05:14:09.279610Z",
     "iopub.status.idle": "2024-05-12T05:14:09.540560Z",
     "shell.execute_reply": "2024-05-12T05:14:09.539437Z"
    },
    "papermill": {
     "duration": 0.289453,
     "end_time": "2024-05-12T05:14:09.543043",
     "exception": false,
     "start_time": "2024-05-12T05:14:09.253590",
     "status": "completed"
    },
    "tags": []
   },
   "outputs": [
    {
     "name": "stdout",
     "output_type": "stream",
     "text": [
      "<class 'pandas.core.frame.DataFrame'>\n",
      "RangeIndex: 233599 entries, 0 to 233598\n",
      "Data columns (total 11 columns):\n",
      " #   Column                      Non-Null Count   Dtype  \n",
      "---  ------                      --------------   -----  \n",
      " 0   User_ID                     233599 non-null  int64  \n",
      " 1   Product_ID                  233599 non-null  object \n",
      " 2   Gender                      233599 non-null  object \n",
      " 3   Age                         233599 non-null  object \n",
      " 4   Occupation                  233599 non-null  int64  \n",
      " 5   City_Category               233599 non-null  object \n",
      " 6   Stay_In_Current_City_Years  233599 non-null  object \n",
      " 7   Marital_Status              233599 non-null  int64  \n",
      " 8   Product_Category_1          233599 non-null  int64  \n",
      " 9   Product_Category_2          161255 non-null  float64\n",
      " 10  Product_Category_3          71037 non-null   float64\n",
      "dtypes: float64(2), int64(4), object(5)\n",
      "memory usage: 19.6+ MB\n"
     ]
    }
   ],
   "source": [
    "test_df.info()"
   ]
  },
  {
   "cell_type": "code",
   "execution_count": 11,
   "id": "a7f44eea",
   "metadata": {
    "execution": {
     "iopub.execute_input": "2024-05-12T05:14:09.595447Z",
     "iopub.status.busy": "2024-05-12T05:14:09.594574Z",
     "iopub.status.idle": "2024-05-12T05:14:09.601647Z",
     "shell.execute_reply": "2024-05-12T05:14:09.600596Z"
    },
    "papermill": {
     "duration": 0.036447,
     "end_time": "2024-05-12T05:14:09.603835",
     "exception": false,
     "start_time": "2024-05-12T05:14:09.567388",
     "status": "completed"
    },
    "tags": []
   },
   "outputs": [
    {
     "data": {
      "text/plain": [
       "array([False, False, False, False, False, False, False, False, False,\n",
       "       False, False])"
      ]
     },
     "execution_count": 11,
     "metadata": {},
     "output_type": "execute_result"
    }
   ],
   "source": [
    "test_df.columns.duplicated()"
   ]
  },
  {
   "cell_type": "code",
   "execution_count": 12,
   "id": "4298b279",
   "metadata": {
    "execution": {
     "iopub.execute_input": "2024-05-12T05:14:09.656971Z",
     "iopub.status.busy": "2024-05-12T05:14:09.656020Z",
     "iopub.status.idle": "2024-05-12T05:14:09.785270Z",
     "shell.execute_reply": "2024-05-12T05:14:09.784144Z"
    },
    "papermill": {
     "duration": 0.158695,
     "end_time": "2024-05-12T05:14:09.787720",
     "exception": false,
     "start_time": "2024-05-12T05:14:09.629025",
     "status": "completed"
    },
    "tags": []
   },
   "outputs": [
    {
     "data": {
      "text/plain": [
       "User_ID                            0\n",
       "Product_ID                         0\n",
       "Gender                             0\n",
       "Age                                0\n",
       "Occupation                         0\n",
       "City_Category                      0\n",
       "Stay_In_Current_City_Years         0\n",
       "Marital_Status                     0\n",
       "Product_Category_1                 0\n",
       "Product_Category_2             72344\n",
       "Product_Category_3            162562\n",
       "dtype: int64"
      ]
     },
     "execution_count": 12,
     "metadata": {},
     "output_type": "execute_result"
    }
   ],
   "source": [
    "test_df.isnull().sum()"
   ]
  },
  {
   "cell_type": "code",
   "execution_count": 13,
   "id": "e660b71a",
   "metadata": {
    "execution": {
     "iopub.execute_input": "2024-05-12T05:14:09.840115Z",
     "iopub.status.busy": "2024-05-12T05:14:09.839691Z",
     "iopub.status.idle": "2024-05-12T05:14:13.516189Z",
     "shell.execute_reply": "2024-05-12T05:14:13.515111Z"
    },
    "papermill": {
     "duration": 3.705948,
     "end_time": "2024-05-12T05:14:13.519062",
     "exception": false,
     "start_time": "2024-05-12T05:14:09.813114",
     "status": "completed"
    },
    "tags": []
   },
   "outputs": [
    {
     "data": {
      "text/plain": [
       "<Axes: >"
      ]
     },
     "execution_count": 13,
     "metadata": {},
     "output_type": "execute_result"
    },
    {
     "data": {
      "image/png": "[encoded data removed]",
      "text/plain": [
       "<Figure size 640x480 with 1 Axes>"
      ]
     },
     "metadata": {},
     "output_type": "display_data"
    }
   ],
   "source": [
    "sns.heatmap(test_df.isnull(),yticklabels=False,cmap='viridis',cbar=False)"
   ]
  },
  {
   "cell_type": "code",
   "execution_count": 14,
   "id": "863b9145",
   "metadata": {
    "execution": {
     "iopub.execute_input": "2024-05-12T05:14:13.571577Z",
     "iopub.status.busy": "2024-05-12T05:14:13.571211Z",
     "iopub.status.idle": "2024-05-12T05:14:13.622171Z",
     "shell.execute_reply": "2024-05-12T05:14:13.621064Z"
    },
    "papermill": {
     "duration": 0.079832,
     "end_time": "2024-05-12T05:14:13.624697",
     "exception": false,
     "start_time": "2024-05-12T05:14:13.544865",
     "status": "completed"
    },
    "tags": []
   },
   "outputs": [
    {
     "data": {
      "text/html": [
       "<div>\n",
       "<style scoped>\n",
       "    .dataframe tbody tr th:only-of-type {\n",
       "        vertical-align: middle;\n",
       "    }\n",
       "\n",
       "    .dataframe tbody tr th {\n",
       "        vertical-align: top;\n",
       "    }\n",
       "\n",
       "    .dataframe thead th {\n",
       "        text-align: right;\n",
       "    }\n",
       "</style>\n",
       "<table border=\"1\" class=\"dataframe\">\n",
       "  <thead>\n",
       "    <tr style=\"text-align: right;\">\n",
       "      <th></th>\n",
       "      <th>User_ID</th>\n",
       "      <th>Product_ID</th>\n",
       "      <th>Gender</th>\n",
       "      <th>Age</th>\n",
       "      <th>Occupation</th>\n",
       "      <th>City_Category</th>\n",
       "      <th>Stay_In_Current_City_Years</th>\n",
       "      <th>Marital_Status</th>\n",
       "      <th>Product_Category_1</th>\n",
       "      <th>Product_Category_2</th>\n",
       "      <th>Product_Category_3</th>\n",
       "      <th>Purchase</th>\n",
       "    </tr>\n",
       "  </thead>\n",
       "  <tbody>\n",
       "    <tr>\n",
       "      <th>0</th>\n",
       "      <td>1000001</td>\n",
       "      <td>P00069042</td>\n",
       "      <td>F</td>\n",
       "      <td>0-17</td>\n",
       "      <td>10</td>\n",
       "      <td>A</td>\n",
       "      <td>2</td>\n",
       "      <td>0</td>\n",
       "      <td>3</td>\n",
       "      <td>NaN</td>\n",
       "      <td>NaN</td>\n",
       "      <td>8370.0</td>\n",
       "    </tr>\n",
       "    <tr>\n",
       "      <th>1</th>\n",
       "      <td>1000001</td>\n",
       "      <td>P00248942</td>\n",
       "      <td>F</td>\n",
       "      <td>0-17</td>\n",
       "      <td>10</td>\n",
       "      <td>A</td>\n",
       "      <td>2</td>\n",
       "      <td>0</td>\n",
       "      <td>1</td>\n",
       "      <td>6.0</td>\n",
       "      <td>14.0</td>\n",
       "      <td>15200.0</td>\n",
       "    </tr>\n",
       "    <tr>\n",
       "      <th>2</th>\n",
       "      <td>1000001</td>\n",
       "      <td>P00087842</td>\n",
       "      <td>F</td>\n",
       "      <td>0-17</td>\n",
       "      <td>10</td>\n",
       "      <td>A</td>\n",
       "      <td>2</td>\n",
       "      <td>0</td>\n",
       "      <td>12</td>\n",
       "      <td>NaN</td>\n",
       "      <td>NaN</td>\n",
       "      <td>1422.0</td>\n",
       "    </tr>\n",
       "    <tr>\n",
       "      <th>3</th>\n",
       "      <td>1000001</td>\n",
       "      <td>P00085442</td>\n",
       "      <td>F</td>\n",
       "      <td>0-17</td>\n",
       "      <td>10</td>\n",
       "      <td>A</td>\n",
       "      <td>2</td>\n",
       "      <td>0</td>\n",
       "      <td>12</td>\n",
       "      <td>14.0</td>\n",
       "      <td>NaN</td>\n",
       "      <td>1057.0</td>\n",
       "    </tr>\n",
       "    <tr>\n",
       "      <th>4</th>\n",
       "      <td>1000002</td>\n",
       "      <td>P00285442</td>\n",
       "      <td>M</td>\n",
       "      <td>55+</td>\n",
       "      <td>16</td>\n",
       "      <td>C</td>\n",
       "      <td>4+</td>\n",
       "      <td>0</td>\n",
       "      <td>8</td>\n",
       "      <td>NaN</td>\n",
       "      <td>NaN</td>\n",
       "      <td>7969.0</td>\n",
       "    </tr>\n",
       "  </tbody>\n",
       "</table>\n",
       "</div>"
      ],
      "text/plain": [
       "   User_ID Product_ID Gender   Age  Occupation City_Category  \\\n",
       "0  1000001  P00069042      F  0-17          10             A   \n",
       "1  1000001  P00248942      F  0-17          10             A   \n",
       "2  1000001  P00087842      F  0-17          10             A   \n",
       "3  1000001  P00085442      F  0-17          10             A   \n",
       "4  1000002  P00285442      M   55+          16             C   \n",
       "\n",
       "  Stay_In_Current_City_Years  Marital_Status  Product_Category_1  \\\n",
       "0                          2               0                   3   \n",
       "1                          2               0                   1   \n",
       "2                          2               0                  12   \n",
       "3                          2               0                  12   \n",
       "4                         4+               0                   8   \n",
       "\n",
       "   Product_Category_2  Product_Category_3  Purchase  \n",
       "0                 NaN                 NaN    8370.0  \n",
       "1                 6.0                14.0   15200.0  \n",
       "2                 NaN                 NaN    1422.0  \n",
       "3                14.0                 NaN    1057.0  \n",
       "4                 NaN                 NaN    7969.0  "
      ]
     },
     "execution_count": 14,
     "metadata": {},
     "output_type": "execute_result"
    }
   ],
   "source": [
    "df=pd.concat([train_df,test_df])\n",
    "df.head()"
   ]
  },
  {
   "cell_type": "code",
   "execution_count": 15,
   "id": "0a21ca49",
   "metadata": {
    "execution": {
     "iopub.execute_input": "2024-05-12T05:14:13.725094Z",
     "iopub.status.busy": "2024-05-12T05:14:13.724318Z",
     "iopub.status.idle": "2024-05-12T05:14:13.730990Z",
     "shell.execute_reply": "2024-05-12T05:14:13.730117Z"
    },
    "papermill": {
     "duration": 0.082869,
     "end_time": "2024-05-12T05:14:13.733059",
     "exception": false,
     "start_time": "2024-05-12T05:14:13.650190",
     "status": "completed"
    },
    "tags": []
   },
   "outputs": [
    {
     "data": {
      "text/plain": [
       "Index(['User_ID', 'Product_ID', 'Gender', 'Age', 'Occupation', 'City_Category',\n",
       "       'Stay_In_Current_City_Years', 'Marital_Status', 'Product_Category_1',\n",
       "       'Product_Category_2', 'Product_Category_3', 'Purchase'],\n",
       "      dtype='object')"
      ]
     },
     "execution_count": 15,
     "metadata": {},
     "output_type": "execute_result"
    }
   ],
   "source": [
    "df.columns"
   ]
  },
  {
   "cell_type": "code",
   "execution_count": 16,
   "id": "ec812eb9",
   "metadata": {
    "execution": {
     "iopub.execute_input": "2024-05-12T05:14:13.784709Z",
     "iopub.status.busy": "2024-05-12T05:14:13.784329Z",
     "iopub.status.idle": "2024-05-12T05:14:14.325384Z",
     "shell.execute_reply": "2024-05-12T05:14:14.324070Z"
    },
    "papermill": {
     "duration": 0.569399,
     "end_time": "2024-05-12T05:14:14.327725",
     "exception": false,
     "start_time": "2024-05-12T05:14:13.758326",
     "status": "completed"
    },
    "tags": []
   },
   "outputs": [
    {
     "name": "stdout",
     "output_type": "stream",
     "text": [
      "<class 'pandas.core.frame.DataFrame'>\n",
      "Index: 783667 entries, 0 to 233598\n",
      "Data columns (total 12 columns):\n",
      " #   Column                      Non-Null Count   Dtype  \n",
      "---  ------                      --------------   -----  \n",
      " 0   User_ID                     783667 non-null  int64  \n",
      " 1   Product_ID                  783667 non-null  object \n",
      " 2   Gender                      783667 non-null  object \n",
      " 3   Age                         783667 non-null  object \n",
      " 4   Occupation                  783667 non-null  int64  \n",
      " 5   City_Category               783667 non-null  object \n",
      " 6   Stay_In_Current_City_Years  783667 non-null  object \n",
      " 7   Marital_Status              783667 non-null  int64  \n",
      " 8   Product_Category_1          783667 non-null  int64  \n",
      " 9   Product_Category_2          537685 non-null  float64\n",
      " 10  Product_Category_3          237858 non-null  float64\n",
      " 11  Purchase                    550068 non-null  float64\n",
      "dtypes: float64(3), int64(4), object(5)\n",
      "memory usage: 77.7+ MB\n"
     ]
    }
   ],
   "source": [
    "df.info()"
   ]
  },
  {
   "cell_type": "code",
   "execution_count": 17,
   "id": "79990918",
   "metadata": {
    "execution": {
     "iopub.execute_input": "2024-05-12T05:14:14.383515Z",
     "iopub.status.busy": "2024-05-12T05:14:14.382808Z",
     "iopub.status.idle": "2024-05-12T05:14:14.388814Z",
     "shell.execute_reply": "2024-05-12T05:14:14.387796Z"
    },
    "papermill": {
     "duration": 0.036312,
     "end_time": "2024-05-12T05:14:14.390907",
     "exception": false,
     "start_time": "2024-05-12T05:14:14.354595",
     "status": "completed"
    },
    "tags": []
   },
   "outputs": [
    {
     "data": {
      "text/plain": [
       "array([False, False, False, False, False, False, False, False, False,\n",
       "       False, False, False])"
      ]
     },
     "execution_count": 17,
     "metadata": {},
     "output_type": "execute_result"
    }
   ],
   "source": [
    "df.columns.isnull()"
   ]
  },
  {
   "cell_type": "code",
   "execution_count": 18,
   "id": "b841bb26",
   "metadata": {
    "execution": {
     "iopub.execute_input": "2024-05-12T05:14:14.445239Z",
     "iopub.status.busy": "2024-05-12T05:14:14.444856Z",
     "iopub.status.idle": "2024-05-12T05:14:14.451190Z",
     "shell.execute_reply": "2024-05-12T05:14:14.450414Z"
    },
    "papermill": {
     "duration": 0.035806,
     "end_time": "2024-05-12T05:14:14.453066",
     "exception": false,
     "start_time": "2024-05-12T05:14:14.417260",
     "status": "completed"
    },
    "tags": []
   },
   "outputs": [
    {
     "data": {
      "text/plain": [
       "0"
      ]
     },
     "execution_count": 18,
     "metadata": {},
     "output_type": "execute_result"
    }
   ],
   "source": [
    "df.columns.isnull().sum()"
   ]
  },
  {
   "cell_type": "code",
   "execution_count": 19,
   "id": "9cff382d",
   "metadata": {
    "execution": {
     "iopub.execute_input": "2024-05-12T05:14:14.507536Z",
     "iopub.status.busy": "2024-05-12T05:14:14.506502Z",
     "iopub.status.idle": "2024-05-12T05:14:14.515187Z",
     "shell.execute_reply": "2024-05-12T05:14:14.514141Z"
    },
    "papermill": {
     "duration": 0.038173,
     "end_time": "2024-05-12T05:14:14.517490",
     "exception": false,
     "start_time": "2024-05-12T05:14:14.479317",
     "status": "completed"
    },
    "tags": []
   },
   "outputs": [
    {
     "data": {
      "text/plain": [
       "User_ID                       1\n",
       "Product_ID                    1\n",
       "Gender                        1\n",
       "Age                           1\n",
       "Occupation                    1\n",
       "City_Category                 1\n",
       "Stay_In_Current_City_Years    1\n",
       "Marital_Status                1\n",
       "Product_Category_1            1\n",
       "Product_Category_2            1\n",
       "Product_Category_3            1\n",
       "Purchase                      1\n",
       "Name: count, dtype: int64"
      ]
     },
     "execution_count": 19,
     "metadata": {},
     "output_type": "execute_result"
    }
   ],
   "source": [
    "df.columns.value_counts()"
   ]
  },
  {
   "cell_type": "code",
   "execution_count": 20,
   "id": "9f7e2aad",
   "metadata": {
    "execution": {
     "iopub.execute_input": "2024-05-12T05:14:14.572290Z",
     "iopub.status.busy": "2024-05-12T05:14:14.571926Z",
     "iopub.status.idle": "2024-05-12T05:14:27.695019Z",
     "shell.execute_reply": "2024-05-12T05:14:27.693987Z"
    },
    "papermill": {
     "duration": 13.153924,
     "end_time": "2024-05-12T05:14:27.697734",
     "exception": false,
     "start_time": "2024-05-12T05:14:14.543810",
     "status": "completed"
    },
    "tags": []
   },
   "outputs": [
    {
     "data": {
      "text/plain": [
       "<Axes: >"
      ]
     },
     "execution_count": 20,
     "metadata": {},
     "output_type": "execute_result"
    },
    {
     "data": {
      "image/png": "[encoded data removed]",
      "text/plain": [
       "<Figure size 640x480 with 1 Axes>"
      ]
     },
     "metadata": {},
     "output_type": "display_data"
    }
   ],
   "source": [
    "sns.heatmap(df.isnull(),yticklabels=False,cmap='viridis',cbar=False)"
   ]
  },
  {
   "cell_type": "code",
   "execution_count": 21,
   "id": "a2e47fb9",
   "metadata": {
    "execution": {
     "iopub.execute_input": "2024-05-12T05:14:27.756744Z",
     "iopub.status.busy": "2024-05-12T05:14:27.756033Z",
     "iopub.status.idle": "2024-05-12T05:14:28.045127Z",
     "shell.execute_reply": "2024-05-12T05:14:28.043896Z"
    },
    "papermill": {
     "duration": 0.321272,
     "end_time": "2024-05-12T05:14:28.047604",
     "exception": false,
     "start_time": "2024-05-12T05:14:27.726332",
     "status": "completed"
    },
    "tags": []
   },
   "outputs": [
    {
     "data": {
      "text/html": [
       "<div>\n",
       "<style scoped>\n",
       "    .dataframe tbody tr th:only-of-type {\n",
       "        vertical-align: middle;\n",
       "    }\n",
       "\n",
       "    .dataframe tbody tr th {\n",
       "        vertical-align: top;\n",
       "    }\n",
       "\n",
       "    .dataframe thead th {\n",
       "        text-align: right;\n",
       "    }\n",
       "</style>\n",
       "<table border=\"1\" class=\"dataframe\">\n",
       "  <thead>\n",
       "    <tr style=\"text-align: right;\">\n",
       "      <th></th>\n",
       "      <th>User_ID</th>\n",
       "      <th>Occupation</th>\n",
       "      <th>Marital_Status</th>\n",
       "      <th>Product_Category_1</th>\n",
       "      <th>Product_Category_2</th>\n",
       "      <th>Product_Category_3</th>\n",
       "      <th>Purchase</th>\n",
       "    </tr>\n",
       "  </thead>\n",
       "  <tbody>\n",
       "    <tr>\n",
       "      <th>count</th>\n",
       "      <td>7.836670e+05</td>\n",
       "      <td>783667.000000</td>\n",
       "      <td>783667.000000</td>\n",
       "      <td>783667.000000</td>\n",
       "      <td>537685.000000</td>\n",
       "      <td>237858.000000</td>\n",
       "      <td>550068.000000</td>\n",
       "    </tr>\n",
       "    <tr>\n",
       "      <th>mean</th>\n",
       "      <td>1.003029e+06</td>\n",
       "      <td>8.079300</td>\n",
       "      <td>0.409777</td>\n",
       "      <td>5.366196</td>\n",
       "      <td>9.844506</td>\n",
       "      <td>12.668605</td>\n",
       "      <td>9263.968713</td>\n",
       "    </tr>\n",
       "    <tr>\n",
       "      <th>std</th>\n",
       "      <td>1.727267e+03</td>\n",
       "      <td>6.522206</td>\n",
       "      <td>0.491793</td>\n",
       "      <td>3.878160</td>\n",
       "      <td>5.089093</td>\n",
       "      <td>4.125510</td>\n",
       "      <td>5023.065394</td>\n",
       "    </tr>\n",
       "    <tr>\n",
       "      <th>min</th>\n",
       "      <td>1.000001e+06</td>\n",
       "      <td>0.000000</td>\n",
       "      <td>0.000000</td>\n",
       "      <td>1.000000</td>\n",
       "      <td>2.000000</td>\n",
       "      <td>3.000000</td>\n",
       "      <td>12.000000</td>\n",
       "    </tr>\n",
       "    <tr>\n",
       "      <th>25%</th>\n",
       "      <td>1.001519e+06</td>\n",
       "      <td>2.000000</td>\n",
       "      <td>0.000000</td>\n",
       "      <td>1.000000</td>\n",
       "      <td>5.000000</td>\n",
       "      <td>9.000000</td>\n",
       "      <td>5823.000000</td>\n",
       "    </tr>\n",
       "    <tr>\n",
       "      <th>50%</th>\n",
       "      <td>1.003075e+06</td>\n",
       "      <td>7.000000</td>\n",
       "      <td>0.000000</td>\n",
       "      <td>5.000000</td>\n",
       "      <td>9.000000</td>\n",
       "      <td>14.000000</td>\n",
       "      <td>8047.000000</td>\n",
       "    </tr>\n",
       "    <tr>\n",
       "      <th>75%</th>\n",
       "      <td>1.004478e+06</td>\n",
       "      <td>14.000000</td>\n",
       "      <td>1.000000</td>\n",
       "      <td>8.000000</td>\n",
       "      <td>15.000000</td>\n",
       "      <td>16.000000</td>\n",
       "      <td>12054.000000</td>\n",
       "    </tr>\n",
       "    <tr>\n",
       "      <th>max</th>\n",
       "      <td>1.006040e+06</td>\n",
       "      <td>20.000000</td>\n",
       "      <td>1.000000</td>\n",
       "      <td>20.000000</td>\n",
       "      <td>18.000000</td>\n",
       "      <td>18.000000</td>\n",
       "      <td>23961.000000</td>\n",
       "    </tr>\n",
       "  </tbody>\n",
       "</table>\n",
       "</div>"
      ],
      "text/plain": [
       "            User_ID     Occupation  Marital_Status  Product_Category_1  \\\n",
       "count  7.836670e+05  783667.000000   783667.000000       783667.000000   \n",
       "mean   1.003029e+06       8.079300        0.409777            5.366196   \n",
       "std    1.727267e+03       6.522206        0.491793            3.878160   \n",
       "min    1.000001e+06       0.000000        0.000000            1.000000   \n",
       "25%    1.001519e+06       2.000000        0.000000            1.000000   \n",
       "50%    1.003075e+06       7.000000        0.000000            5.000000   \n",
       "75%    1.004478e+06      14.000000        1.000000            8.000000   \n",
       "max    1.006040e+06      20.000000        1.000000           20.000000   \n",
       "\n",
       "       Product_Category_2  Product_Category_3       Purchase  \n",
       "count       537685.000000       237858.000000  550068.000000  \n",
       "mean             9.844506           12.668605    9263.968713  \n",
       "std              5.089093            4.125510    5023.065394  \n",
       "min              2.000000            3.000000      12.000000  \n",
       "25%              5.000000            9.000000    5823.000000  \n",
       "50%              9.000000           14.000000    8047.000000  \n",
       "75%             15.000000           16.000000   12054.000000  \n",
       "max             18.000000           18.000000   23961.000000  "
      ]
     },
     "execution_count": 21,
     "metadata": {},
     "output_type": "execute_result"
    }
   ],
   "source": [
    "df.describe()"
   ]
  },
  {
   "cell_type": "code",
   "execution_count": 22,
   "id": "9e375ab4",
   "metadata": {
    "execution": {
     "iopub.execute_input": "2024-05-12T05:14:28.106619Z",
     "iopub.status.busy": "2024-05-12T05:14:28.106239Z",
     "iopub.status.idle": "2024-05-12T05:14:28.114587Z",
     "shell.execute_reply": "2024-05-12T05:14:28.113620Z"
    },
    "papermill": {
     "duration": 0.040198,
     "end_time": "2024-05-12T05:14:28.116682",
     "exception": false,
     "start_time": "2024-05-12T05:14:28.076484",
     "status": "completed"
    },
    "tags": []
   },
   "outputs": [
    {
     "data": {
      "text/plain": [
       "User_ID                         int64\n",
       "Product_ID                     object\n",
       "Gender                         object\n",
       "Age                            object\n",
       "Occupation                      int64\n",
       "City_Category                  object\n",
       "Stay_In_Current_City_Years     object\n",
       "Marital_Status                  int64\n",
       "Product_Category_1              int64\n",
       "Product_Category_2            float64\n",
       "Product_Category_3            float64\n",
       "Purchase                      float64\n",
       "dtype: object"
      ]
     },
     "execution_count": 22,
     "metadata": {},
     "output_type": "execute_result"
    }
   ],
   "source": [
    "df.dtypes"
   ]
  },
  {
   "cell_type": "code",
   "execution_count": 23,
   "id": "be4e318d",
   "metadata": {
    "execution": {
     "iopub.execute_input": "2024-05-12T05:14:28.176897Z",
     "iopub.status.busy": "2024-05-12T05:14:28.176517Z",
     "iopub.status.idle": "2024-05-12T05:14:28.262726Z",
     "shell.execute_reply": "2024-05-12T05:14:28.261895Z"
    },
    "papermill": {
     "duration": 0.119168,
     "end_time": "2024-05-12T05:14:28.264831",
     "exception": false,
     "start_time": "2024-05-12T05:14:28.145663",
     "status": "completed"
    },
    "tags": []
   },
   "outputs": [
    {
     "data": {
      "text/html": [
       "<div>\n",
       "<style scoped>\n",
       "    .dataframe tbody tr th:only-of-type {\n",
       "        vertical-align: middle;\n",
       "    }\n",
       "\n",
       "    .dataframe tbody tr th {\n",
       "        vertical-align: top;\n",
       "    }\n",
       "\n",
       "    .dataframe thead th {\n",
       "        text-align: right;\n",
       "    }\n",
       "</style>\n",
       "<table border=\"1\" class=\"dataframe\">\n",
       "  <thead>\n",
       "    <tr style=\"text-align: right;\">\n",
       "      <th></th>\n",
       "      <th>Product_ID</th>\n",
       "      <th>Gender</th>\n",
       "      <th>Age</th>\n",
       "      <th>Occupation</th>\n",
       "      <th>City_Category</th>\n",
       "      <th>Stay_In_Current_City_Years</th>\n",
       "      <th>Marital_Status</th>\n",
       "      <th>Product_Category_1</th>\n",
       "      <th>Product_Category_2</th>\n",
       "      <th>Product_Category_3</th>\n",
       "      <th>Purchase</th>\n",
       "    </tr>\n",
       "  </thead>\n",
       "  <tbody>\n",
       "    <tr>\n",
       "      <th>0</th>\n",
       "      <td>P00069042</td>\n",
       "      <td>F</td>\n",
       "      <td>0-17</td>\n",
       "      <td>10</td>\n",
       "      <td>A</td>\n",
       "      <td>2</td>\n",
       "      <td>0</td>\n",
       "      <td>3</td>\n",
       "      <td>NaN</td>\n",
       "      <td>NaN</td>\n",
       "      <td>8370.0</td>\n",
       "    </tr>\n",
       "    <tr>\n",
       "      <th>1</th>\n",
       "      <td>P00248942</td>\n",
       "      <td>F</td>\n",
       "      <td>0-17</td>\n",
       "      <td>10</td>\n",
       "      <td>A</td>\n",
       "      <td>2</td>\n",
       "      <td>0</td>\n",
       "      <td>1</td>\n",
       "      <td>6.0</td>\n",
       "      <td>14.0</td>\n",
       "      <td>15200.0</td>\n",
       "    </tr>\n",
       "    <tr>\n",
       "      <th>2</th>\n",
       "      <td>P00087842</td>\n",
       "      <td>F</td>\n",
       "      <td>0-17</td>\n",
       "      <td>10</td>\n",
       "      <td>A</td>\n",
       "      <td>2</td>\n",
       "      <td>0</td>\n",
       "      <td>12</td>\n",
       "      <td>NaN</td>\n",
       "      <td>NaN</td>\n",
       "      <td>1422.0</td>\n",
       "    </tr>\n",
       "    <tr>\n",
       "      <th>3</th>\n",
       "      <td>P00085442</td>\n",
       "      <td>F</td>\n",
       "      <td>0-17</td>\n",
       "      <td>10</td>\n",
       "      <td>A</td>\n",
       "      <td>2</td>\n",
       "      <td>0</td>\n",
       "      <td>12</td>\n",
       "      <td>14.0</td>\n",
       "      <td>NaN</td>\n",
       "      <td>1057.0</td>\n",
       "    </tr>\n",
       "    <tr>\n",
       "      <th>4</th>\n",
       "      <td>P00285442</td>\n",
       "      <td>M</td>\n",
       "      <td>55+</td>\n",
       "      <td>16</td>\n",
       "      <td>C</td>\n",
       "      <td>4+</td>\n",
       "      <td>0</td>\n",
       "      <td>8</td>\n",
       "      <td>NaN</td>\n",
       "      <td>NaN</td>\n",
       "      <td>7969.0</td>\n",
       "    </tr>\n",
       "  </tbody>\n",
       "</table>\n",
       "</div>"
      ],
      "text/plain": [
       "  Product_ID Gender   Age  Occupation City_Category  \\\n",
       "0  P00069042      F  0-17          10             A   \n",
       "1  P00248942      F  0-17          10             A   \n",
       "2  P00087842      F  0-17          10             A   \n",
       "3  P00085442      F  0-17          10             A   \n",
       "4  P00285442      M   55+          16             C   \n",
       "\n",
       "  Stay_In_Current_City_Years  Marital_Status  Product_Category_1  \\\n",
       "0                          2               0                   3   \n",
       "1                          2               0                   1   \n",
       "2                          2               0                  12   \n",
       "3                          2               0                  12   \n",
       "4                         4+               0                   8   \n",
       "\n",
       "   Product_Category_2  Product_Category_3  Purchase  \n",
       "0                 NaN                 NaN    8370.0  \n",
       "1                 6.0                14.0   15200.0  \n",
       "2                 NaN                 NaN    1422.0  \n",
       "3                14.0                 NaN    1057.0  \n",
       "4                 NaN                 NaN    7969.0  "
      ]
     },
     "execution_count": 23,
     "metadata": {},
     "output_type": "execute_result"
    }
   ],
   "source": [
    "df=df.drop('User_ID',axis=1)\n",
    "df.head()"
   ]
  },
  {
   "cell_type": "code",
   "execution_count": 24,
   "id": "7a766255",
   "metadata": {
    "execution": {
     "iopub.execute_input": "2024-05-12T05:14:28.326947Z",
     "iopub.status.busy": "2024-05-12T05:14:28.326570Z",
     "iopub.status.idle": "2024-05-12T05:14:28.410527Z",
     "shell.execute_reply": "2024-05-12T05:14:28.409562Z"
    },
    "papermill": {
     "duration": 0.118785,
     "end_time": "2024-05-12T05:14:28.413032",
     "exception": false,
     "start_time": "2024-05-12T05:14:28.294247",
     "status": "completed"
    },
    "tags": []
   },
   "outputs": [],
   "source": [
    "df['Gender']=df['Gender'].map({'F':0,'M':1})"
   ]
  },
  {
   "cell_type": "code",
   "execution_count": 25,
   "id": "1b7e7537",
   "metadata": {
    "execution": {
     "iopub.execute_input": "2024-05-12T05:14:28.473503Z",
     "iopub.status.busy": "2024-05-12T05:14:28.473133Z",
     "iopub.status.idle": "2024-05-12T05:14:28.488730Z",
     "shell.execute_reply": "2024-05-12T05:14:28.487970Z"
    },
    "papermill": {
     "duration": 0.048663,
     "end_time": "2024-05-12T05:14:28.491249",
     "exception": false,
     "start_time": "2024-05-12T05:14:28.442586",
     "status": "completed"
    },
    "tags": []
   },
   "outputs": [
    {
     "data": {
      "text/html": [
       "<div>\n",
       "<style scoped>\n",
       "    .dataframe tbody tr th:only-of-type {\n",
       "        vertical-align: middle;\n",
       "    }\n",
       "\n",
       "    .dataframe tbody tr th {\n",
       "        vertical-align: top;\n",
       "    }\n",
       "\n",
       "    .dataframe thead th {\n",
       "        text-align: right;\n",
       "    }\n",
       "</style>\n",
       "<table border=\"1\" class=\"dataframe\">\n",
       "  <thead>\n",
       "    <tr style=\"text-align: right;\">\n",
       "      <th></th>\n",
       "      <th>Product_ID</th>\n",
       "      <th>Gender</th>\n",
       "      <th>Age</th>\n",
       "      <th>Occupation</th>\n",
       "      <th>City_Category</th>\n",
       "      <th>Stay_In_Current_City_Years</th>\n",
       "      <th>Marital_Status</th>\n",
       "      <th>Product_Category_1</th>\n",
       "      <th>Product_Category_2</th>\n",
       "      <th>Product_Category_3</th>\n",
       "      <th>Purchase</th>\n",
       "    </tr>\n",
       "  </thead>\n",
       "  <tbody>\n",
       "    <tr>\n",
       "      <th>0</th>\n",
       "      <td>P00069042</td>\n",
       "      <td>0</td>\n",
       "      <td>0-17</td>\n",
       "      <td>10</td>\n",
       "      <td>A</td>\n",
       "      <td>2</td>\n",
       "      <td>0</td>\n",
       "      <td>3</td>\n",
       "      <td>NaN</td>\n",
       "      <td>NaN</td>\n",
       "      <td>8370.0</td>\n",
       "    </tr>\n",
       "    <tr>\n",
       "      <th>1</th>\n",
       "      <td>P00248942</td>\n",
       "      <td>0</td>\n",
       "      <td>0-17</td>\n",
       "      <td>10</td>\n",
       "      <td>A</td>\n",
       "      <td>2</td>\n",
       "      <td>0</td>\n",
       "      <td>1</td>\n",
       "      <td>6.0</td>\n",
       "      <td>14.0</td>\n",
       "      <td>15200.0</td>\n",
       "    </tr>\n",
       "    <tr>\n",
       "      <th>2</th>\n",
       "      <td>P00087842</td>\n",
       "      <td>0</td>\n",
       "      <td>0-17</td>\n",
       "      <td>10</td>\n",
       "      <td>A</td>\n",
       "      <td>2</td>\n",
       "      <td>0</td>\n",
       "      <td>12</td>\n",
       "      <td>NaN</td>\n",
       "      <td>NaN</td>\n",
       "      <td>1422.0</td>\n",
       "    </tr>\n",
       "    <tr>\n",
       "      <th>3</th>\n",
       "      <td>P00085442</td>\n",
       "      <td>0</td>\n",
       "      <td>0-17</td>\n",
       "      <td>10</td>\n",
       "      <td>A</td>\n",
       "      <td>2</td>\n",
       "      <td>0</td>\n",
       "      <td>12</td>\n",
       "      <td>14.0</td>\n",
       "      <td>NaN</td>\n",
       "      <td>1057.0</td>\n",
       "    </tr>\n",
       "    <tr>\n",
       "      <th>4</th>\n",
       "      <td>P00285442</td>\n",
       "      <td>1</td>\n",
       "      <td>55+</td>\n",
       "      <td>16</td>\n",
       "      <td>C</td>\n",
       "      <td>4+</td>\n",
       "      <td>0</td>\n",
       "      <td>8</td>\n",
       "      <td>NaN</td>\n",
       "      <td>NaN</td>\n",
       "      <td>7969.0</td>\n",
       "    </tr>\n",
       "  </tbody>\n",
       "</table>\n",
       "</div>"
      ],
      "text/plain": [
       "  Product_ID  Gender   Age  Occupation City_Category  \\\n",
       "0  P00069042       0  0-17          10             A   \n",
       "1  P00248942       0  0-17          10             A   \n",
       "2  P00087842       0  0-17          10             A   \n",
       "3  P00085442       0  0-17          10             A   \n",
       "4  P00285442       1   55+          16             C   \n",
       "\n",
       "  Stay_In_Current_City_Years  Marital_Status  Product_Category_1  \\\n",
       "0                          2               0                   3   \n",
       "1                          2               0                   1   \n",
       "2                          2               0                  12   \n",
       "3                          2               0                  12   \n",
       "4                         4+               0                   8   \n",
       "\n",
       "   Product_Category_2  Product_Category_3  Purchase  \n",
       "0                 NaN                 NaN    8370.0  \n",
       "1                 6.0                14.0   15200.0  \n",
       "2                 NaN                 NaN    1422.0  \n",
       "3                14.0                 NaN    1057.0  \n",
       "4                 NaN                 NaN    7969.0  "
      ]
     },
     "execution_count": 25,
     "metadata": {},
     "output_type": "execute_result"
    }
   ],
   "source": [
    "df.head()"
   ]
  },
  {
   "cell_type": "code",
   "execution_count": 26,
   "id": "60ed5c05",
   "metadata": {
    "execution": {
     "iopub.execute_input": "2024-05-12T05:14:28.552876Z",
     "iopub.status.busy": "2024-05-12T05:14:28.552466Z",
     "iopub.status.idle": "2024-05-12T05:14:28.626698Z",
     "shell.execute_reply": "2024-05-12T05:14:28.625597Z"
    },
    "papermill": {
     "duration": 0.108091,
     "end_time": "2024-05-12T05:14:28.628992",
     "exception": false,
     "start_time": "2024-05-12T05:14:28.520901",
     "status": "completed"
    },
    "tags": []
   },
   "outputs": [
    {
     "data": {
      "text/plain": [
       "array(['0-17', '55+', '26-35', '46-50', '51-55', '36-45', '18-25'],\n",
       "      dtype=object)"
      ]
     },
     "execution_count": 26,
     "metadata": {},
     "output_type": "execute_result"
    }
   ],
   "source": [
    "df['Age'].unique()"
   ]
  },
  {
   "cell_type": "code",
   "execution_count": 27,
   "id": "6e6f2bf9",
   "metadata": {
    "execution": {
     "iopub.execute_input": "2024-05-12T05:14:28.691491Z",
     "iopub.status.busy": "2024-05-12T05:14:28.690958Z",
     "iopub.status.idle": "2024-05-12T05:14:29.082435Z",
     "shell.execute_reply": "2024-05-12T05:14:29.081577Z"
    },
    "papermill": {
     "duration": 0.425119,
     "end_time": "2024-05-12T05:14:29.084441",
     "exception": false,
     "start_time": "2024-05-12T05:14:28.659322",
     "status": "completed"
    },
    "tags": []
   },
   "outputs": [
    {
     "data": {
      "text/plain": [
       "array([0, 6, 2, 4, 5, 3, 1])"
      ]
     },
     "execution_count": 27,
     "metadata": {},
     "output_type": "execute_result"
    }
   ],
   "source": [
    "from sklearn import preprocessing\n",
    " \n",
    "# label_encoder object knows how to understand word labels.\n",
    "label_encoder = preprocessing.LabelEncoder()\n",
    " \n",
    "# Encode labels in column 'species'.\n",
    "df['Age']= label_encoder.fit_transform(df['Age'])\n",
    " \n",
    "df['Age'].unique()\n"
   ]
  },
  {
   "cell_type": "code",
   "execution_count": 28,
   "id": "4282b43a",
   "metadata": {
    "execution": {
     "iopub.execute_input": "2024-05-12T05:14:29.145693Z",
     "iopub.status.busy": "2024-05-12T05:14:29.145307Z",
     "iopub.status.idle": "2024-05-12T05:14:29.149510Z",
     "shell.execute_reply": "2024-05-12T05:14:29.148440Z"
    },
    "papermill": {
     "duration": 0.037586,
     "end_time": "2024-05-12T05:14:29.151627",
     "exception": false,
     "start_time": "2024-05-12T05:14:29.114041",
     "status": "completed"
    },
    "tags": []
   },
   "outputs": [],
   "source": [
    "#df['Age']=df['Age'].map({'0-17':1,'18-25':2,'26-35':3,'36-45':4,'46-50':5,'51-55':6,'55+':7})"
   ]
  },
  {
   "cell_type": "code",
   "execution_count": 29,
   "id": "f2426877",
   "metadata": {
    "execution": {
     "iopub.execute_input": "2024-05-12T05:14:29.213706Z",
     "iopub.status.busy": "2024-05-12T05:14:29.213339Z",
     "iopub.status.idle": "2024-05-12T05:14:29.229412Z",
     "shell.execute_reply": "2024-05-12T05:14:29.228383Z"
    },
    "papermill": {
     "duration": 0.049779,
     "end_time": "2024-05-12T05:14:29.231696",
     "exception": false,
     "start_time": "2024-05-12T05:14:29.181917",
     "status": "completed"
    },
    "tags": []
   },
   "outputs": [
    {
     "data": {
      "text/html": [
       "<div>\n",
       "<style scoped>\n",
       "    .dataframe tbody tr th:only-of-type {\n",
       "        vertical-align: middle;\n",
       "    }\n",
       "\n",
       "    .dataframe tbody tr th {\n",
       "        vertical-align: top;\n",
       "    }\n",
       "\n",
       "    .dataframe thead th {\n",
       "        text-align: right;\n",
       "    }\n",
       "</style>\n",
       "<table border=\"1\" class=\"dataframe\">\n",
       "  <thead>\n",
       "    <tr style=\"text-align: right;\">\n",
       "      <th></th>\n",
       "      <th>Product_ID</th>\n",
       "      <th>Gender</th>\n",
       "      <th>Age</th>\n",
       "      <th>Occupation</th>\n",
       "      <th>City_Category</th>\n",
       "      <th>Stay_In_Current_City_Years</th>\n",
       "      <th>Marital_Status</th>\n",
       "      <th>Product_Category_1</th>\n",
       "      <th>Product_Category_2</th>\n",
       "      <th>Product_Category_3</th>\n",
       "      <th>Purchase</th>\n",
       "    </tr>\n",
       "  </thead>\n",
       "  <tbody>\n",
       "    <tr>\n",
       "      <th>0</th>\n",
       "      <td>P00069042</td>\n",
       "      <td>0</td>\n",
       "      <td>0</td>\n",
       "      <td>10</td>\n",
       "      <td>A</td>\n",
       "      <td>2</td>\n",
       "      <td>0</td>\n",
       "      <td>3</td>\n",
       "      <td>NaN</td>\n",
       "      <td>NaN</td>\n",
       "      <td>8370.0</td>\n",
       "    </tr>\n",
       "    <tr>\n",
       "      <th>1</th>\n",
       "      <td>P00248942</td>\n",
       "      <td>0</td>\n",
       "      <td>0</td>\n",
       "      <td>10</td>\n",
       "      <td>A</td>\n",
       "      <td>2</td>\n",
       "      <td>0</td>\n",
       "      <td>1</td>\n",
       "      <td>6.0</td>\n",
       "      <td>14.0</td>\n",
       "      <td>15200.0</td>\n",
       "    </tr>\n",
       "    <tr>\n",
       "      <th>2</th>\n",
       "      <td>P00087842</td>\n",
       "      <td>0</td>\n",
       "      <td>0</td>\n",
       "      <td>10</td>\n",
       "      <td>A</td>\n",
       "      <td>2</td>\n",
       "      <td>0</td>\n",
       "      <td>12</td>\n",
       "      <td>NaN</td>\n",
       "      <td>NaN</td>\n",
       "      <td>1422.0</td>\n",
       "    </tr>\n",
       "    <tr>\n",
       "      <th>3</th>\n",
       "      <td>P00085442</td>\n",
       "      <td>0</td>\n",
       "      <td>0</td>\n",
       "      <td>10</td>\n",
       "      <td>A</td>\n",
       "      <td>2</td>\n",
       "      <td>0</td>\n",
       "      <td>12</td>\n",
       "      <td>14.0</td>\n",
       "      <td>NaN</td>\n",
       "      <td>1057.0</td>\n",
       "    </tr>\n",
       "    <tr>\n",
       "      <th>4</th>\n",
       "      <td>P00285442</td>\n",
       "      <td>1</td>\n",
       "      <td>6</td>\n",
       "      <td>16</td>\n",
       "      <td>C</td>\n",
       "      <td>4+</td>\n",
       "      <td>0</td>\n",
       "      <td>8</td>\n",
       "      <td>NaN</td>\n",
       "      <td>NaN</td>\n",
       "      <td>7969.0</td>\n",
       "    </tr>\n",
       "  </tbody>\n",
       "</table>\n",
       "</div>"
      ],
      "text/plain": [
       "  Product_ID  Gender  Age  Occupation City_Category  \\\n",
       "0  P00069042       0    0          10             A   \n",
       "1  P00248942       0    0          10             A   \n",
       "2  P00087842       0    0          10             A   \n",
       "3  P00085442       0    0          10             A   \n",
       "4  P00285442       1    6          16             C   \n",
       "\n",
       "  Stay_In_Current_City_Years  Marital_Status  Product_Category_1  \\\n",
       "0                          2               0                   3   \n",
       "1                          2               0                   1   \n",
       "2                          2               0                  12   \n",
       "3                          2               0                  12   \n",
       "4                         4+               0                   8   \n",
       "\n",
       "   Product_Category_2  Product_Category_3  Purchase  \n",
       "0                 NaN                 NaN    8370.0  \n",
       "1                 6.0                14.0   15200.0  \n",
       "2                 NaN                 NaN    1422.0  \n",
       "3                14.0                 NaN    1057.0  \n",
       "4                 NaN                 NaN    7969.0  "
      ]
     },
     "execution_count": 29,
     "metadata": {},
     "output_type": "execute_result"
    }
   ],
   "source": [
    "df.head()"
   ]
  },
  {
   "cell_type": "code",
   "execution_count": 30,
   "id": "c386d663",
   "metadata": {
    "execution": {
     "iopub.execute_input": "2024-05-12T05:14:29.294888Z",
     "iopub.status.busy": "2024-05-12T05:14:29.293914Z",
     "iopub.status.idle": "2024-05-12T05:14:29.408176Z",
     "shell.execute_reply": "2024-05-12T05:14:29.407023Z"
    },
    "papermill": {
     "duration": 0.148189,
     "end_time": "2024-05-12T05:14:29.410519",
     "exception": false,
     "start_time": "2024-05-12T05:14:29.262330",
     "status": "completed"
    },
    "tags": []
   },
   "outputs": [
    {
     "data": {
      "text/plain": [
       "City_Category\n",
       "B    329739\n",
       "C    243684\n",
       "A    210244\n",
       "Name: count, dtype: int64"
      ]
     },
     "execution_count": 30,
     "metadata": {},
     "output_type": "execute_result"
    }
   ],
   "source": [
    "df['City_Category'].value_counts()"
   ]
  },
  {
   "cell_type": "code",
   "execution_count": 31,
   "id": "b5ae2318",
   "metadata": {
    "execution": {
     "iopub.execute_input": "2024-05-12T05:14:29.473421Z",
     "iopub.status.busy": "2024-05-12T05:14:29.473046Z",
     "iopub.status.idle": "2024-05-12T05:14:29.556836Z",
     "shell.execute_reply": "2024-05-12T05:14:29.555890Z"
    },
    "papermill": {
     "duration": 0.118606,
     "end_time": "2024-05-12T05:14:29.559638",
     "exception": false,
     "start_time": "2024-05-12T05:14:29.441032",
     "status": "completed"
    },
    "tags": []
   },
   "outputs": [],
   "source": [
    "df_city=pd.get_dummies(df['City_Category'])"
   ]
  },
  {
   "cell_type": "code",
   "execution_count": 32,
   "id": "f7c246e7",
   "metadata": {
    "execution": {
     "iopub.execute_input": "2024-05-12T05:14:29.623660Z",
     "iopub.status.busy": "2024-05-12T05:14:29.623265Z",
     "iopub.status.idle": "2024-05-12T05:14:29.634467Z",
     "shell.execute_reply": "2024-05-12T05:14:29.633277Z"
    },
    "papermill": {
     "duration": 0.046131,
     "end_time": "2024-05-12T05:14:29.636625",
     "exception": false,
     "start_time": "2024-05-12T05:14:29.590494",
     "status": "completed"
    },
    "tags": []
   },
   "outputs": [
    {
     "data": {
      "text/html": [
       "<div>\n",
       "<style scoped>\n",
       "    .dataframe tbody tr th:only-of-type {\n",
       "        vertical-align: middle;\n",
       "    }\n",
       "\n",
       "    .dataframe tbody tr th {\n",
       "        vertical-align: top;\n",
       "    }\n",
       "\n",
       "    .dataframe thead th {\n",
       "        text-align: right;\n",
       "    }\n",
       "</style>\n",
       "<table border=\"1\" class=\"dataframe\">\n",
       "  <thead>\n",
       "    <tr style=\"text-align: right;\">\n",
       "      <th></th>\n",
       "      <th>A</th>\n",
       "      <th>B</th>\n",
       "      <th>C</th>\n",
       "    </tr>\n",
       "  </thead>\n",
       "  <tbody>\n",
       "    <tr>\n",
       "      <th>0</th>\n",
       "      <td>True</td>\n",
       "      <td>False</td>\n",
       "      <td>False</td>\n",
       "    </tr>\n",
       "    <tr>\n",
       "      <th>1</th>\n",
       "      <td>True</td>\n",
       "      <td>False</td>\n",
       "      <td>False</td>\n",
       "    </tr>\n",
       "    <tr>\n",
       "      <th>2</th>\n",
       "      <td>True</td>\n",
       "      <td>False</td>\n",
       "      <td>False</td>\n",
       "    </tr>\n",
       "    <tr>\n",
       "      <th>3</th>\n",
       "      <td>True</td>\n",
       "      <td>False</td>\n",
       "      <td>False</td>\n",
       "    </tr>\n",
       "    <tr>\n",
       "      <th>4</th>\n",
       "      <td>False</td>\n",
       "      <td>False</td>\n",
       "      <td>True</td>\n",
       "    </tr>\n",
       "  </tbody>\n",
       "</table>\n",
       "</div>"
      ],
      "text/plain": [
       "       A      B      C\n",
       "0   True  False  False\n",
       "1   True  False  False\n",
       "2   True  False  False\n",
       "3   True  False  False\n",
       "4  False  False   True"
      ]
     },
     "execution_count": 32,
     "metadata": {},
     "output_type": "execute_result"
    }
   ],
   "source": [
    "df_city.head()"
   ]
  },
  {
   "cell_type": "code",
   "execution_count": 33,
   "id": "d6fe2b16",
   "metadata": {
    "execution": {
     "iopub.execute_input": "2024-05-12T05:14:29.700286Z",
     "iopub.status.busy": "2024-05-12T05:14:29.699577Z",
     "iopub.status.idle": "2024-05-12T05:14:29.853912Z",
     "shell.execute_reply": "2024-05-12T05:14:29.852738Z"
    },
    "papermill": {
     "duration": 0.189023,
     "end_time": "2024-05-12T05:14:29.856432",
     "exception": false,
     "start_time": "2024-05-12T05:14:29.667409",
     "status": "completed"
    },
    "tags": []
   },
   "outputs": [
    {
     "data": {
      "text/html": [
       "<div>\n",
       "<style scoped>\n",
       "    .dataframe tbody tr th:only-of-type {\n",
       "        vertical-align: middle;\n",
       "    }\n",
       "\n",
       "    .dataframe tbody tr th {\n",
       "        vertical-align: top;\n",
       "    }\n",
       "\n",
       "    .dataframe thead th {\n",
       "        text-align: right;\n",
       "    }\n",
       "</style>\n",
       "<table border=\"1\" class=\"dataframe\">\n",
       "  <thead>\n",
       "    <tr style=\"text-align: right;\">\n",
       "      <th></th>\n",
       "      <th>Product_ID</th>\n",
       "      <th>Gender</th>\n",
       "      <th>Age</th>\n",
       "      <th>Occupation</th>\n",
       "      <th>City_Category</th>\n",
       "      <th>Stay_In_Current_City_Years</th>\n",
       "      <th>Marital_Status</th>\n",
       "      <th>Product_Category_1</th>\n",
       "      <th>Product_Category_2</th>\n",
       "      <th>Product_Category_3</th>\n",
       "      <th>Purchase</th>\n",
       "      <th>A</th>\n",
       "      <th>B</th>\n",
       "      <th>C</th>\n",
       "    </tr>\n",
       "  </thead>\n",
       "  <tbody>\n",
       "    <tr>\n",
       "      <th>0</th>\n",
       "      <td>P00069042</td>\n",
       "      <td>0</td>\n",
       "      <td>0</td>\n",
       "      <td>10</td>\n",
       "      <td>A</td>\n",
       "      <td>2</td>\n",
       "      <td>0</td>\n",
       "      <td>3</td>\n",
       "      <td>NaN</td>\n",
       "      <td>NaN</td>\n",
       "      <td>8370.0</td>\n",
       "      <td>True</td>\n",
       "      <td>False</td>\n",
       "      <td>False</td>\n",
       "    </tr>\n",
       "    <tr>\n",
       "      <th>1</th>\n",
       "      <td>P00248942</td>\n",
       "      <td>0</td>\n",
       "      <td>0</td>\n",
       "      <td>10</td>\n",
       "      <td>A</td>\n",
       "      <td>2</td>\n",
       "      <td>0</td>\n",
       "      <td>1</td>\n",
       "      <td>6.0</td>\n",
       "      <td>14.0</td>\n",
       "      <td>15200.0</td>\n",
       "      <td>True</td>\n",
       "      <td>False</td>\n",
       "      <td>False</td>\n",
       "    </tr>\n",
       "    <tr>\n",
       "      <th>2</th>\n",
       "      <td>P00087842</td>\n",
       "      <td>0</td>\n",
       "      <td>0</td>\n",
       "      <td>10</td>\n",
       "      <td>A</td>\n",
       "      <td>2</td>\n",
       "      <td>0</td>\n",
       "      <td>12</td>\n",
       "      <td>NaN</td>\n",
       "      <td>NaN</td>\n",
       "      <td>1422.0</td>\n",
       "      <td>True</td>\n",
       "      <td>False</td>\n",
       "      <td>False</td>\n",
       "    </tr>\n",
       "    <tr>\n",
       "      <th>3</th>\n",
       "      <td>P00085442</td>\n",
       "      <td>0</td>\n",
       "      <td>0</td>\n",
       "      <td>10</td>\n",
       "      <td>A</td>\n",
       "      <td>2</td>\n",
       "      <td>0</td>\n",
       "      <td>12</td>\n",
       "      <td>14.0</td>\n",
       "      <td>NaN</td>\n",
       "      <td>1057.0</td>\n",
       "      <td>True</td>\n",
       "      <td>False</td>\n",
       "      <td>False</td>\n",
       "    </tr>\n",
       "    <tr>\n",
       "      <th>4</th>\n",
       "      <td>P00285442</td>\n",
       "      <td>1</td>\n",
       "      <td>6</td>\n",
       "      <td>16</td>\n",
       "      <td>C</td>\n",
       "      <td>4+</td>\n",
       "      <td>0</td>\n",
       "      <td>8</td>\n",
       "      <td>NaN</td>\n",
       "      <td>NaN</td>\n",
       "      <td>7969.0</td>\n",
       "      <td>False</td>\n",
       "      <td>False</td>\n",
       "      <td>True</td>\n",
       "    </tr>\n",
       "  </tbody>\n",
       "</table>\n",
       "</div>"
      ],
      "text/plain": [
       "  Product_ID  Gender  Age  Occupation City_Category  \\\n",
       "0  P00069042       0    0          10             A   \n",
       "1  P00248942       0    0          10             A   \n",
       "2  P00087842       0    0          10             A   \n",
       "3  P00085442       0    0          10             A   \n",
       "4  P00285442       1    6          16             C   \n",
       "\n",
       "  Stay_In_Current_City_Years  Marital_Status  Product_Category_1  \\\n",
       "0                          2               0                   3   \n",
       "1                          2               0                   1   \n",
       "2                          2               0                  12   \n",
       "3                          2               0                  12   \n",
       "4                         4+               0                   8   \n",
       "\n",
       "   Product_Category_2  Product_Category_3  Purchase      A      B      C  \n",
       "0                 NaN                 NaN    8370.0   True  False  False  \n",
       "1                 6.0                14.0   15200.0   True  False  False  \n",
       "2                 NaN                 NaN    1422.0   True  False  False  \n",
       "3                14.0                 NaN    1057.0   True  False  False  \n",
       "4                 NaN                 NaN    7969.0  False  False   True  "
      ]
     },
     "execution_count": 33,
     "metadata": {},
     "output_type": "execute_result"
    }
   ],
   "source": [
    "df=pd.concat([df,df_city],axis=1)\n",
    "df.head()"
   ]
  },
  {
   "cell_type": "code",
   "execution_count": 34,
   "id": "9eb435b4",
   "metadata": {
    "execution": {
     "iopub.execute_input": "2024-05-12T05:14:29.920844Z",
     "iopub.status.busy": "2024-05-12T05:14:29.920425Z",
     "iopub.status.idle": "2024-05-12T05:14:29.950448Z",
     "shell.execute_reply": "2024-05-12T05:14:29.949302Z"
    },
    "papermill": {
     "duration": 0.06525,
     "end_time": "2024-05-12T05:14:29.953087",
     "exception": false,
     "start_time": "2024-05-12T05:14:29.887837",
     "status": "completed"
    },
    "tags": []
   },
   "outputs": [],
   "source": [
    "df.drop('City_Category',axis=1,inplace=True)"
   ]
  },
  {
   "cell_type": "code",
   "execution_count": 35,
   "id": "47d8423c",
   "metadata": {
    "execution": {
     "iopub.execute_input": "2024-05-12T05:14:30.017139Z",
     "iopub.status.busy": "2024-05-12T05:14:30.016707Z",
     "iopub.status.idle": "2024-05-12T05:14:30.035503Z",
     "shell.execute_reply": "2024-05-12T05:14:30.034409Z"
    },
    "papermill": {
     "duration": 0.053604,
     "end_time": "2024-05-12T05:14:30.037886",
     "exception": false,
     "start_time": "2024-05-12T05:14:29.984282",
     "status": "completed"
    },
    "tags": []
   },
   "outputs": [
    {
     "data": {
      "text/html": [
       "<div>\n",
       "<style scoped>\n",
       "    .dataframe tbody tr th:only-of-type {\n",
       "        vertical-align: middle;\n",
       "    }\n",
       "\n",
       "    .dataframe tbody tr th {\n",
       "        vertical-align: top;\n",
       "    }\n",
       "\n",
       "    .dataframe thead th {\n",
       "        text-align: right;\n",
       "    }\n",
       "</style>\n",
       "<table border=\"1\" class=\"dataframe\">\n",
       "  <thead>\n",
       "    <tr style=\"text-align: right;\">\n",
       "      <th></th>\n",
       "      <th>Product_ID</th>\n",
       "      <th>Gender</th>\n",
       "      <th>Age</th>\n",
       "      <th>Occupation</th>\n",
       "      <th>Stay_In_Current_City_Years</th>\n",
       "      <th>Marital_Status</th>\n",
       "      <th>Product_Category_1</th>\n",
       "      <th>Product_Category_2</th>\n",
       "      <th>Product_Category_3</th>\n",
       "      <th>Purchase</th>\n",
       "      <th>A</th>\n",
       "      <th>B</th>\n",
       "      <th>C</th>\n",
       "    </tr>\n",
       "  </thead>\n",
       "  <tbody>\n",
       "    <tr>\n",
       "      <th>0</th>\n",
       "      <td>P00069042</td>\n",
       "      <td>0</td>\n",
       "      <td>0</td>\n",
       "      <td>10</td>\n",
       "      <td>2</td>\n",
       "      <td>0</td>\n",
       "      <td>3</td>\n",
       "      <td>NaN</td>\n",
       "      <td>NaN</td>\n",
       "      <td>8370.0</td>\n",
       "      <td>True</td>\n",
       "      <td>False</td>\n",
       "      <td>False</td>\n",
       "    </tr>\n",
       "    <tr>\n",
       "      <th>1</th>\n",
       "      <td>P00248942</td>\n",
       "      <td>0</td>\n",
       "      <td>0</td>\n",
       "      <td>10</td>\n",
       "      <td>2</td>\n",
       "      <td>0</td>\n",
       "      <td>1</td>\n",
       "      <td>6.0</td>\n",
       "      <td>14.0</td>\n",
       "      <td>15200.0</td>\n",
       "      <td>True</td>\n",
       "      <td>False</td>\n",
       "      <td>False</td>\n",
       "    </tr>\n",
       "    <tr>\n",
       "      <th>2</th>\n",
       "      <td>P00087842</td>\n",
       "      <td>0</td>\n",
       "      <td>0</td>\n",
       "      <td>10</td>\n",
       "      <td>2</td>\n",
       "      <td>0</td>\n",
       "      <td>12</td>\n",
       "      <td>NaN</td>\n",
       "      <td>NaN</td>\n",
       "      <td>1422.0</td>\n",
       "      <td>True</td>\n",
       "      <td>False</td>\n",
       "      <td>False</td>\n",
       "    </tr>\n",
       "    <tr>\n",
       "      <th>3</th>\n",
       "      <td>P00085442</td>\n",
       "      <td>0</td>\n",
       "      <td>0</td>\n",
       "      <td>10</td>\n",
       "      <td>2</td>\n",
       "      <td>0</td>\n",
       "      <td>12</td>\n",
       "      <td>14.0</td>\n",
       "      <td>NaN</td>\n",
       "      <td>1057.0</td>\n",
       "      <td>True</td>\n",
       "      <td>False</td>\n",
       "      <td>False</td>\n",
       "    </tr>\n",
       "    <tr>\n",
       "      <th>4</th>\n",
       "      <td>P00285442</td>\n",
       "      <td>1</td>\n",
       "      <td>6</td>\n",
       "      <td>16</td>\n",
       "      <td>4+</td>\n",
       "      <td>0</td>\n",
       "      <td>8</td>\n",
       "      <td>NaN</td>\n",
       "      <td>NaN</td>\n",
       "      <td>7969.0</td>\n",
       "      <td>False</td>\n",
       "      <td>False</td>\n",
       "      <td>True</td>\n",
       "    </tr>\n",
       "  </tbody>\n",
       "</table>\n",
       "</div>"
      ],
      "text/plain": [
       "  Product_ID  Gender  Age  Occupation Stay_In_Current_City_Years  \\\n",
       "0  P00069042       0    0          10                          2   \n",
       "1  P00248942       0    0          10                          2   \n",
       "2  P00087842       0    0          10                          2   \n",
       "3  P00085442       0    0          10                          2   \n",
       "4  P00285442       1    6          16                         4+   \n",
       "\n",
       "   Marital_Status  Product_Category_1  Product_Category_2  Product_Category_3  \\\n",
       "0               0                   3                 NaN                 NaN   \n",
       "1               0                   1                 6.0                14.0   \n",
       "2               0                  12                 NaN                 NaN   \n",
       "3               0                  12                14.0                 NaN   \n",
       "4               0                   8                 NaN                 NaN   \n",
       "\n",
       "   Purchase      A      B      C  \n",
       "0    8370.0   True  False  False  \n",
       "1   15200.0   True  False  False  \n",
       "2    1422.0   True  False  False  \n",
       "3    1057.0   True  False  False  \n",
       "4    7969.0  False  False   True  "
      ]
     },
     "execution_count": 35,
     "metadata": {},
     "output_type": "execute_result"
    }
   ],
   "source": [
    "df.head()"
   ]
  },
  {
   "cell_type": "code",
   "execution_count": 36,
   "id": "9a3c8155",
   "metadata": {
    "execution": {
     "iopub.execute_input": "2024-05-12T05:14:30.102881Z",
     "iopub.status.busy": "2024-05-12T05:14:30.102109Z",
     "iopub.status.idle": "2024-05-12T05:14:30.284217Z",
     "shell.execute_reply": "2024-05-12T05:14:30.283019Z"
    },
    "papermill": {
     "duration": 0.217429,
     "end_time": "2024-05-12T05:14:30.286772",
     "exception": false,
     "start_time": "2024-05-12T05:14:30.069343",
     "status": "completed"
    },
    "tags": []
   },
   "outputs": [
    {
     "data": {
      "text/plain": [
       "Product_ID                         0\n",
       "Gender                             0\n",
       "Age                                0\n",
       "Occupation                         0\n",
       "Stay_In_Current_City_Years         0\n",
       "Marital_Status                     0\n",
       "Product_Category_1                 0\n",
       "Product_Category_2            245982\n",
       "Product_Category_3            545809\n",
       "Purchase                      233599\n",
       "A                                  0\n",
       "B                                  0\n",
       "C                                  0\n",
       "dtype: int64"
      ]
     },
     "execution_count": 36,
     "metadata": {},
     "output_type": "execute_result"
    }
   ],
   "source": [
    "df.isnull().sum()"
   ]
  },
  {
   "cell_type": "code",
   "execution_count": 37,
   "id": "d16d11c4",
   "metadata": {
    "execution": {
     "iopub.execute_input": "2024-05-12T05:14:30.352193Z",
     "iopub.status.busy": "2024-05-12T05:14:30.351416Z",
     "iopub.status.idle": "2024-05-12T05:14:30.393848Z",
     "shell.execute_reply": "2024-05-12T05:14:30.392595Z"
    },
    "papermill": {
     "duration": 0.078682,
     "end_time": "2024-05-12T05:14:30.396809",
     "exception": false,
     "start_time": "2024-05-12T05:14:30.318127",
     "status": "completed"
    },
    "tags": []
   },
   "outputs": [],
   "source": [
    "pc2=df['Product_Category_2'].mode()[0]\n",
    "pc3=df['Product_Category_3'].mode()[0]\n",
    "purchase=df['Purchase'].mode()[0]"
   ]
  },
  {
   "cell_type": "code",
   "execution_count": 38,
   "id": "06df04ed",
   "metadata": {
    "execution": {
     "iopub.execute_input": "2024-05-12T05:14:30.460932Z",
     "iopub.status.busy": "2024-05-12T05:14:30.460555Z",
     "iopub.status.idle": "2024-05-12T05:14:30.484573Z",
     "shell.execute_reply": "2024-05-12T05:14:30.483278Z"
    },
    "papermill": {
     "duration": 0.058796,
     "end_time": "2024-05-12T05:14:30.487043",
     "exception": false,
     "start_time": "2024-05-12T05:14:30.428247",
     "status": "completed"
    },
    "tags": []
   },
   "outputs": [],
   "source": [
    "df['Product_Category_2']=df['Product_Category_2'].fillna(pc2)\n",
    "df['Product_Category_3']=df['Product_Category_3'].fillna(pc3)\n",
    "df['Purchase']=df['Purchase'].fillna(purchase)"
   ]
  },
  {
   "cell_type": "code",
   "execution_count": 39,
   "id": "b854384f",
   "metadata": {
    "execution": {
     "iopub.execute_input": "2024-05-12T05:14:30.552535Z",
     "iopub.status.busy": "2024-05-12T05:14:30.551601Z",
     "iopub.status.idle": "2024-05-12T05:14:30.575235Z",
     "shell.execute_reply": "2024-05-12T05:14:30.574132Z"
    },
    "papermill": {
     "duration": 0.058763,
     "end_time": "2024-05-12T05:14:30.577452",
     "exception": false,
     "start_time": "2024-05-12T05:14:30.518689",
     "status": "completed"
    },
    "tags": []
   },
   "outputs": [
    {
     "data": {
      "text/html": [
       "<div>\n",
       "<style scoped>\n",
       "    .dataframe tbody tr th:only-of-type {\n",
       "        vertical-align: middle;\n",
       "    }\n",
       "\n",
       "    .dataframe tbody tr th {\n",
       "        vertical-align: top;\n",
       "    }\n",
       "\n",
       "    .dataframe thead th {\n",
       "        text-align: right;\n",
       "    }\n",
       "</style>\n",
       "<table border=\"1\" class=\"dataframe\">\n",
       "  <thead>\n",
       "    <tr style=\"text-align: right;\">\n",
       "      <th></th>\n",
       "      <th>Product_ID</th>\n",
       "      <th>Gender</th>\n",
       "      <th>Age</th>\n",
       "      <th>Occupation</th>\n",
       "      <th>Stay_In_Current_City_Years</th>\n",
       "      <th>Marital_Status</th>\n",
       "      <th>Product_Category_1</th>\n",
       "      <th>Product_Category_2</th>\n",
       "      <th>Product_Category_3</th>\n",
       "      <th>Purchase</th>\n",
       "      <th>A</th>\n",
       "      <th>B</th>\n",
       "      <th>C</th>\n",
       "    </tr>\n",
       "  </thead>\n",
       "  <tbody>\n",
       "    <tr>\n",
       "      <th>0</th>\n",
       "      <td>P00069042</td>\n",
       "      <td>0</td>\n",
       "      <td>0</td>\n",
       "      <td>10</td>\n",
       "      <td>2</td>\n",
       "      <td>0</td>\n",
       "      <td>3</td>\n",
       "      <td>8.0</td>\n",
       "      <td>16.0</td>\n",
       "      <td>8370.0</td>\n",
       "      <td>True</td>\n",
       "      <td>False</td>\n",
       "      <td>False</td>\n",
       "    </tr>\n",
       "    <tr>\n",
       "      <th>1</th>\n",
       "      <td>P00248942</td>\n",
       "      <td>0</td>\n",
       "      <td>0</td>\n",
       "      <td>10</td>\n",
       "      <td>2</td>\n",
       "      <td>0</td>\n",
       "      <td>1</td>\n",
       "      <td>6.0</td>\n",
       "      <td>14.0</td>\n",
       "      <td>15200.0</td>\n",
       "      <td>True</td>\n",
       "      <td>False</td>\n",
       "      <td>False</td>\n",
       "    </tr>\n",
       "    <tr>\n",
       "      <th>2</th>\n",
       "      <td>P00087842</td>\n",
       "      <td>0</td>\n",
       "      <td>0</td>\n",
       "      <td>10</td>\n",
       "      <td>2</td>\n",
       "      <td>0</td>\n",
       "      <td>12</td>\n",
       "      <td>8.0</td>\n",
       "      <td>16.0</td>\n",
       "      <td>1422.0</td>\n",
       "      <td>True</td>\n",
       "      <td>False</td>\n",
       "      <td>False</td>\n",
       "    </tr>\n",
       "    <tr>\n",
       "      <th>3</th>\n",
       "      <td>P00085442</td>\n",
       "      <td>0</td>\n",
       "      <td>0</td>\n",
       "      <td>10</td>\n",
       "      <td>2</td>\n",
       "      <td>0</td>\n",
       "      <td>12</td>\n",
       "      <td>14.0</td>\n",
       "      <td>16.0</td>\n",
       "      <td>1057.0</td>\n",
       "      <td>True</td>\n",
       "      <td>False</td>\n",
       "      <td>False</td>\n",
       "    </tr>\n",
       "    <tr>\n",
       "      <th>4</th>\n",
       "      <td>P00285442</td>\n",
       "      <td>1</td>\n",
       "      <td>6</td>\n",
       "      <td>16</td>\n",
       "      <td>4+</td>\n",
       "      <td>0</td>\n",
       "      <td>8</td>\n",
       "      <td>8.0</td>\n",
       "      <td>16.0</td>\n",
       "      <td>7969.0</td>\n",
       "      <td>False</td>\n",
       "      <td>False</td>\n",
       "      <td>True</td>\n",
       "    </tr>\n",
       "    <tr>\n",
       "      <th>...</th>\n",
       "      <td>...</td>\n",
       "      <td>...</td>\n",
       "      <td>...</td>\n",
       "      <td>...</td>\n",
       "      <td>...</td>\n",
       "      <td>...</td>\n",
       "      <td>...</td>\n",
       "      <td>...</td>\n",
       "      <td>...</td>\n",
       "      <td>...</td>\n",
       "      <td>...</td>\n",
       "      <td>...</td>\n",
       "      <td>...</td>\n",
       "    </tr>\n",
       "    <tr>\n",
       "      <th>233594</th>\n",
       "      <td>P00118942</td>\n",
       "      <td>0</td>\n",
       "      <td>2</td>\n",
       "      <td>15</td>\n",
       "      <td>4+</td>\n",
       "      <td>1</td>\n",
       "      <td>8</td>\n",
       "      <td>8.0</td>\n",
       "      <td>16.0</td>\n",
       "      <td>7011.0</td>\n",
       "      <td>False</td>\n",
       "      <td>True</td>\n",
       "      <td>False</td>\n",
       "    </tr>\n",
       "    <tr>\n",
       "      <th>233595</th>\n",
       "      <td>P00254642</td>\n",
       "      <td>0</td>\n",
       "      <td>2</td>\n",
       "      <td>15</td>\n",
       "      <td>4+</td>\n",
       "      <td>1</td>\n",
       "      <td>5</td>\n",
       "      <td>8.0</td>\n",
       "      <td>16.0</td>\n",
       "      <td>7011.0</td>\n",
       "      <td>False</td>\n",
       "      <td>True</td>\n",
       "      <td>False</td>\n",
       "    </tr>\n",
       "    <tr>\n",
       "      <th>233596</th>\n",
       "      <td>P00031842</td>\n",
       "      <td>0</td>\n",
       "      <td>2</td>\n",
       "      <td>15</td>\n",
       "      <td>4+</td>\n",
       "      <td>1</td>\n",
       "      <td>1</td>\n",
       "      <td>5.0</td>\n",
       "      <td>12.0</td>\n",
       "      <td>7011.0</td>\n",
       "      <td>False</td>\n",
       "      <td>True</td>\n",
       "      <td>False</td>\n",
       "    </tr>\n",
       "    <tr>\n",
       "      <th>233597</th>\n",
       "      <td>P00124742</td>\n",
       "      <td>0</td>\n",
       "      <td>4</td>\n",
       "      <td>1</td>\n",
       "      <td>4+</td>\n",
       "      <td>0</td>\n",
       "      <td>10</td>\n",
       "      <td>16.0</td>\n",
       "      <td>16.0</td>\n",
       "      <td>7011.0</td>\n",
       "      <td>False</td>\n",
       "      <td>False</td>\n",
       "      <td>True</td>\n",
       "    </tr>\n",
       "    <tr>\n",
       "      <th>233598</th>\n",
       "      <td>P00316642</td>\n",
       "      <td>0</td>\n",
       "      <td>4</td>\n",
       "      <td>0</td>\n",
       "      <td>4+</td>\n",
       "      <td>1</td>\n",
       "      <td>4</td>\n",
       "      <td>5.0</td>\n",
       "      <td>16.0</td>\n",
       "      <td>7011.0</td>\n",
       "      <td>False</td>\n",
       "      <td>True</td>\n",
       "      <td>False</td>\n",
       "    </tr>\n",
       "  </tbody>\n",
       "</table>\n",
       "<p>783667 rows × 13 columns</p>\n",
       "</div>"
      ],
      "text/plain": [
       "       Product_ID  Gender  Age  Occupation Stay_In_Current_City_Years  \\\n",
       "0       P00069042       0    0          10                          2   \n",
       "1       P00248942       0    0          10                          2   \n",
       "2       P00087842       0    0          10                          2   \n",
       "3       P00085442       0    0          10                          2   \n",
       "4       P00285442       1    6          16                         4+   \n",
       "...           ...     ...  ...         ...                        ...   \n",
       "233594  P00118942       0    2          15                         4+   \n",
       "233595  P00254642       0    2          15                         4+   \n",
       "233596  P00031842       0    2          15                         4+   \n",
       "233597  P00124742       0    4           1                         4+   \n",
       "233598  P00316642       0    4           0                         4+   \n",
       "\n",
       "        Marital_Status  Product_Category_1  Product_Category_2  \\\n",
       "0                    0                   3                 8.0   \n",
       "1                    0                   1                 6.0   \n",
       "2                    0                  12                 8.0   \n",
       "3                    0                  12                14.0   \n",
       "4                    0                   8                 8.0   \n",
       "...                ...                 ...                 ...   \n",
       "233594               1                   8                 8.0   \n",
       "233595               1                   5                 8.0   \n",
       "233596               1                   1                 5.0   \n",
       "233597               0                  10                16.0   \n",
       "233598               1                   4                 5.0   \n",
       "\n",
       "        Product_Category_3  Purchase      A      B      C  \n",
       "0                     16.0    8370.0   True  False  False  \n",
       "1                     14.0   15200.0   True  False  False  \n",
       "2                     16.0    1422.0   True  False  False  \n",
       "3                     16.0    1057.0   True  False  False  \n",
       "4                     16.0    7969.0  False  False   True  \n",
       "...                    ...       ...    ...    ...    ...  \n",
       "233594                16.0    7011.0  False   True  False  \n",
       "233595                16.0    7011.0  False   True  False  \n",
       "233596                12.0    7011.0  False   True  False  \n",
       "233597                16.0    7011.0  False  False   True  \n",
       "233598                16.0    7011.0  False   True  False  \n",
       "\n",
       "[783667 rows x 13 columns]"
      ]
     },
     "execution_count": 39,
     "metadata": {},
     "output_type": "execute_result"
    }
   ],
   "source": [
    "df"
   ]
  },
  {
   "cell_type": "code",
   "execution_count": 40,
   "id": "0eb3ec2a",
   "metadata": {
    "execution": {
     "iopub.execute_input": "2024-05-12T05:14:30.644545Z",
     "iopub.status.busy": "2024-05-12T05:14:30.643580Z",
     "iopub.status.idle": "2024-05-12T05:14:30.826931Z",
     "shell.execute_reply": "2024-05-12T05:14:30.825779Z"
    },
    "papermill": {
     "duration": 0.219436,
     "end_time": "2024-05-12T05:14:30.829483",
     "exception": false,
     "start_time": "2024-05-12T05:14:30.610047",
     "status": "completed"
    },
    "tags": []
   },
   "outputs": [
    {
     "data": {
      "text/plain": [
       "Product_ID                    0\n",
       "Gender                        0\n",
       "Age                           0\n",
       "Occupation                    0\n",
       "Stay_In_Current_City_Years    0\n",
       "Marital_Status                0\n",
       "Product_Category_1            0\n",
       "Product_Category_2            0\n",
       "Product_Category_3            0\n",
       "Purchase                      0\n",
       "A                             0\n",
       "B                             0\n",
       "C                             0\n",
       "dtype: int64"
      ]
     },
     "execution_count": 40,
     "metadata": {},
     "output_type": "execute_result"
    }
   ],
   "source": [
    "df.isnull().sum()"
   ]
  },
  {
   "cell_type": "code",
   "execution_count": 41,
   "id": "a35d61cb",
   "metadata": {
    "execution": {
     "iopub.execute_input": "2024-05-12T05:14:30.896050Z",
     "iopub.status.busy": "2024-05-12T05:14:30.895647Z",
     "iopub.status.idle": "2024-05-12T05:14:31.015282Z",
     "shell.execute_reply": "2024-05-12T05:14:31.014207Z"
    },
    "papermill": {
     "duration": 0.156285,
     "end_time": "2024-05-12T05:14:31.018202",
     "exception": false,
     "start_time": "2024-05-12T05:14:30.861917",
     "status": "completed"
    },
    "tags": []
   },
   "outputs": [
    {
     "data": {
      "text/plain": [
       "Stay_In_Current_City_Years\n",
       "1     276425\n",
       "2     145427\n",
       "3     135428\n",
       "4+    120671\n",
       "0     105716\n",
       "Name: count, dtype: int64"
      ]
     },
     "execution_count": 41,
     "metadata": {},
     "output_type": "execute_result"
    }
   ],
   "source": [
    "df['Stay_In_Current_City_Years'].value_counts()"
   ]
  },
  {
   "cell_type": "code",
   "execution_count": 42,
   "id": "b752fbb6",
   "metadata": {
    "execution": {
     "iopub.execute_input": "2024-05-12T05:14:31.084863Z",
     "iopub.status.busy": "2024-05-12T05:14:31.084483Z",
     "iopub.status.idle": "2024-05-12T05:14:31.438057Z",
     "shell.execute_reply": "2024-05-12T05:14:31.437082Z"
    },
    "papermill": {
     "duration": 0.390095,
     "end_time": "2024-05-12T05:14:31.440801",
     "exception": false,
     "start_time": "2024-05-12T05:14:31.050706",
     "status": "completed"
    },
    "tags": []
   },
   "outputs": [],
   "source": [
    "df['Stay_In_Current_City_Years']=df['Stay_In_Current_City_Years'].str.replace('+','')"
   ]
  },
  {
   "cell_type": "code",
   "execution_count": 43,
   "id": "5ce06985",
   "metadata": {
    "execution": {
     "iopub.execute_input": "2024-05-12T05:14:31.507265Z",
     "iopub.status.busy": "2024-05-12T05:14:31.506823Z",
     "iopub.status.idle": "2024-05-12T05:14:31.529342Z",
     "shell.execute_reply": "2024-05-12T05:14:31.528538Z"
    },
    "papermill": {
     "duration": 0.058384,
     "end_time": "2024-05-12T05:14:31.531343",
     "exception": false,
     "start_time": "2024-05-12T05:14:31.472959",
     "status": "completed"
    },
    "tags": []
   },
   "outputs": [
    {
     "data": {
      "text/html": [
       "<div>\n",
       "<style scoped>\n",
       "    .dataframe tbody tr th:only-of-type {\n",
       "        vertical-align: middle;\n",
       "    }\n",
       "\n",
       "    .dataframe tbody tr th {\n",
       "        vertical-align: top;\n",
       "    }\n",
       "\n",
       "    .dataframe thead th {\n",
       "        text-align: right;\n",
       "    }\n",
       "</style>\n",
       "<table border=\"1\" class=\"dataframe\">\n",
       "  <thead>\n",
       "    <tr style=\"text-align: right;\">\n",
       "      <th></th>\n",
       "      <th>Product_ID</th>\n",
       "      <th>Gender</th>\n",
       "      <th>Age</th>\n",
       "      <th>Occupation</th>\n",
       "      <th>Stay_In_Current_City_Years</th>\n",
       "      <th>Marital_Status</th>\n",
       "      <th>Product_Category_1</th>\n",
       "      <th>Product_Category_2</th>\n",
       "      <th>Product_Category_3</th>\n",
       "      <th>Purchase</th>\n",
       "      <th>A</th>\n",
       "      <th>B</th>\n",
       "      <th>C</th>\n",
       "    </tr>\n",
       "  </thead>\n",
       "  <tbody>\n",
       "    <tr>\n",
       "      <th>0</th>\n",
       "      <td>P00069042</td>\n",
       "      <td>0</td>\n",
       "      <td>0</td>\n",
       "      <td>10</td>\n",
       "      <td>2</td>\n",
       "      <td>0</td>\n",
       "      <td>3</td>\n",
       "      <td>8.0</td>\n",
       "      <td>16.0</td>\n",
       "      <td>8370.0</td>\n",
       "      <td>True</td>\n",
       "      <td>False</td>\n",
       "      <td>False</td>\n",
       "    </tr>\n",
       "    <tr>\n",
       "      <th>1</th>\n",
       "      <td>P00248942</td>\n",
       "      <td>0</td>\n",
       "      <td>0</td>\n",
       "      <td>10</td>\n",
       "      <td>2</td>\n",
       "      <td>0</td>\n",
       "      <td>1</td>\n",
       "      <td>6.0</td>\n",
       "      <td>14.0</td>\n",
       "      <td>15200.0</td>\n",
       "      <td>True</td>\n",
       "      <td>False</td>\n",
       "      <td>False</td>\n",
       "    </tr>\n",
       "    <tr>\n",
       "      <th>2</th>\n",
       "      <td>P00087842</td>\n",
       "      <td>0</td>\n",
       "      <td>0</td>\n",
       "      <td>10</td>\n",
       "      <td>2</td>\n",
       "      <td>0</td>\n",
       "      <td>12</td>\n",
       "      <td>8.0</td>\n",
       "      <td>16.0</td>\n",
       "      <td>1422.0</td>\n",
       "      <td>True</td>\n",
       "      <td>False</td>\n",
       "      <td>False</td>\n",
       "    </tr>\n",
       "    <tr>\n",
       "      <th>3</th>\n",
       "      <td>P00085442</td>\n",
       "      <td>0</td>\n",
       "      <td>0</td>\n",
       "      <td>10</td>\n",
       "      <td>2</td>\n",
       "      <td>0</td>\n",
       "      <td>12</td>\n",
       "      <td>14.0</td>\n",
       "      <td>16.0</td>\n",
       "      <td>1057.0</td>\n",
       "      <td>True</td>\n",
       "      <td>False</td>\n",
       "      <td>False</td>\n",
       "    </tr>\n",
       "    <tr>\n",
       "      <th>4</th>\n",
       "      <td>P00285442</td>\n",
       "      <td>1</td>\n",
       "      <td>6</td>\n",
       "      <td>16</td>\n",
       "      <td>4</td>\n",
       "      <td>0</td>\n",
       "      <td>8</td>\n",
       "      <td>8.0</td>\n",
       "      <td>16.0</td>\n",
       "      <td>7969.0</td>\n",
       "      <td>False</td>\n",
       "      <td>False</td>\n",
       "      <td>True</td>\n",
       "    </tr>\n",
       "    <tr>\n",
       "      <th>...</th>\n",
       "      <td>...</td>\n",
       "      <td>...</td>\n",
       "      <td>...</td>\n",
       "      <td>...</td>\n",
       "      <td>...</td>\n",
       "      <td>...</td>\n",
       "      <td>...</td>\n",
       "      <td>...</td>\n",
       "      <td>...</td>\n",
       "      <td>...</td>\n",
       "      <td>...</td>\n",
       "      <td>...</td>\n",
       "      <td>...</td>\n",
       "    </tr>\n",
       "    <tr>\n",
       "      <th>233594</th>\n",
       "      <td>P00118942</td>\n",
       "      <td>0</td>\n",
       "      <td>2</td>\n",
       "      <td>15</td>\n",
       "      <td>4</td>\n",
       "      <td>1</td>\n",
       "      <td>8</td>\n",
       "      <td>8.0</td>\n",
       "      <td>16.0</td>\n",
       "      <td>7011.0</td>\n",
       "      <td>False</td>\n",
       "      <td>True</td>\n",
       "      <td>False</td>\n",
       "    </tr>\n",
       "    <tr>\n",
       "      <th>233595</th>\n",
       "      <td>P00254642</td>\n",
       "      <td>0</td>\n",
       "      <td>2</td>\n",
       "      <td>15</td>\n",
       "      <td>4</td>\n",
       "      <td>1</td>\n",
       "      <td>5</td>\n",
       "      <td>8.0</td>\n",
       "      <td>16.0</td>\n",
       "      <td>7011.0</td>\n",
       "      <td>False</td>\n",
       "      <td>True</td>\n",
       "      <td>False</td>\n",
       "    </tr>\n",
       "    <tr>\n",
       "      <th>233596</th>\n",
       "      <td>P00031842</td>\n",
       "      <td>0</td>\n",
       "      <td>2</td>\n",
       "      <td>15</td>\n",
       "      <td>4</td>\n",
       "      <td>1</td>\n",
       "      <td>1</td>\n",
       "      <td>5.0</td>\n",
       "      <td>12.0</td>\n",
       "      <td>7011.0</td>\n",
       "      <td>False</td>\n",
       "      <td>True</td>\n",
       "      <td>False</td>\n",
       "    </tr>\n",
       "    <tr>\n",
       "      <th>233597</th>\n",
       "      <td>P00124742</td>\n",
       "      <td>0</td>\n",
       "      <td>4</td>\n",
       "      <td>1</td>\n",
       "      <td>4</td>\n",
       "      <td>0</td>\n",
       "      <td>10</td>\n",
       "      <td>16.0</td>\n",
       "      <td>16.0</td>\n",
       "      <td>7011.0</td>\n",
       "      <td>False</td>\n",
       "      <td>False</td>\n",
       "      <td>True</td>\n",
       "    </tr>\n",
       "    <tr>\n",
       "      <th>233598</th>\n",
       "      <td>P00316642</td>\n",
       "      <td>0</td>\n",
       "      <td>4</td>\n",
       "      <td>0</td>\n",
       "      <td>4</td>\n",
       "      <td>1</td>\n",
       "      <td>4</td>\n",
       "      <td>5.0</td>\n",
       "      <td>16.0</td>\n",
       "      <td>7011.0</td>\n",
       "      <td>False</td>\n",
       "      <td>True</td>\n",
       "      <td>False</td>\n",
       "    </tr>\n",
       "  </tbody>\n",
       "</table>\n",
       "<p>783667 rows × 13 columns</p>\n",
       "</div>"
      ],
      "text/plain": [
       "       Product_ID  Gender  Age  Occupation Stay_In_Current_City_Years  \\\n",
       "0       P00069042       0    0          10                          2   \n",
       "1       P00248942       0    0          10                          2   \n",
       "2       P00087842       0    0          10                          2   \n",
       "3       P00085442       0    0          10                          2   \n",
       "4       P00285442       1    6          16                          4   \n",
       "...           ...     ...  ...         ...                        ...   \n",
       "233594  P00118942       0    2          15                          4   \n",
       "233595  P00254642       0    2          15                          4   \n",
       "233596  P00031842       0    2          15                          4   \n",
       "233597  P00124742       0    4           1                          4   \n",
       "233598  P00316642       0    4           0                          4   \n",
       "\n",
       "        Marital_Status  Product_Category_1  Product_Category_2  \\\n",
       "0                    0                   3                 8.0   \n",
       "1                    0                   1                 6.0   \n",
       "2                    0                  12                 8.0   \n",
       "3                    0                  12                14.0   \n",
       "4                    0                   8                 8.0   \n",
       "...                ...                 ...                 ...   \n",
       "233594               1                   8                 8.0   \n",
       "233595               1                   5                 8.0   \n",
       "233596               1                   1                 5.0   \n",
       "233597               0                  10                16.0   \n",
       "233598               1                   4                 5.0   \n",
       "\n",
       "        Product_Category_3  Purchase      A      B      C  \n",
       "0                     16.0    8370.0   True  False  False  \n",
       "1                     14.0   15200.0   True  False  False  \n",
       "2                     16.0    1422.0   True  False  False  \n",
       "3                     16.0    1057.0   True  False  False  \n",
       "4                     16.0    7969.0  False  False   True  \n",
       "...                    ...       ...    ...    ...    ...  \n",
       "233594                16.0    7011.0  False   True  False  \n",
       "233595                16.0    7011.0  False   True  False  \n",
       "233596                12.0    7011.0  False   True  False  \n",
       "233597                16.0    7011.0  False  False   True  \n",
       "233598                16.0    7011.0  False   True  False  \n",
       "\n",
       "[783667 rows x 13 columns]"
      ]
     },
     "execution_count": 43,
     "metadata": {},
     "output_type": "execute_result"
    }
   ],
   "source": [
    "df"
   ]
  },
  {
   "cell_type": "code",
   "execution_count": 44,
   "id": "f7506f2c",
   "metadata": {
    "execution": {
     "iopub.execute_input": "2024-05-12T05:14:31.598710Z",
     "iopub.status.busy": "2024-05-12T05:14:31.598289Z",
     "iopub.status.idle": "2024-05-12T05:14:31.610905Z",
     "shell.execute_reply": "2024-05-12T05:14:31.610069Z"
    },
    "papermill": {
     "duration": 0.049202,
     "end_time": "2024-05-12T05:14:31.612972",
     "exception": false,
     "start_time": "2024-05-12T05:14:31.563770",
     "status": "completed"
    },
    "tags": []
   },
   "outputs": [
    {
     "data": {
      "text/plain": [
       "A\n",
       "False    573423\n",
       "True     210244\n",
       "Name: count, dtype: int64"
      ]
     },
     "execution_count": 44,
     "metadata": {},
     "output_type": "execute_result"
    }
   ],
   "source": [
    "df['A'].value_counts()"
   ]
  },
  {
   "cell_type": "code",
   "execution_count": 45,
   "id": "86c0c076",
   "metadata": {
    "execution": {
     "iopub.execute_input": "2024-05-12T05:14:31.681075Z",
     "iopub.status.busy": "2024-05-12T05:14:31.680652Z",
     "iopub.status.idle": "2024-05-12T05:14:31.800560Z",
     "shell.execute_reply": "2024-05-12T05:14:31.799409Z"
    },
    "papermill": {
     "duration": 0.157195,
     "end_time": "2024-05-12T05:14:31.803214",
     "exception": false,
     "start_time": "2024-05-12T05:14:31.646019",
     "status": "completed"
    },
    "tags": []
   },
   "outputs": [],
   "source": [
    "df['Stay_In_Current_City_Years']=df['Stay_In_Current_City_Years'].astype(int)"
   ]
  },
  {
   "cell_type": "code",
   "execution_count": 46,
   "id": "bb3accfe",
   "metadata": {
    "execution": {
     "iopub.execute_input": "2024-05-12T05:14:31.871354Z",
     "iopub.status.busy": "2024-05-12T05:14:31.870929Z",
     "iopub.status.idle": "2024-05-12T05:14:31.885850Z",
     "shell.execute_reply": "2024-05-12T05:14:31.884623Z"
    },
    "papermill": {
     "duration": 0.052233,
     "end_time": "2024-05-12T05:14:31.888615",
     "exception": false,
     "start_time": "2024-05-12T05:14:31.836382",
     "status": "completed"
    },
    "tags": []
   },
   "outputs": [],
   "source": [
    "df['A']=df['A'].astype(int)\n",
    "df['B']=df['B'].astype(int)\n",
    "df['C']=df['C'].astype(int)"
   ]
  },
  {
   "cell_type": "code",
   "execution_count": 47,
   "id": "9bd87733",
   "metadata": {
    "execution": {
     "iopub.execute_input": "2024-05-12T05:14:31.957526Z",
     "iopub.status.busy": "2024-05-12T05:14:31.957115Z",
     "iopub.status.idle": "2024-05-12T05:14:31.963368Z",
     "shell.execute_reply": "2024-05-12T05:14:31.962536Z"
    },
    "papermill": {
     "duration": 0.043037,
     "end_time": "2024-05-12T05:14:31.965447",
     "exception": false,
     "start_time": "2024-05-12T05:14:31.922410",
     "status": "completed"
    },
    "tags": []
   },
   "outputs": [],
   "source": [
    "df['A'].replace({'True':1,'False':0},inplace=True)\n",
    "df['B'].replace({'True':1,'False':0},inplace=True)\n",
    "df['C'].replace({'True':1,'False':0},inplace=True)"
   ]
  },
  {
   "cell_type": "code",
   "execution_count": 48,
   "id": "e8012a90",
   "metadata": {
    "execution": {
     "iopub.execute_input": "2024-05-12T05:14:32.034776Z",
     "iopub.status.busy": "2024-05-12T05:14:32.033785Z",
     "iopub.status.idle": "2024-05-12T05:14:32.056425Z",
     "shell.execute_reply": "2024-05-12T05:14:32.055583Z"
    },
    "papermill": {
     "duration": 0.059632,
     "end_time": "2024-05-12T05:14:32.058587",
     "exception": false,
     "start_time": "2024-05-12T05:14:31.998955",
     "status": "completed"
    },
    "tags": []
   },
   "outputs": [
    {
     "data": {
      "text/html": [
       "<div>\n",
       "<style scoped>\n",
       "    .dataframe tbody tr th:only-of-type {\n",
       "        vertical-align: middle;\n",
       "    }\n",
       "\n",
       "    .dataframe tbody tr th {\n",
       "        vertical-align: top;\n",
       "    }\n",
       "\n",
       "    .dataframe thead th {\n",
       "        text-align: right;\n",
       "    }\n",
       "</style>\n",
       "<table border=\"1\" class=\"dataframe\">\n",
       "  <thead>\n",
       "    <tr style=\"text-align: right;\">\n",
       "      <th></th>\n",
       "      <th>Product_ID</th>\n",
       "      <th>Gender</th>\n",
       "      <th>Age</th>\n",
       "      <th>Occupation</th>\n",
       "      <th>Stay_In_Current_City_Years</th>\n",
       "      <th>Marital_Status</th>\n",
       "      <th>Product_Category_1</th>\n",
       "      <th>Product_Category_2</th>\n",
       "      <th>Product_Category_3</th>\n",
       "      <th>Purchase</th>\n",
       "      <th>A</th>\n",
       "      <th>B</th>\n",
       "      <th>C</th>\n",
       "    </tr>\n",
       "  </thead>\n",
       "  <tbody>\n",
       "    <tr>\n",
       "      <th>0</th>\n",
       "      <td>P00069042</td>\n",
       "      <td>0</td>\n",
       "      <td>0</td>\n",
       "      <td>10</td>\n",
       "      <td>2</td>\n",
       "      <td>0</td>\n",
       "      <td>3</td>\n",
       "      <td>8.0</td>\n",
       "      <td>16.0</td>\n",
       "      <td>8370.0</td>\n",
       "      <td>1</td>\n",
       "      <td>0</td>\n",
       "      <td>0</td>\n",
       "    </tr>\n",
       "    <tr>\n",
       "      <th>1</th>\n",
       "      <td>P00248942</td>\n",
       "      <td>0</td>\n",
       "      <td>0</td>\n",
       "      <td>10</td>\n",
       "      <td>2</td>\n",
       "      <td>0</td>\n",
       "      <td>1</td>\n",
       "      <td>6.0</td>\n",
       "      <td>14.0</td>\n",
       "      <td>15200.0</td>\n",
       "      <td>1</td>\n",
       "      <td>0</td>\n",
       "      <td>0</td>\n",
       "    </tr>\n",
       "    <tr>\n",
       "      <th>2</th>\n",
       "      <td>P00087842</td>\n",
       "      <td>0</td>\n",
       "      <td>0</td>\n",
       "      <td>10</td>\n",
       "      <td>2</td>\n",
       "      <td>0</td>\n",
       "      <td>12</td>\n",
       "      <td>8.0</td>\n",
       "      <td>16.0</td>\n",
       "      <td>1422.0</td>\n",
       "      <td>1</td>\n",
       "      <td>0</td>\n",
       "      <td>0</td>\n",
       "    </tr>\n",
       "    <tr>\n",
       "      <th>3</th>\n",
       "      <td>P00085442</td>\n",
       "      <td>0</td>\n",
       "      <td>0</td>\n",
       "      <td>10</td>\n",
       "      <td>2</td>\n",
       "      <td>0</td>\n",
       "      <td>12</td>\n",
       "      <td>14.0</td>\n",
       "      <td>16.0</td>\n",
       "      <td>1057.0</td>\n",
       "      <td>1</td>\n",
       "      <td>0</td>\n",
       "      <td>0</td>\n",
       "    </tr>\n",
       "    <tr>\n",
       "      <th>4</th>\n",
       "      <td>P00285442</td>\n",
       "      <td>1</td>\n",
       "      <td>6</td>\n",
       "      <td>16</td>\n",
       "      <td>4</td>\n",
       "      <td>0</td>\n",
       "      <td>8</td>\n",
       "      <td>8.0</td>\n",
       "      <td>16.0</td>\n",
       "      <td>7969.0</td>\n",
       "      <td>0</td>\n",
       "      <td>0</td>\n",
       "      <td>1</td>\n",
       "    </tr>\n",
       "    <tr>\n",
       "      <th>...</th>\n",
       "      <td>...</td>\n",
       "      <td>...</td>\n",
       "      <td>...</td>\n",
       "      <td>...</td>\n",
       "      <td>...</td>\n",
       "      <td>...</td>\n",
       "      <td>...</td>\n",
       "      <td>...</td>\n",
       "      <td>...</td>\n",
       "      <td>...</td>\n",
       "      <td>...</td>\n",
       "      <td>...</td>\n",
       "      <td>...</td>\n",
       "    </tr>\n",
       "    <tr>\n",
       "      <th>233594</th>\n",
       "      <td>P00118942</td>\n",
       "      <td>0</td>\n",
       "      <td>2</td>\n",
       "      <td>15</td>\n",
       "      <td>4</td>\n",
       "      <td>1</td>\n",
       "      <td>8</td>\n",
       "      <td>8.0</td>\n",
       "      <td>16.0</td>\n",
       "      <td>7011.0</td>\n",
       "      <td>0</td>\n",
       "      <td>1</td>\n",
       "      <td>0</td>\n",
       "    </tr>\n",
       "    <tr>\n",
       "      <th>233595</th>\n",
       "      <td>P00254642</td>\n",
       "      <td>0</td>\n",
       "      <td>2</td>\n",
       "      <td>15</td>\n",
       "      <td>4</td>\n",
       "      <td>1</td>\n",
       "      <td>5</td>\n",
       "      <td>8.0</td>\n",
       "      <td>16.0</td>\n",
       "      <td>7011.0</td>\n",
       "      <td>0</td>\n",
       "      <td>1</td>\n",
       "      <td>0</td>\n",
       "    </tr>\n",
       "    <tr>\n",
       "      <th>233596</th>\n",
       "      <td>P00031842</td>\n",
       "      <td>0</td>\n",
       "      <td>2</td>\n",
       "      <td>15</td>\n",
       "      <td>4</td>\n",
       "      <td>1</td>\n",
       "      <td>1</td>\n",
       "      <td>5.0</td>\n",
       "      <td>12.0</td>\n",
       "      <td>7011.0</td>\n",
       "      <td>0</td>\n",
       "      <td>1</td>\n",
       "      <td>0</td>\n",
       "    </tr>\n",
       "    <tr>\n",
       "      <th>233597</th>\n",
       "      <td>P00124742</td>\n",
       "      <td>0</td>\n",
       "      <td>4</td>\n",
       "      <td>1</td>\n",
       "      <td>4</td>\n",
       "      <td>0</td>\n",
       "      <td>10</td>\n",
       "      <td>16.0</td>\n",
       "      <td>16.0</td>\n",
       "      <td>7011.0</td>\n",
       "      <td>0</td>\n",
       "      <td>0</td>\n",
       "      <td>1</td>\n",
       "    </tr>\n",
       "    <tr>\n",
       "      <th>233598</th>\n",
       "      <td>P00316642</td>\n",
       "      <td>0</td>\n",
       "      <td>4</td>\n",
       "      <td>0</td>\n",
       "      <td>4</td>\n",
       "      <td>1</td>\n",
       "      <td>4</td>\n",
       "      <td>5.0</td>\n",
       "      <td>16.0</td>\n",
       "      <td>7011.0</td>\n",
       "      <td>0</td>\n",
       "      <td>1</td>\n",
       "      <td>0</td>\n",
       "    </tr>\n",
       "  </tbody>\n",
       "</table>\n",
       "<p>783667 rows × 13 columns</p>\n",
       "</div>"
      ],
      "text/plain": [
       "       Product_ID  Gender  Age  Occupation  Stay_In_Current_City_Years  \\\n",
       "0       P00069042       0    0          10                           2   \n",
       "1       P00248942       0    0          10                           2   \n",
       "2       P00087842       0    0          10                           2   \n",
       "3       P00085442       0    0          10                           2   \n",
       "4       P00285442       1    6          16                           4   \n",
       "...           ...     ...  ...         ...                         ...   \n",
       "233594  P00118942       0    2          15                           4   \n",
       "233595  P00254642       0    2          15                           4   \n",
       "233596  P00031842       0    2          15                           4   \n",
       "233597  P00124742       0    4           1                           4   \n",
       "233598  P00316642       0    4           0                           4   \n",
       "\n",
       "        Marital_Status  Product_Category_1  Product_Category_2  \\\n",
       "0                    0                   3                 8.0   \n",
       "1                    0                   1                 6.0   \n",
       "2                    0                  12                 8.0   \n",
       "3                    0                  12                14.0   \n",
       "4                    0                   8                 8.0   \n",
       "...                ...                 ...                 ...   \n",
       "233594               1                   8                 8.0   \n",
       "233595               1                   5                 8.0   \n",
       "233596               1                   1                 5.0   \n",
       "233597               0                  10                16.0   \n",
       "233598               1                   4                 5.0   \n",
       "\n",
       "        Product_Category_3  Purchase  A  B  C  \n",
       "0                     16.0    8370.0  1  0  0  \n",
       "1                     14.0   15200.0  1  0  0  \n",
       "2                     16.0    1422.0  1  0  0  \n",
       "3                     16.0    1057.0  1  0  0  \n",
       "4                     16.0    7969.0  0  0  1  \n",
       "...                    ...       ... .. .. ..  \n",
       "233594                16.0    7011.0  0  1  0  \n",
       "233595                16.0    7011.0  0  1  0  \n",
       "233596                12.0    7011.0  0  1  0  \n",
       "233597                16.0    7011.0  0  0  1  \n",
       "233598                16.0    7011.0  0  1  0  \n",
       "\n",
       "[783667 rows x 13 columns]"
      ]
     },
     "execution_count": 48,
     "metadata": {},
     "output_type": "execute_result"
    }
   ],
   "source": [
    "df"
   ]
  },
  {
   "cell_type": "code",
   "execution_count": 49,
   "id": "bbd4ca45",
   "metadata": {
    "execution": {
     "iopub.execute_input": "2024-05-12T05:14:32.127277Z",
     "iopub.status.busy": "2024-05-12T05:14:32.126839Z",
     "iopub.status.idle": "2024-05-12T05:14:38.932796Z",
     "shell.execute_reply": "2024-05-12T05:14:38.931757Z"
    },
    "papermill": {
     "duration": 6.843345,
     "end_time": "2024-05-12T05:14:38.935485",
     "exception": false,
     "start_time": "2024-05-12T05:14:32.092140",
     "status": "completed"
    },
    "tags": []
   },
   "outputs": [
    {
     "data": {
      "text/plain": [
       "<Axes: xlabel='Occupation', ylabel='Purchase'>"
      ]
     },
     "execution_count": 49,
     "metadata": {},
     "output_type": "execute_result"
    },
    {
     "data": {
      "image/png": "[encoded data removed]",
      "text/plain": [
       "<Figure size 640x480 with 1 Axes>"
      ]
     },
     "metadata": {},
     "output_type": "display_data"
    }
   ],
   "source": [
    "sns.barplot(x='Occupation',y='Purchase',hue=\"Gender\",data=df)"
   ]
  },
  {
   "cell_type": "code",
   "execution_count": 50,
   "id": "e2048bf4",
   "metadata": {
    "execution": {
     "iopub.execute_input": "2024-05-12T05:14:39.003187Z",
     "iopub.status.busy": "2024-05-12T05:14:39.002343Z",
     "iopub.status.idle": "2024-05-12T05:14:45.265316Z",
     "shell.execute_reply": "2024-05-12T05:14:45.264202Z"
    },
    "papermill": {
     "duration": 6.298873,
     "end_time": "2024-05-12T05:14:45.267656",
     "exception": false,
     "start_time": "2024-05-12T05:14:38.968783",
     "status": "completed"
    },
    "tags": []
   },
   "outputs": [
    {
     "data": {
      "text/plain": [
       "<Axes: xlabel='Marital_Status', ylabel='Purchase'>"
      ]
     },
     "execution_count": 50,
     "metadata": {},
     "output_type": "execute_result"
    },
    {
     "data": {
      "image/png": "[encoded data removed]",
      "text/plain": [
       "<Figure size 640x480 with 1 Axes>"
      ]
     },
     "metadata": {},
     "output_type": "display_data"
    }
   ],
   "source": [
    "sns.barplot(x='Marital_Status',y='Purchase',hue=\"Gender\",data=df)"
   ]
  },
  {
   "cell_type": "code",
   "execution_count": 51,
   "id": "02dde6a3",
   "metadata": {
    "execution": {
     "iopub.execute_input": "2024-05-12T05:14:45.340289Z",
     "iopub.status.busy": "2024-05-12T05:14:45.339609Z",
     "iopub.status.idle": "2024-05-12T05:14:45.395830Z",
     "shell.execute_reply": "2024-05-12T05:14:45.394714Z"
    },
    "papermill": {
     "duration": 0.095523,
     "end_time": "2024-05-12T05:14:45.398277",
     "exception": false,
     "start_time": "2024-05-12T05:14:45.302754",
     "status": "completed"
    },
    "tags": []
   },
   "outputs": [
    {
     "data": {
      "text/html": [
       "<div>\n",
       "<style scoped>\n",
       "    .dataframe tbody tr th:only-of-type {\n",
       "        vertical-align: middle;\n",
       "    }\n",
       "\n",
       "    .dataframe tbody tr th {\n",
       "        vertical-align: top;\n",
       "    }\n",
       "\n",
       "    .dataframe thead th {\n",
       "        text-align: right;\n",
       "    }\n",
       "</style>\n",
       "<table border=\"1\" class=\"dataframe\">\n",
       "  <thead>\n",
       "    <tr style=\"text-align: right;\">\n",
       "      <th></th>\n",
       "      <th>Gender</th>\n",
       "      <th>Age</th>\n",
       "      <th>Occupation</th>\n",
       "      <th>Stay_In_Current_City_Years</th>\n",
       "      <th>Marital_Status</th>\n",
       "      <th>Product_Category_1</th>\n",
       "      <th>Product_Category_2</th>\n",
       "      <th>Product_Category_3</th>\n",
       "      <th>Purchase</th>\n",
       "      <th>A</th>\n",
       "      <th>B</th>\n",
       "      <th>C</th>\n",
       "    </tr>\n",
       "  </thead>\n",
       "  <tbody>\n",
       "    <tr>\n",
       "      <th>0</th>\n",
       "      <td>0</td>\n",
       "      <td>0</td>\n",
       "      <td>10</td>\n",
       "      <td>2</td>\n",
       "      <td>0</td>\n",
       "      <td>3</td>\n",
       "      <td>8.0</td>\n",
       "      <td>16.0</td>\n",
       "      <td>8370.0</td>\n",
       "      <td>1</td>\n",
       "      <td>0</td>\n",
       "      <td>0</td>\n",
       "    </tr>\n",
       "    <tr>\n",
       "      <th>1</th>\n",
       "      <td>0</td>\n",
       "      <td>0</td>\n",
       "      <td>10</td>\n",
       "      <td>2</td>\n",
       "      <td>0</td>\n",
       "      <td>1</td>\n",
       "      <td>6.0</td>\n",
       "      <td>14.0</td>\n",
       "      <td>15200.0</td>\n",
       "      <td>1</td>\n",
       "      <td>0</td>\n",
       "      <td>0</td>\n",
       "    </tr>\n",
       "    <tr>\n",
       "      <th>2</th>\n",
       "      <td>0</td>\n",
       "      <td>0</td>\n",
       "      <td>10</td>\n",
       "      <td>2</td>\n",
       "      <td>0</td>\n",
       "      <td>12</td>\n",
       "      <td>8.0</td>\n",
       "      <td>16.0</td>\n",
       "      <td>1422.0</td>\n",
       "      <td>1</td>\n",
       "      <td>0</td>\n",
       "      <td>0</td>\n",
       "    </tr>\n",
       "    <tr>\n",
       "      <th>3</th>\n",
       "      <td>0</td>\n",
       "      <td>0</td>\n",
       "      <td>10</td>\n",
       "      <td>2</td>\n",
       "      <td>0</td>\n",
       "      <td>12</td>\n",
       "      <td>14.0</td>\n",
       "      <td>16.0</td>\n",
       "      <td>1057.0</td>\n",
       "      <td>1</td>\n",
       "      <td>0</td>\n",
       "      <td>0</td>\n",
       "    </tr>\n",
       "    <tr>\n",
       "      <th>4</th>\n",
       "      <td>1</td>\n",
       "      <td>6</td>\n",
       "      <td>16</td>\n",
       "      <td>4</td>\n",
       "      <td>0</td>\n",
       "      <td>8</td>\n",
       "      <td>8.0</td>\n",
       "      <td>16.0</td>\n",
       "      <td>7969.0</td>\n",
       "      <td>0</td>\n",
       "      <td>0</td>\n",
       "      <td>1</td>\n",
       "    </tr>\n",
       "    <tr>\n",
       "      <th>...</th>\n",
       "      <td>...</td>\n",
       "      <td>...</td>\n",
       "      <td>...</td>\n",
       "      <td>...</td>\n",
       "      <td>...</td>\n",
       "      <td>...</td>\n",
       "      <td>...</td>\n",
       "      <td>...</td>\n",
       "      <td>...</td>\n",
       "      <td>...</td>\n",
       "      <td>...</td>\n",
       "      <td>...</td>\n",
       "    </tr>\n",
       "    <tr>\n",
       "      <th>233594</th>\n",
       "      <td>0</td>\n",
       "      <td>2</td>\n",
       "      <td>15</td>\n",
       "      <td>4</td>\n",
       "      <td>1</td>\n",
       "      <td>8</td>\n",
       "      <td>8.0</td>\n",
       "      <td>16.0</td>\n",
       "      <td>7011.0</td>\n",
       "      <td>0</td>\n",
       "      <td>1</td>\n",
       "      <td>0</td>\n",
       "    </tr>\n",
       "    <tr>\n",
       "      <th>233595</th>\n",
       "      <td>0</td>\n",
       "      <td>2</td>\n",
       "      <td>15</td>\n",
       "      <td>4</td>\n",
       "      <td>1</td>\n",
       "      <td>5</td>\n",
       "      <td>8.0</td>\n",
       "      <td>16.0</td>\n",
       "      <td>7011.0</td>\n",
       "      <td>0</td>\n",
       "      <td>1</td>\n",
       "      <td>0</td>\n",
       "    </tr>\n",
       "    <tr>\n",
       "      <th>233596</th>\n",
       "      <td>0</td>\n",
       "      <td>2</td>\n",
       "      <td>15</td>\n",
       "      <td>4</td>\n",
       "      <td>1</td>\n",
       "      <td>1</td>\n",
       "      <td>5.0</td>\n",
       "      <td>12.0</td>\n",
       "      <td>7011.0</td>\n",
       "      <td>0</td>\n",
       "      <td>1</td>\n",
       "      <td>0</td>\n",
       "    </tr>\n",
       "    <tr>\n",
       "      <th>233597</th>\n",
       "      <td>0</td>\n",
       "      <td>4</td>\n",
       "      <td>1</td>\n",
       "      <td>4</td>\n",
       "      <td>0</td>\n",
       "      <td>10</td>\n",
       "      <td>16.0</td>\n",
       "      <td>16.0</td>\n",
       "      <td>7011.0</td>\n",
       "      <td>0</td>\n",
       "      <td>0</td>\n",
       "      <td>1</td>\n",
       "    </tr>\n",
       "    <tr>\n",
       "      <th>233598</th>\n",
       "      <td>0</td>\n",
       "      <td>4</td>\n",
       "      <td>0</td>\n",
       "      <td>4</td>\n",
       "      <td>1</td>\n",
       "      <td>4</td>\n",
       "      <td>5.0</td>\n",
       "      <td>16.0</td>\n",
       "      <td>7011.0</td>\n",
       "      <td>0</td>\n",
       "      <td>1</td>\n",
       "      <td>0</td>\n",
       "    </tr>\n",
       "  </tbody>\n",
       "</table>\n",
       "<p>783667 rows × 12 columns</p>\n",
       "</div>"
      ],
      "text/plain": [
       "        Gender  Age  Occupation  Stay_In_Current_City_Years  Marital_Status  \\\n",
       "0            0    0          10                           2               0   \n",
       "1            0    0          10                           2               0   \n",
       "2            0    0          10                           2               0   \n",
       "3            0    0          10                           2               0   \n",
       "4            1    6          16                           4               0   \n",
       "...        ...  ...         ...                         ...             ...   \n",
       "233594       0    2          15                           4               1   \n",
       "233595       0    2          15                           4               1   \n",
       "233596       0    2          15                           4               1   \n",
       "233597       0    4           1                           4               0   \n",
       "233598       0    4           0                           4               1   \n",
       "\n",
       "        Product_Category_1  Product_Category_2  Product_Category_3  Purchase  \\\n",
       "0                        3                 8.0                16.0    8370.0   \n",
       "1                        1                 6.0                14.0   15200.0   \n",
       "2                       12                 8.0                16.0    1422.0   \n",
       "3                       12                14.0                16.0    1057.0   \n",
       "4                        8                 8.0                16.0    7969.0   \n",
       "...                    ...                 ...                 ...       ...   \n",
       "233594                   8                 8.0                16.0    7011.0   \n",
       "233595                   5                 8.0                16.0    7011.0   \n",
       "233596                   1                 5.0                12.0    7011.0   \n",
       "233597                  10                16.0                16.0    7011.0   \n",
       "233598                   4                 5.0                16.0    7011.0   \n",
       "\n",
       "        A  B  C  \n",
       "0       1  0  0  \n",
       "1       1  0  0  \n",
       "2       1  0  0  \n",
       "3       1  0  0  \n",
       "4       0  0  1  \n",
       "...    .. .. ..  \n",
       "233594  0  1  0  \n",
       "233595  0  1  0  \n",
       "233596  0  1  0  \n",
       "233597  0  0  1  \n",
       "233598  0  1  0  \n",
       "\n",
       "[783667 rows x 12 columns]"
      ]
     },
     "execution_count": 51,
     "metadata": {},
     "output_type": "execute_result"
    }
   ],
   "source": [
    "df.drop(columns='Product_ID')"
   ]
  },
  {
   "cell_type": "code",
   "execution_count": 52,
   "id": "7ce09baf",
   "metadata": {
    "execution": {
     "iopub.execute_input": "2024-05-12T05:14:45.470550Z",
     "iopub.status.busy": "2024-05-12T05:14:45.470166Z",
     "iopub.status.idle": "2024-05-12T05:14:45.481112Z",
     "shell.execute_reply": "2024-05-12T05:14:45.480055Z"
    },
    "papermill": {
     "duration": 0.050012,
     "end_time": "2024-05-12T05:14:45.483465",
     "exception": false,
     "start_time": "2024-05-12T05:14:45.433453",
     "status": "completed"
    },
    "tags": []
   },
   "outputs": [
    {
     "data": {
      "text/plain": [
       "0          3\n",
       "1          1\n",
       "2         12\n",
       "3         12\n",
       "4          8\n",
       "          ..\n",
       "233594     8\n",
       "233595     5\n",
       "233596     1\n",
       "233597    10\n",
       "233598     4\n",
       "Name: Product_Category_1, Length: 783667, dtype: int64"
      ]
     },
     "execution_count": 52,
     "metadata": {},
     "output_type": "execute_result"
    }
   ],
   "source": [
    "df['Product_Category_1'].astype(int)"
   ]
  },
  {
   "cell_type": "code",
   "execution_count": 53,
   "id": "066ddc33",
   "metadata": {
    "execution": {
     "iopub.execute_input": "2024-05-12T05:14:45.555200Z",
     "iopub.status.busy": "2024-05-12T05:14:45.554770Z",
     "iopub.status.idle": "2024-05-12T05:14:45.566603Z",
     "shell.execute_reply": "2024-05-12T05:14:45.565562Z"
    },
    "papermill": {
     "duration": 0.050894,
     "end_time": "2024-05-12T05:14:45.569132",
     "exception": false,
     "start_time": "2024-05-12T05:14:45.518238",
     "status": "completed"
    },
    "tags": []
   },
   "outputs": [],
   "source": [
    "df['Product_Category_2']=df['Product_Category_2'].astype(int)"
   ]
  },
  {
   "cell_type": "code",
   "execution_count": 54,
   "id": "c0178bf9",
   "metadata": {
    "execution": {
     "iopub.execute_input": "2024-05-12T05:14:45.641332Z",
     "iopub.status.busy": "2024-05-12T05:14:45.640905Z",
     "iopub.status.idle": "2024-05-12T05:14:45.649450Z",
     "shell.execute_reply": "2024-05-12T05:14:45.648471Z"
    },
    "papermill": {
     "duration": 0.047425,
     "end_time": "2024-05-12T05:14:45.651929",
     "exception": false,
     "start_time": "2024-05-12T05:14:45.604504",
     "status": "completed"
    },
    "tags": []
   },
   "outputs": [],
   "source": [
    "df['Product_Category_3']=df['Product_Category_3'].astype(int)"
   ]
  },
  {
   "cell_type": "code",
   "execution_count": 55,
   "id": "1c124388",
   "metadata": {
    "execution": {
     "iopub.execute_input": "2024-05-12T05:14:45.724310Z",
     "iopub.status.busy": "2024-05-12T05:14:45.723892Z",
     "iopub.status.idle": "2024-05-12T05:14:45.732174Z",
     "shell.execute_reply": "2024-05-12T05:14:45.731354Z"
    },
    "papermill": {
     "duration": 0.046748,
     "end_time": "2024-05-12T05:14:45.734325",
     "exception": false,
     "start_time": "2024-05-12T05:14:45.687577",
     "status": "completed"
    },
    "tags": []
   },
   "outputs": [],
   "source": [
    "df['Purchase']=df['Purchase'].astype(int)"
   ]
  },
  {
   "cell_type": "code",
   "execution_count": 56,
   "id": "3ceab538",
   "metadata": {
    "execution": {
     "iopub.execute_input": "2024-05-12T05:14:45.805781Z",
     "iopub.status.busy": "2024-05-12T05:14:45.805341Z",
     "iopub.status.idle": "2024-05-12T05:14:45.814208Z",
     "shell.execute_reply": "2024-05-12T05:14:45.813181Z"
    },
    "papermill": {
     "duration": 0.047594,
     "end_time": "2024-05-12T05:14:45.816520",
     "exception": false,
     "start_time": "2024-05-12T05:14:45.768926",
     "status": "completed"
    },
    "tags": []
   },
   "outputs": [
    {
     "data": {
      "text/plain": [
       "Product_ID                    object\n",
       "Gender                         int64\n",
       "Age                            int64\n",
       "Occupation                     int64\n",
       "Stay_In_Current_City_Years     int64\n",
       "Marital_Status                 int64\n",
       "Product_Category_1             int64\n",
       "Product_Category_2             int64\n",
       "Product_Category_3             int64\n",
       "Purchase                       int64\n",
       "A                              int64\n",
       "B                              int64\n",
       "C                              int64\n",
       "dtype: object"
      ]
     },
     "execution_count": 56,
     "metadata": {},
     "output_type": "execute_result"
    }
   ],
   "source": [
    "df.dtypes"
   ]
  },
  {
   "cell_type": "code",
   "execution_count": 57,
   "id": "85c046ce",
   "metadata": {
    "execution": {
     "iopub.execute_input": "2024-05-12T05:14:45.889658Z",
     "iopub.status.busy": "2024-05-12T05:14:45.889282Z",
     "iopub.status.idle": "2024-05-12T05:14:45.919939Z",
     "shell.execute_reply": "2024-05-12T05:14:45.919154Z"
    },
    "papermill": {
     "duration": 0.069968,
     "end_time": "2024-05-12T05:14:45.922237",
     "exception": false,
     "start_time": "2024-05-12T05:14:45.852269",
     "status": "completed"
    },
    "tags": []
   },
   "outputs": [],
   "source": [
    "sample_size=5000\n",
    "sample_df = df.sample(n=sample_size)"
   ]
  },
  {
   "cell_type": "code",
   "execution_count": 58,
   "id": "71b4761e",
   "metadata": {
    "execution": {
     "iopub.execute_input": "2024-05-12T05:14:45.995375Z",
     "iopub.status.busy": "2024-05-12T05:14:45.994439Z",
     "iopub.status.idle": "2024-05-12T05:14:46.001408Z",
     "shell.execute_reply": "2024-05-12T05:14:46.000571Z"
    },
    "papermill": {
     "duration": 0.045864,
     "end_time": "2024-05-12T05:14:46.003548",
     "exception": false,
     "start_time": "2024-05-12T05:14:45.957684",
     "status": "completed"
    },
    "tags": []
   },
   "outputs": [],
   "source": [
    "x=sample_df[['Gender','Age','Occupation','Stay_In_Current_City_Years','Marital_Status'\n",
    "      ,'Product_Category_1','Product_Category_2','Product_Category_3','A','B','C']]"
   ]
  },
  {
   "cell_type": "code",
   "execution_count": 59,
   "id": "de6ad393",
   "metadata": {
    "execution": {
     "iopub.execute_input": "2024-05-12T05:14:46.076788Z",
     "iopub.status.busy": "2024-05-12T05:14:46.076423Z",
     "iopub.status.idle": "2024-05-12T05:14:46.081012Z",
     "shell.execute_reply": "2024-05-12T05:14:46.079867Z"
    },
    "papermill": {
     "duration": 0.043719,
     "end_time": "2024-05-12T05:14:46.083200",
     "exception": false,
     "start_time": "2024-05-12T05:14:46.039481",
     "status": "completed"
    },
    "tags": []
   },
   "outputs": [],
   "source": [
    "y=sample_df['Purchase']"
   ]
  },
  {
   "cell_type": "code",
   "execution_count": 60,
   "id": "f3be3815",
   "metadata": {
    "execution": {
     "iopub.execute_input": "2024-05-12T05:14:46.155871Z",
     "iopub.status.busy": "2024-05-12T05:14:46.155483Z",
     "iopub.status.idle": "2024-05-12T05:14:46.397140Z",
     "shell.execute_reply": "2024-05-12T05:14:46.395794Z"
    },
    "papermill": {
     "duration": 0.281594,
     "end_time": "2024-05-12T05:14:46.399888",
     "exception": false,
     "start_time": "2024-05-12T05:14:46.118294",
     "status": "completed"
    },
    "tags": []
   },
   "outputs": [],
   "source": [
    "from sklearn.linear_model import RidgeClassifier\n",
    "from sklearn.metrics import accuracy_score, classification_report"
   ]
  },
  {
   "cell_type": "code",
   "execution_count": 61,
   "id": "7dbc10a9",
   "metadata": {
    "execution": {
     "iopub.execute_input": "2024-05-12T05:14:46.472494Z",
     "iopub.status.busy": "2024-05-12T05:14:46.472093Z",
     "iopub.status.idle": "2024-05-12T05:14:46.479477Z",
     "shell.execute_reply": "2024-05-12T05:14:46.478717Z"
    },
    "papermill": {
     "duration": 0.046169,
     "end_time": "2024-05-12T05:14:46.481606",
     "exception": false,
     "start_time": "2024-05-12T05:14:46.435437",
     "status": "completed"
    },
    "tags": []
   },
   "outputs": [],
   "source": [
    "from sklearn.model_selection import train_test_split\n",
    "X_train,X_test,y_train,y_test=train_test_split(x,y,test_size=0.2)"
   ]
  },
  {
   "cell_type": "code",
   "execution_count": 62,
   "id": "40183139",
   "metadata": {
    "execution": {
     "iopub.execute_input": "2024-05-12T05:14:46.553709Z",
     "iopub.status.busy": "2024-05-12T05:14:46.553288Z",
     "iopub.status.idle": "2024-05-12T05:14:46.565562Z",
     "shell.execute_reply": "2024-05-12T05:14:46.564448Z"
    },
    "papermill": {
     "duration": 0.051126,
     "end_time": "2024-05-12T05:14:46.567861",
     "exception": false,
     "start_time": "2024-05-12T05:14:46.516735",
     "status": "completed"
    },
    "tags": []
   },
   "outputs": [],
   "source": [
    "from sklearn.preprocessing import StandardScaler\n",
    "sc=StandardScaler()\n",
    "X_train=sc.fit_transform(X_train)\n",
    "X_test=sc.transform(X_test)"
   ]
  },
  {
   "cell_type": "code",
   "execution_count": 63,
   "id": "f182ee62",
   "metadata": {
    "execution": {
     "iopub.execute_input": "2024-05-12T05:14:46.640137Z",
     "iopub.status.busy": "2024-05-12T05:14:46.639683Z",
     "iopub.status.idle": "2024-05-12T05:14:46.646398Z",
     "shell.execute_reply": "2024-05-12T05:14:46.645432Z"
    },
    "papermill": {
     "duration": 0.045426,
     "end_time": "2024-05-12T05:14:46.648522",
     "exception": false,
     "start_time": "2024-05-12T05:14:46.603096",
     "status": "completed"
    },
    "tags": []
   },
   "outputs": [
    {
     "data": {
      "text/plain": [
       "(4000, 11)"
      ]
     },
     "execution_count": 63,
     "metadata": {},
     "output_type": "execute_result"
    }
   ],
   "source": [
    "X_train.shape"
   ]
  },
  {
   "cell_type": "code",
   "execution_count": 64,
   "id": "3525db47",
   "metadata": {
    "execution": {
     "iopub.execute_input": "2024-05-12T05:14:46.721115Z",
     "iopub.status.busy": "2024-05-12T05:14:46.720676Z",
     "iopub.status.idle": "2024-05-12T05:14:46.726628Z",
     "shell.execute_reply": "2024-05-12T05:14:46.725862Z"
    },
    "papermill": {
     "duration": 0.044638,
     "end_time": "2024-05-12T05:14:46.728708",
     "exception": false,
     "start_time": "2024-05-12T05:14:46.684070",
     "status": "completed"
    },
    "tags": []
   },
   "outputs": [
    {
     "data": {
      "text/plain": [
       "(4000,)"
      ]
     },
     "execution_count": 64,
     "metadata": {},
     "output_type": "execute_result"
    }
   ],
   "source": [
    "y_train.shape"
   ]
  },
  {
   "cell_type": "code",
   "execution_count": 65,
   "id": "1386ad66",
   "metadata": {
    "execution": {
     "iopub.execute_input": "2024-05-12T05:14:46.802229Z",
     "iopub.status.busy": "2024-05-12T05:14:46.801822Z",
     "iopub.status.idle": "2024-05-12T05:14:46.807834Z",
     "shell.execute_reply": "2024-05-12T05:14:46.807051Z"
    },
    "papermill": {
     "duration": 0.045007,
     "end_time": "2024-05-12T05:14:46.809848",
     "exception": false,
     "start_time": "2024-05-12T05:14:46.764841",
     "status": "completed"
    },
    "tags": []
   },
   "outputs": [
    {
     "data": {
      "text/plain": [
       "(1000, 11)"
      ]
     },
     "execution_count": 65,
     "metadata": {},
     "output_type": "execute_result"
    }
   ],
   "source": [
    "X_test.shape"
   ]
  },
  {
   "cell_type": "code",
   "execution_count": 66,
   "id": "fdf83246",
   "metadata": {
    "execution": {
     "iopub.execute_input": "2024-05-12T05:14:46.883727Z",
     "iopub.status.busy": "2024-05-12T05:14:46.883318Z",
     "iopub.status.idle": "2024-05-12T05:14:46.889278Z",
     "shell.execute_reply": "2024-05-12T05:14:46.888492Z"
    },
    "papermill": {
     "duration": 0.045025,
     "end_time": "2024-05-12T05:14:46.891197",
     "exception": false,
     "start_time": "2024-05-12T05:14:46.846172",
     "status": "completed"
    },
    "tags": []
   },
   "outputs": [
    {
     "data": {
      "text/plain": [
       "(1000,)"
      ]
     },
     "execution_count": 66,
     "metadata": {},
     "output_type": "execute_result"
    }
   ],
   "source": [
    "y_test.shape"
   ]
  },
  {
   "cell_type": "code",
   "execution_count": 67,
   "id": "15b0ee2a",
   "metadata": {
    "execution": {
     "iopub.execute_input": "2024-05-12T05:14:46.964899Z",
     "iopub.status.busy": "2024-05-12T05:14:46.964478Z",
     "iopub.status.idle": "2024-05-12T05:14:46.969483Z",
     "shell.execute_reply": "2024-05-12T05:14:46.968438Z"
    },
    "papermill": {
     "duration": 0.044833,
     "end_time": "2024-05-12T05:14:46.971770",
     "exception": false,
     "start_time": "2024-05-12T05:14:46.926937",
     "status": "completed"
    },
    "tags": []
   },
   "outputs": [],
   "source": [
    "alpha = 1.0  \n",
    "max_iter = 1000  \n",
    "solver = 'auto'  \n",
    "tol = 1e-3 "
   ]
  },
  {
   "cell_type": "code",
   "execution_count": 68,
   "id": "79b4f8ea",
   "metadata": {
    "execution": {
     "iopub.execute_input": "2024-05-12T05:14:47.045326Z",
     "iopub.status.busy": "2024-05-12T05:14:47.044906Z",
     "iopub.status.idle": "2024-05-12T05:14:47.495798Z",
     "shell.execute_reply": "2024-05-12T05:14:47.494394Z"
    },
    "papermill": {
     "duration": 0.491851,
     "end_time": "2024-05-12T05:14:47.499521",
     "exception": false,
     "start_time": "2024-05-12T05:14:47.007670",
     "status": "completed"
    },
    "tags": []
   },
   "outputs": [
    {
     "data": {
      "text/html": [
       "<style>#sk-container-id-1 {color: black;background-color: white;}#sk-container-id-1 pre{padding: 0;}#sk-container-id-1 div.sk-toggleable {background-color: white;}#sk-container-id-1 label.sk-toggleable__label {cursor: pointer;display: block;width: 100%;margin-bottom: 0;padding: 0.3em;box-sizing: border-box;text-align: center;}#sk-container-id-1 label.sk-toggleable__label-arrow:before {content: \"▸\";float: left;margin-right: 0.25em;color: #696969;}#sk-container-id-1 label.sk-toggleable__label-arrow:hover:before {color: black;}#sk-container-id-1 div.sk-estimator:hover label.sk-toggleable__label-arrow:before {color: black;}#sk-container-id-1 div.sk-toggleable__content {max-height: 0;max-width: 0;overflow: hidden;text-align: left;background-color: #f0f8ff;}#sk-container-id-1 div.sk-toggleable__content pre {margin: 0.2em;color: black;border-radius: 0.25em;background-color: #f0f8ff;}#sk-container-id-1 input.sk-toggleable__control:checked~div.sk-toggleable__content {max-height: 200px;max-width: 100%;overflow: auto;}#sk-container-id-1 input.sk-toggleable__control:checked~label.sk-toggleable__label-arrow:before {content: \"▾\";}#sk-container-id-1 div.sk-estimator input.sk-toggleable__control:checked~label.sk-toggleable__label {background-color: #d4ebff;}#sk-container-id-1 div.sk-label input.sk-toggleable__control:checked~label.sk-toggleable__label {background-color: #d4ebff;}#sk-container-id-1 input.sk-hidden--visually {border: 0;clip: rect(1px 1px 1px 1px);clip: rect(1px, 1px, 1px, 1px);height: 1px;margin: -1px;overflow: hidden;padding: 0;position: absolute;width: 1px;}#sk-container-id-1 div.sk-estimator {font-family: monospace;background-color: #f0f8ff;border: 1px dotted black;border-radius: 0.25em;box-sizing: border-box;margin-bottom: 0.5em;}#sk-container-id-1 div.sk-estimator:hover {background-color: #d4ebff;}#sk-container-id-1 div.sk-parallel-item::after {content: \"\";width: 100%;border-bottom: 1px solid gray;flex-grow: 1;}#sk-container-id-1 div.sk-label:hover label.sk-toggleable__label {background-color: #d4ebff;}#sk-container-id-1 div.sk-serial::before {content: \"\";position: absolute;border-left: 1px solid gray;box-sizing: border-box;top: 0;bottom: 0;left: 50%;z-index: 0;}#sk-container-id-1 div.sk-serial {display: flex;flex-direction: column;align-items: center;background-color: white;padding-right: 0.2em;padding-left: 0.2em;position: relative;}#sk-container-id-1 div.sk-item {position: relative;z-index: 1;}#sk-container-id-1 div.sk-parallel {display: flex;align-items: stretch;justify-content: center;background-color: white;position: relative;}#sk-container-id-1 div.sk-item::before, #sk-container-id-1 div.sk-parallel-item::before {content: \"\";position: absolute;border-left: 1px solid gray;box-sizing: border-box;top: 0;bottom: 0;left: 50%;z-index: -1;}#sk-container-id-1 div.sk-parallel-item {display: flex;flex-direction: column;z-index: 1;position: relative;background-color: white;}#sk-container-id-1 div.sk-parallel-item:first-child::after {align-self: flex-end;width: 50%;}#sk-container-id-1 div.sk-parallel-item:last-child::after {align-self: flex-start;width: 50%;}#sk-container-id-1 div.sk-parallel-item:only-child::after {width: 0;}#sk-container-id-1 div.sk-dashed-wrapped {border: 1px dashed gray;margin: 0 0.4em 0.5em 0.4em;box-sizing: border-box;padding-bottom: 0.4em;background-color: white;}#sk-container-id-1 div.sk-label label {font-family: monospace;font-weight: bold;display: inline-block;line-height: 1.2em;}#sk-container-id-1 div.sk-label-container {text-align: center;}#sk-container-id-1 div.sk-container {/* jupyter's `normalize.less` sets `[hidden] { display: none; }` but bootstrap.min.css set `[hidden] { display: none !important; }` so we also need the `!important` here to be able to override the default hidden behavior on the sphinx rendered scikit-learn.org. See: https://github.com/scikit-learn/scikit-learn/issues/21755 */display: inline-block !important;position: relative;}#sk-container-id-1 div.sk-text-repr-fallback {display: none;}</style><div id=\"sk-container-id-1\" class=\"sk-top-container\"><div class=\"sk-text-repr-fallback\"><pre>RidgeClassifier(max_iter=1000, tol=0.001)</pre><b>In a Jupyter environment, please rerun this cell to show the HTML representation or trust the notebook. <br />On GitHub, the HTML representation is unable to render, please try loading this page with nbviewer.org.</b></div><div class=\"sk-container\" hidden><div class=\"sk-item\"><div class=\"sk-estimator sk-toggleable\"><input class=\"sk-toggleable__control sk-hidden--visually\" id=\"sk-estimator-id-1\" type=\"checkbox\" checked><label for=\"sk-estimator-id-1\" class=\"sk-toggleable__label sk-toggleable__label-arrow\">RidgeClassifier</label><div class=\"sk-toggleable__content\"><pre>RidgeClassifier(max_iter=1000, tol=0.001)</pre></div></div></div></div></div>"
      ],
      "text/plain": [
       "RidgeClassifier(max_iter=1000, tol=0.001)"
      ]
     },
     "execution_count": 68,
     "metadata": {},
     "output_type": "execute_result"
    }
   ],
   "source": [
    "ridge_classifier = RidgeClassifier(\n",
    "    alpha=alpha, max_iter=max_iter, solver=solver, tol=tol)\n",
    "ridge_classifier.fit(X_train, y_train)"
   ]
  },
  {
   "cell_type": "code",
   "execution_count": 69,
   "id": "6f1b8dcf",
   "metadata": {
    "execution": {
     "iopub.execute_input": "2024-05-12T05:14:47.627243Z",
     "iopub.status.busy": "2024-05-12T05:14:47.626789Z",
     "iopub.status.idle": "2024-05-12T05:14:47.634968Z",
     "shell.execute_reply": "2024-05-12T05:14:47.633933Z"
    },
    "papermill": {
     "duration": 0.046633,
     "end_time": "2024-05-12T05:14:47.637125",
     "exception": false,
     "start_time": "2024-05-12T05:14:47.590492",
     "status": "completed"
    },
    "tags": []
   },
   "outputs": [
    {
     "data": {
      "text/plain": [
       "Product_ID                    object\n",
       "Gender                         int64\n",
       "Age                            int64\n",
       "Occupation                     int64\n",
       "Stay_In_Current_City_Years     int64\n",
       "Marital_Status                 int64\n",
       "Product_Category_1             int64\n",
       "Product_Category_2             int64\n",
       "Product_Category_3             int64\n",
       "Purchase                       int64\n",
       "A                              int64\n",
       "B                              int64\n",
       "C                              int64\n",
       "dtype: object"
      ]
     },
     "execution_count": 69,
     "metadata": {},
     "output_type": "execute_result"
    }
   ],
   "source": [
    "sample_df.dtypes"
   ]
  },
  {
   "cell_type": "code",
   "execution_count": 70,
   "id": "933851ef",
   "metadata": {
    "execution": {
     "iopub.execute_input": "2024-05-12T05:14:47.710519Z",
     "iopub.status.busy": "2024-05-12T05:14:47.709692Z",
     "iopub.status.idle": "2024-05-12T05:14:47.737360Z",
     "shell.execute_reply": "2024-05-12T05:14:47.735820Z"
    },
    "papermill": {
     "duration": 0.069021,
     "end_time": "2024-05-12T05:14:47.741626",
     "exception": false,
     "start_time": "2024-05-12T05:14:47.672605",
     "status": "completed"
    },
    "tags": []
   },
   "outputs": [],
   "source": [
    "y_pred=ridge_classifier.predict(X_test)"
   ]
  },
  {
   "cell_type": "code",
   "execution_count": 71,
   "id": "e40de182",
   "metadata": {
    "execution": {
     "iopub.execute_input": "2024-05-12T05:14:47.867104Z",
     "iopub.status.busy": "2024-05-12T05:14:47.866640Z",
     "iopub.status.idle": "2024-05-12T05:14:47.871137Z",
     "shell.execute_reply": "2024-05-12T05:14:47.870312Z"
    },
    "papermill": {
     "duration": 0.054249,
     "end_time": "2024-05-12T05:14:47.873109",
     "exception": false,
     "start_time": "2024-05-12T05:14:47.818860",
     "status": "completed"
    },
    "tags": []
   },
   "outputs": [],
   "source": [
    "#y_pred=ridge_classifier.predict([[0,0,10,2,0,12,14.0,16.0,1,0,0]])"
   ]
  },
  {
   "cell_type": "code",
   "execution_count": 72,
   "id": "5dc963c8",
   "metadata": {
    "execution": {
     "iopub.execute_input": "2024-05-12T05:14:47.947254Z",
     "iopub.status.busy": "2024-05-12T05:14:47.946794Z",
     "iopub.status.idle": "2024-05-12T05:14:47.956760Z",
     "shell.execute_reply": "2024-05-12T05:14:47.955706Z"
    },
    "papermill": {
     "duration": 0.04961,
     "end_time": "2024-05-12T05:14:47.958899",
     "exception": false,
     "start_time": "2024-05-12T05:14:47.909289",
     "status": "completed"
    },
    "tags": []
   },
   "outputs": [
    {
     "data": {
      "text/plain": [
       "array([7011, 7011, 7011, 7011, 7011, 7011, 7011, 7011, 7011, 7011, 7011,\n",
       "       7011, 7011, 7011, 7011, 7011, 7011, 7011, 7011, 7011, 7011, 7011,\n",
       "       7011, 7011, 7011, 7011, 7011, 7011, 7011, 7011, 7011, 7011, 7011,\n",
       "       7011, 7011, 7011, 7011, 7011, 7011, 7011, 7011, 7011, 7011, 7011,\n",
       "       7011, 7011, 7011, 7011, 7011, 7011, 7011, 7011, 7011, 7011, 7011,\n",
       "       7011, 7011, 7011, 7011, 7011, 7011, 7011, 7011, 7011, 7011, 7011,\n",
       "       7011, 7011, 7011, 7011, 7011, 7011, 7011, 7011, 7011, 7011, 7011,\n",
       "       7011, 7011, 7011, 7011, 7011, 7011, 7011, 7011, 7011, 7011, 7011,\n",
       "       7011, 7011, 7011, 7011, 7011, 7011, 7011, 7011, 7011, 7011, 7011,\n",
       "       7011, 7011, 7011, 7011, 7011, 7011, 7011, 7011, 7011, 7011, 7011,\n",
       "       7011, 7011, 7011, 7011, 7011, 7011, 7011, 7011, 7011, 7011, 7011,\n",
       "       7011, 7011, 7011, 7011, 7011, 7011, 7011, 7011, 7011, 7011, 7011,\n",
       "       7011, 7011, 7011, 7011, 7011, 7011, 7011, 7011, 7011, 7011, 7011,\n",
       "       7011, 7011, 7011, 7011, 7011, 7011, 7011, 7011, 7011, 7011, 7011,\n",
       "       7011, 7011, 7011, 7011, 7011, 7011, 7011, 7011, 7011, 7011, 7011,\n",
       "       7011, 7011, 7011, 7011, 7011, 7011, 7011, 7011, 7011, 7011, 7011,\n",
       "       7011, 7011, 7011, 7011, 7011, 7011, 7011, 7011, 7011, 7011, 7011,\n",
       "       7011, 7011, 7011, 7011, 7011, 7011, 7011, 7011, 7011, 7011, 7011,\n",
       "       7011, 7011, 7011, 7011, 7011, 7011, 7011, 7011, 7011, 7011, 7011,\n",
       "       7011, 7011, 7011, 7011, 7011, 7011, 7011, 7011, 7011, 7011, 7011,\n",
       "       7011, 7011, 7011, 7011, 7011, 7011, 7011, 7011, 7011, 7011, 7011,\n",
       "       7011, 7011, 7011, 7011, 7011, 7011, 7011, 7011, 7011, 7011, 7011,\n",
       "       7011, 7011, 7011, 7011, 7011, 7011, 7011, 7011, 7011, 7011, 7011,\n",
       "       7011, 7011, 7011, 7011, 7011, 7011, 7011, 7011, 7011, 7011, 7011,\n",
       "       7011, 7011, 7011, 7011, 7011, 7011, 7011, 7011, 7011, 7011, 7011,\n",
       "       7011, 7011, 7011, 7011, 7011, 7011, 7011, 7011, 7011, 7011, 7011,\n",
       "       7011, 7011, 7011, 7011, 7011, 7011, 7011, 7011, 7011, 7011, 7011,\n",
       "       7011, 7011, 7011, 7011, 7011, 7011, 7011, 7011, 7011, 7011, 7011,\n",
       "       7011, 7011, 7011, 7011, 7011, 7011, 7011, 7011, 7011, 7011, 7011,\n",
       "       7011, 7011, 7011, 7011, 7011, 7011, 7011, 7011, 7011, 7011, 7011,\n",
       "       7011, 7011, 7011, 7011, 7011, 7011, 7011, 7011, 7011, 7011, 7011,\n",
       "       7011, 7011, 7011, 7011, 7011, 7011, 7011, 7011, 7011, 7011, 7011,\n",
       "       7011, 7011, 7011, 7011, 7011, 7011, 7011, 7011, 7011, 7011, 7011,\n",
       "       7011, 7011, 7011, 7011, 7011, 7011, 7011, 7011, 7011, 7011, 7011,\n",
       "       7011, 7011, 7011, 7011, 7011, 7011, 7011, 7011, 7011, 7011, 7011,\n",
       "       7011, 7011, 7011, 7011, 7011, 7011, 7011, 7011, 7011, 7011, 7011,\n",
       "       7011, 7011, 7011, 7011, 7011, 7011, 7011, 7011, 7011, 7011, 7011,\n",
       "       7011, 7011, 7011, 7011, 7011, 7011, 7011, 7011, 7011, 7011, 7011,\n",
       "       7011, 7011, 7011, 7011, 7011, 7011, 7011, 7011, 7011, 7011, 7011,\n",
       "       7011, 7011, 7011, 7011, 7011, 7011, 7011, 7011, 7011, 7011, 7011,\n",
       "       7011, 7011, 7011, 7011, 7011, 7011, 7011, 7011, 7011, 7011, 7011,\n",
       "       7011, 7011, 7011, 7011, 7011, 7011, 7011, 7011, 7011, 7011, 7011,\n",
       "       7011, 7011, 7011, 7011, 7011, 7011, 7011, 7011, 7011, 7011, 7011,\n",
       "       7011, 7011, 7011, 7011, 7011, 7011, 7011, 7011, 7011, 7011, 7011,\n",
       "       7011, 7011, 7011, 7011, 7011, 7011, 7011, 7011, 7011, 7011, 7011,\n",
       "       7011, 7011, 7011, 7011, 7011, 7011, 7011, 7011, 7011, 7011, 7011,\n",
       "       7011, 7011, 7011, 7011, 7011, 7011, 7011, 7011, 7011, 7011, 7011,\n",
       "       7011, 7011, 7011, 7011, 7011, 7011, 7011, 7011, 7011, 7011, 7011,\n",
       "       7011, 7011, 7011, 7011, 7011, 7011, 7011, 7011, 7011, 7011, 7011,\n",
       "       7011, 7011, 7011, 7011, 7011, 7011, 7011, 7011, 7011, 7011, 7011,\n",
       "       7011, 7011, 7011, 7011, 7011, 7011, 7011, 7011, 7011, 7011, 7011,\n",
       "       7011, 7011, 7011, 7011, 7011, 7011, 7011, 7011, 7011, 7011, 7011,\n",
       "       7011, 7011, 7011, 7011, 7011, 7011, 7011, 7011, 7011, 7011, 7011,\n",
       "       7011, 7011, 7011, 7011, 7011, 7011, 7011, 7011, 7011, 7011, 7011,\n",
       "       7011, 7011, 7011, 7011, 7011, 7011, 7011, 7011, 7011, 7011, 7011,\n",
       "       7011, 7011, 7011, 7011, 7011, 7011, 7011, 7011, 7011, 7011, 7011,\n",
       "       7011, 7011, 7011, 7011, 7011, 7011, 7011, 7011, 7011, 7011, 7011,\n",
       "       7011, 7011, 7011, 7011, 7011, 7011, 7011, 7011, 7011, 7011, 7011,\n",
       "       7011, 7011, 7011, 7011, 7011, 7011, 7011, 7011, 7011, 7011, 7011,\n",
       "       7011, 7011, 7011, 7011, 7011, 7011, 7011, 7011, 7011, 7011, 7011,\n",
       "       7011, 7011, 7011, 7011, 7011, 7011, 7011, 7011, 7011, 7011, 7011,\n",
       "       7011, 7011, 7011, 7011, 7011, 7011, 7011, 7011, 7011, 7011, 7011,\n",
       "       7011, 7011, 7011, 7011, 7011, 7011, 7011, 7011, 7011, 7011, 7011,\n",
       "       7011, 7011, 7011, 7011, 7011, 7011, 7011, 7011, 7011, 7011, 7011,\n",
       "       7011, 7011, 7011, 7011, 7011, 7011, 7011, 7011, 7011, 7011, 7011,\n",
       "       7011, 7011, 7011, 7011, 7011, 7011, 7011, 7011, 7011, 7011, 7011,\n",
       "       7011, 7011, 7011, 7011, 7011, 7011, 7011, 7011, 7011, 7011, 7011,\n",
       "       7011, 7011, 7011, 7011, 7011, 7011, 7011, 7011, 7011, 7011, 7011,\n",
       "       7011, 7011, 7011, 7011, 7011, 7011, 7011, 7011, 7011, 7011, 7011,\n",
       "       7011, 7011, 7011, 7011, 7011, 7011, 7011, 7011, 7011, 7011, 7011,\n",
       "       7011, 7011, 7011, 7011, 7011, 7011, 7011, 7011, 7011, 7011, 7011,\n",
       "       7011, 7011, 7011, 7011, 7011, 7011, 7011, 7011, 7011, 7011, 7011,\n",
       "       7011, 7011, 7011, 7011, 7011, 7011, 7011, 7011, 7011, 7011, 7011,\n",
       "       7011, 7011, 7011, 7011, 7011, 7011, 7011, 7011, 7011, 7011, 7011,\n",
       "       7011, 7011, 7011, 7011, 7011, 7011, 7011, 7011, 7011, 7011, 7011,\n",
       "       7011, 7011, 7011, 7011, 7011, 7011, 7011, 7011, 7011, 7011, 7011,\n",
       "       7011, 7011, 7011, 7011, 7011, 7011, 7011, 7011, 7011, 7011, 7011,\n",
       "       7011, 7011, 7011, 7011, 7011, 7011, 7011, 7011, 7011, 7011, 7011,\n",
       "       7011, 7011, 7011, 7011, 7011, 7011, 7011, 7011, 7011, 7011, 7011,\n",
       "       7011, 7011, 7011, 7011, 7011, 7011, 7011, 7011, 7011, 7011, 7011,\n",
       "       7011, 7011, 7011, 7011, 7011, 7011, 7011, 7011, 7011, 7011, 7011,\n",
       "       7011, 7011, 7011, 7011, 7011, 7011, 7011, 7011, 7011, 7011, 7011,\n",
       "       7011, 7011, 7011, 7011, 7011, 7011, 7011, 7011, 7011, 7011, 7011,\n",
       "       7011, 7011, 7011, 7011, 7011, 7011, 7011, 7011, 7011, 7011, 7011,\n",
       "       7011, 7011, 7011, 7011, 7011, 7011, 7011, 7011, 7011, 7011, 7011,\n",
       "       7011, 7011, 7011, 7011, 7011, 7011, 7011, 7011, 7011, 7011, 7011,\n",
       "       7011, 7011, 7011, 7011, 7011, 7011, 7011, 7011, 7011, 7011, 7011,\n",
       "       7011, 7011, 7011, 7011, 7011, 7011, 7011, 7011, 7011, 7011, 7011,\n",
       "       7011, 7011, 7011, 7011, 7011, 7011, 7011, 7011, 7011, 7011, 7011,\n",
       "       7011, 7011, 7011, 7011, 7011, 7011, 7011, 7011, 7011, 7011, 7011,\n",
       "       7011, 7011, 7011, 7011, 7011, 7011, 7011, 7011, 7011, 7011])"
      ]
     },
     "execution_count": 72,
     "metadata": {},
     "output_type": "execute_result"
    }
   ],
   "source": [
    "y_pred"
   ]
  },
  {
   "cell_type": "code",
   "execution_count": 73,
   "id": "655456ea",
   "metadata": {
    "execution": {
     "iopub.execute_input": "2024-05-12T05:14:48.032160Z",
     "iopub.status.busy": "2024-05-12T05:14:48.031731Z",
     "iopub.status.idle": "2024-05-12T05:14:48.038374Z",
     "shell.execute_reply": "2024-05-12T05:14:48.037485Z"
    },
    "papermill": {
     "duration": 0.045449,
     "end_time": "2024-05-12T05:14:48.040413",
     "exception": false,
     "start_time": "2024-05-12T05:14:47.994964",
     "status": "completed"
    },
    "tags": []
   },
   "outputs": [
    {
     "data": {
      "text/plain": [
       "(1000,)"
      ]
     },
     "execution_count": 73,
     "metadata": {},
     "output_type": "execute_result"
    }
   ],
   "source": [
    "y_pred.shape"
   ]
  },
  {
   "cell_type": "code",
   "execution_count": 74,
   "id": "55024ece",
   "metadata": {
    "execution": {
     "iopub.execute_input": "2024-05-12T05:14:48.113467Z",
     "iopub.status.busy": "2024-05-12T05:14:48.113099Z",
     "iopub.status.idle": "2024-05-12T05:14:48.120144Z",
     "shell.execute_reply": "2024-05-12T05:14:48.119005Z"
    },
    "papermill": {
     "duration": 0.045743,
     "end_time": "2024-05-12T05:14:48.122219",
     "exception": false,
     "start_time": "2024-05-12T05:14:48.076476",
     "status": "completed"
    },
    "tags": []
   },
   "outputs": [
    {
     "name": "stdout",
     "output_type": "stream",
     "text": [
      "Accuracy: 0.299\n"
     ]
    }
   ],
   "source": [
    "accuracy = accuracy_score(y_test, y_pred)\n",
    "print(\"Accuracy:\", accuracy)"
   ]
  },
  {
   "cell_type": "code",
   "execution_count": 75,
   "id": "abaa7871",
   "metadata": {
    "execution": {
     "iopub.execute_input": "2024-05-12T05:14:48.196326Z",
     "iopub.status.busy": "2024-05-12T05:14:48.195934Z",
     "iopub.status.idle": "2024-05-12T05:14:48.223830Z",
     "shell.execute_reply": "2024-05-12T05:14:48.222745Z"
    },
    "papermill": {
     "duration": 0.069378,
     "end_time": "2024-05-12T05:14:48.227556",
     "exception": false,
     "start_time": "2024-05-12T05:14:48.158178",
     "status": "completed"
    },
    "tags": []
   },
   "outputs": [
    {
     "name": "stdout",
     "output_type": "stream",
     "text": [
      "              precision    recall  f1-score   support\n",
      "\n",
      "          13       0.00      0.00      0.00         1\n",
      "          48       0.00      0.00      0.00         1\n",
      "         477       0.00      0.00      0.00         1\n",
      "         484       0.00      0.00      0.00         1\n",
      "         568       0.00      0.00      0.00         1\n",
      "         583       0.00      0.00      0.00         1\n",
      "         604       0.00      0.00      0.00         1\n",
      "         698       0.00      0.00      0.00         1\n",
      "         746       0.00      0.00      0.00         1\n",
      "         755       0.00      0.00      0.00         1\n",
      "         781       0.00      0.00      0.00         1\n",
      "         943       0.00      0.00      0.00         1\n",
      "        1489       0.00      0.00      0.00         1\n",
      "        1503       0.00      0.00      0.00         1\n",
      "        1662       0.00      0.00      0.00         1\n",
      "        1686       0.00      0.00      0.00         1\n",
      "        1697       0.00      0.00      0.00         1\n",
      "        1734       0.00      0.00      0.00         1\n",
      "        1736       0.00      0.00      0.00         1\n",
      "        1737       0.00      0.00      0.00         1\n",
      "        1741       0.00      0.00      0.00         1\n",
      "        1754       0.00      0.00      0.00         1\n",
      "        1762       0.00      0.00      0.00         1\n",
      "        1765       0.00      0.00      0.00         1\n",
      "        1771       0.00      0.00      0.00         1\n",
      "        1797       0.00      0.00      0.00         1\n",
      "        1803       0.00      0.00      0.00         1\n",
      "        1807       0.00      0.00      0.00         1\n",
      "        1817       0.00      0.00      0.00         1\n",
      "        1856       0.00      0.00      0.00         1\n",
      "        1900       0.00      0.00      0.00         1\n",
      "        1963       0.00      0.00      0.00         1\n",
      "        1964       0.00      0.00      0.00         1\n",
      "        2051       0.00      0.00      0.00         1\n",
      "        2055       0.00      0.00      0.00         1\n",
      "        2075       0.00      0.00      0.00         1\n",
      "        2104       0.00      0.00      0.00         1\n",
      "        2153       0.00      0.00      0.00         1\n",
      "        2157       0.00      0.00      0.00         1\n",
      "        2162       0.00      0.00      0.00         1\n",
      "        2206       0.00      0.00      0.00         1\n",
      "        2225       0.00      0.00      0.00         1\n",
      "        2257       0.00      0.00      0.00         1\n",
      "        2744       0.00      0.00      0.00         1\n",
      "        2751       0.00      0.00      0.00         1\n",
      "        2768       0.00      0.00      0.00         1\n",
      "        2784       0.00      0.00      0.00         1\n",
      "        2805       0.00      0.00      0.00         1\n",
      "        2952       0.00      0.00      0.00         1\n",
      "        2959       0.00      0.00      0.00         1\n",
      "        3053       0.00      0.00      0.00         1\n",
      "        3061       0.00      0.00      0.00         1\n",
      "        3078       0.00      0.00      0.00         1\n",
      "        3145       0.00      0.00      0.00         1\n",
      "        3207       0.00      0.00      0.00         1\n",
      "        3215       0.00      0.00      0.00         1\n",
      "        3427       0.00      0.00      0.00         1\n",
      "        3429       0.00      0.00      0.00         1\n",
      "        3453       0.00      0.00      0.00         1\n",
      "        3484       0.00      0.00      0.00         1\n",
      "        3492       0.00      0.00      0.00         1\n",
      "        3500       0.00      0.00      0.00         1\n",
      "        3512       0.00      0.00      0.00         1\n",
      "        3519       0.00      0.00      0.00         1\n",
      "        3536       0.00      0.00      0.00         1\n",
      "        3574       0.00      0.00      0.00         1\n",
      "        3575       0.00      0.00      0.00         1\n",
      "        3642       0.00      0.00      0.00         1\n",
      "        3647       0.00      0.00      0.00         1\n",
      "        3667       0.00      0.00      0.00         1\n",
      "        3677       0.00      0.00      0.00         1\n",
      "        3681       0.00      0.00      0.00         1\n",
      "        3686       0.00      0.00      0.00         1\n",
      "        3690       0.00      0.00      0.00         1\n",
      "        3696       0.00      0.00      0.00         1\n",
      "        3701       0.00      0.00      0.00         1\n",
      "        3712       0.00      0.00      0.00         1\n",
      "        3756       0.00      0.00      0.00         1\n",
      "        3759       0.00      0.00      0.00         1\n",
      "        3760       0.00      0.00      0.00         1\n",
      "        3782       0.00      0.00      0.00         1\n",
      "        3826       0.00      0.00      0.00         1\n",
      "        3858       0.00      0.00      0.00         1\n",
      "        3886       0.00      0.00      0.00         1\n",
      "        3917       0.00      0.00      0.00         1\n",
      "        3950       0.00      0.00      0.00         1\n",
      "        4027       0.00      0.00      0.00         2\n",
      "        4047       0.00      0.00      0.00         1\n",
      "        4068       0.00      0.00      0.00         1\n",
      "        4089       0.00      0.00      0.00         1\n",
      "        4096       0.00      0.00      0.00         1\n",
      "        4134       0.00      0.00      0.00         1\n",
      "        4136       0.00      0.00      0.00         1\n",
      "        4214       0.00      0.00      0.00         1\n",
      "        4232       0.00      0.00      0.00         1\n",
      "        4233       0.00      0.00      0.00         1\n",
      "        4234       0.00      0.00      0.00         1\n",
      "        4238       0.00      0.00      0.00         1\n",
      "        4257       0.00      0.00      0.00         1\n",
      "        4298       0.00      0.00      0.00         1\n",
      "        4425       0.00      0.00      0.00         1\n",
      "        4432       0.00      0.00      0.00         1\n",
      "        4440       0.00      0.00      0.00         1\n",
      "        4482       0.00      0.00      0.00         1\n",
      "        4496       0.00      0.00      0.00         1\n",
      "        4498       0.00      0.00      0.00         1\n",
      "        4536       0.00      0.00      0.00         1\n",
      "        4547       0.00      0.00      0.00         1\n",
      "        4571       0.00      0.00      0.00         1\n",
      "        4624       0.00      0.00      0.00         1\n",
      "        4659       0.00      0.00      0.00         1\n",
      "        4695       0.00      0.00      0.00         1\n",
      "        4738       0.00      0.00      0.00         1\n",
      "        4764       0.00      0.00      0.00         1\n",
      "        5141       0.00      0.00      0.00         1\n",
      "        5143       0.00      0.00      0.00         1\n",
      "        5144       0.00      0.00      0.00         1\n",
      "        5150       0.00      0.00      0.00         1\n",
      "        5156       0.00      0.00      0.00         1\n",
      "        5157       0.00      0.00      0.00         1\n",
      "        5165       0.00      0.00      0.00         1\n",
      "        5172       0.00      0.00      0.00         2\n",
      "        5174       0.00      0.00      0.00         1\n",
      "        5180       0.00      0.00      0.00         1\n",
      "        5204       0.00      0.00      0.00         1\n",
      "        5205       0.00      0.00      0.00         2\n",
      "        5208       0.00      0.00      0.00         2\n",
      "        5215       0.00      0.00      0.00         1\n",
      "        5217       0.00      0.00      0.00         1\n",
      "        5223       0.00      0.00      0.00         1\n",
      "        5228       0.00      0.00      0.00         1\n",
      "        5233       0.00      0.00      0.00         1\n",
      "        5237       0.00      0.00      0.00         1\n",
      "        5243       0.00      0.00      0.00         2\n",
      "        5252       0.00      0.00      0.00         1\n",
      "        5276       0.00      0.00      0.00         1\n",
      "        5287       0.00      0.00      0.00         1\n",
      "        5307       0.00      0.00      0.00         2\n",
      "        5308       0.00      0.00      0.00         1\n",
      "        5314       0.00      0.00      0.00         1\n",
      "        5318       0.00      0.00      0.00         1\n",
      "        5326       0.00      0.00      0.00         1\n",
      "        5331       0.00      0.00      0.00         1\n",
      "        5335       0.00      0.00      0.00         1\n",
      "        5352       0.00      0.00      0.00         1\n",
      "        5360       0.00      0.00      0.00         1\n",
      "        5373       0.00      0.00      0.00         1\n",
      "        5374       0.00      0.00      0.00         1\n",
      "        5378       0.00      0.00      0.00         1\n",
      "        5387       0.00      0.00      0.00         1\n",
      "        5403       0.00      0.00      0.00         1\n",
      "        5404       0.00      0.00      0.00         2\n",
      "        5409       0.00      0.00      0.00         1\n",
      "        5420       0.00      0.00      0.00         1\n",
      "        5434       0.00      0.00      0.00         1\n",
      "        5445       0.00      0.00      0.00         1\n",
      "        5454       0.00      0.00      0.00         1\n",
      "        5456       0.00      0.00      0.00         1\n",
      "        5461       0.00      0.00      0.00         1\n",
      "        5462       0.00      0.00      0.00         1\n",
      "        5470       0.00      0.00      0.00         1\n",
      "        5477       0.00      0.00      0.00         1\n",
      "        5737       0.00      0.00      0.00         1\n",
      "        5824       0.00      0.00      0.00         1\n",
      "        5838       0.00      0.00      0.00         1\n",
      "        5846       0.00      0.00      0.00         1\n",
      "        5869       0.00      0.00      0.00         1\n",
      "        5881       0.00      0.00      0.00         1\n",
      "        5888       0.00      0.00      0.00         1\n",
      "        5889       0.00      0.00      0.00         1\n",
      "        5892       0.00      0.00      0.00         2\n",
      "        5893       0.00      0.00      0.00         1\n",
      "        5894       0.00      0.00      0.00         1\n",
      "        5897       0.00      0.00      0.00         2\n",
      "        5913       0.00      0.00      0.00         2\n",
      "        5918       0.00      0.00      0.00         1\n",
      "        5921       0.00      0.00      0.00         1\n",
      "        5931       0.00      0.00      0.00         1\n",
      "        5971       0.00      0.00      0.00         1\n",
      "        5972       0.00      0.00      0.00         1\n",
      "        5976       0.00      0.00      0.00         1\n",
      "        5979       0.00      0.00      0.00         1\n",
      "        5980       0.00      0.00      0.00         1\n",
      "        5986       0.00      0.00      0.00         1\n",
      "        5988       0.00      0.00      0.00         1\n",
      "        6003       0.00      0.00      0.00         1\n",
      "        6004       0.00      0.00      0.00         1\n",
      "        6012       0.00      0.00      0.00         1\n",
      "        6020       0.00      0.00      0.00         1\n",
      "        6024       0.00      0.00      0.00         1\n",
      "        6038       0.00      0.00      0.00         1\n",
      "        6040       0.00      0.00      0.00         1\n",
      "        6072       0.00      0.00      0.00         1\n",
      "        6074       0.00      0.00      0.00         1\n",
      "        6081       0.00      0.00      0.00         1\n",
      "        6099       0.00      0.00      0.00         1\n",
      "        6140       0.00      0.00      0.00         1\n",
      "        6147       0.00      0.00      0.00         1\n",
      "        6148       0.00      0.00      0.00         1\n",
      "        6174       0.00      0.00      0.00         1\n",
      "        6182       0.00      0.00      0.00         1\n",
      "        6187       0.00      0.00      0.00         1\n",
      "        6195       0.00      0.00      0.00         1\n",
      "        6196       0.00      0.00      0.00         1\n",
      "        6199       0.00      0.00      0.00         1\n",
      "        6430       0.00      0.00      0.00         1\n",
      "        6461       0.00      0.00      0.00         1\n",
      "        6602       0.00      0.00      0.00         1\n",
      "        6696       0.00      0.00      0.00         1\n",
      "        6783       0.00      0.00      0.00         1\n",
      "        6862       0.00      0.00      0.00         1\n",
      "        6865       0.00      0.00      0.00         1\n",
      "        6868       0.00      0.00      0.00         1\n",
      "        6872       0.00      0.00      0.00         1\n",
      "        6880       0.00      0.00      0.00         1\n",
      "        6885       0.00      0.00      0.00         1\n",
      "        6890       0.00      0.00      0.00         1\n",
      "        6892       0.00      0.00      0.00         1\n",
      "        6894       0.00      0.00      0.00         1\n",
      "        6898       0.00      0.00      0.00         1\n",
      "        6916       0.00      0.00      0.00         1\n",
      "        6917       0.00      0.00      0.00         1\n",
      "        6919       0.00      0.00      0.00         1\n",
      "        6922       0.00      0.00      0.00         1\n",
      "        6923       0.00      0.00      0.00         1\n",
      "        6938       0.00      0.00      0.00         1\n",
      "        6943       0.00      0.00      0.00         1\n",
      "        6950       0.00      0.00      0.00         1\n",
      "        6955       0.00      0.00      0.00         1\n",
      "        6957       0.00      0.00      0.00         1\n",
      "        6961       0.00      0.00      0.00         1\n",
      "        6962       0.00      0.00      0.00         2\n",
      "        6965       0.00      0.00      0.00         2\n",
      "        6982       0.00      0.00      0.00         1\n",
      "        6988       0.00      0.00      0.00         1\n",
      "        6989       0.00      0.00      0.00         1\n",
      "        7001       0.00      0.00      0.00         1\n",
      "        7002       0.00      0.00      0.00         1\n",
      "        7005       0.00      0.00      0.00         1\n",
      "        7009       0.00      0.00      0.00         1\n",
      "        7010       0.00      0.00      0.00         1\n",
      "        7011       0.30      1.00      0.46       299\n",
      "        7013       0.00      0.00      0.00         1\n",
      "        7029       0.00      0.00      0.00         1\n",
      "        7030       0.00      0.00      0.00         1\n",
      "        7031       0.00      0.00      0.00         1\n",
      "        7034       0.00      0.00      0.00         1\n",
      "        7044       0.00      0.00      0.00         1\n",
      "        7070       0.00      0.00      0.00         1\n",
      "        7072       0.00      0.00      0.00         1\n",
      "        7075       0.00      0.00      0.00         1\n",
      "        7085       0.00      0.00      0.00         2\n",
      "        7086       0.00      0.00      0.00         1\n",
      "        7089       0.00      0.00      0.00         1\n",
      "        7092       0.00      0.00      0.00         1\n",
      "        7094       0.00      0.00      0.00         1\n",
      "        7109       0.00      0.00      0.00         1\n",
      "        7117       0.00      0.00      0.00         1\n",
      "        7123       0.00      0.00      0.00         1\n",
      "        7130       0.00      0.00      0.00         1\n",
      "        7132       0.00      0.00      0.00         1\n",
      "        7141       0.00      0.00      0.00         1\n",
      "        7142       0.00      0.00      0.00         1\n",
      "        7144       0.00      0.00      0.00         1\n",
      "        7145       0.00      0.00      0.00         1\n",
      "        7146       0.00      0.00      0.00         2\n",
      "        7154       0.00      0.00      0.00         1\n",
      "        7166       0.00      0.00      0.00         1\n",
      "        7173       0.00      0.00      0.00         1\n",
      "        7183       0.00      0.00      0.00         1\n",
      "        7186       0.00      0.00      0.00         1\n",
      "        7189       0.00      0.00      0.00         1\n",
      "        7191       0.00      0.00      0.00         1\n",
      "        7442       0.00      0.00      0.00         1\n",
      "        7501       0.00      0.00      0.00         1\n",
      "        7523       0.00      0.00      0.00         1\n",
      "        7533       0.00      0.00      0.00         1\n",
      "        7558       0.00      0.00      0.00         1\n",
      "        7604       0.00      0.00      0.00         1\n",
      "        7618       0.00      0.00      0.00         1\n",
      "        7620       0.00      0.00      0.00         1\n",
      "        7629       0.00      0.00      0.00         1\n",
      "        7634       0.00      0.00      0.00         1\n",
      "        7652       0.00      0.00      0.00         1\n",
      "        7709       0.00      0.00      0.00         1\n",
      "        7759       0.00      0.00      0.00         1\n",
      "        7766       0.00      0.00      0.00         1\n",
      "        7768       0.00      0.00      0.00         1\n",
      "        7774       0.00      0.00      0.00         1\n",
      "        7776       0.00      0.00      0.00         1\n",
      "        7778       0.00      0.00      0.00         1\n",
      "        7789       0.00      0.00      0.00         1\n",
      "        7790       0.00      0.00      0.00         1\n",
      "        7793       0.00      0.00      0.00         1\n",
      "        7804       0.00      0.00      0.00         1\n",
      "        7805       0.00      0.00      0.00         1\n",
      "        7807       0.00      0.00      0.00         1\n",
      "        7809       0.00      0.00      0.00         1\n",
      "        7811       0.00      0.00      0.00         1\n",
      "        7816       0.00      0.00      0.00         1\n",
      "        7825       0.00      0.00      0.00         1\n",
      "        7835       0.00      0.00      0.00         1\n",
      "        7838       0.00      0.00      0.00         1\n",
      "        7843       0.00      0.00      0.00         1\n",
      "        7852       0.00      0.00      0.00         1\n",
      "        7858       0.00      0.00      0.00         1\n",
      "        7863       0.00      0.00      0.00         1\n",
      "        7864       0.00      0.00      0.00         1\n",
      "        7869       0.00      0.00      0.00         1\n",
      "        7870       0.00      0.00      0.00         1\n",
      "        7876       0.00      0.00      0.00         2\n",
      "        7882       0.00      0.00      0.00         1\n",
      "        7890       0.00      0.00      0.00         1\n",
      "        7899       0.00      0.00      0.00         1\n",
      "        7900       0.00      0.00      0.00         1\n",
      "        7904       0.00      0.00      0.00         1\n",
      "        7912       0.00      0.00      0.00         1\n",
      "        7920       0.00      0.00      0.00         1\n",
      "        7922       0.00      0.00      0.00         2\n",
      "        7930       0.00      0.00      0.00         1\n",
      "        7933       0.00      0.00      0.00         1\n",
      "        7940       0.00      0.00      0.00         1\n",
      "        7945       0.00      0.00      0.00         1\n",
      "        7950       0.00      0.00      0.00         1\n",
      "        7971       0.00      0.00      0.00         1\n",
      "        7973       0.00      0.00      0.00         1\n",
      "        7980       0.00      0.00      0.00         1\n",
      "        7995       0.00      0.00      0.00         2\n",
      "        7996       0.00      0.00      0.00         1\n",
      "        8001       0.00      0.00      0.00         1\n",
      "        8003       0.00      0.00      0.00         1\n",
      "        8017       0.00      0.00      0.00         1\n",
      "        8022       0.00      0.00      0.00         1\n",
      "        8023       0.00      0.00      0.00         1\n",
      "        8031       0.00      0.00      0.00         1\n",
      "        8033       0.00      0.00      0.00         1\n",
      "        8038       0.00      0.00      0.00         1\n",
      "        8044       0.00      0.00      0.00         1\n",
      "        8060       0.00      0.00      0.00         1\n",
      "        8069       0.00      0.00      0.00         1\n",
      "        8075       0.00      0.00      0.00         1\n",
      "        8077       0.00      0.00      0.00         1\n",
      "        8084       0.00      0.00      0.00         1\n",
      "        8090       0.00      0.00      0.00         1\n",
      "        8091       0.00      0.00      0.00         1\n",
      "        8094       0.00      0.00      0.00         1\n",
      "        8096       0.00      0.00      0.00         1\n",
      "        8101       0.00      0.00      0.00         1\n",
      "        8107       0.00      0.00      0.00         1\n",
      "        8110       0.00      0.00      0.00         1\n",
      "        8114       0.00      0.00      0.00         1\n",
      "        8118       0.00      0.00      0.00         1\n",
      "        8122       0.00      0.00      0.00         1\n",
      "        8124       0.00      0.00      0.00         1\n",
      "        8126       0.00      0.00      0.00         1\n",
      "        8129       0.00      0.00      0.00         1\n",
      "        8133       0.00      0.00      0.00         1\n",
      "        8183       0.00      0.00      0.00         1\n",
      "        8195       0.00      0.00      0.00         1\n",
      "        8210       0.00      0.00      0.00         2\n",
      "        8241       0.00      0.00      0.00         1\n",
      "        8314       0.00      0.00      0.00         2\n",
      "        8317       0.00      0.00      0.00         1\n",
      "        8332       0.00      0.00      0.00         2\n",
      "        8386       0.00      0.00      0.00         1\n",
      "        8494       0.00      0.00      0.00         1\n",
      "        8552       0.00      0.00      0.00         1\n",
      "        8565       0.00      0.00      0.00         1\n",
      "        8572       0.00      0.00      0.00         1\n",
      "        8578       0.00      0.00      0.00         1\n",
      "        8585       0.00      0.00      0.00         1\n",
      "        8605       0.00      0.00      0.00         1\n",
      "        8613       0.00      0.00      0.00         1\n",
      "        8624       0.00      0.00      0.00         1\n",
      "        8651       0.00      0.00      0.00         1\n",
      "        8671       0.00      0.00      0.00         1\n",
      "        8672       0.00      0.00      0.00         1\n",
      "        8675       0.00      0.00      0.00         1\n",
      "        8684       0.00      0.00      0.00         1\n",
      "        8691       0.00      0.00      0.00         1\n",
      "        8696       0.00      0.00      0.00         1\n",
      "        8699       0.00      0.00      0.00         1\n",
      "        8704       0.00      0.00      0.00         1\n",
      "        8705       0.00      0.00      0.00         1\n",
      "        8706       0.00      0.00      0.00         1\n",
      "        8707       0.00      0.00      0.00         1\n",
      "        8753       0.00      0.00      0.00         1\n",
      "        8754       0.00      0.00      0.00         1\n",
      "        8764       0.00      0.00      0.00         1\n",
      "        8773       0.00      0.00      0.00         1\n",
      "        8801       0.00      0.00      0.00         1\n",
      "        8804       0.00      0.00      0.00         1\n",
      "        8820       0.00      0.00      0.00         2\n",
      "        8825       0.00      0.00      0.00         1\n",
      "        8827       0.00      0.00      0.00         1\n",
      "        8836       0.00      0.00      0.00         1\n",
      "        8838       0.00      0.00      0.00         1\n",
      "        8850       0.00      0.00      0.00         1\n",
      "        8855       0.00      0.00      0.00         1\n",
      "        8870       0.00      0.00      0.00         2\n",
      "        8879       0.00      0.00      0.00         1\n",
      "        8894       0.00      0.00      0.00         1\n",
      "        8895       0.00      0.00      0.00         1\n",
      "        8896       0.00      0.00      0.00         1\n",
      "        9542       0.00      0.00      0.00         1\n",
      "        9559       0.00      0.00      0.00         1\n",
      "        9665       0.00      0.00      0.00         1\n",
      "        9699       0.00      0.00      0.00         1\n",
      "        9702       0.00      0.00      0.00         1\n",
      "        9706       0.00      0.00      0.00         1\n",
      "        9738       0.00      0.00      0.00         1\n",
      "        9745       0.00      0.00      0.00         1\n",
      "        9760       0.00      0.00      0.00         1\n",
      "        9764       0.00      0.00      0.00         1\n",
      "        9791       0.00      0.00      0.00         1\n",
      "        9808       0.00      0.00      0.00         1\n",
      "        9809       0.00      0.00      0.00         1\n",
      "        9839       0.00      0.00      0.00         1\n",
      "        9851       0.00      0.00      0.00         1\n",
      "        9855       0.00      0.00      0.00         1\n",
      "        9865       0.00      0.00      0.00         1\n",
      "        9910       0.00      0.00      0.00         1\n",
      "        9915       0.00      0.00      0.00         1\n",
      "        9937       0.00      0.00      0.00         1\n",
      "        9951       0.00      0.00      0.00         1\n",
      "        9954       0.00      0.00      0.00         1\n",
      "        9970       0.00      0.00      0.00         2\n",
      "        9971       0.00      0.00      0.00         1\n",
      "        9973       0.00      0.00      0.00         1\n",
      "        9979       0.00      0.00      0.00         1\n",
      "        9987       0.00      0.00      0.00         1\n",
      "        9990       0.00      0.00      0.00         1\n",
      "        9998       0.00      0.00      0.00         1\n",
      "       10005       0.00      0.00      0.00         1\n",
      "       10013       0.00      0.00      0.00         1\n",
      "       10017       0.00      0.00      0.00         1\n",
      "       10025       0.00      0.00      0.00         1\n",
      "       10039       0.00      0.00      0.00         1\n",
      "       10042       0.00      0.00      0.00         1\n",
      "       10043       0.00      0.00      0.00         1\n",
      "       10047       0.00      0.00      0.00         1\n",
      "       10057       0.00      0.00      0.00         1\n",
      "       10060       0.00      0.00      0.00         1\n",
      "       10063       0.00      0.00      0.00         1\n",
      "       10069       0.00      0.00      0.00         1\n",
      "       10082       0.00      0.00      0.00         1\n",
      "       10464       0.00      0.00      0.00         1\n",
      "       10617       0.00      0.00      0.00         1\n",
      "       10741       0.00      0.00      0.00         1\n",
      "       10745       0.00      0.00      0.00         1\n",
      "       10859       0.00      0.00      0.00         1\n",
      "       10955       0.00      0.00      0.00         1\n",
      "       10978       0.00      0.00      0.00         1\n",
      "       10979       0.00      0.00      0.00         1\n",
      "       10987       0.00      0.00      0.00         1\n",
      "       11008       0.00      0.00      0.00         1\n",
      "       11043       0.00      0.00      0.00         1\n",
      "       11054       0.00      0.00      0.00         1\n",
      "       11399       0.00      0.00      0.00         1\n",
      "       11403       0.00      0.00      0.00         1\n",
      "       11408       0.00      0.00      0.00         1\n",
      "       11411       0.00      0.00      0.00         1\n",
      "       11417       0.00      0.00      0.00         1\n",
      "       11420       0.00      0.00      0.00         1\n",
      "       11434       0.00      0.00      0.00         1\n",
      "       11452       0.00      0.00      0.00         1\n",
      "       11493       0.00      0.00      0.00         1\n",
      "       11502       0.00      0.00      0.00         1\n",
      "       11506       0.00      0.00      0.00         1\n",
      "       11523       0.00      0.00      0.00         1\n",
      "       11536       0.00      0.00      0.00         1\n",
      "       11558       0.00      0.00      0.00         1\n",
      "       11562       0.00      0.00      0.00         1\n",
      "       11576       0.00      0.00      0.00         2\n",
      "       11605       0.00      0.00      0.00         1\n",
      "       11615       0.00      0.00      0.00         1\n",
      "       11624       0.00      0.00      0.00         1\n",
      "       11631       0.00      0.00      0.00         1\n",
      "       11641       0.00      0.00      0.00         1\n",
      "       11649       0.00      0.00      0.00         1\n",
      "       11663       0.00      0.00      0.00         1\n",
      "       11679       0.00      0.00      0.00         1\n",
      "       11684       0.00      0.00      0.00         1\n",
      "       11714       0.00      0.00      0.00         1\n",
      "       11735       0.00      0.00      0.00         1\n",
      "       11747       0.00      0.00      0.00         1\n",
      "       11749       0.00      0.00      0.00         1\n",
      "       11771       0.00      0.00      0.00         1\n",
      "       11774       0.00      0.00      0.00         1\n",
      "       11786       0.00      0.00      0.00         1\n",
      "       11809       0.00      0.00      0.00         1\n",
      "       11817       0.00      0.00      0.00         1\n",
      "       11847       0.00      0.00      0.00         1\n",
      "       11871       0.00      0.00      0.00         1\n",
      "       11880       0.00      0.00      0.00         1\n",
      "       11906       0.00      0.00      0.00         1\n",
      "       11919       0.00      0.00      0.00         1\n",
      "       11924       0.00      0.00      0.00         1\n",
      "       11956       0.00      0.00      0.00         1\n",
      "       11958       0.00      0.00      0.00         1\n",
      "       12016       0.00      0.00      0.00         2\n",
      "       12026       0.00      0.00      0.00         1\n",
      "       12030       0.00      0.00      0.00         2\n",
      "       12037       0.00      0.00      0.00         1\n",
      "       12047       0.00      0.00      0.00         1\n",
      "       12048       0.00      0.00      0.00         1\n",
      "       12055       0.00      0.00      0.00         1\n",
      "       12068       0.00      0.00      0.00         1\n",
      "       12069       0.00      0.00      0.00         1\n",
      "       12110       0.00      0.00      0.00         1\n",
      "       12208       0.00      0.00      0.00         1\n",
      "       12431       0.00      0.00      0.00         1\n",
      "       12434       0.00      0.00      0.00         1\n",
      "       12649       0.00      0.00      0.00         1\n",
      "       12662       0.00      0.00      0.00         1\n",
      "       12721       0.00      0.00      0.00         1\n",
      "       12749       0.00      0.00      0.00         1\n",
      "       12805       0.00      0.00      0.00         1\n",
      "       12861       0.00      0.00      0.00         1\n",
      "       12903       0.00      0.00      0.00         1\n",
      "       13104       0.00      0.00      0.00         1\n",
      "       13139       0.00      0.00      0.00         1\n",
      "       13235       0.00      0.00      0.00         1\n",
      "       13262       0.00      0.00      0.00         1\n",
      "       13274       0.00      0.00      0.00         1\n",
      "       13279       0.00      0.00      0.00         1\n",
      "       13306       0.00      0.00      0.00         1\n",
      "       13385       0.00      0.00      0.00         1\n",
      "       13499       0.00      0.00      0.00         1\n",
      "       13609       0.00      0.00      0.00         1\n",
      "       13865       0.00      0.00      0.00         1\n",
      "       14582       0.00      0.00      0.00         1\n",
      "       14664       0.00      0.00      0.00         1\n",
      "       15043       0.00      0.00      0.00         1\n",
      "       15164       0.00      0.00      0.00         1\n",
      "       15185       0.00      0.00      0.00         1\n",
      "       15186       0.00      0.00      0.00         1\n",
      "       15192       0.00      0.00      0.00         1\n",
      "       15195       0.00      0.00      0.00         1\n",
      "       15204       0.00      0.00      0.00         1\n",
      "       15231       0.00      0.00      0.00         1\n",
      "       15243       0.00      0.00      0.00         1\n",
      "       15254       0.00      0.00      0.00         1\n",
      "       15323       0.00      0.00      0.00         1\n",
      "       15325       0.00      0.00      0.00         1\n",
      "       15333       0.00      0.00      0.00         1\n",
      "       15349       0.00      0.00      0.00         1\n",
      "       15359       0.00      0.00      0.00         1\n",
      "       15362       0.00      0.00      0.00         1\n",
      "       15375       0.00      0.00      0.00         1\n",
      "       15378       0.00      0.00      0.00         1\n",
      "       15379       0.00      0.00      0.00         1\n",
      "       15387       0.00      0.00      0.00         1\n",
      "       15398       0.00      0.00      0.00         1\n",
      "       15456       0.00      0.00      0.00         1\n",
      "       15470       0.00      0.00      0.00         1\n",
      "       15473       0.00      0.00      0.00         1\n",
      "       15481       0.00      0.00      0.00         2\n",
      "       15524       0.00      0.00      0.00         1\n",
      "       15543       0.00      0.00      0.00         1\n",
      "       15549       0.00      0.00      0.00         1\n",
      "       15561       0.00      0.00      0.00         1\n",
      "       15562       0.00      0.00      0.00         1\n",
      "       15584       0.00      0.00      0.00         1\n",
      "       15587       0.00      0.00      0.00         1\n",
      "       15594       0.00      0.00      0.00         1\n",
      "       15602       0.00      0.00      0.00         2\n",
      "       15615       0.00      0.00      0.00         1\n",
      "       15627       0.00      0.00      0.00         1\n",
      "       15640       0.00      0.00      0.00         1\n",
      "       15655       0.00      0.00      0.00         1\n",
      "       15679       0.00      0.00      0.00         1\n",
      "       15689       0.00      0.00      0.00         1\n",
      "       15695       0.00      0.00      0.00         1\n",
      "       15721       0.00      0.00      0.00         1\n",
      "       15727       0.00      0.00      0.00         1\n",
      "       15728       0.00      0.00      0.00         1\n",
      "       15789       0.00      0.00      0.00         1\n",
      "       15793       0.00      0.00      0.00         1\n",
      "       15803       0.00      0.00      0.00         1\n",
      "       15829       0.00      0.00      0.00         1\n",
      "       15876       0.00      0.00      0.00         1\n",
      "       15902       0.00      0.00      0.00         1\n",
      "       15908       0.00      0.00      0.00         1\n",
      "       15916       0.00      0.00      0.00         1\n",
      "       16091       0.00      0.00      0.00         1\n",
      "       16106       0.00      0.00      0.00         1\n",
      "       16162       0.00      0.00      0.00         1\n",
      "       16184       0.00      0.00      0.00         1\n",
      "       16264       0.00      0.00      0.00         1\n",
      "       16300       0.00      0.00      0.00         1\n",
      "       16312       0.00      0.00      0.00         1\n",
      "       16347       0.00      0.00      0.00         1\n",
      "       16352       0.00      0.00      0.00         1\n",
      "       16436       0.00      0.00      0.00         1\n",
      "       16438       0.00      0.00      0.00         1\n",
      "       16497       0.00      0.00      0.00         1\n",
      "       16521       0.00      0.00      0.00         1\n",
      "       16524       0.00      0.00      0.00         1\n",
      "       16546       0.00      0.00      0.00         1\n",
      "       16680       0.00      0.00      0.00         1\n",
      "       16682       0.00      0.00      0.00         1\n",
      "       16690       0.00      0.00      0.00         1\n",
      "       16799       0.00      0.00      0.00         1\n",
      "       16934       0.00      0.00      0.00         1\n",
      "       17358       0.00      0.00      0.00         1\n",
      "       17421       0.00      0.00      0.00         1\n",
      "       18524       0.00      0.00      0.00         1\n",
      "       18581       0.00      0.00      0.00         1\n",
      "       18797       0.00      0.00      0.00         1\n",
      "       18956       0.00      0.00      0.00         1\n",
      "       18979       0.00      0.00      0.00         1\n",
      "       18987       0.00      0.00      0.00         1\n",
      "       18990       0.00      0.00      0.00         1\n",
      "       19013       0.00      0.00      0.00         1\n",
      "       19016       0.00      0.00      0.00         1\n",
      "       19046       0.00      0.00      0.00         1\n",
      "       19053       0.00      0.00      0.00         1\n",
      "       19083       0.00      0.00      0.00         1\n",
      "       19087       0.00      0.00      0.00         1\n",
      "       19092       0.00      0.00      0.00         1\n",
      "       19096       0.00      0.00      0.00         1\n",
      "       19107       0.00      0.00      0.00         1\n",
      "       19109       0.00      0.00      0.00         1\n",
      "       19115       0.00      0.00      0.00         1\n",
      "       19126       0.00      0.00      0.00         1\n",
      "       19132       0.00      0.00      0.00         1\n",
      "       19158       0.00      0.00      0.00         1\n",
      "       19162       0.00      0.00      0.00         1\n",
      "       19185       0.00      0.00      0.00         1\n",
      "       19226       0.00      0.00      0.00         1\n",
      "       19231       0.00      0.00      0.00         1\n",
      "       19257       0.00      0.00      0.00         1\n",
      "       19270       0.00      0.00      0.00         1\n",
      "       19305       0.00      0.00      0.00         1\n",
      "       19324       0.00      0.00      0.00         1\n",
      "       19329       0.00      0.00      0.00         1\n",
      "       19343       0.00      0.00      0.00         1\n",
      "       19365       0.00      0.00      0.00         1\n",
      "       19370       0.00      0.00      0.00         1\n",
      "       19380       0.00      0.00      0.00         1\n",
      "       19382       0.00      0.00      0.00         1\n",
      "       19402       0.00      0.00      0.00         1\n",
      "       19489       0.00      0.00      0.00         1\n",
      "       19499       0.00      0.00      0.00         1\n",
      "       19574       0.00      0.00      0.00         1\n",
      "       19591       0.00      0.00      0.00         1\n",
      "       19634       0.00      0.00      0.00         1\n",
      "       19654       0.00      0.00      0.00         1\n",
      "       19681       0.00      0.00      0.00         1\n",
      "       19691       0.00      0.00      0.00         1\n",
      "       19696       0.00      0.00      0.00         1\n",
      "       19704       0.00      0.00      0.00         1\n",
      "       19901       0.00      0.00      0.00         1\n",
      "       19916       0.00      0.00      0.00         1\n",
      "       19963       0.00      0.00      0.00         1\n",
      "       20091       0.00      0.00      0.00         1\n",
      "       20117       0.00      0.00      0.00         1\n",
      "       20121       0.00      0.00      0.00         1\n",
      "       20253       0.00      0.00      0.00         1\n",
      "       20304       0.00      0.00      0.00         1\n",
      "       20325       0.00      0.00      0.00         1\n",
      "       20330       0.00      0.00      0.00         1\n",
      "       20429       0.00      0.00      0.00         1\n",
      "       20479       0.00      0.00      0.00         1\n",
      "       20510       0.00      0.00      0.00         1\n",
      "       20521       0.00      0.00      0.00         1\n",
      "       21453       0.00      0.00      0.00         1\n",
      "       21546       0.00      0.00      0.00         1\n",
      "       23185       0.00      0.00      0.00         1\n",
      "       23331       0.00      0.00      0.00         1\n",
      "       23648       0.00      0.00      0.00         1\n",
      "       23854       0.00      0.00      0.00         1\n",
      "       23953       0.00      0.00      0.00         1\n",
      "\n",
      "    accuracy                           0.30      1000\n",
      "   macro avg       0.00      0.00      0.00      1000\n",
      "weighted avg       0.09      0.30      0.14      1000\n",
      "\n"
     ]
    }
   ],
   "source": [
    "print(classification_report(y_test, y_pred))"
   ]
  },
  {
   "cell_type": "code",
   "execution_count": 76,
   "id": "ecaaa335",
   "metadata": {
    "execution": {
     "iopub.execute_input": "2024-05-12T05:14:48.305888Z",
     "iopub.status.busy": "2024-05-12T05:14:48.305476Z",
     "iopub.status.idle": "2024-05-12T05:14:48.316230Z",
     "shell.execute_reply": "2024-05-12T05:14:48.315058Z"
    },
    "papermill": {
     "duration": 0.051988,
     "end_time": "2024-05-12T05:14:48.318679",
     "exception": false,
     "start_time": "2024-05-12T05:14:48.266691",
     "status": "completed"
    },
    "tags": []
   },
   "outputs": [
    {
     "name": "stdout",
     "output_type": "stream",
     "text": [
      "Precision: 0.299\n"
     ]
    }
   ],
   "source": [
    "from sklearn.metrics import precision_score\n",
    "\n",
    "precision = precision_score(y_test, y_pred,pos_label='positive',\n",
    "                                           average='micro')\n",
    "print(\"Precision:\", precision)\n"
   ]
  },
  {
   "cell_type": "code",
   "execution_count": 77,
   "id": "7b1ff0fd",
   "metadata": {
    "execution": {
     "iopub.execute_input": "2024-05-12T05:14:48.397850Z",
     "iopub.status.busy": "2024-05-12T05:14:48.397487Z",
     "iopub.status.idle": "2024-05-12T05:14:48.409180Z",
     "shell.execute_reply": "2024-05-12T05:14:48.408055Z"
    },
    "papermill": {
     "duration": 0.05397,
     "end_time": "2024-05-12T05:14:48.411313",
     "exception": false,
     "start_time": "2024-05-12T05:14:48.357343",
     "status": "completed"
    },
    "tags": []
   },
   "outputs": [
    {
     "name": "stdout",
     "output_type": "stream",
     "text": [
      "Confusion Matrix:\n",
      "[[0 0 0 ... 0 0 0]\n",
      " [0 0 0 ... 0 0 0]\n",
      " [0 0 0 ... 0 0 0]\n",
      " ...\n",
      " [0 0 0 ... 0 0 0]\n",
      " [0 0 0 ... 0 0 0]\n",
      " [0 0 0 ... 0 0 0]]\n"
     ]
    }
   ],
   "source": [
    "from sklearn.metrics import confusion_matrix\n",
    "\n",
    "# Assuming y_test and y_pred are your actual and predicted values respectively\n",
    "cm = confusion_matrix(y_test, y_pred)\n",
    "print(\"Confusion Matrix:\")\n",
    "print(cm)\n"
   ]
  },
  {
   "cell_type": "code",
   "execution_count": 78,
   "id": "6755a228",
   "metadata": {
    "execution": {
     "iopub.execute_input": "2024-05-12T05:14:48.486440Z",
     "iopub.status.busy": "2024-05-12T05:14:48.485800Z",
     "iopub.status.idle": "2024-05-12T05:14:48.491934Z",
     "shell.execute_reply": "2024-05-12T05:14:48.490762Z"
    },
    "papermill": {
     "duration": 0.046194,
     "end_time": "2024-05-12T05:14:48.493830",
     "exception": false,
     "start_time": "2024-05-12T05:14:48.447636",
     "status": "completed"
    },
    "tags": []
   },
   "outputs": [
    {
     "name": "stdout",
     "output_type": "stream",
     "text": [
      "Mean Absolute Error: 2875.242\n"
     ]
    }
   ],
   "source": [
    "from sklearn.metrics import mean_absolute_error\n",
    "\n",
    "mae = mean_absolute_error(y_test, y_pred)\n",
    "print(\"Mean Absolute Error:\", mae)\n"
   ]
  },
  {
   "cell_type": "code",
   "execution_count": 79,
   "id": "9ada6640",
   "metadata": {
    "execution": {
     "iopub.execute_input": "2024-05-12T05:14:48.569191Z",
     "iopub.status.busy": "2024-05-12T05:14:48.568782Z",
     "iopub.status.idle": "2024-05-12T05:14:48.575122Z",
     "shell.execute_reply": "2024-05-12T05:14:48.573810Z"
    },
    "papermill": {
     "duration": 0.046806,
     "end_time": "2024-05-12T05:14:48.577205",
     "exception": false,
     "start_time": "2024-05-12T05:14:48.530399",
     "status": "completed"
    },
    "tags": []
   },
   "outputs": [
    {
     "name": "stdout",
     "output_type": "stream",
     "text": [
      "Mean Squared Error: 22162003.688\n"
     ]
    }
   ],
   "source": [
    "from sklearn.metrics import mean_squared_error\n",
    "\n",
    "mse = mean_squared_error(y_test, y_pred)\n",
    "print(\"Mean Squared Error:\", mse)\n"
   ]
  },
  {
   "cell_type": "code",
   "execution_count": null,
   "id": "709ab2b5",
   "metadata": {
    "papermill": {
     "duration": 0.036652,
     "end_time": "2024-05-12T05:14:48.651231",
     "exception": false,
     "start_time": "2024-05-12T05:14:48.614579",
     "status": "completed"
    },
    "tags": []
   },
   "outputs": [],
   "source": []
  }
 ],
 "metadata": {
  "kaggle": {
   "accelerator": "none",
   "dataSources": [
    {
     "datasetId": 4983587,
     "sourceId": 8380539,
     "sourceType": "datasetVersion"
    },
    {
     "datasetId": 4983594,
     "sourceId": 8380547,
     "sourceType": "datasetVersion"
    }
   ],
   "dockerImageVersionId": 30698,
   "isGpuEnabled": false,
   "isInternetEnabled": false,
   "language": "python",
   "sourceType": "notebook"
  },
  "kernelspec": {
   "display_name": "Python 3",
   "language": "python",
   "name": "python3"
  },
  "language_info": {
   "codemirror_mode": {
    "name": "ipython",
    "version": 3
   },
   "file_extension": ".py",
   "mimetype": "text/x-python",
   "name": "python",
   "nbconvert_exporter": "python",
   "pygments_lexer": "ipython3",
   "version": "3.10.13"
  },
  "papermill": {
   "default_parameters": {},
   "duration": 57.374392,
   "end_time": "2024-05-12T05:14:49.309153",
   "environment_variables": {},
   "exception": null,
   "input_path": "__notebook__.ipynb",
   "output_path": "__notebook__.ipynb",
   "parameters": {},
   "start_time": "2024-05-12T05:13:51.934761",
   "version": "2.5.0"
  }
 },
 "nbformat": 4,
 "nbformat_minor": 5
}
